{
  "nbformat": 4,
  "nbformat_minor": 0,
  "metadata": {
    "colab": {
      "provenance": []
    },
    "kernelspec": {
      "name": "python3",
      "display_name": "Python 3"
    },
    "language_info": {
      "name": "python"
    },
    "widgets": {
      "application/vnd.jupyter.widget-state+json": {
        "e4e74c837d9f4ce78c18245a6ffabf61": {
          "model_module": "catboost-widget",
          "model_name": "CatboostWidgetModel",
          "model_module_version": "^1.0.0",
          "state": {
            "_dom_classes": [],
            "_model_module": "catboost-widget",
            "_model_module_version": "^1.0.0",
            "_model_name": "CatboostWidgetModel",
            "_view_count": null,
            "_view_module": "catboost-widget",
            "_view_module_version": "^1.0.0",
            "_view_name": "CatboostWidgetView",
            "data": {
              "catboost_info/fold-0": {
                "path": "catboost_info/fold-0",
                "name": "fold-0",
                "content": {
                  "passed_iterations": 199,
                  "total_iterations": 200,
                  "data": {
                    "iterations": [
                      {
                        "learn": [
                          1.609200691
                        ],
                        "iteration": 0,
                        "passed_time": 0.01914628349,
                        "remaining_time": 3.810110414,
                        "test": [
                          1.609204616
                        ]
                      },
                      {
                        "learn": [
                          1.608979356
                        ],
                        "iteration": 1,
                        "passed_time": 0.03675307044,
                        "remaining_time": 3.638553974,
                        "test": [
                          1.608985407
                        ]
                      },
                      {
                        "learn": [
                          1.608758348
                        ],
                        "iteration": 2,
                        "passed_time": 0.05548702463,
                        "remaining_time": 3.64364795,
                        "test": [
                          1.608767915
                        ]
                      },
                      {
                        "learn": [
                          1.608526698
                        ],
                        "iteration": 3,
                        "passed_time": 0.07200707109,
                        "remaining_time": 3.528346483,
                        "test": [
                          1.6085419
                        ]
                      },
                      {
                        "learn": [
                          1.608303611
                        ],
                        "iteration": 4,
                        "passed_time": 0.0878893978,
                        "remaining_time": 3.427686514,
                        "test": [
                          1.608323803
                        ]
                      },
                      {
                        "learn": [
                          1.608085253
                        ],
                        "iteration": 5,
                        "passed_time": 0.1045245926,
                        "remaining_time": 3.379628495,
                        "test": [
                          1.608108369
                        ]
                      },
                      {
                        "learn": [
                          1.607845592
                        ],
                        "iteration": 6,
                        "passed_time": 0.119557802,
                        "remaining_time": 3.296379399,
                        "test": [
                          1.607877224
                        ]
                      },
                      {
                        "learn": [
                          1.607622754
                        ],
                        "iteration": 7,
                        "passed_time": 0.1355414279,
                        "remaining_time": 3.252994269,
                        "test": [
                          1.60766085
                        ]
                      },
                      {
                        "learn": [
                          1.607395673
                        ],
                        "iteration": 8,
                        "passed_time": 0.1523015527,
                        "remaining_time": 3.232177397,
                        "test": [
                          1.607436872
                        ]
                      },
                      {
                        "learn": [
                          1.607175534
                        ],
                        "iteration": 9,
                        "passed_time": 0.1737106386,
                        "remaining_time": 3.300502133,
                        "test": [
                          1.607223711
                        ]
                      },
                      {
                        "learn": [
                          1.606959027
                        ],
                        "iteration": 10,
                        "passed_time": 0.1897991029,
                        "remaining_time": 3.261093677,
                        "test": [
                          1.607015337
                        ]
                      },
                      {
                        "learn": [
                          1.606735616
                        ],
                        "iteration": 11,
                        "passed_time": 0.2060188609,
                        "remaining_time": 3.227628821,
                        "test": [
                          1.606791765
                        ]
                      },
                      {
                        "learn": [
                          1.606506239
                        ],
                        "iteration": 12,
                        "passed_time": 0.2249446939,
                        "remaining_time": 3.235742904,
                        "test": [
                          1.606567435
                        ]
                      },
                      {
                        "learn": [
                          1.606290607
                        ],
                        "iteration": 13,
                        "passed_time": 0.2402996416,
                        "remaining_time": 3.192552381,
                        "test": [
                          1.606358349
                        ]
                      },
                      {
                        "learn": [
                          1.606072178
                        ],
                        "iteration": 14,
                        "passed_time": 0.2562294397,
                        "remaining_time": 3.160163089,
                        "test": [
                          1.606146634
                        ]
                      },
                      {
                        "learn": [
                          1.605851321
                        ],
                        "iteration": 15,
                        "passed_time": 0.2716109244,
                        "remaining_time": 3.123525631,
                        "test": [
                          1.605931317
                        ]
                      },
                      {
                        "learn": [
                          1.605629134
                        ],
                        "iteration": 16,
                        "passed_time": 0.2871110314,
                        "remaining_time": 3.090665808,
                        "test": [
                          1.605712762
                        ]
                      },
                      {
                        "learn": [
                          1.605408004
                        ],
                        "iteration": 17,
                        "passed_time": 0.3019504928,
                        "remaining_time": 3.053054983,
                        "test": [
                          1.60549813
                        ]
                      },
                      {
                        "learn": [
                          1.605188718
                        ],
                        "iteration": 18,
                        "passed_time": 0.3169597008,
                        "remaining_time": 3.019458203,
                        "test": [
                          1.60528295
                        ]
                      },
                      {
                        "learn": [
                          1.604976585
                        ],
                        "iteration": 19,
                        "passed_time": 0.3326513166,
                        "remaining_time": 2.993861849,
                        "test": [
                          1.60507496
                        ]
                      },
                      {
                        "learn": [
                          1.604747129
                        ],
                        "iteration": 20,
                        "passed_time": 0.3575720382,
                        "remaining_time": 3.047875944,
                        "test": [
                          1.604848456
                        ]
                      },
                      {
                        "learn": [
                          1.604527139
                        ],
                        "iteration": 21,
                        "passed_time": 0.379329568,
                        "remaining_time": 3.06912105,
                        "test": [
                          1.604631598
                        ]
                      },
                      {
                        "learn": [
                          1.604307191
                        ],
                        "iteration": 22,
                        "passed_time": 0.3958202349,
                        "remaining_time": 3.046094851,
                        "test": [
                          1.604417576
                        ]
                      },
                      {
                        "learn": [
                          1.604076876
                        ],
                        "iteration": 23,
                        "passed_time": 0.4124828528,
                        "remaining_time": 3.024874254,
                        "test": [
                          1.604193321
                        ]
                      },
                      {
                        "learn": [
                          1.603868766
                        ],
                        "iteration": 24,
                        "passed_time": 0.4279266945,
                        "remaining_time": 2.995486862,
                        "test": [
                          1.603992978
                        ]
                      },
                      {
                        "learn": [
                          1.603647879
                        ],
                        "iteration": 25,
                        "passed_time": 0.4443820447,
                        "remaining_time": 2.973941376,
                        "test": [
                          1.603778634
                        ]
                      },
                      {
                        "learn": [
                          1.603426383
                        ],
                        "iteration": 26,
                        "passed_time": 0.4611197364,
                        "remaining_time": 2.954582015,
                        "test": [
                          1.60356133
                        ]
                      },
                      {
                        "learn": [
                          1.60321561
                        ],
                        "iteration": 27,
                        "passed_time": 0.476754061,
                        "remaining_time": 2.928632089,
                        "test": [
                          1.603352782
                        ]
                      },
                      {
                        "learn": [
                          1.602994953
                        ],
                        "iteration": 28,
                        "passed_time": 0.4920635284,
                        "remaining_time": 2.901478047,
                        "test": [
                          1.603138418
                        ]
                      },
                      {
                        "learn": [
                          1.602785908
                        ],
                        "iteration": 29,
                        "passed_time": 0.5076381279,
                        "remaining_time": 2.876616058,
                        "test": [
                          1.60293626
                        ]
                      },
                      {
                        "learn": [
                          1.602577189
                        ],
                        "iteration": 30,
                        "passed_time": 0.5231069702,
                        "remaining_time": 2.851776709,
                        "test": [
                          1.602731859
                        ]
                      },
                      {
                        "learn": [
                          1.602369033
                        ],
                        "iteration": 31,
                        "passed_time": 0.5389221777,
                        "remaining_time": 2.829341433,
                        "test": [
                          1.602530158
                        ]
                      },
                      {
                        "learn": [
                          1.602153505
                        ],
                        "iteration": 32,
                        "passed_time": 0.564207204,
                        "remaining_time": 2.855230396,
                        "test": [
                          1.602320917
                        ]
                      },
                      {
                        "learn": [
                          1.601933246
                        ],
                        "iteration": 33,
                        "passed_time": 0.5844295081,
                        "remaining_time": 2.853391128,
                        "test": [
                          1.602106448
                        ]
                      },
                      {
                        "learn": [
                          1.601721087
                        ],
                        "iteration": 34,
                        "passed_time": 0.5995383738,
                        "remaining_time": 2.826395191,
                        "test": [
                          1.601897792
                        ]
                      },
                      {
                        "learn": [
                          1.60151687
                        ],
                        "iteration": 35,
                        "passed_time": 0.6166572724,
                        "remaining_time": 2.809216463,
                        "test": [
                          1.601700671
                        ]
                      },
                      {
                        "learn": [
                          1.601295013
                        ],
                        "iteration": 36,
                        "passed_time": 0.63231898,
                        "remaining_time": 2.785621452,
                        "test": [
                          1.601483677
                        ]
                      },
                      {
                        "learn": [
                          1.601082687
                        ],
                        "iteration": 37,
                        "passed_time": 0.6481546499,
                        "remaining_time": 2.763185613,
                        "test": [
                          1.60127575
                        ]
                      },
                      {
                        "learn": [
                          1.60087785
                        ],
                        "iteration": 38,
                        "passed_time": 0.7348501295,
                        "remaining_time": 3.033612073,
                        "test": [
                          1.601075174
                        ]
                      },
                      {
                        "learn": [
                          1.600658773
                        ],
                        "iteration": 39,
                        "passed_time": 0.8088169034,
                        "remaining_time": 3.235267614,
                        "test": [
                          1.600862365
                        ]
                      },
                      {
                        "learn": [
                          1.600453027
                        ],
                        "iteration": 40,
                        "passed_time": 0.8585458516,
                        "remaining_time": 3.329482693,
                        "test": [
                          1.60066318
                        ]
                      },
                      {
                        "learn": [
                          1.600251053
                        ],
                        "iteration": 41,
                        "passed_time": 0.9025083942,
                        "remaining_time": 3.395150626,
                        "test": [
                          1.600468375
                        ]
                      },
                      {
                        "learn": [
                          1.600037324
                        ],
                        "iteration": 42,
                        "passed_time": 0.9651166505,
                        "remaining_time": 3.523798003,
                        "test": [
                          1.600261529
                        ]
                      },
                      {
                        "learn": [
                          1.599834241
                        ],
                        "iteration": 43,
                        "passed_time": 1.040734239,
                        "remaining_time": 3.68987594,
                        "test": [
                          1.600063453
                        ]
                      },
                      {
                        "learn": [
                          1.599611326
                        ],
                        "iteration": 44,
                        "passed_time": 1.096174375,
                        "remaining_time": 3.775711735,
                        "test": [
                          1.599846465
                        ]
                      },
                      {
                        "learn": [
                          1.599398725
                        ],
                        "iteration": 45,
                        "passed_time": 1.154270684,
                        "remaining_time": 3.864297506,
                        "test": [
                          1.599637499
                        ]
                      },
                      {
                        "learn": [
                          1.599182377
                        ],
                        "iteration": 46,
                        "passed_time": 1.216641514,
                        "remaining_time": 3.960556419,
                        "test": [
                          1.599424383
                        ]
                      },
                      {
                        "learn": [
                          1.598971041
                        ],
                        "iteration": 47,
                        "passed_time": 1.278014029,
                        "remaining_time": 4.047044425,
                        "test": [
                          1.599215454
                        ]
                      },
                      {
                        "learn": [
                          1.598767563
                        ],
                        "iteration": 48,
                        "passed_time": 1.344173533,
                        "remaining_time": 4.142249049,
                        "test": [
                          1.599017881
                        ]
                      },
                      {
                        "learn": [
                          1.598559398
                        ],
                        "iteration": 49,
                        "passed_time": 1.404699274,
                        "remaining_time": 4.214097821,
                        "test": [
                          1.59881553
                        ]
                      },
                      {
                        "learn": [
                          1.598348043
                        ],
                        "iteration": 50,
                        "passed_time": 1.47050136,
                        "remaining_time": 4.296170641,
                        "test": [
                          1.598610195
                        ]
                      },
                      {
                        "learn": [
                          1.598130339
                        ],
                        "iteration": 51,
                        "passed_time": 1.521318121,
                        "remaining_time": 4.329905423,
                        "test": [
                          1.598396922
                        ]
                      },
                      {
                        "learn": [
                          1.597928262
                        ],
                        "iteration": 52,
                        "passed_time": 1.579930534,
                        "remaining_time": 4.382071482,
                        "test": [
                          1.598201014
                        ]
                      },
                      {
                        "learn": [
                          1.597725574
                        ],
                        "iteration": 53,
                        "passed_time": 1.608304571,
                        "remaining_time": 4.348379024,
                        "test": [
                          1.598001851
                        ]
                      },
                      {
                        "learn": [
                          1.5975194
                        ],
                        "iteration": 54,
                        "passed_time": 1.665342163,
                        "remaining_time": 4.390447522,
                        "test": [
                          1.597799482
                        ]
                      },
                      {
                        "learn": [
                          1.597305792
                        ],
                        "iteration": 55,
                        "passed_time": 1.712445765,
                        "remaining_time": 4.403431966,
                        "test": [
                          1.597594564
                        ]
                      },
                      {
                        "learn": [
                          1.597101771
                        ],
                        "iteration": 56,
                        "passed_time": 1.770764613,
                        "remaining_time": 4.442444555,
                        "test": [
                          1.597395005
                        ]
                      },
                      {
                        "learn": [
                          1.596899146
                        ],
                        "iteration": 57,
                        "passed_time": 1.816339284,
                        "remaining_time": 4.446899626,
                        "test": [
                          1.597194645
                        ]
                      },
                      {
                        "learn": [
                          1.596693637
                        ],
                        "iteration": 58,
                        "passed_time": 1.848886972,
                        "remaining_time": 4.418526491,
                        "test": [
                          1.596995315
                        ]
                      },
                      {
                        "learn": [
                          1.596497785
                        ],
                        "iteration": 59,
                        "passed_time": 1.865115261,
                        "remaining_time": 4.351935609,
                        "test": [
                          1.596804786
                        ]
                      },
                      {
                        "learn": [
                          1.596292833
                        ],
                        "iteration": 60,
                        "passed_time": 1.88099512,
                        "remaining_time": 4.286201994,
                        "test": [
                          1.596604427
                        ]
                      },
                      {
                        "learn": [
                          1.596093612
                        ],
                        "iteration": 61,
                        "passed_time": 1.896655972,
                        "remaining_time": 4.2215891,
                        "test": [
                          1.59641138
                        ]
                      },
                      {
                        "learn": [
                          1.595891799
                        ],
                        "iteration": 62,
                        "passed_time": 1.912152841,
                        "remaining_time": 4.158173638,
                        "test": [
                          1.596217104
                        ]
                      },
                      {
                        "learn": [
                          1.595696178
                        ],
                        "iteration": 63,
                        "passed_time": 1.941231823,
                        "remaining_time": 4.125117624,
                        "test": [
                          1.596027061
                        ]
                      },
                      {
                        "learn": [
                          1.595496723
                        ],
                        "iteration": 64,
                        "passed_time": 1.957284876,
                        "remaining_time": 4.065130128,
                        "test": [
                          1.595831113
                        ]
                      },
                      {
                        "learn": [
                          1.595299126
                        ],
                        "iteration": 65,
                        "passed_time": 1.978403329,
                        "remaining_time": 4.016758275,
                        "test": [
                          1.595638128
                        ]
                      },
                      {
                        "learn": [
                          1.595096607
                        ],
                        "iteration": 66,
                        "passed_time": 1.994458891,
                        "remaining_time": 3.959149739,
                        "test": [
                          1.595440234
                        ]
                      },
                      {
                        "learn": [
                          1.594900425
                        ],
                        "iteration": 67,
                        "passed_time": 2.010671929,
                        "remaining_time": 3.903069039,
                        "test": [
                          1.595249128
                        ]
                      },
                      {
                        "learn": [
                          1.59470678
                        ],
                        "iteration": 68,
                        "passed_time": 2.026921932,
                        "remaining_time": 3.848214102,
                        "test": [
                          1.595060557
                        ]
                      },
                      {
                        "learn": [
                          1.594525185
                        ],
                        "iteration": 69,
                        "passed_time": 2.04889893,
                        "remaining_time": 3.805098012,
                        "test": [
                          1.594886014
                        ]
                      },
                      {
                        "learn": [
                          1.594328598
                        ],
                        "iteration": 70,
                        "passed_time": 2.066995834,
                        "remaining_time": 3.755527642,
                        "test": [
                          1.594694142
                        ]
                      },
                      {
                        "learn": [
                          1.594153377
                        ],
                        "iteration": 71,
                        "passed_time": 2.082996126,
                        "remaining_time": 3.703104225,
                        "test": [
                          1.594523286
                        ]
                      },
                      {
                        "learn": [
                          1.593954041
                        ],
                        "iteration": 72,
                        "passed_time": 2.098753179,
                        "remaining_time": 3.651255531,
                        "test": [
                          1.594326914
                        ]
                      },
                      {
                        "learn": [
                          1.593756804
                        ],
                        "iteration": 73,
                        "passed_time": 2.114691089,
                        "remaining_time": 3.600690233,
                        "test": [
                          1.594136848
                        ]
                      },
                      {
                        "learn": [
                          1.59355771
                        ],
                        "iteration": 74,
                        "passed_time": 2.130769859,
                        "remaining_time": 3.551283098,
                        "test": [
                          1.59394175
                        ]
                      },
                      {
                        "learn": [
                          1.593346256
                        ],
                        "iteration": 75,
                        "passed_time": 2.146277901,
                        "remaining_time": 3.501821839,
                        "test": [
                          1.593734132
                        ]
                      },
                      {
                        "learn": [
                          1.593151455
                        ],
                        "iteration": 76,
                        "passed_time": 2.161722837,
                        "remaining_time": 3.453141675,
                        "test": [
                          1.593543326
                        ]
                      },
                      {
                        "learn": [
                          1.592956013
                        ],
                        "iteration": 77,
                        "passed_time": 2.18123188,
                        "remaining_time": 3.411670376,
                        "test": [
                          1.593353008
                        ]
                      },
                      {
                        "learn": [
                          1.592764788
                        ],
                        "iteration": 78,
                        "passed_time": 2.202722429,
                        "remaining_time": 3.37379005,
                        "test": [
                          1.593165133
                        ]
                      },
                      {
                        "learn": [
                          1.592556327
                        ],
                        "iteration": 79,
                        "passed_time": 2.218229434,
                        "remaining_time": 3.327344151,
                        "test": [
                          1.592962141
                        ]
                      },
                      {
                        "learn": [
                          1.592353873
                        ],
                        "iteration": 80,
                        "passed_time": 2.23489895,
                        "remaining_time": 3.283370063,
                        "test": [
                          1.592762371
                        ]
                      },
                      {
                        "learn": [
                          1.592145239
                        ],
                        "iteration": 81,
                        "passed_time": 2.250095173,
                        "remaining_time": 3.237941834,
                        "test": [
                          1.592559453
                        ]
                      },
                      {
                        "learn": [
                          1.591957003
                        ],
                        "iteration": 82,
                        "passed_time": 2.264876544,
                        "remaining_time": 3.192657297,
                        "test": [
                          1.592375677
                        ]
                      },
                      {
                        "learn": [
                          1.591760948
                        ],
                        "iteration": 83,
                        "passed_time": 2.282630659,
                        "remaining_time": 3.152204243,
                        "test": [
                          1.592188748
                        ]
                      },
                      {
                        "learn": [
                          1.591574404
                        ],
                        "iteration": 84,
                        "passed_time": 2.299079666,
                        "remaining_time": 3.110519548,
                        "test": [
                          1.592008647
                        ]
                      },
                      {
                        "learn": [
                          1.591386716
                        ],
                        "iteration": 85,
                        "passed_time": 2.316684632,
                        "remaining_time": 3.070954047,
                        "test": [
                          1.591824575
                        ]
                      },
                      {
                        "learn": [
                          1.591196227
                        ],
                        "iteration": 86,
                        "passed_time": 2.338325878,
                        "remaining_time": 3.037135911,
                        "test": [
                          1.591638097
                        ]
                      },
                      {
                        "learn": [
                          1.591005273
                        ],
                        "iteration": 87,
                        "passed_time": 2.356292093,
                        "remaining_time": 2.99891721,
                        "test": [
                          1.591454662
                        ]
                      },
                      {
                        "learn": [
                          1.590807326
                        ],
                        "iteration": 88,
                        "passed_time": 2.372071885,
                        "remaining_time": 2.958426733,
                        "test": [
                          1.59126137
                        ]
                      },
                      {
                        "learn": [
                          1.590623403
                        ],
                        "iteration": 89,
                        "passed_time": 2.393929836,
                        "remaining_time": 2.925914244,
                        "test": [
                          1.591080171
                        ]
                      },
                      {
                        "learn": [
                          1.59042722
                        ],
                        "iteration": 90,
                        "passed_time": 2.409932116,
                        "remaining_time": 2.886621985,
                        "test": [
                          1.590888157
                        ]
                      },
                      {
                        "learn": [
                          1.59023517
                        ],
                        "iteration": 91,
                        "passed_time": 2.426308695,
                        "remaining_time": 2.848275425,
                        "test": [
                          1.590704663
                        ]
                      },
                      {
                        "learn": [
                          1.590033505
                        ],
                        "iteration": 92,
                        "passed_time": 2.442554239,
                        "remaining_time": 2.810250576,
                        "test": [
                          1.590508083
                        ]
                      },
                      {
                        "learn": [
                          1.589845669
                        ],
                        "iteration": 93,
                        "passed_time": 2.457725982,
                        "remaining_time": 2.771478235,
                        "test": [
                          1.590326025
                        ]
                      },
                      {
                        "learn": [
                          1.589647781
                        ],
                        "iteration": 94,
                        "passed_time": 2.479640605,
                        "remaining_time": 2.740655405,
                        "test": [
                          1.590130939
                        ]
                      },
                      {
                        "learn": [
                          1.58945123
                        ],
                        "iteration": 95,
                        "passed_time": 2.495437497,
                        "remaining_time": 2.703390622,
                        "test": [
                          1.589936168
                        ]
                      },
                      {
                        "learn": [
                          1.589254602
                        ],
                        "iteration": 96,
                        "passed_time": 2.510493611,
                        "remaining_time": 2.665781876,
                        "test": [
                          1.589744014
                        ]
                      },
                      {
                        "learn": [
                          1.589069357
                        ],
                        "iteration": 97,
                        "passed_time": 2.529290286,
                        "remaining_time": 2.632526625,
                        "test": [
                          1.589561275
                        ]
                      },
                      {
                        "learn": [
                          1.588872662
                        ],
                        "iteration": 98,
                        "passed_time": 2.545656315,
                        "remaining_time": 2.597083715,
                        "test": [
                          1.589369068
                        ]
                      },
                      {
                        "learn": [
                          1.588686088
                        ],
                        "iteration": 99,
                        "passed_time": 2.562349417,
                        "remaining_time": 2.562349417,
                        "test": [
                          1.589187548
                        ]
                      },
                      {
                        "learn": [
                          1.588517002
                        ],
                        "iteration": 100,
                        "passed_time": 2.577841235,
                        "remaining_time": 2.526794873,
                        "test": [
                          1.589023185
                        ]
                      },
                      {
                        "learn": [
                          1.58831985
                        ],
                        "iteration": 101,
                        "passed_time": 2.597963806,
                        "remaining_time": 2.496082872,
                        "test": [
                          1.588830358
                        ]
                      },
                      {
                        "learn": [
                          1.588126261
                        ],
                        "iteration": 102,
                        "passed_time": 2.614915383,
                        "remaining_time": 2.462590215,
                        "test": [
                          1.588643017
                        ]
                      },
                      {
                        "learn": [
                          1.587940867
                        ],
                        "iteration": 103,
                        "passed_time": 2.630545795,
                        "remaining_time": 2.428196119,
                        "test": [
                          1.588465634
                        ]
                      },
                      {
                        "learn": [
                          1.587758863
                        ],
                        "iteration": 104,
                        "passed_time": 2.646458529,
                        "remaining_time": 2.39441486,
                        "test": [
                          1.58828626
                        ]
                      },
                      {
                        "learn": [
                          1.58756372
                        ],
                        "iteration": 105,
                        "passed_time": 2.660767211,
                        "remaining_time": 2.359548281,
                        "test": [
                          1.588094131
                        ]
                      },
                      {
                        "learn": [
                          1.587372571
                        ],
                        "iteration": 106,
                        "passed_time": 2.676964053,
                        "remaining_time": 2.326707074,
                        "test": [
                          1.587908944
                        ]
                      },
                      {
                        "learn": [
                          1.587187119
                        ],
                        "iteration": 107,
                        "passed_time": 2.692101851,
                        "remaining_time": 2.293271947,
                        "test": [
                          1.58772686
                        ]
                      },
                      {
                        "learn": [
                          1.58698836
                        ],
                        "iteration": 108,
                        "passed_time": 2.707789209,
                        "remaining_time": 2.260631358,
                        "test": [
                          1.587534556
                        ]
                      },
                      {
                        "learn": [
                          1.586808879
                        ],
                        "iteration": 109,
                        "passed_time": 2.725172181,
                        "remaining_time": 2.22968633,
                        "test": [
                          1.58736045
                        ]
                      },
                      {
                        "learn": [
                          1.586626653
                        ],
                        "iteration": 110,
                        "passed_time": 2.74973187,
                        "remaining_time": 2.204739968,
                        "test": [
                          1.587181381
                        ]
                      },
                      {
                        "learn": [
                          1.586439019
                        ],
                        "iteration": 111,
                        "passed_time": 2.772703868,
                        "remaining_time": 2.178553039,
                        "test": [
                          1.5869984
                        ]
                      },
                      {
                        "learn": [
                          1.586257697
                        ],
                        "iteration": 112,
                        "passed_time": 2.788618881,
                        "remaining_time": 2.146989758,
                        "test": [
                          1.586823121
                        ]
                      },
                      {
                        "learn": [
                          1.586073392
                        ],
                        "iteration": 113,
                        "passed_time": 2.808711284,
                        "remaining_time": 2.118852372,
                        "test": [
                          1.586644074
                        ]
                      },
                      {
                        "learn": [
                          1.585882931
                        ],
                        "iteration": 114,
                        "passed_time": 2.824088503,
                        "remaining_time": 2.087369763,
                        "test": [
                          1.586458833
                        ]
                      },
                      {
                        "learn": [
                          1.585691761
                        ],
                        "iteration": 115,
                        "passed_time": 2.840038409,
                        "remaining_time": 2.056579538,
                        "test": [
                          1.586271794
                        ]
                      },
                      {
                        "learn": [
                          1.585494298
                        ],
                        "iteration": 116,
                        "passed_time": 2.855066066,
                        "remaining_time": 2.025388748,
                        "test": [
                          1.586081083
                        ]
                      },
                      {
                        "learn": [
                          1.585302402
                        ],
                        "iteration": 117,
                        "passed_time": 2.871277365,
                        "remaining_time": 1.99529444,
                        "test": [
                          1.585890995
                        ]
                      },
                      {
                        "learn": [
                          1.585123728
                        ],
                        "iteration": 118,
                        "passed_time": 2.888131035,
                        "remaining_time": 1.965870705,
                        "test": [
                          1.585715863
                        ]
                      },
                      {
                        "learn": [
                          1.58494464
                        ],
                        "iteration": 119,
                        "passed_time": 2.919374978,
                        "remaining_time": 1.946249985,
                        "test": [
                          1.585542152
                        ]
                      },
                      {
                        "learn": [
                          1.584747533
                        ],
                        "iteration": 120,
                        "passed_time": 2.934488392,
                        "remaining_time": 1.915905645,
                        "test": [
                          1.585347963
                        ]
                      },
                      {
                        "learn": [
                          1.584567363
                        ],
                        "iteration": 121,
                        "passed_time": 2.949943215,
                        "remaining_time": 1.886029269,
                        "test": [
                          1.58517131
                        ]
                      },
                      {
                        "learn": [
                          1.584385086
                        ],
                        "iteration": 122,
                        "passed_time": 2.966193688,
                        "remaining_time": 1.85688548,
                        "test": [
                          1.584992214
                        ]
                      },
                      {
                        "learn": [
                          1.584189601
                        ],
                        "iteration": 123,
                        "passed_time": 2.981826231,
                        "remaining_time": 1.827570916,
                        "test": [
                          1.584804461
                        ]
                      },
                      {
                        "learn": [
                          1.584004863
                        ],
                        "iteration": 124,
                        "passed_time": 3.000591241,
                        "remaining_time": 1.800354744,
                        "test": [
                          1.584622851
                        ]
                      },
                      {
                        "learn": [
                          1.583820503
                        ],
                        "iteration": 125,
                        "passed_time": 3.021828163,
                        "remaining_time": 1.774724477,
                        "test": [
                          1.584443959
                        ]
                      },
                      {
                        "learn": [
                          1.583645656
                        ],
                        "iteration": 126,
                        "passed_time": 3.035928696,
                        "remaining_time": 1.745061377,
                        "test": [
                          1.5842749
                        ]
                      },
                      {
                        "learn": [
                          1.5834646
                        ],
                        "iteration": 127,
                        "passed_time": 3.05114588,
                        "remaining_time": 1.716269557,
                        "test": [
                          1.584098222
                        ]
                      },
                      {
                        "learn": [
                          1.583276756
                        ],
                        "iteration": 128,
                        "passed_time": 3.066170931,
                        "remaining_time": 1.687582451,
                        "test": [
                          1.583911581
                        ]
                      },
                      {
                        "learn": [
                          1.583103804
                        ],
                        "iteration": 129,
                        "passed_time": 3.084689849,
                        "remaining_time": 1.660986842,
                        "test": [
                          1.583748076
                        ]
                      },
                      {
                        "learn": [
                          1.582913225
                        ],
                        "iteration": 130,
                        "passed_time": 3.100353765,
                        "remaining_time": 1.633010762,
                        "test": [
                          1.583559362
                        ]
                      },
                      {
                        "learn": [
                          1.582734147
                        ],
                        "iteration": 131,
                        "passed_time": 3.116448233,
                        "remaining_time": 1.605443029,
                        "test": [
                          1.583384553
                        ]
                      },
                      {
                        "learn": [
                          1.58254298
                        ],
                        "iteration": 132,
                        "passed_time": 3.131689317,
                        "remaining_time": 1.577617926,
                        "test": [
                          1.583195201
                        ]
                      },
                      {
                        "learn": [
                          1.58236554
                        ],
                        "iteration": 133,
                        "passed_time": 3.145964237,
                        "remaining_time": 1.549504774,
                        "test": [
                          1.583020982
                        ]
                      },
                      {
                        "learn": [
                          1.582203503
                        ],
                        "iteration": 134,
                        "passed_time": 3.161093961,
                        "remaining_time": 1.522008203,
                        "test": [
                          1.582862114
                        ]
                      },
                      {
                        "learn": [
                          1.582021272
                        ],
                        "iteration": 135,
                        "passed_time": 3.174900343,
                        "remaining_time": 1.49407075,
                        "test": [
                          1.582685219
                        ]
                      },
                      {
                        "learn": [
                          1.581838936
                        ],
                        "iteration": 136,
                        "passed_time": 3.190546876,
                        "remaining_time": 1.46718579,
                        "test": [
                          1.582508057
                        ]
                      },
                      {
                        "learn": [
                          1.581665992
                        ],
                        "iteration": 137,
                        "passed_time": 3.207340781,
                        "remaining_time": 1.440979192,
                        "test": [
                          1.582341683
                        ]
                      },
                      {
                        "learn": [
                          1.581489152
                        ],
                        "iteration": 138,
                        "passed_time": 3.226134287,
                        "remaining_time": 1.41578555,
                        "test": [
                          1.582173248
                        ]
                      },
                      {
                        "learn": [
                          1.581318362
                        ],
                        "iteration": 139,
                        "passed_time": 3.242368912,
                        "remaining_time": 1.389586677,
                        "test": [
                          1.582006608
                        ]
                      },
                      {
                        "learn": [
                          1.581139009
                        ],
                        "iteration": 140,
                        "passed_time": 3.258194482,
                        "remaining_time": 1.363357975,
                        "test": [
                          1.581834218
                        ]
                      },
                      {
                        "learn": [
                          1.580960714
                        ],
                        "iteration": 141,
                        "passed_time": 3.273307825,
                        "remaining_time": 1.336984886,
                        "test": [
                          1.581660801
                        ]
                      },
                      {
                        "learn": [
                          1.580784083
                        ],
                        "iteration": 142,
                        "passed_time": 3.290381879,
                        "remaining_time": 1.311550819,
                        "test": [
                          1.581488772
                        ]
                      },
                      {
                        "learn": [
                          1.580607775
                        ],
                        "iteration": 143,
                        "passed_time": 3.305445048,
                        "remaining_time": 1.285450852,
                        "test": [
                          1.581316671
                        ]
                      },
                      {
                        "learn": [
                          1.580433655
                        ],
                        "iteration": 144,
                        "passed_time": 3.321169442,
                        "remaining_time": 1.259753926,
                        "test": [
                          1.581147581
                        ]
                      },
                      {
                        "learn": [
                          1.580254601
                        ],
                        "iteration": 145,
                        "passed_time": 3.339844945,
                        "remaining_time": 1.235285117,
                        "test": [
                          1.580971492
                        ]
                      },
                      {
                        "learn": [
                          1.580083454
                        ],
                        "iteration": 146,
                        "passed_time": 3.356020359,
                        "remaining_time": 1.209993735,
                        "test": [
                          1.580807591
                        ]
                      },
                      {
                        "learn": [
                          1.57990278
                        ],
                        "iteration": 147,
                        "passed_time": 3.371170773,
                        "remaining_time": 1.184465407,
                        "test": [
                          1.58063018
                        ]
                      },
                      {
                        "learn": [
                          1.579724385
                        ],
                        "iteration": 148,
                        "passed_time": 3.386967222,
                        "remaining_time": 1.159297506,
                        "test": [
                          1.580454521
                        ]
                      },
                      {
                        "learn": [
                          1.579555215
                        ],
                        "iteration": 149,
                        "passed_time": 3.401904287,
                        "remaining_time": 1.133968096,
                        "test": [
                          1.580290528
                        ]
                      },
                      {
                        "learn": [
                          1.579380154
                        ],
                        "iteration": 150,
                        "passed_time": 3.418186597,
                        "remaining_time": 1.109212869,
                        "test": [
                          1.580120902
                        ]
                      },
                      {
                        "learn": [
                          1.579212501
                        ],
                        "iteration": 151,
                        "passed_time": 3.443134597,
                        "remaining_time": 1.087305662,
                        "test": [
                          1.579956925
                        ]
                      },
                      {
                        "learn": [
                          1.579046604
                        ],
                        "iteration": 152,
                        "passed_time": 3.461444458,
                        "remaining_time": 1.063319539,
                        "test": [
                          1.579794871
                        ]
                      },
                      {
                        "learn": [
                          1.578879402
                        ],
                        "iteration": 153,
                        "passed_time": 3.476919029,
                        "remaining_time": 1.038560229,
                        "test": [
                          1.579635084
                        ]
                      },
                      {
                        "learn": [
                          1.578701444
                        ],
                        "iteration": 154,
                        "passed_time": 3.492647364,
                        "remaining_time": 1.013994396,
                        "test": [
                          1.579463047
                        ]
                      },
                      {
                        "learn": [
                          1.578548456
                        ],
                        "iteration": 155,
                        "passed_time": 3.510745415,
                        "remaining_time": 0.9902102451,
                        "test": [
                          1.579313103
                        ]
                      },
                      {
                        "learn": [
                          1.578375375
                        ],
                        "iteration": 156,
                        "passed_time": 3.525219578,
                        "remaining_time": 0.9655059991,
                        "test": [
                          1.579143811
                        ]
                      },
                      {
                        "learn": [
                          1.578207778
                        ],
                        "iteration": 157,
                        "passed_time": 3.541031372,
                        "remaining_time": 0.9412868203,
                        "test": [
                          1.578979643
                        ]
                      },
                      {
                        "learn": [
                          1.578032724
                        ],
                        "iteration": 158,
                        "passed_time": 3.555990106,
                        "remaining_time": 0.9169534235,
                        "test": [
                          1.578809311
                        ]
                      },
                      {
                        "learn": [
                          1.577856651
                        ],
                        "iteration": 159,
                        "passed_time": 3.571143663,
                        "remaining_time": 0.8927859159,
                        "test": [
                          1.578639166
                        ]
                      },
                      {
                        "learn": [
                          1.577673054
                        ],
                        "iteration": 160,
                        "passed_time": 3.586867149,
                        "remaining_time": 0.8688684398,
                        "test": [
                          1.578458055
                        ]
                      },
                      {
                        "learn": [
                          1.577488128
                        ],
                        "iteration": 161,
                        "passed_time": 3.602464138,
                        "remaining_time": 0.8450224521,
                        "test": [
                          1.578276875
                        ]
                      },
                      {
                        "learn": [
                          1.57732143
                        ],
                        "iteration": 162,
                        "passed_time": 3.623846387,
                        "remaining_time": 0.8225908976,
                        "test": [
                          1.5781131
                        ]
                      },
                      {
                        "learn": [
                          1.577139987
                        ],
                        "iteration": 163,
                        "passed_time": 3.640082104,
                        "remaining_time": 0.799042413,
                        "test": [
                          1.577935753
                        ]
                      },
                      {
                        "learn": [
                          1.576977552
                        ],
                        "iteration": 164,
                        "passed_time": 3.659227583,
                        "remaining_time": 0.7761997903,
                        "test": [
                          1.577778936
                        ]
                      },
                      {
                        "learn": [
                          1.576815859
                        ],
                        "iteration": 165,
                        "passed_time": 3.673631436,
                        "remaining_time": 0.752430535,
                        "test": [
                          1.57762119
                        ]
                      },
                      {
                        "learn": [
                          1.576656605
                        ],
                        "iteration": 166,
                        "passed_time": 3.689008796,
                        "remaining_time": 0.72896581,
                        "test": [
                          1.577468102
                        ]
                      },
                      {
                        "learn": [
                          1.576490524
                        ],
                        "iteration": 167,
                        "passed_time": 3.704648727,
                        "remaining_time": 0.7056473766,
                        "test": [
                          1.577311141
                        ]
                      },
                      {
                        "learn": [
                          1.576315826
                        ],
                        "iteration": 168,
                        "passed_time": 3.720322768,
                        "remaining_time": 0.6824260698,
                        "test": [
                          1.577141165
                        ]
                      },
                      {
                        "learn": [
                          1.576143352
                        ],
                        "iteration": 169,
                        "passed_time": 3.734892522,
                        "remaining_time": 0.6590986803,
                        "test": [
                          1.576972815
                        ]
                      },
                      {
                        "learn": [
                          1.575970877
                        ],
                        "iteration": 170,
                        "passed_time": 3.755473152,
                        "remaining_time": 0.6368931077,
                        "test": [
                          1.576804989
                        ]
                      },
                      {
                        "learn": [
                          1.575795898
                        ],
                        "iteration": 171,
                        "passed_time": 3.775025904,
                        "remaining_time": 0.6145391006,
                        "test": [
                          1.576632738
                        ]
                      },
                      {
                        "learn": [
                          1.575626837
                        ],
                        "iteration": 172,
                        "passed_time": 3.790258618,
                        "remaining_time": 0.5915432525,
                        "test": [
                          1.576471252
                        ]
                      },
                      {
                        "learn": [
                          1.575458095
                        ],
                        "iteration": 173,
                        "passed_time": 3.807952414,
                        "remaining_time": 0.5690043837,
                        "test": [
                          1.576305255
                        ]
                      },
                      {
                        "learn": [
                          1.575287263
                        ],
                        "iteration": 174,
                        "passed_time": 3.822020568,
                        "remaining_time": 0.5460029383,
                        "test": [
                          1.576140282
                        ]
                      },
                      {
                        "learn": [
                          1.575125216
                        ],
                        "iteration": 175,
                        "passed_time": 3.836865488,
                        "remaining_time": 0.5232089302,
                        "test": [
                          1.575983243
                        ]
                      },
                      {
                        "learn": [
                          1.574958851
                        ],
                        "iteration": 176,
                        "passed_time": 3.856128436,
                        "remaining_time": 0.5010788363,
                        "test": [
                          1.575822342
                        ]
                      },
                      {
                        "learn": [
                          1.574786218
                        ],
                        "iteration": 177,
                        "passed_time": 3.872049869,
                        "remaining_time": 0.4785679613,
                        "test": [
                          1.575656537
                        ]
                      },
                      {
                        "learn": [
                          1.574635459
                        ],
                        "iteration": 178,
                        "passed_time": 3.903496391,
                        "remaining_time": 0.4579520906,
                        "test": [
                          1.575509589
                        ]
                      },
                      {
                        "learn": [
                          1.574475188
                        ],
                        "iteration": 179,
                        "passed_time": 3.918966459,
                        "remaining_time": 0.4354407176,
                        "test": [
                          1.575354379
                        ]
                      },
                      {
                        "learn": [
                          1.574293315
                        ],
                        "iteration": 180,
                        "passed_time": 3.942416639,
                        "remaining_time": 0.4138448406,
                        "test": [
                          1.575177281
                        ]
                      },
                      {
                        "learn": [
                          1.574129509
                        ],
                        "iteration": 181,
                        "passed_time": 3.957543017,
                        "remaining_time": 0.3914053533,
                        "test": [
                          1.575020018
                        ]
                      },
                      {
                        "learn": [
                          1.573967358
                        ],
                        "iteration": 182,
                        "passed_time": 3.972905998,
                        "remaining_time": 0.3690677703,
                        "test": [
                          1.574864877
                        ]
                      },
                      {
                        "learn": [
                          1.573805289
                        ],
                        "iteration": 183,
                        "passed_time": 3.987621728,
                        "remaining_time": 0.3467497155,
                        "test": [
                          1.57470682
                        ]
                      },
                      {
                        "learn": [
                          1.573643484
                        ],
                        "iteration": 184,
                        "passed_time": 4.003104817,
                        "remaining_time": 0.3245760662,
                        "test": [
                          1.574550097
                        ]
                      },
                      {
                        "learn": [
                          1.573482043
                        ],
                        "iteration": 185,
                        "passed_time": 4.018401835,
                        "remaining_time": 0.3024603532,
                        "test": [
                          1.574396825
                        ]
                      },
                      {
                        "learn": [
                          1.573322149
                        ],
                        "iteration": 186,
                        "passed_time": 4.034025129,
                        "remaining_time": 0.2804402496,
                        "test": [
                          1.574242023
                        ]
                      },
                      {
                        "learn": [
                          1.57316545
                        ],
                        "iteration": 187,
                        "passed_time": 4.050009002,
                        "remaining_time": 0.2585112129,
                        "test": [
                          1.574092548
                        ]
                      },
                      {
                        "learn": [
                          1.573019118
                        ],
                        "iteration": 188,
                        "passed_time": 4.07349978,
                        "remaining_time": 0.2370819978,
                        "test": [
                          1.573950754
                        ]
                      },
                      {
                        "learn": [
                          1.57286351
                        ],
                        "iteration": 189,
                        "passed_time": 4.092306584,
                        "remaining_time": 0.215384557,
                        "test": [
                          1.573797601
                        ]
                      },
                      {
                        "learn": [
                          1.5726999
                        ],
                        "iteration": 190,
                        "passed_time": 4.107468917,
                        "remaining_time": 0.1935456558,
                        "test": [
                          1.573637806
                        ]
                      },
                      {
                        "learn": [
                          1.572530964
                        ],
                        "iteration": 191,
                        "passed_time": 4.122601423,
                        "remaining_time": 0.1717750593,
                        "test": [
                          1.573469905
                        ]
                      },
                      {
                        "learn": [
                          1.572364372
                        ],
                        "iteration": 192,
                        "passed_time": 4.13957105,
                        "remaining_time": 0.1501398826,
                        "test": [
                          1.573307537
                        ]
                      },
                      {
                        "learn": [
                          1.5722186
                        ],
                        "iteration": 193,
                        "passed_time": 4.155532678,
                        "remaining_time": 0.1285216292,
                        "test": [
                          1.573164899
                        ]
                      },
                      {
                        "learn": [
                          1.572064489
                        ],
                        "iteration": 194,
                        "passed_time": 4.170824588,
                        "remaining_time": 0.1069442202,
                        "test": [
                          1.573014847
                        ]
                      },
                      {
                        "learn": [
                          1.57190585
                        ],
                        "iteration": 195,
                        "passed_time": 4.188420399,
                        "remaining_time": 0.08547796732,
                        "test": [
                          1.572860717
                        ]
                      },
                      {
                        "learn": [
                          1.571740494
                        ],
                        "iteration": 196,
                        "passed_time": 4.20467692,
                        "remaining_time": 0.064030613,
                        "test": [
                          1.572700105
                        ]
                      },
                      {
                        "learn": [
                          1.571574758
                        ],
                        "iteration": 197,
                        "passed_time": 4.220084962,
                        "remaining_time": 0.04262712083,
                        "test": [
                          1.572540372
                        ]
                      },
                      {
                        "learn": [
                          1.571410743
                        ],
                        "iteration": 198,
                        "passed_time": 4.235176107,
                        "remaining_time": 0.021282292,
                        "test": [
                          1.572378275
                        ]
                      },
                      {
                        "learn": [
                          1.571252204
                        ],
                        "iteration": 199,
                        "passed_time": 4.25135286,
                        "remaining_time": 0,
                        "test": [
                          1.572224854
                        ]
                      }
                    ],
                    "meta": {
                      "test_sets": [
                        "test"
                      ],
                      "test_metrics": [
                        {
                          "best_value": "Min",
                          "name": "MultiClass"
                        }
                      ],
                      "learn_metrics": [
                        {
                          "best_value": "Min",
                          "name": "MultiClass"
                        }
                      ],
                      "launch_mode": "Train",
                      "parameters": "",
                      "iteration_count": 200,
                      "learn_sets": [
                        "learn"
                      ],
                      "name": "experiment"
                    }
                  }
                }
              },
              "catboost_info/fold-1": {
                "path": "catboost_info/fold-1",
                "name": "fold-1",
                "content": {
                  "passed_iterations": 199,
                  "total_iterations": 200,
                  "data": {
                    "iterations": [
                      {
                        "learn": [
                          1.609201649
                        ],
                        "iteration": 0,
                        "passed_time": 0.01627241432,
                        "remaining_time": 3.238210449,
                        "test": [
                          1.609201701
                        ]
                      },
                      {
                        "learn": [
                          1.608979265
                        ],
                        "iteration": 1,
                        "passed_time": 0.03219304351,
                        "remaining_time": 3.187111308,
                        "test": [
                          1.60898129
                        ]
                      },
                      {
                        "learn": [
                          1.608755349
                        ],
                        "iteration": 2,
                        "passed_time": 0.05224645692,
                        "remaining_time": 3.430850671,
                        "test": [
                          1.608762733
                        ]
                      },
                      {
                        "learn": [
                          1.608537762
                        ],
                        "iteration": 3,
                        "passed_time": 0.06849223283,
                        "remaining_time": 3.356119409,
                        "test": [
                          1.608547047
                        ]
                      },
                      {
                        "learn": [
                          1.608307918
                        ],
                        "iteration": 4,
                        "passed_time": 0.08523338759,
                        "remaining_time": 3.324102116,
                        "test": [
                          1.608319476
                        ]
                      },
                      {
                        "learn": [
                          1.608086865
                        ],
                        "iteration": 5,
                        "passed_time": 0.101495863,
                        "remaining_time": 3.281699569,
                        "test": [
                          1.60810412
                        ]
                      },
                      {
                        "learn": [
                          1.607857612
                        ],
                        "iteration": 6,
                        "passed_time": 0.1163825043,
                        "remaining_time": 3.208831905,
                        "test": [
                          1.607874823
                        ]
                      },
                      {
                        "learn": [
                          1.607636766
                        ],
                        "iteration": 7,
                        "passed_time": 0.1326710903,
                        "remaining_time": 3.184106168,
                        "test": [
                          1.60765923
                        ]
                      },
                      {
                        "learn": [
                          1.607408109
                        ],
                        "iteration": 8,
                        "passed_time": 0.1490841718,
                        "remaining_time": 3.163897424,
                        "test": [
                          1.607434394
                        ]
                      },
                      {
                        "learn": [
                          1.60719304
                        ],
                        "iteration": 9,
                        "passed_time": 0.1646472032,
                        "remaining_time": 3.12829686,
                        "test": [
                          1.607223104
                        ]
                      },
                      {
                        "learn": [
                          1.606976919
                        ],
                        "iteration": 10,
                        "passed_time": 0.1847737081,
                        "remaining_time": 3.174748257,
                        "test": [
                          1.607013467
                        ]
                      },
                      {
                        "learn": [
                          1.606745487
                        ],
                        "iteration": 11,
                        "passed_time": 0.1996273906,
                        "remaining_time": 3.127495785,
                        "test": [
                          1.606783154
                        ]
                      },
                      {
                        "learn": [
                          1.606519755
                        ],
                        "iteration": 12,
                        "passed_time": 0.2180704643,
                        "remaining_time": 3.136859756,
                        "test": [
                          1.606558292
                        ]
                      },
                      {
                        "learn": [
                          1.606308297
                        ],
                        "iteration": 13,
                        "passed_time": 0.2336738251,
                        "remaining_time": 3.104523676,
                        "test": [
                          1.606351071
                        ]
                      },
                      {
                        "learn": [
                          1.606076043
                        ],
                        "iteration": 14,
                        "passed_time": 0.2495639456,
                        "remaining_time": 3.077955329,
                        "test": [
                          1.606121432
                        ]
                      },
                      {
                        "learn": [
                          1.605857342
                        ],
                        "iteration": 15,
                        "passed_time": 0.2653106742,
                        "remaining_time": 3.051072753,
                        "test": [
                          1.605904848
                        ]
                      },
                      {
                        "learn": [
                          1.605635881
                        ],
                        "iteration": 16,
                        "passed_time": 0.2805100995,
                        "remaining_time": 3.019608718,
                        "test": [
                          1.605685616
                        ]
                      },
                      {
                        "learn": [
                          1.605417008
                        ],
                        "iteration": 17,
                        "passed_time": 0.2952031279,
                        "remaining_time": 2.984831626,
                        "test": [
                          1.605471128
                        ]
                      },
                      {
                        "learn": [
                          1.605199781
                        ],
                        "iteration": 18,
                        "passed_time": 0.3129336125,
                        "remaining_time": 2.981104414,
                        "test": [
                          1.605253579
                        ]
                      },
                      {
                        "learn": [
                          1.604985252
                        ],
                        "iteration": 19,
                        "passed_time": 0.3307120276,
                        "remaining_time": 2.976408248,
                        "test": [
                          1.605041653
                        ]
                      },
                      {
                        "learn": [
                          1.604757968
                        ],
                        "iteration": 20,
                        "passed_time": 0.3464735828,
                        "remaining_time": 2.953274825,
                        "test": [
                          1.604816895
                        ]
                      },
                      {
                        "learn": [
                          1.604537298
                        ],
                        "iteration": 21,
                        "passed_time": 0.3643689878,
                        "remaining_time": 2.948076356,
                        "test": [
                          1.604599795
                        ]
                      },
                      {
                        "learn": [
                          1.604336549
                        ],
                        "iteration": 22,
                        "passed_time": 0.3833133585,
                        "remaining_time": 2.949846281,
                        "test": [
                          1.604401294
                        ]
                      },
                      {
                        "learn": [
                          1.604113308
                        ],
                        "iteration": 23,
                        "passed_time": 0.3987392426,
                        "remaining_time": 2.924087779,
                        "test": [
                          1.604178888
                        ]
                      },
                      {
                        "learn": [
                          1.603907102
                        ],
                        "iteration": 24,
                        "passed_time": 0.4150877732,
                        "remaining_time": 2.905614412,
                        "test": [
                          1.603976522
                        ]
                      },
                      {
                        "learn": [
                          1.603695942
                        ],
                        "iteration": 25,
                        "passed_time": 0.4371812919,
                        "remaining_time": 2.925751723,
                        "test": [
                          1.603767822
                        ]
                      },
                      {
                        "learn": [
                          1.603479729
                        ],
                        "iteration": 26,
                        "passed_time": 0.4638761748,
                        "remaining_time": 2.972243639,
                        "test": [
                          1.603553594
                        ]
                      },
                      {
                        "learn": [
                          1.60326548
                        ],
                        "iteration": 27,
                        "passed_time": 0.4789028283,
                        "remaining_time": 2.941831659,
                        "test": [
                          1.603342741
                        ]
                      },
                      {
                        "learn": [
                          1.603042877
                        ],
                        "iteration": 28,
                        "passed_time": 0.4944848356,
                        "remaining_time": 2.91575541,
                        "test": [
                          1.603122336
                        ]
                      },
                      {
                        "learn": [
                          1.602835147
                        ],
                        "iteration": 29,
                        "passed_time": 0.5110175821,
                        "remaining_time": 2.895766299,
                        "test": [
                          1.60291778
                        ]
                      },
                      {
                        "learn": [
                          1.602628916
                        ],
                        "iteration": 30,
                        "passed_time": 0.5251330554,
                        "remaining_time": 2.862822141,
                        "test": [
                          1.602714955
                        ]
                      },
                      {
                        "learn": [
                          1.602421689
                        ],
                        "iteration": 31,
                        "passed_time": 0.5408073557,
                        "remaining_time": 2.839238617,
                        "test": [
                          1.602512171
                        ]
                      },
                      {
                        "learn": [
                          1.60221095
                        ],
                        "iteration": 32,
                        "passed_time": 0.5612591733,
                        "remaining_time": 2.840311574,
                        "test": [
                          1.60230184
                        ]
                      },
                      {
                        "learn": [
                          1.60201124
                        ],
                        "iteration": 33,
                        "passed_time": 0.5991234961,
                        "remaining_time": 2.925132363,
                        "test": [
                          1.602104004
                        ]
                      },
                      {
                        "learn": [
                          1.601801064
                        ],
                        "iteration": 34,
                        "passed_time": 0.6147927819,
                        "remaining_time": 2.898308829,
                        "test": [
                          1.601895232
                        ]
                      },
                      {
                        "learn": [
                          1.601598287
                        ],
                        "iteration": 35,
                        "passed_time": 0.6300744336,
                        "remaining_time": 2.870339086,
                        "test": [
                          1.601695783
                        ]
                      },
                      {
                        "learn": [
                          1.601384504
                        ],
                        "iteration": 36,
                        "passed_time": 0.6473131496,
                        "remaining_time": 2.851676848,
                        "test": [
                          1.601480045
                        ]
                      },
                      {
                        "learn": [
                          1.601174447
                        ],
                        "iteration": 37,
                        "passed_time": 0.6632140314,
                        "remaining_time": 2.827386134,
                        "test": [
                          1.601271192
                        ]
                      },
                      {
                        "learn": [
                          1.600970658
                        ],
                        "iteration": 38,
                        "passed_time": 0.6788787314,
                        "remaining_time": 2.80255066,
                        "test": [
                          1.601070365
                        ]
                      },
                      {
                        "learn": [
                          1.600768512
                        ],
                        "iteration": 39,
                        "passed_time": 0.6951387998,
                        "remaining_time": 2.780555199,
                        "test": [
                          1.600868668
                        ]
                      },
                      {
                        "learn": [
                          1.60056642
                        ],
                        "iteration": 40,
                        "passed_time": 0.7115745921,
                        "remaining_time": 2.759520979,
                        "test": [
                          1.600672216
                        ]
                      },
                      {
                        "learn": [
                          1.60036788
                        ],
                        "iteration": 41,
                        "passed_time": 0.7274178012,
                        "remaining_time": 2.73647649,
                        "test": [
                          1.600475196
                        ]
                      },
                      {
                        "learn": [
                          1.600155336
                        ],
                        "iteration": 42,
                        "passed_time": 0.7443046894,
                        "remaining_time": 2.717577587,
                        "test": [
                          1.600266172
                        ]
                      },
                      {
                        "learn": [
                          1.599954727
                        ],
                        "iteration": 43,
                        "passed_time": 0.7601001281,
                        "remaining_time": 2.694900454,
                        "test": [
                          1.600066611
                        ]
                      },
                      {
                        "learn": [
                          1.599734555
                        ],
                        "iteration": 44,
                        "passed_time": 0.7765749861,
                        "remaining_time": 2.674869397,
                        "test": [
                          1.599848771
                        ]
                      },
                      {
                        "learn": [
                          1.59952282
                        ],
                        "iteration": 45,
                        "passed_time": 0.7917977423,
                        "remaining_time": 2.650801137,
                        "test": [
                          1.599637779
                        ]
                      },
                      {
                        "learn": [
                          1.599312674
                        ],
                        "iteration": 46,
                        "passed_time": 0.8121251976,
                        "remaining_time": 2.643726707,
                        "test": [
                          1.599426876
                        ]
                      },
                      {
                        "learn": [
                          1.599093746
                        ],
                        "iteration": 47,
                        "passed_time": 0.8273340401,
                        "remaining_time": 2.619891127,
                        "test": [
                          1.599210238
                        ]
                      },
                      {
                        "learn": [
                          1.598891306
                        ],
                        "iteration": 48,
                        "passed_time": 0.8425085889,
                        "remaining_time": 2.596301978,
                        "test": [
                          1.59901227
                        ]
                      },
                      {
                        "learn": [
                          1.598684234
                        ],
                        "iteration": 49,
                        "passed_time": 0.8593186949,
                        "remaining_time": 2.577956085,
                        "test": [
                          1.598808876
                        ]
                      },
                      {
                        "learn": [
                          1.598477021
                        ],
                        "iteration": 50,
                        "passed_time": 0.8744262673,
                        "remaining_time": 2.554696349,
                        "test": [
                          1.598602297
                        ]
                      },
                      {
                        "learn": [
                          1.598271789
                        ],
                        "iteration": 51,
                        "passed_time": 0.8892159376,
                        "remaining_time": 2.530845361,
                        "test": [
                          1.59839759
                        ]
                      },
                      {
                        "learn": [
                          1.598075343
                        ],
                        "iteration": 52,
                        "passed_time": 0.9048067174,
                        "remaining_time": 2.509558254,
                        "test": [
                          1.598202963
                        ]
                      },
                      {
                        "learn": [
                          1.597875234
                        ],
                        "iteration": 53,
                        "passed_time": 0.9203100538,
                        "remaining_time": 2.488245701,
                        "test": [
                          1.598002353
                        ]
                      },
                      {
                        "learn": [
                          1.597666308
                        ],
                        "iteration": 54,
                        "passed_time": 0.9503143233,
                        "remaining_time": 2.505374125,
                        "test": [
                          1.597796882
                        ]
                      },
                      {
                        "learn": [
                          1.597457247
                        ],
                        "iteration": 55,
                        "passed_time": 0.9672207271,
                        "remaining_time": 2.487139012,
                        "test": [
                          1.597593904
                        ]
                      },
                      {
                        "learn": [
                          1.59725421
                        ],
                        "iteration": 56,
                        "passed_time": 0.982458289,
                        "remaining_time": 2.464763778,
                        "test": [
                          1.597392449
                        ]
                      },
                      {
                        "learn": [
                          1.597055179
                        ],
                        "iteration": 57,
                        "passed_time": 0.9984925741,
                        "remaining_time": 2.444585268,
                        "test": [
                          1.597193152
                        ]
                      },
                      {
                        "learn": [
                          1.596851532
                        ],
                        "iteration": 58,
                        "passed_time": 1.021088922,
                        "remaining_time": 2.440229458,
                        "test": [
                          1.596992445
                        ]
                      },
                      {
                        "learn": [
                          1.596658433
                        ],
                        "iteration": 59,
                        "passed_time": 1.038639108,
                        "remaining_time": 2.423491252,
                        "test": [
                          1.596802553
                        ]
                      },
                      {
                        "learn": [
                          1.596458817
                        ],
                        "iteration": 60,
                        "passed_time": 1.054708603,
                        "remaining_time": 2.40335239,
                        "test": [
                          1.596606595
                        ]
                      },
                      {
                        "learn": [
                          1.596260376
                        ],
                        "iteration": 61,
                        "passed_time": 1.070182005,
                        "remaining_time": 2.382018011,
                        "test": [
                          1.59641304
                        ]
                      },
                      {
                        "learn": [
                          1.596060144
                        ],
                        "iteration": 62,
                        "passed_time": 1.085973746,
                        "remaining_time": 2.361561955,
                        "test": [
                          1.59621651
                        ]
                      },
                      {
                        "learn": [
                          1.595863589
                        ],
                        "iteration": 63,
                        "passed_time": 1.102177974,
                        "remaining_time": 2.342128194,
                        "test": [
                          1.596025939
                        ]
                      },
                      {
                        "learn": [
                          1.595668223
                        ],
                        "iteration": 64,
                        "passed_time": 1.118115118,
                        "remaining_time": 2.322239091,
                        "test": [
                          1.595831274
                        ]
                      },
                      {
                        "learn": [
                          1.595471278
                        ],
                        "iteration": 65,
                        "passed_time": 1.135043045,
                        "remaining_time": 2.304481333,
                        "test": [
                          1.595637154
                        ]
                      },
                      {
                        "learn": [
                          1.595267681
                        ],
                        "iteration": 66,
                        "passed_time": 1.150652384,
                        "remaining_time": 2.284130851,
                        "test": [
                          1.595433343
                        ]
                      },
                      {
                        "learn": [
                          1.595089816
                        ],
                        "iteration": 67,
                        "passed_time": 1.167284186,
                        "remaining_time": 2.265904596,
                        "test": [
                          1.595262457
                        ]
                      },
                      {
                        "learn": [
                          1.594888719
                        ],
                        "iteration": 68,
                        "passed_time": 1.184108527,
                        "remaining_time": 2.248090101,
                        "test": [
                          1.595065499
                        ]
                      },
                      {
                        "learn": [
                          1.594687444
                        ],
                        "iteration": 69,
                        "passed_time": 1.20119355,
                        "remaining_time": 2.230788021,
                        "test": [
                          1.59486765
                        ]
                      },
                      {
                        "learn": [
                          1.594491823
                        ],
                        "iteration": 70,
                        "passed_time": 1.219352851,
                        "remaining_time": 2.215443913,
                        "test": [
                          1.594672414
                        ]
                      },
                      {
                        "learn": [
                          1.59431682
                        ],
                        "iteration": 71,
                        "passed_time": 1.239838295,
                        "remaining_time": 2.20415697,
                        "test": [
                          1.594500565
                        ]
                      },
                      {
                        "learn": [
                          1.594118655
                        ],
                        "iteration": 72,
                        "passed_time": 1.257580876,
                        "remaining_time": 2.187846181,
                        "test": [
                          1.594303901
                        ]
                      },
                      {
                        "learn": [
                          1.593916602
                        ],
                        "iteration": 73,
                        "passed_time": 1.273871265,
                        "remaining_time": 2.169024045,
                        "test": [
                          1.594106332
                        ]
                      },
                      {
                        "learn": [
                          1.59371657
                        ],
                        "iteration": 74,
                        "passed_time": 1.292517149,
                        "remaining_time": 2.154195248,
                        "test": [
                          1.593911238
                        ]
                      },
                      {
                        "learn": [
                          1.593507145
                        ],
                        "iteration": 75,
                        "passed_time": 1.310494425,
                        "remaining_time": 2.138175115,
                        "test": [
                          1.593704536
                        ]
                      },
                      {
                        "learn": [
                          1.593312098
                        ],
                        "iteration": 76,
                        "passed_time": 1.325862662,
                        "remaining_time": 2.11793646,
                        "test": [
                          1.593514083
                        ]
                      },
                      {
                        "learn": [
                          1.593116805
                        ],
                        "iteration": 77,
                        "passed_time": 1.34124079,
                        "remaining_time": 2.097838159,
                        "test": [
                          1.593322877
                        ]
                      },
                      {
                        "learn": [
                          1.592927489
                        ],
                        "iteration": 78,
                        "passed_time": 1.356335752,
                        "remaining_time": 2.077425646,
                        "test": [
                          1.59313638
                        ]
                      },
                      {
                        "learn": [
                          1.592721804
                        ],
                        "iteration": 79,
                        "passed_time": 1.372025436,
                        "remaining_time": 2.058038154,
                        "test": [
                          1.59293063
                        ]
                      },
                      {
                        "learn": [
                          1.592523368
                        ],
                        "iteration": 80,
                        "passed_time": 1.388188086,
                        "remaining_time": 2.039436818,
                        "test": [
                          1.592735358
                        ]
                      },
                      {
                        "learn": [
                          1.592317459
                        ],
                        "iteration": 81,
                        "passed_time": 1.403951812,
                        "remaining_time": 2.0203209,
                        "test": [
                          1.592530386
                        ]
                      },
                      {
                        "learn": [
                          1.592129401
                        ],
                        "iteration": 82,
                        "passed_time": 1.418995679,
                        "remaining_time": 2.000271018,
                        "test": [
                          1.592346201
                        ]
                      },
                      {
                        "learn": [
                          1.591935883
                        ],
                        "iteration": 83,
                        "passed_time": 1.445003116,
                        "remaining_time": 1.995480494,
                        "test": [
                          1.592157795
                        ]
                      },
                      {
                        "learn": [
                          1.591726552
                        ],
                        "iteration": 84,
                        "passed_time": 1.46934529,
                        "remaining_time": 1.987937746,
                        "test": [
                          1.591952463
                        ]
                      },
                      {
                        "learn": [
                          1.591539502
                        ],
                        "iteration": 85,
                        "passed_time": 1.484996091,
                        "remaining_time": 1.96848319,
                        "test": [
                          1.591769271
                        ]
                      },
                      {
                        "learn": [
                          1.591349125
                        ],
                        "iteration": 86,
                        "passed_time": 1.501690892,
                        "remaining_time": 1.950472079,
                        "test": [
                          1.591581391
                        ]
                      },
                      {
                        "learn": [
                          1.59115172
                        ],
                        "iteration": 87,
                        "passed_time": 1.517877225,
                        "remaining_time": 1.931843741,
                        "test": [
                          1.591387105
                        ]
                      },
                      {
                        "learn": [
                          1.590956208
                        ],
                        "iteration": 88,
                        "passed_time": 1.533103105,
                        "remaining_time": 1.912072412,
                        "test": [
                          1.59119132
                        ]
                      },
                      {
                        "learn": [
                          1.590768982
                        ],
                        "iteration": 89,
                        "passed_time": 1.556156171,
                        "remaining_time": 1.901968653,
                        "test": [
                          1.591011461
                        ]
                      },
                      {
                        "learn": [
                          1.590564238
                        ],
                        "iteration": 90,
                        "passed_time": 1.602292732,
                        "remaining_time": 1.919229756,
                        "test": [
                          1.59081051
                        ]
                      },
                      {
                        "learn": [
                          1.590376534
                        ],
                        "iteration": 91,
                        "passed_time": 1.618811611,
                        "remaining_time": 1.900344065,
                        "test": [
                          1.590626221
                        ]
                      },
                      {
                        "learn": [
                          1.590174863
                        ],
                        "iteration": 92,
                        "passed_time": 1.63597253,
                        "remaining_time": 1.882247964,
                        "test": [
                          1.590427284
                        ]
                      },
                      {
                        "learn": [
                          1.589991748
                        ],
                        "iteration": 93,
                        "passed_time": 1.657388133,
                        "remaining_time": 1.868969597,
                        "test": [
                          1.590249856
                        ]
                      },
                      {
                        "learn": [
                          1.589808547
                        ],
                        "iteration": 94,
                        "passed_time": 1.67332774,
                        "remaining_time": 1.849467503,
                        "test": [
                          1.590069932
                        ]
                      },
                      {
                        "learn": [
                          1.589608123
                        ],
                        "iteration": 95,
                        "passed_time": 1.688250489,
                        "remaining_time": 1.82893803,
                        "test": [
                          1.589873453
                        ]
                      },
                      {
                        "learn": [
                          1.589421193
                        ],
                        "iteration": 96,
                        "passed_time": 1.703574948,
                        "remaining_time": 1.808950718,
                        "test": [
                          1.58968815
                        ]
                      },
                      {
                        "learn": [
                          1.589236148
                        ],
                        "iteration": 97,
                        "passed_time": 1.719523301,
                        "remaining_time": 1.789707926,
                        "test": [
                          1.589502786
                        ]
                      },
                      {
                        "learn": [
                          1.589040895
                        ],
                        "iteration": 98,
                        "passed_time": 1.735595871,
                        "remaining_time": 1.770658414,
                        "test": [
                          1.58930742
                        ]
                      },
                      {
                        "learn": [
                          1.588854489
                        ],
                        "iteration": 99,
                        "passed_time": 1.752192378,
                        "remaining_time": 1.752192378,
                        "test": [
                          1.589129886
                        ]
                      },
                      {
                        "learn": [
                          1.588670895
                        ],
                        "iteration": 100,
                        "passed_time": 1.767730167,
                        "remaining_time": 1.73272561,
                        "test": [
                          1.588949937
                        ]
                      },
                      {
                        "learn": [
                          1.588482351
                        ],
                        "iteration": 101,
                        "passed_time": 1.784039925,
                        "remaining_time": 1.714077575,
                        "test": [
                          1.588766473
                        ]
                      },
                      {
                        "learn": [
                          1.588290466
                        ],
                        "iteration": 102,
                        "passed_time": 1.800582055,
                        "remaining_time": 1.69569378,
                        "test": [
                          1.588576102
                        ]
                      },
                      {
                        "learn": [
                          1.588105614
                        ],
                        "iteration": 103,
                        "passed_time": 1.816789012,
                        "remaining_time": 1.677036011,
                        "test": [
                          1.588393434
                        ]
                      },
                      {
                        "learn": [
                          1.587923366
                        ],
                        "iteration": 104,
                        "passed_time": 1.838111716,
                        "remaining_time": 1.663053458,
                        "test": [
                          1.588214497
                        ]
                      },
                      {
                        "learn": [
                          1.587729681
                        ],
                        "iteration": 105,
                        "passed_time": 1.853306745,
                        "remaining_time": 1.643498434,
                        "test": [
                          1.588022605
                        ]
                      },
                      {
                        "learn": [
                          1.587539747
                        ],
                        "iteration": 106,
                        "passed_time": 1.872900029,
                        "remaining_time": 1.627847688,
                        "test": [
                          1.587835609
                        ]
                      },
                      {
                        "learn": [
                          1.587362984
                        ],
                        "iteration": 107,
                        "passed_time": 1.887619351,
                        "remaining_time": 1.60797204,
                        "test": [
                          1.587661228
                        ]
                      },
                      {
                        "learn": [
                          1.587168569
                        ],
                        "iteration": 108,
                        "passed_time": 1.902957454,
                        "remaining_time": 1.588707599,
                        "test": [
                          1.587472556
                        ]
                      },
                      {
                        "learn": [
                          1.586987403
                        ],
                        "iteration": 109,
                        "passed_time": 1.920401156,
                        "remaining_time": 1.571237309,
                        "test": [
                          1.587299262
                        ]
                      },
                      {
                        "learn": [
                          1.586809474
                        ],
                        "iteration": 110,
                        "passed_time": 1.935379164,
                        "remaining_time": 1.551790501,
                        "test": [
                          1.587120931
                        ]
                      },
                      {
                        "learn": [
                          1.586620459
                        ],
                        "iteration": 111,
                        "passed_time": 1.950876371,
                        "remaining_time": 1.532831434,
                        "test": [
                          1.586933007
                        ]
                      },
                      {
                        "learn": [
                          1.586441856
                        ],
                        "iteration": 112,
                        "passed_time": 1.966733453,
                        "remaining_time": 1.514210712,
                        "test": [
                          1.586757054
                        ]
                      },
                      {
                        "learn": [
                          1.586262467
                        ],
                        "iteration": 113,
                        "passed_time": 1.981988422,
                        "remaining_time": 1.495184248,
                        "test": [
                          1.586578856
                        ]
                      },
                      {
                        "learn": [
                          1.586082441
                        ],
                        "iteration": 114,
                        "passed_time": 1.997783,
                        "remaining_time": 1.476622218,
                        "test": [
                          1.586402132
                        ]
                      },
                      {
                        "learn": [
                          1.585889896
                        ],
                        "iteration": 115,
                        "passed_time": 2.01277571,
                        "remaining_time": 1.457527238,
                        "test": [
                          1.5862104
                        ]
                      },
                      {
                        "learn": [
                          1.585716067
                        ],
                        "iteration": 116,
                        "passed_time": 2.02844444,
                        "remaining_time": 1.438981953,
                        "test": [
                          1.586037769
                        ]
                      },
                      {
                        "learn": [
                          1.585533875
                        ],
                        "iteration": 117,
                        "passed_time": 2.04310793,
                        "remaining_time": 1.419786867,
                        "test": [
                          1.585855769
                        ]
                      },
                      {
                        "learn": [
                          1.585353257
                        ],
                        "iteration": 118,
                        "passed_time": 2.065879972,
                        "remaining_time": 1.406187208,
                        "test": [
                          1.585680012
                        ]
                      },
                      {
                        "learn": [
                          1.585176145
                        ],
                        "iteration": 119,
                        "passed_time": 2.081366558,
                        "remaining_time": 1.387577706,
                        "test": [
                          1.585505372
                        ]
                      },
                      {
                        "learn": [
                          1.584983144
                        ],
                        "iteration": 120,
                        "passed_time": 2.098360609,
                        "remaining_time": 1.370004034,
                        "test": [
                          1.585311846
                        ]
                      },
                      {
                        "learn": [
                          1.584805046
                        ],
                        "iteration": 121,
                        "passed_time": 2.122473241,
                        "remaining_time": 1.356991088,
                        "test": [
                          1.585138079
                        ]
                      },
                      {
                        "learn": [
                          1.58462333
                        ],
                        "iteration": 122,
                        "passed_time": 2.142027706,
                        "remaining_time": 1.340944173,
                        "test": [
                          1.584959426
                        ]
                      },
                      {
                        "learn": [
                          1.58443802
                        ],
                        "iteration": 123,
                        "passed_time": 2.156704914,
                        "remaining_time": 1.321851399,
                        "test": [
                          1.584773816
                        ]
                      },
                      {
                        "learn": [
                          1.584254725
                        ],
                        "iteration": 124,
                        "passed_time": 2.171452309,
                        "remaining_time": 1.302871385,
                        "test": [
                          1.584594115
                        ]
                      },
                      {
                        "learn": [
                          1.584067765
                        ],
                        "iteration": 125,
                        "passed_time": 2.186794832,
                        "remaining_time": 1.284308076,
                        "test": [
                          1.584408635
                        ]
                      },
                      {
                        "learn": [
                          1.583895028
                        ],
                        "iteration": 126,
                        "passed_time": 2.201163531,
                        "remaining_time": 1.265235731,
                        "test": [
                          1.584239115
                        ]
                      },
                      {
                        "learn": [
                          1.583717593
                        ],
                        "iteration": 127,
                        "passed_time": 2.216879613,
                        "remaining_time": 1.246994782,
                        "test": [
                          1.584066373
                        ]
                      },
                      {
                        "learn": [
                          1.583529877
                        ],
                        "iteration": 128,
                        "passed_time": 2.232330881,
                        "remaining_time": 1.228647229,
                        "test": [
                          1.583880438
                        ]
                      },
                      {
                        "learn": [
                          1.583360149
                        ],
                        "iteration": 129,
                        "passed_time": 2.24740402,
                        "remaining_time": 1.210140626,
                        "test": [
                          1.583715415
                        ]
                      },
                      {
                        "learn": [
                          1.583178473
                        ],
                        "iteration": 130,
                        "passed_time": 2.262168853,
                        "remaining_time": 1.191524052,
                        "test": [
                          1.583536956
                        ]
                      },
                      {
                        "learn": [
                          1.582999796
                        ],
                        "iteration": 131,
                        "passed_time": 2.282194894,
                        "remaining_time": 1.175676158,
                        "test": [
                          1.583360604
                        ]
                      },
                      {
                        "learn": [
                          1.582808249
                        ],
                        "iteration": 132,
                        "passed_time": 2.297781334,
                        "remaining_time": 1.157528943,
                        "test": [
                          1.583170473
                        ]
                      },
                      {
                        "learn": [
                          1.582639581
                        ],
                        "iteration": 133,
                        "passed_time": 2.311749891,
                        "remaining_time": 1.138623081,
                        "test": [
                          1.583002131
                        ]
                      },
                      {
                        "learn": [
                          1.582475607
                        ],
                        "iteration": 134,
                        "passed_time": 2.327003783,
                        "remaining_time": 1.120409229,
                        "test": [
                          1.582843819
                        ]
                      },
                      {
                        "learn": [
                          1.582286982
                        ],
                        "iteration": 135,
                        "passed_time": 2.341262724,
                        "remaining_time": 1.101770694,
                        "test": [
                          1.582657253
                        ]
                      },
                      {
                        "learn": [
                          1.582105562
                        ],
                        "iteration": 136,
                        "passed_time": 2.355866934,
                        "remaining_time": 1.083354867,
                        "test": [
                          1.58247819
                        ]
                      },
                      {
                        "learn": [
                          1.581934568
                        ],
                        "iteration": 137,
                        "passed_time": 2.370940375,
                        "remaining_time": 1.065205096,
                        "test": [
                          1.5823089
                        ]
                      },
                      {
                        "learn": [
                          1.581760891
                        ],
                        "iteration": 138,
                        "passed_time": 2.386545805,
                        "remaining_time": 1.047333051,
                        "test": [
                          1.582136196
                        ]
                      },
                      {
                        "learn": [
                          1.581589617
                        ],
                        "iteration": 139,
                        "passed_time": 2.400971867,
                        "remaining_time": 1.028987943,
                        "test": [
                          1.581968927
                        ]
                      },
                      {
                        "learn": [
                          1.581412053
                        ],
                        "iteration": 140,
                        "passed_time": 2.416404622,
                        "remaining_time": 1.011119665,
                        "test": [
                          1.58179429
                        ]
                      },
                      {
                        "learn": [
                          1.581232401
                        ],
                        "iteration": 141,
                        "passed_time": 2.43233492,
                        "remaining_time": 0.9934889111,
                        "test": [
                          1.581619143
                        ]
                      },
                      {
                        "learn": [
                          1.581056376
                        ],
                        "iteration": 142,
                        "passed_time": 2.470220152,
                        "remaining_time": 0.9846332074,
                        "test": [
                          1.581445561
                        ]
                      },
                      {
                        "learn": [
                          1.580885867
                        ],
                        "iteration": 143,
                        "passed_time": 2.48664233,
                        "remaining_time": 0.9670275726,
                        "test": [
                          1.581279627
                        ]
                      },
                      {
                        "learn": [
                          1.58071113
                        ],
                        "iteration": 144,
                        "passed_time": 2.50192298,
                        "remaining_time": 0.9490052684,
                        "test": [
                          1.581107914
                        ]
                      },
                      {
                        "learn": [
                          1.580534586
                        ],
                        "iteration": 145,
                        "passed_time": 2.519984887,
                        "remaining_time": 0.9320492048,
                        "test": [
                          1.580931961
                        ]
                      },
                      {
                        "learn": [
                          1.580365239
                        ],
                        "iteration": 146,
                        "passed_time": 2.538241937,
                        "remaining_time": 0.9151484533,
                        "test": [
                          1.580766078
                        ]
                      },
                      {
                        "learn": [
                          1.580183585
                        ],
                        "iteration": 147,
                        "passed_time": 2.576870262,
                        "remaining_time": 0.9053868488,
                        "test": [
                          1.580582334
                        ]
                      },
                      {
                        "learn": [
                          1.580001888
                        ],
                        "iteration": 148,
                        "passed_time": 2.595445481,
                        "remaining_time": 0.8883739565,
                        "test": [
                          1.580403261
                        ]
                      },
                      {
                        "learn": [
                          1.579834492
                        ],
                        "iteration": 149,
                        "passed_time": 2.61085075,
                        "remaining_time": 0.8702835834,
                        "test": [
                          1.580237255
                        ]
                      },
                      {
                        "learn": [
                          1.579667653
                        ],
                        "iteration": 150,
                        "passed_time": 2.626212098,
                        "remaining_time": 0.8522145218,
                        "test": [
                          1.580072148
                        ]
                      },
                      {
                        "learn": [
                          1.579497409
                        ],
                        "iteration": 151,
                        "passed_time": 2.641192109,
                        "remaining_time": 0.834060666,
                        "test": [
                          1.579902396
                        ]
                      },
                      {
                        "learn": [
                          1.579330346
                        ],
                        "iteration": 152,
                        "passed_time": 2.657198613,
                        "remaining_time": 0.8162636264,
                        "test": [
                          1.579738913
                        ]
                      },
                      {
                        "learn": [
                          1.579155483
                        ],
                        "iteration": 153,
                        "passed_time": 2.676566728,
                        "remaining_time": 0.7994939576,
                        "test": [
                          1.579564327
                        ]
                      },
                      {
                        "learn": [
                          1.57897838
                        ],
                        "iteration": 154,
                        "passed_time": 2.69300039,
                        "remaining_time": 0.781838823,
                        "test": [
                          1.579391778
                        ]
                      },
                      {
                        "learn": [
                          1.578809432
                        ],
                        "iteration": 155,
                        "passed_time": 2.708498893,
                        "remaining_time": 0.7639355853,
                        "test": [
                          1.579224519
                        ]
                      },
                      {
                        "learn": [
                          1.578636803
                        ],
                        "iteration": 156,
                        "passed_time": 2.723341883,
                        "remaining_time": 0.7458834456,
                        "test": [
                          1.579055189
                        ]
                      },
                      {
                        "learn": [
                          1.578470798
                        ],
                        "iteration": 157,
                        "passed_time": 2.738283029,
                        "remaining_time": 0.7278980204,
                        "test": [
                          1.578889503
                        ]
                      },
                      {
                        "learn": [
                          1.578290129
                        ],
                        "iteration": 158,
                        "passed_time": 2.753309289,
                        "remaining_time": 0.7099728354,
                        "test": [
                          1.578707672
                        ]
                      },
                      {
                        "learn": [
                          1.578116947
                        ],
                        "iteration": 159,
                        "passed_time": 2.768744176,
                        "remaining_time": 0.6921860441,
                        "test": [
                          1.578535901
                        ]
                      },
                      {
                        "learn": [
                          1.577942846
                        ],
                        "iteration": 160,
                        "passed_time": 2.784708485,
                        "remaining_time": 0.6745567139,
                        "test": [
                          1.578363496
                        ]
                      },
                      {
                        "learn": [
                          1.577767055
                        ],
                        "iteration": 161,
                        "passed_time": 2.808543164,
                        "remaining_time": 0.6587940756,
                        "test": [
                          1.578187839
                        ]
                      },
                      {
                        "learn": [
                          1.577597245
                        ],
                        "iteration": 162,
                        "passed_time": 2.825130093,
                        "remaining_time": 0.641287199,
                        "test": [
                          1.578021759
                        ]
                      },
                      {
                        "learn": [
                          1.577417326
                        ],
                        "iteration": 163,
                        "passed_time": 2.840800296,
                        "remaining_time": 0.6235903089,
                        "test": [
                          1.577844316
                        ]
                      },
                      {
                        "learn": [
                          1.577256445
                        ],
                        "iteration": 164,
                        "passed_time": 2.85659335,
                        "remaining_time": 0.605944044,
                        "test": [
                          1.577686863
                        ]
                      },
                      {
                        "learn": [
                          1.577095596
                        ],
                        "iteration": 165,
                        "passed_time": 2.872639003,
                        "remaining_time": 0.588371844,
                        "test": [
                          1.577528967
                        ]
                      },
                      {
                        "learn": [
                          1.576937839
                        ],
                        "iteration": 166,
                        "passed_time": 2.894008505,
                        "remaining_time": 0.5718699441,
                        "test": [
                          1.577376196
                        ]
                      },
                      {
                        "learn": [
                          1.576773752
                        ],
                        "iteration": 167,
                        "passed_time": 2.910373168,
                        "remaining_time": 0.554356794,
                        "test": [
                          1.577217414
                        ]
                      },
                      {
                        "learn": [
                          1.576607359
                        ],
                        "iteration": 168,
                        "passed_time": 2.926720383,
                        "remaining_time": 0.5368540347,
                        "test": [
                          1.577053647
                        ]
                      },
                      {
                        "learn": [
                          1.576432943
                        ],
                        "iteration": 169,
                        "passed_time": 2.943228272,
                        "remaining_time": 0.5193932245,
                        "test": [
                          1.576881586
                        ]
                      },
                      {
                        "learn": [
                          1.576260708
                        ],
                        "iteration": 170,
                        "passed_time": 2.959195481,
                        "remaining_time": 0.5018518652,
                        "test": [
                          1.576709447
                        ]
                      },
                      {
                        "learn": [
                          1.576086094
                        ],
                        "iteration": 171,
                        "passed_time": 2.97606493,
                        "remaining_time": 0.4844756863,
                        "test": [
                          1.576535446
                        ]
                      },
                      {
                        "learn": [
                          1.575915592
                        ],
                        "iteration": 172,
                        "passed_time": 2.991787475,
                        "remaining_time": 0.4669263689,
                        "test": [
                          1.576365696
                        ]
                      },
                      {
                        "learn": [
                          1.575750297
                        ],
                        "iteration": 173,
                        "passed_time": 3.008112642,
                        "remaining_time": 0.449488096,
                        "test": [
                          1.576203016
                        ]
                      },
                      {
                        "learn": [
                          1.575579405
                        ],
                        "iteration": 174,
                        "passed_time": 3.024146878,
                        "remaining_time": 0.4320209826,
                        "test": [
                          1.576034242
                        ]
                      },
                      {
                        "learn": [
                          1.575418102
                        ],
                        "iteration": 175,
                        "passed_time": 3.03986826,
                        "remaining_time": 0.41452749,
                        "test": [
                          1.57587682
                        ]
                      },
                      {
                        "learn": [
                          1.575258916
                        ],
                        "iteration": 176,
                        "passed_time": 3.056010322,
                        "remaining_time": 0.3971086859,
                        "test": [
                          1.575721553
                        ]
                      },
                      {
                        "learn": [
                          1.575088832
                        ],
                        "iteration": 177,
                        "passed_time": 3.072354216,
                        "remaining_time": 0.3797291728,
                        "test": [
                          1.575555231
                        ]
                      },
                      {
                        "learn": [
                          1.57494115
                        ],
                        "iteration": 178,
                        "passed_time": 3.088210738,
                        "remaining_time": 0.3623040531,
                        "test": [
                          1.575410399
                        ]
                      },
                      {
                        "learn": [
                          1.57478216
                        ],
                        "iteration": 179,
                        "passed_time": 3.11149197,
                        "remaining_time": 0.34572133,
                        "test": [
                          1.575254618
                        ]
                      },
                      {
                        "learn": [
                          1.574602134
                        ],
                        "iteration": 180,
                        "passed_time": 3.128262078,
                        "remaining_time": 0.3283811021,
                        "test": [
                          1.57507505
                        ]
                      },
                      {
                        "learn": [
                          1.574440645
                        ],
                        "iteration": 181,
                        "passed_time": 3.144474968,
                        "remaining_time": 0.3109920298,
                        "test": [
                          1.574916012
                        ]
                      },
                      {
                        "learn": [
                          1.574280319
                        ],
                        "iteration": 182,
                        "passed_time": 3.16112482,
                        "remaining_time": 0.2936564041,
                        "test": [
                          1.574758784
                        ]
                      },
                      {
                        "learn": [
                          1.574116687
                        ],
                        "iteration": 183,
                        "passed_time": 3.178297727,
                        "remaining_time": 0.2763737154,
                        "test": [
                          1.574599204
                        ]
                      },
                      {
                        "learn": [
                          1.57395665
                        ],
                        "iteration": 184,
                        "passed_time": 3.199991817,
                        "remaining_time": 0.2594587959,
                        "test": [
                          1.574441493
                        ]
                      },
                      {
                        "learn": [
                          1.573796094
                        ],
                        "iteration": 185,
                        "passed_time": 3.233750546,
                        "remaining_time": 0.2434005788,
                        "test": [
                          1.574283019
                        ]
                      },
                      {
                        "learn": [
                          1.573638604
                        ],
                        "iteration": 186,
                        "passed_time": 3.268364211,
                        "remaining_time": 0.2272124853,
                        "test": [
                          1.574126349
                        ]
                      },
                      {
                        "learn": [
                          1.573477343
                        ],
                        "iteration": 187,
                        "passed_time": 3.297618241,
                        "remaining_time": 0.2104862707,
                        "test": [
                          1.573968786
                        ]
                      },
                      {
                        "learn": [
                          1.573314247
                        ],
                        "iteration": 188,
                        "passed_time": 3.337167021,
                        "remaining_time": 0.194226652,
                        "test": [
                          1.573810057
                        ]
                      },
                      {
                        "learn": [
                          1.57315698
                        ],
                        "iteration": 189,
                        "passed_time": 3.366617676,
                        "remaining_time": 0.177190404,
                        "test": [
                          1.573656986
                        ]
                      },
                      {
                        "learn": [
                          1.572989628
                        ],
                        "iteration": 190,
                        "passed_time": 3.403135905,
                        "remaining_time": 0.1603571893,
                        "test": [
                          1.573491597
                        ]
                      },
                      {
                        "learn": [
                          1.572819181
                        ],
                        "iteration": 191,
                        "passed_time": 3.430140013,
                        "remaining_time": 0.1429225005,
                        "test": [
                          1.573323373
                        ]
                      },
                      {
                        "learn": [
                          1.572655364
                        ],
                        "iteration": 192,
                        "passed_time": 3.46023521,
                        "remaining_time": 0.1255007589,
                        "test": [
                          1.573160354
                        ]
                      },
                      {
                        "learn": [
                          1.572509625
                        ],
                        "iteration": 193,
                        "passed_time": 3.490472057,
                        "remaining_time": 0.107952744,
                        "test": [
                          1.573017044
                        ]
                      },
                      {
                        "learn": [
                          1.572357858
                        ],
                        "iteration": 194,
                        "passed_time": 3.520428471,
                        "remaining_time": 0.09026739668,
                        "test": [
                          1.572867553
                        ]
                      },
                      {
                        "learn": [
                          1.572201587
                        ],
                        "iteration": 195,
                        "passed_time": 3.576664774,
                        "remaining_time": 0.07299315864,
                        "test": [
                          1.572712041
                        ]
                      },
                      {
                        "learn": [
                          1.572035958
                        ],
                        "iteration": 196,
                        "passed_time": 3.628896548,
                        "remaining_time": 0.05526238398,
                        "test": [
                          1.572550417
                        ]
                      },
                      {
                        "learn": [
                          1.57186591
                        ],
                        "iteration": 197,
                        "passed_time": 3.667805776,
                        "remaining_time": 0.03704854319,
                        "test": [
                          1.572380077
                        ]
                      },
                      {
                        "learn": [
                          1.571707428
                        ],
                        "iteration": 198,
                        "passed_time": 3.696724901,
                        "remaining_time": 0.01857650704,
                        "test": [
                          1.572224581
                        ]
                      },
                      {
                        "learn": [
                          1.571549689
                        ],
                        "iteration": 199,
                        "passed_time": 3.725323443,
                        "remaining_time": 0,
                        "test": [
                          1.572070262
                        ]
                      }
                    ],
                    "meta": {
                      "test_sets": [
                        "test"
                      ],
                      "test_metrics": [
                        {
                          "best_value": "Min",
                          "name": "MultiClass"
                        }
                      ],
                      "learn_metrics": [
                        {
                          "best_value": "Min",
                          "name": "MultiClass"
                        }
                      ],
                      "launch_mode": "Train",
                      "parameters": "",
                      "iteration_count": 200,
                      "learn_sets": [
                        "learn"
                      ],
                      "name": "experiment"
                    }
                  }
                }
              },
              "catboost_info/fold-2": {
                "path": "catboost_info/fold-2",
                "name": "fold-2",
                "content": {
                  "passed_iterations": 199,
                  "total_iterations": 200,
                  "data": {
                    "iterations": [
                      {
                        "learn": [
                          1.60919957
                        ],
                        "iteration": 0,
                        "passed_time": 0.03059258186,
                        "remaining_time": 6.08792379,
                        "test": [
                          1.609202725
                        ]
                      },
                      {
                        "learn": [
                          1.608978915
                        ],
                        "iteration": 1,
                        "passed_time": 0.06822343816,
                        "remaining_time": 6.754120378,
                        "test": [
                          1.608983975
                        ]
                      },
                      {
                        "learn": [
                          1.608765191
                        ],
                        "iteration": 2,
                        "passed_time": 0.09693384224,
                        "remaining_time": 6.365322307,
                        "test": [
                          1.6087768
                        ]
                      },
                      {
                        "learn": [
                          1.608545755
                        ],
                        "iteration": 3,
                        "passed_time": 0.1238229664,
                        "remaining_time": 6.067325354,
                        "test": [
                          1.608563019
                        ]
                      },
                      {
                        "learn": [
                          1.608324733
                        ],
                        "iteration": 4,
                        "passed_time": 0.1545622895,
                        "remaining_time": 6.02792929,
                        "test": [
                          1.608346266
                        ]
                      },
                      {
                        "learn": [
                          1.608100531
                        ],
                        "iteration": 5,
                        "passed_time": 0.1842753904,
                        "remaining_time": 5.958237622,
                        "test": [
                          1.608130795
                        ]
                      },
                      {
                        "learn": [
                          1.607869013
                        ],
                        "iteration": 6,
                        "passed_time": 0.2117516681,
                        "remaining_time": 5.838295993,
                        "test": [
                          1.607903505
                        ]
                      },
                      {
                        "learn": [
                          1.607646409
                        ],
                        "iteration": 7,
                        "passed_time": 0.247186324,
                        "remaining_time": 5.932471775,
                        "test": [
                          1.607686953
                        ]
                      },
                      {
                        "learn": [
                          1.607418992
                        ],
                        "iteration": 8,
                        "passed_time": 0.2770317982,
                        "remaining_time": 5.879230383,
                        "test": [
                          1.607463425
                        ]
                      },
                      {
                        "learn": [
                          1.607199781
                        ],
                        "iteration": 9,
                        "passed_time": 0.2968606648,
                        "remaining_time": 5.640352632,
                        "test": [
                          1.607246805
                        ]
                      },
                      {
                        "learn": [
                          1.606987254
                        ],
                        "iteration": 10,
                        "passed_time": 0.3258447821,
                        "remaining_time": 5.598605802,
                        "test": [
                          1.607040324
                        ]
                      },
                      {
                        "learn": [
                          1.606762645
                        ],
                        "iteration": 11,
                        "passed_time": 0.3552441276,
                        "remaining_time": 5.565491333,
                        "test": [
                          1.606816935
                        ]
                      },
                      {
                        "learn": [
                          1.606545484
                        ],
                        "iteration": 12,
                        "passed_time": 0.3936650149,
                        "remaining_time": 5.662719829,
                        "test": [
                          1.606604724
                        ]
                      },
                      {
                        "learn": [
                          1.606335025
                        ],
                        "iteration": 13,
                        "passed_time": 0.4225248795,
                        "remaining_time": 5.613544828,
                        "test": [
                          1.606398064
                        ]
                      },
                      {
                        "learn": [
                          1.606104057
                        ],
                        "iteration": 14,
                        "passed_time": 0.4590489356,
                        "remaining_time": 5.661603539,
                        "test": [
                          1.606171042
                        ]
                      },
                      {
                        "learn": [
                          1.605908016
                        ],
                        "iteration": 15,
                        "passed_time": 0.4895416325,
                        "remaining_time": 5.629728774,
                        "test": [
                          1.605978938
                        ]
                      },
                      {
                        "learn": [
                          1.605692685
                        ],
                        "iteration": 16,
                        "passed_time": 0.5165577873,
                        "remaining_time": 5.560592652,
                        "test": [
                          1.605768792
                        ]
                      },
                      {
                        "learn": [
                          1.605475606
                        ],
                        "iteration": 17,
                        "passed_time": 0.5432579929,
                        "remaining_time": 5.492941928,
                        "test": [
                          1.605553371
                        ]
                      },
                      {
                        "learn": [
                          1.605247169
                        ],
                        "iteration": 18,
                        "passed_time": 0.5728178966,
                        "remaining_time": 5.456844173,
                        "test": [
                          1.605329349
                        ]
                      },
                      {
                        "learn": [
                          1.605030007
                        ],
                        "iteration": 19,
                        "passed_time": 0.6031048428,
                        "remaining_time": 5.427943585,
                        "test": [
                          1.605114924
                        ]
                      },
                      {
                        "learn": [
                          1.604820908
                        ],
                        "iteration": 20,
                        "passed_time": 0.6331173679,
                        "remaining_time": 5.396571851,
                        "test": [
                          1.604913129
                        ]
                      },
                      {
                        "learn": [
                          1.604604912
                        ],
                        "iteration": 21,
                        "passed_time": 0.6666180125,
                        "remaining_time": 5.393545737,
                        "test": [
                          1.604699023
                        ]
                      },
                      {
                        "learn": [
                          1.604381914
                        ],
                        "iteration": 22,
                        "passed_time": 0.701910447,
                        "remaining_time": 5.401658657,
                        "test": [
                          1.604486138
                        ]
                      },
                      {
                        "learn": [
                          1.604160775
                        ],
                        "iteration": 23,
                        "passed_time": 0.7332830359,
                        "remaining_time": 5.37740893,
                        "test": [
                          1.604267947
                        ]
                      },
                      {
                        "learn": [
                          1.603942703
                        ],
                        "iteration": 24,
                        "passed_time": 0.7612178687,
                        "remaining_time": 5.328525081,
                        "test": [
                          1.60405489
                        ]
                      },
                      {
                        "learn": [
                          1.603714749
                        ],
                        "iteration": 25,
                        "passed_time": 0.8109777589,
                        "remaining_time": 5.427312694,
                        "test": [
                          1.603833372
                        ]
                      },
                      {
                        "learn": [
                          1.603504551
                        ],
                        "iteration": 26,
                        "passed_time": 0.8524844061,
                        "remaining_time": 5.462214898,
                        "test": [
                          1.603626846
                        ]
                      },
                      {
                        "learn": [
                          1.603287503
                        ],
                        "iteration": 27,
                        "passed_time": 0.8881384669,
                        "remaining_time": 5.455707725,
                        "test": [
                          1.603417844
                        ]
                      },
                      {
                        "learn": [
                          1.603082075
                        ],
                        "iteration": 28,
                        "passed_time": 0.9172982072,
                        "remaining_time": 5.408896325,
                        "test": [
                          1.603218153
                        ]
                      },
                      {
                        "learn": [
                          1.602868902
                        ],
                        "iteration": 29,
                        "passed_time": 0.955162685,
                        "remaining_time": 5.412588549,
                        "test": [
                          1.603009885
                        ]
                      },
                      {
                        "learn": [
                          1.602648485
                        ],
                        "iteration": 30,
                        "passed_time": 0.9923913474,
                        "remaining_time": 5.410133474,
                        "test": [
                          1.602793564
                        ]
                      },
                      {
                        "learn": [
                          1.602442738
                        ],
                        "iteration": 31,
                        "passed_time": 1.033058436,
                        "remaining_time": 5.42355679,
                        "test": [
                          1.602590752
                        ]
                      },
                      {
                        "learn": [
                          1.602236751
                        ],
                        "iteration": 32,
                        "passed_time": 1.070491167,
                        "remaining_time": 5.417334087,
                        "test": [
                          1.602390602
                        ]
                      },
                      {
                        "learn": [
                          1.602018383
                        ],
                        "iteration": 33,
                        "passed_time": 1.103090777,
                        "remaining_time": 5.385678499,
                        "test": [
                          1.602176166
                        ]
                      },
                      {
                        "learn": [
                          1.601814091
                        ],
                        "iteration": 34,
                        "passed_time": 1.139021175,
                        "remaining_time": 5.369671253,
                        "test": [
                          1.601976937
                        ]
                      },
                      {
                        "learn": [
                          1.601602663
                        ],
                        "iteration": 35,
                        "passed_time": 1.176039307,
                        "remaining_time": 5.3575124,
                        "test": [
                          1.601766459
                        ]
                      },
                      {
                        "learn": [
                          1.601399509
                        ],
                        "iteration": 36,
                        "passed_time": 1.203197317,
                        "remaining_time": 5.300571965,
                        "test": [
                          1.601567036
                        ]
                      },
                      {
                        "learn": [
                          1.601194325
                        ],
                        "iteration": 37,
                        "passed_time": 1.231334561,
                        "remaining_time": 5.249373655,
                        "test": [
                          1.601366842
                        ]
                      },
                      {
                        "learn": [
                          1.600987966
                        ],
                        "iteration": 38,
                        "passed_time": 1.260963044,
                        "remaining_time": 5.205514105,
                        "test": [
                          1.601163486
                        ]
                      },
                      {
                        "learn": [
                          1.600764475
                        ],
                        "iteration": 39,
                        "passed_time": 1.292023875,
                        "remaining_time": 5.168095501,
                        "test": [
                          1.600941461
                        ]
                      },
                      {
                        "learn": [
                          1.600550898
                        ],
                        "iteration": 40,
                        "passed_time": 1.329079571,
                        "remaining_time": 5.15423541,
                        "test": [
                          1.600733645
                        ]
                      },
                      {
                        "learn": [
                          1.600355248
                        ],
                        "iteration": 41,
                        "passed_time": 1.360651216,
                        "remaining_time": 5.118640288,
                        "test": [
                          1.600540993
                        ]
                      },
                      {
                        "learn": [
                          1.600157981
                        ],
                        "iteration": 42,
                        "passed_time": 1.388649264,
                        "remaining_time": 5.070184524,
                        "test": [
                          1.600344423
                        ]
                      },
                      {
                        "learn": [
                          1.599957847
                        ],
                        "iteration": 43,
                        "passed_time": 1.416900728,
                        "remaining_time": 5.023557126,
                        "test": [
                          1.60014886
                        ]
                      },
                      {
                        "learn": [
                          1.599750538
                        ],
                        "iteration": 44,
                        "passed_time": 1.445223333,
                        "remaining_time": 4.977991479,
                        "test": [
                          1.599947595
                        ]
                      },
                      {
                        "learn": [
                          1.599543617
                        ],
                        "iteration": 45,
                        "passed_time": 1.474004946,
                        "remaining_time": 4.93471221,
                        "test": [
                          1.599744512
                        ]
                      },
                      {
                        "learn": [
                          1.599328313
                        ],
                        "iteration": 46,
                        "passed_time": 1.501270398,
                        "remaining_time": 4.887114276,
                        "test": [
                          1.599531027
                        ]
                      },
                      {
                        "learn": [
                          1.599109211
                        ],
                        "iteration": 47,
                        "passed_time": 1.531706838,
                        "remaining_time": 4.850404987,
                        "test": [
                          1.599318127
                        ]
                      },
                      {
                        "learn": [
                          1.598903726
                        ],
                        "iteration": 48,
                        "passed_time": 1.560775595,
                        "remaining_time": 4.809737039,
                        "test": [
                          1.599119189
                        ]
                      },
                      {
                        "learn": [
                          1.598698444
                        ],
                        "iteration": 49,
                        "passed_time": 1.590580364,
                        "remaining_time": 4.771741092,
                        "test": [
                          1.598914725
                        ]
                      },
                      {
                        "learn": [
                          1.598497121
                        ],
                        "iteration": 50,
                        "passed_time": 1.617745938,
                        "remaining_time": 4.72635578,
                        "test": [
                          1.598715228
                        ]
                      },
                      {
                        "learn": [
                          1.598298168
                        ],
                        "iteration": 51,
                        "passed_time": 1.647209808,
                        "remaining_time": 4.688212529,
                        "test": [
                          1.598518846
                        ]
                      },
                      {
                        "learn": [
                          1.59809495
                        ],
                        "iteration": 52,
                        "passed_time": 1.680145171,
                        "remaining_time": 4.660025285,
                        "test": [
                          1.598321927
                        ]
                      },
                      {
                        "learn": [
                          1.597891991
                        ],
                        "iteration": 53,
                        "passed_time": 1.709440873,
                        "remaining_time": 4.62182162,
                        "test": [
                          1.598124451
                        ]
                      },
                      {
                        "learn": [
                          1.597680156
                        ],
                        "iteration": 54,
                        "passed_time": 1.752037095,
                        "remaining_time": 4.619006887,
                        "test": [
                          1.597914801
                        ]
                      },
                      {
                        "learn": [
                          1.597479286
                        ],
                        "iteration": 55,
                        "passed_time": 1.782051101,
                        "remaining_time": 4.582417116,
                        "test": [
                          1.597716371
                        ]
                      },
                      {
                        "learn": [
                          1.597281224
                        ],
                        "iteration": 56,
                        "passed_time": 1.825665436,
                        "remaining_time": 4.580178199,
                        "test": [
                          1.597522833
                        ]
                      },
                      {
                        "learn": [
                          1.597069567
                        ],
                        "iteration": 57,
                        "passed_time": 1.885836499,
                        "remaining_time": 4.617047981,
                        "test": [
                          1.597316495
                        ]
                      },
                      {
                        "learn": [
                          1.596864718
                        ],
                        "iteration": 58,
                        "passed_time": 1.91589262,
                        "remaining_time": 4.578658635,
                        "test": [
                          1.597116355
                        ]
                      },
                      {
                        "learn": [
                          1.596664847
                        ],
                        "iteration": 59,
                        "passed_time": 1.944284722,
                        "remaining_time": 4.536664352,
                        "test": [
                          1.59691931
                        ]
                      },
                      {
                        "learn": [
                          1.596464057
                        ],
                        "iteration": 60,
                        "passed_time": 1.982500195,
                        "remaining_time": 4.517500445,
                        "test": [
                          1.596721963
                        ]
                      },
                      {
                        "learn": [
                          1.596266214
                        ],
                        "iteration": 61,
                        "passed_time": 2.011209372,
                        "remaining_time": 4.476562795,
                        "test": [
                          1.596528506
                        ]
                      },
                      {
                        "learn": [
                          1.596066975
                        ],
                        "iteration": 62,
                        "passed_time": 2.041880202,
                        "remaining_time": 4.44027917,
                        "test": [
                          1.596336977
                        ]
                      },
                      {
                        "learn": [
                          1.595859752
                        ],
                        "iteration": 63,
                        "passed_time": 2.070968525,
                        "remaining_time": 4.400808116,
                        "test": [
                          1.596133962
                        ]
                      },
                      {
                        "learn": [
                          1.59566554
                        ],
                        "iteration": 64,
                        "passed_time": 2.099955455,
                        "remaining_time": 4.361445946,
                        "test": [
                          1.595942112
                        ]
                      },
                      {
                        "learn": [
                          1.595459901
                        ],
                        "iteration": 65,
                        "passed_time": 2.130173135,
                        "remaining_time": 4.32489697,
                        "test": [
                          1.595738121
                        ]
                      },
                      {
                        "learn": [
                          1.595257955
                        ],
                        "iteration": 66,
                        "passed_time": 2.159779185,
                        "remaining_time": 4.287322861,
                        "test": [
                          1.595541793
                        ]
                      },
                      {
                        "learn": [
                          1.595076206
                        ],
                        "iteration": 67,
                        "passed_time": 2.188674134,
                        "remaining_time": 4.24860273,
                        "test": [
                          1.59536341
                        ]
                      },
                      {
                        "learn": [
                          1.594880901
                        ],
                        "iteration": 68,
                        "passed_time": 2.223604132,
                        "remaining_time": 4.221625236,
                        "test": [
                          1.595169254
                        ]
                      },
                      {
                        "learn": [
                          1.594678319
                        ],
                        "iteration": 69,
                        "passed_time": 2.252375689,
                        "remaining_time": 4.182983422,
                        "test": [
                          1.594969359
                        ]
                      },
                      {
                        "learn": [
                          1.594478092
                        ],
                        "iteration": 70,
                        "passed_time": 2.275590236,
                        "remaining_time": 4.134523105,
                        "test": [
                          1.594772767
                        ]
                      },
                      {
                        "learn": [
                          1.594273955
                        ],
                        "iteration": 71,
                        "passed_time": 2.306260042,
                        "remaining_time": 4.100017852,
                        "test": [
                          1.594575076
                        ]
                      },
                      {
                        "learn": [
                          1.594073129
                        ],
                        "iteration": 72,
                        "passed_time": 2.33633615,
                        "remaining_time": 4.064584808,
                        "test": [
                          1.594377884
                        ]
                      },
                      {
                        "learn": [
                          1.593878759
                        ],
                        "iteration": 73,
                        "passed_time": 2.366623474,
                        "remaining_time": 4.029656186,
                        "test": [
                          1.594189088
                        ]
                      },
                      {
                        "learn": [
                          1.593671953
                        ],
                        "iteration": 74,
                        "passed_time": 2.400500795,
                        "remaining_time": 4.000834658,
                        "test": [
                          1.593986959
                        ]
                      },
                      {
                        "learn": [
                          1.593480414
                        ],
                        "iteration": 75,
                        "passed_time": 2.427683151,
                        "remaining_time": 3.960956721,
                        "test": [
                          1.593797439
                        ]
                      },
                      {
                        "learn": [
                          1.593282241
                        ],
                        "iteration": 76,
                        "passed_time": 2.456510293,
                        "remaining_time": 3.924035923,
                        "test": [
                          1.593602869
                        ]
                      },
                      {
                        "learn": [
                          1.593089098
                        ],
                        "iteration": 77,
                        "passed_time": 2.48462337,
                        "remaining_time": 3.886205785,
                        "test": [
                          1.593412782
                        ]
                      },
                      {
                        "learn": [
                          1.592879265
                        ],
                        "iteration": 78,
                        "passed_time": 2.512740991,
                        "remaining_time": 3.848628607,
                        "test": [
                          1.593207617
                        ]
                      },
                      {
                        "learn": [
                          1.592673989
                        ],
                        "iteration": 79,
                        "passed_time": 2.542220189,
                        "remaining_time": 3.813330283,
                        "test": [
                          1.593003677
                        ]
                      },
                      {
                        "learn": [
                          1.59246978
                        ],
                        "iteration": 80,
                        "passed_time": 2.57159198,
                        "remaining_time": 3.778017848,
                        "test": [
                          1.59280223
                        ]
                      },
                      {
                        "learn": [
                          1.59228188
                        ],
                        "iteration": 81,
                        "passed_time": 2.601813113,
                        "remaining_time": 3.744072528,
                        "test": [
                          1.592617809
                        ]
                      },
                      {
                        "learn": [
                          1.59208019
                        ],
                        "iteration": 82,
                        "passed_time": 2.64559709,
                        "remaining_time": 3.729335657,
                        "test": [
                          1.592420063
                        ]
                      },
                      {
                        "learn": [
                          1.591882833
                        ],
                        "iteration": 83,
                        "passed_time": 2.689222749,
                        "remaining_time": 3.713688558,
                        "test": [
                          1.592223607
                        ]
                      },
                      {
                        "learn": [
                          1.591690582
                        ],
                        "iteration": 84,
                        "passed_time": 2.718229343,
                        "remaining_time": 3.677604405,
                        "test": [
                          1.592032993
                        ]
                      },
                      {
                        "learn": [
                          1.591498252
                        ],
                        "iteration": 85,
                        "passed_time": 2.749525584,
                        "remaining_time": 3.64471996,
                        "test": [
                          1.591844282
                        ]
                      },
                      {
                        "learn": [
                          1.591310076
                        ],
                        "iteration": 86,
                        "passed_time": 2.781184323,
                        "remaining_time": 3.612342857,
                        "test": [
                          1.591658148
                        ]
                      },
                      {
                        "learn": [
                          1.591112952
                        ],
                        "iteration": 87,
                        "passed_time": 2.819218763,
                        "remaining_time": 3.588096607,
                        "test": [
                          1.591466649
                        ]
                      },
                      {
                        "learn": [
                          1.590926128
                        ],
                        "iteration": 88,
                        "passed_time": 2.887137155,
                        "remaining_time": 3.600811508,
                        "test": [
                          1.591281852
                        ]
                      },
                      {
                        "learn": [
                          1.590730481
                        ],
                        "iteration": 89,
                        "passed_time": 2.918648421,
                        "remaining_time": 3.567236959,
                        "test": [
                          1.591089285
                        ]
                      },
                      {
                        "learn": [
                          1.59053295
                        ],
                        "iteration": 90,
                        "passed_time": 2.947390461,
                        "remaining_time": 3.530390772,
                        "test": [
                          1.590899855
                        ]
                      },
                      {
                        "learn": [
                          1.590339614
                        ],
                        "iteration": 91,
                        "passed_time": 2.97589857,
                        "remaining_time": 3.493446148,
                        "test": [
                          1.590709384
                        ]
                      },
                      {
                        "learn": [
                          1.590129844
                        ],
                        "iteration": 92,
                        "passed_time": 3.00449349,
                        "remaining_time": 3.456782833,
                        "test": [
                          1.590503042
                        ]
                      },
                      {
                        "learn": [
                          1.589946635
                        ],
                        "iteration": 93,
                        "passed_time": 3.039917285,
                        "remaining_time": 3.427991832,
                        "test": [
                          1.590321165
                        ]
                      },
                      {
                        "learn": [
                          1.589764235
                        ],
                        "iteration": 94,
                        "passed_time": 3.060908441,
                        "remaining_time": 3.38310933,
                        "test": [
                          1.590137822
                        ]
                      },
                      {
                        "learn": [
                          1.589575897
                        ],
                        "iteration": 95,
                        "passed_time": 3.088891673,
                        "remaining_time": 3.346299312,
                        "test": [
                          1.589950519
                        ]
                      },
                      {
                        "learn": [
                          1.589371702
                        ],
                        "iteration": 96,
                        "passed_time": 3.118457882,
                        "remaining_time": 3.311352184,
                        "test": [
                          1.589748659
                        ]
                      },
                      {
                        "learn": [
                          1.589189124
                        ],
                        "iteration": 97,
                        "passed_time": 3.147632252,
                        "remaining_time": 3.276107038,
                        "test": [
                          1.589570537
                        ]
                      },
                      {
                        "learn": [
                          1.588999909
                        ],
                        "iteration": 98,
                        "passed_time": 3.176617538,
                        "remaining_time": 3.240791629,
                        "test": [
                          1.58938165
                        ]
                      },
                      {
                        "learn": [
                          1.588808988
                        ],
                        "iteration": 99,
                        "passed_time": 3.203523013,
                        "remaining_time": 3.203523013,
                        "test": [
                          1.589192872
                        ]
                      },
                      {
                        "learn": [
                          1.588611777
                        ],
                        "iteration": 100,
                        "passed_time": 3.234912758,
                        "remaining_time": 3.17085508,
                        "test": [
                          1.588998818
                        ]
                      },
                      {
                        "learn": [
                          1.588428234
                        ],
                        "iteration": 101,
                        "passed_time": 3.274346477,
                        "remaining_time": 3.145940733,
                        "test": [
                          1.588816697
                        ]
                      },
                      {
                        "learn": [
                          1.588245158
                        ],
                        "iteration": 102,
                        "passed_time": 3.305349141,
                        "remaining_time": 3.112804531,
                        "test": [
                          1.588638502
                        ]
                      },
                      {
                        "learn": [
                          1.588055127
                        ],
                        "iteration": 103,
                        "passed_time": 3.335439046,
                        "remaining_time": 3.078866812,
                        "test": [
                          1.588451911
                        ]
                      },
                      {
                        "learn": [
                          1.587871749
                        ],
                        "iteration": 104,
                        "passed_time": 3.3634864,
                        "remaining_time": 3.043154362,
                        "test": [
                          1.588271729
                        ]
                      },
                      {
                        "learn": [
                          1.587682892
                        ],
                        "iteration": 105,
                        "passed_time": 3.390939068,
                        "remaining_time": 3.007059173,
                        "test": [
                          1.588089737
                        ]
                      },
                      {
                        "learn": [
                          1.587502813
                        ],
                        "iteration": 106,
                        "passed_time": 3.421318431,
                        "remaining_time": 2.97366929,
                        "test": [
                          1.587912475
                        ]
                      },
                      {
                        "learn": [
                          1.587318135
                        ],
                        "iteration": 107,
                        "passed_time": 3.461349026,
                        "remaining_time": 2.948556578,
                        "test": [
                          1.587729069
                        ]
                      },
                      {
                        "learn": [
                          1.587132716
                        ],
                        "iteration": 108,
                        "passed_time": 3.502210712,
                        "remaining_time": 2.923863989,
                        "test": [
                          1.587548791
                        ]
                      },
                      {
                        "learn": [
                          1.586947896
                        ],
                        "iteration": 109,
                        "passed_time": 3.530712565,
                        "remaining_time": 2.888764826,
                        "test": [
                          1.587365551
                        ]
                      },
                      {
                        "learn": [
                          1.586775134
                        ],
                        "iteration": 110,
                        "passed_time": 3.557877116,
                        "remaining_time": 2.852712282,
                        "test": [
                          1.587198881
                        ]
                      },
                      {
                        "learn": [
                          1.586609295
                        ],
                        "iteration": 111,
                        "passed_time": 3.584086719,
                        "remaining_time": 2.816068136,
                        "test": [
                          1.587040329
                        ]
                      },
                      {
                        "learn": [
                          1.586429378
                        ],
                        "iteration": 112,
                        "passed_time": 3.614359619,
                        "remaining_time": 2.782737052,
                        "test": [
                          1.586863452
                        ]
                      },
                      {
                        "learn": [
                          1.586231982
                        ],
                        "iteration": 113,
                        "passed_time": 3.66179124,
                        "remaining_time": 2.762403918,
                        "test": [
                          1.58666988
                        ]
                      },
                      {
                        "learn": [
                          1.586055769
                        ],
                        "iteration": 114,
                        "passed_time": 3.689196311,
                        "remaining_time": 2.726797273,
                        "test": [
                          1.586496567
                        ]
                      },
                      {
                        "learn": [
                          1.58586894
                        ],
                        "iteration": 115,
                        "passed_time": 3.72646831,
                        "remaining_time": 2.698477052,
                        "test": [
                          1.586315207
                        ]
                      },
                      {
                        "learn": [
                          1.585682393
                        ],
                        "iteration": 116,
                        "passed_time": 3.762452388,
                        "remaining_time": 2.669090156,
                        "test": [
                          1.586132239
                        ]
                      },
                      {
                        "learn": [
                          1.585505722
                        ],
                        "iteration": 117,
                        "passed_time": 3.79168157,
                        "remaining_time": 2.634897362,
                        "test": [
                          1.585961699
                        ]
                      },
                      {
                        "learn": [
                          1.585326602
                        ],
                        "iteration": 118,
                        "passed_time": 3.816917198,
                        "remaining_time": 2.59806969,
                        "test": [
                          1.585788218
                        ]
                      },
                      {
                        "learn": [
                          1.585147161
                        ],
                        "iteration": 119,
                        "passed_time": 3.864956595,
                        "remaining_time": 2.57663773,
                        "test": [
                          1.585610978
                        ]
                      },
                      {
                        "learn": [
                          1.584970842
                        ],
                        "iteration": 120,
                        "passed_time": 3.921645019,
                        "remaining_time": 2.560412864,
                        "test": [
                          1.585438392
                        ]
                      },
                      {
                        "learn": [
                          1.584793027
                        ],
                        "iteration": 121,
                        "passed_time": 3.946491126,
                        "remaining_time": 2.523166458,
                        "test": [
                          1.585260775
                        ]
                      },
                      {
                        "learn": [
                          1.584612912
                        ],
                        "iteration": 122,
                        "passed_time": 3.978160812,
                        "remaining_time": 2.490393354,
                        "test": [
                          1.585087674
                        ]
                      },
                      {
                        "learn": [
                          1.584437997
                        ],
                        "iteration": 123,
                        "passed_time": 4.012221712,
                        "remaining_time": 2.45910363,
                        "test": [
                          1.584917135
                        ]
                      },
                      {
                        "learn": [
                          1.584257517
                        ],
                        "iteration": 124,
                        "passed_time": 4.041864042,
                        "remaining_time": 2.425118425,
                        "test": [
                          1.584742213
                        ]
                      },
                      {
                        "learn": [
                          1.584076782
                        ],
                        "iteration": 125,
                        "passed_time": 4.058362343,
                        "remaining_time": 2.383482646,
                        "test": [
                          1.584566084
                        ]
                      },
                      {
                        "learn": [
                          1.583888148
                        ],
                        "iteration": 126,
                        "passed_time": 4.074214035,
                        "remaining_time": 2.34187106,
                        "test": [
                          1.584383013
                        ]
                      },
                      {
                        "learn": [
                          1.583715483
                        ],
                        "iteration": 127,
                        "passed_time": 4.101749109,
                        "remaining_time": 2.307233874,
                        "test": [
                          1.584213512
                        ]
                      },
                      {
                        "learn": [
                          1.583536177
                        ],
                        "iteration": 128,
                        "passed_time": 4.118138686,
                        "remaining_time": 2.266572455,
                        "test": [
                          1.584037748
                        ]
                      },
                      {
                        "learn": [
                          1.583347543
                        ],
                        "iteration": 129,
                        "passed_time": 4.138345335,
                        "remaining_time": 2.228339796,
                        "test": [
                          1.583853043
                        ]
                      },
                      {
                        "learn": [
                          1.583173837
                        ],
                        "iteration": 130,
                        "passed_time": 4.153864046,
                        "remaining_time": 2.187913124,
                        "test": [
                          1.583684541
                        ]
                      },
                      {
                        "learn": [
                          1.58298052
                        ],
                        "iteration": 131,
                        "passed_time": 4.169188491,
                        "remaining_time": 2.147763768,
                        "test": [
                          1.58349543
                        ]
                      },
                      {
                        "learn": [
                          1.582806137
                        ],
                        "iteration": 132,
                        "passed_time": 4.186106718,
                        "remaining_time": 2.108790603,
                        "test": [
                          1.583324845
                        ]
                      },
                      {
                        "learn": [
                          1.582607162
                        ],
                        "iteration": 133,
                        "passed_time": 4.201051139,
                        "remaining_time": 2.069174441,
                        "test": [
                          1.583132249
                        ]
                      },
                      {
                        "learn": [
                          1.582434282
                        ],
                        "iteration": 134,
                        "passed_time": 4.214184435,
                        "remaining_time": 2.029051765,
                        "test": [
                          1.582965044
                        ]
                      },
                      {
                        "learn": [
                          1.582271129
                        ],
                        "iteration": 135,
                        "passed_time": 4.230800633,
                        "remaining_time": 1.990965004,
                        "test": [
                          1.582806628
                        ]
                      },
                      {
                        "learn": [
                          1.582081537
                        ],
                        "iteration": 136,
                        "passed_time": 4.246057768,
                        "remaining_time": 1.952566711,
                        "test": [
                          1.582622404
                        ]
                      },
                      {
                        "learn": [
                          1.581901655
                        ],
                        "iteration": 137,
                        "passed_time": 4.262646864,
                        "remaining_time": 1.915102214,
                        "test": [
                          1.582451923
                        ]
                      },
                      {
                        "learn": [
                          1.58172542
                        ],
                        "iteration": 138,
                        "passed_time": 4.279228569,
                        "remaining_time": 1.87793484,
                        "test": [
                          1.582284345
                        ]
                      },
                      {
                        "learn": [
                          1.58154777
                        ],
                        "iteration": 139,
                        "passed_time": 4.295956092,
                        "remaining_time": 1.841124039,
                        "test": [
                          1.58211271
                        ]
                      },
                      {
                        "learn": [
                          1.58136946
                        ],
                        "iteration": 140,
                        "passed_time": 4.311631831,
                        "remaining_time": 1.804158,
                        "test": [
                          1.581937979
                        ]
                      },
                      {
                        "learn": [
                          1.581186426
                        ],
                        "iteration": 141,
                        "passed_time": 4.336379756,
                        "remaining_time": 1.771197365,
                        "test": [
                          1.581756049
                        ]
                      },
                      {
                        "learn": [
                          1.581008514
                        ],
                        "iteration": 142,
                        "passed_time": 4.353082025,
                        "remaining_time": 1.735144583,
                        "test": [
                          1.581582312
                        ]
                      },
                      {
                        "learn": [
                          1.580828892
                        ],
                        "iteration": 143,
                        "passed_time": 4.36903613,
                        "remaining_time": 1.699069606,
                        "test": [
                          1.581411212
                        ]
                      },
                      {
                        "learn": [
                          1.580665212
                        ],
                        "iteration": 144,
                        "passed_time": 4.384021123,
                        "remaining_time": 1.662904564,
                        "test": [
                          1.581247819
                        ]
                      },
                      {
                        "learn": [
                          1.580491996
                        ],
                        "iteration": 145,
                        "passed_time": 4.399474712,
                        "remaining_time": 1.627202976,
                        "test": [
                          1.581078415
                        ]
                      },
                      {
                        "learn": [
                          1.580315271
                        ],
                        "iteration": 146,
                        "passed_time": 4.414534284,
                        "remaining_time": 1.59163481,
                        "test": [
                          1.580904297
                        ]
                      },
                      {
                        "learn": [
                          1.580146559
                        ],
                        "iteration": 147,
                        "passed_time": 4.434320801,
                        "remaining_time": 1.558004606,
                        "test": [
                          1.580737707
                        ]
                      },
                      {
                        "learn": [
                          1.579960995
                        ],
                        "iteration": 148,
                        "passed_time": 4.449458542,
                        "remaining_time": 1.522969031,
                        "test": [
                          1.580557552
                        ]
                      },
                      {
                        "learn": [
                          1.579783822
                        ],
                        "iteration": 149,
                        "passed_time": 4.464759563,
                        "remaining_time": 1.488253188,
                        "test": [
                          1.580383598
                        ]
                      },
                      {
                        "learn": [
                          1.579617496
                        ],
                        "iteration": 150,
                        "passed_time": 4.479577414,
                        "remaining_time": 1.453637704,
                        "test": [
                          1.580218497
                        ]
                      },
                      {
                        "learn": [
                          1.579442979
                        ],
                        "iteration": 151,
                        "passed_time": 4.495577915,
                        "remaining_time": 1.419656184,
                        "test": [
                          1.58004431
                        ]
                      },
                      {
                        "learn": [
                          1.579260313
                        ],
                        "iteration": 152,
                        "passed_time": 4.510287889,
                        "remaining_time": 1.385513273,
                        "test": [
                          1.579869299
                        ]
                      },
                      {
                        "learn": [
                          1.579092214
                        ],
                        "iteration": 153,
                        "passed_time": 4.525849715,
                        "remaining_time": 1.351877188,
                        "test": [
                          1.579703937
                        ]
                      },
                      {
                        "learn": [
                          1.578916428
                        ],
                        "iteration": 154,
                        "passed_time": 4.545802361,
                        "remaining_time": 1.319749073,
                        "test": [
                          1.579531123
                        ]
                      },
                      {
                        "learn": [
                          1.578750303
                        ],
                        "iteration": 155,
                        "passed_time": 4.561913484,
                        "remaining_time": 1.286693547,
                        "test": [
                          1.57936779
                        ]
                      },
                      {
                        "learn": [
                          1.578595196
                        ],
                        "iteration": 156,
                        "passed_time": 4.577418773,
                        "remaining_time": 1.253687944,
                        "test": [
                          1.579219095
                        ]
                      },
                      {
                        "learn": [
                          1.578422618
                        ],
                        "iteration": 157,
                        "passed_time": 4.591928253,
                        "remaining_time": 1.220639156,
                        "test": [
                          1.57905285
                        ]
                      },
                      {
                        "learn": [
                          1.578254782
                        ],
                        "iteration": 158,
                        "passed_time": 4.613725921,
                        "remaining_time": 1.189702911,
                        "test": [
                          1.578890625
                        ]
                      },
                      {
                        "learn": [
                          1.578069946
                        ],
                        "iteration": 159,
                        "passed_time": 4.628519338,
                        "remaining_time": 1.157129835,
                        "test": [
                          1.578711161
                        ]
                      },
                      {
                        "learn": [
                          1.577895921
                        ],
                        "iteration": 160,
                        "passed_time": 4.643923221,
                        "remaining_time": 1.124925501,
                        "test": [
                          1.578541167
                        ]
                      },
                      {
                        "learn": [
                          1.577714675
                        ],
                        "iteration": 161,
                        "passed_time": 4.658995868,
                        "remaining_time": 1.092850883,
                        "test": [
                          1.57836337
                        ]
                      },
                      {
                        "learn": [
                          1.577536493
                        ],
                        "iteration": 162,
                        "passed_time": 4.674848071,
                        "remaining_time": 1.061161832,
                        "test": [
                          1.578187372
                        ]
                      },
                      {
                        "learn": [
                          1.577370815
                        ],
                        "iteration": 163,
                        "passed_time": 4.692539214,
                        "remaining_time": 1.030069584,
                        "test": [
                          1.578024623
                        ]
                      },
                      {
                        "learn": [
                          1.577194148
                        ],
                        "iteration": 164,
                        "passed_time": 4.707582244,
                        "remaining_time": 0.9985780517,
                        "test": [
                          1.577852395
                        ]
                      },
                      {
                        "learn": [
                          1.577032945
                        ],
                        "iteration": 165,
                        "passed_time": 4.722977851,
                        "remaining_time": 0.9673569092,
                        "test": [
                          1.577696447
                        ]
                      },
                      {
                        "learn": [
                          1.576868409
                        ],
                        "iteration": 166,
                        "passed_time": 4.752060996,
                        "remaining_time": 0.9390300171,
                        "test": [
                          1.577537613
                        ]
                      },
                      {
                        "learn": [
                          1.576700011
                        ],
                        "iteration": 167,
                        "passed_time": 4.776361136,
                        "remaining_time": 0.9097830736,
                        "test": [
                          1.577373187
                        ]
                      },
                      {
                        "learn": [
                          1.576530119
                        ],
                        "iteration": 168,
                        "passed_time": 4.792526735,
                        "remaining_time": 0.8791025372,
                        "test": [
                          1.577207592
                        ]
                      },
                      {
                        "learn": [
                          1.576362859
                        ],
                        "iteration": 169,
                        "passed_time": 4.809107345,
                        "remaining_time": 0.848666002,
                        "test": [
                          1.577042082
                        ]
                      },
                      {
                        "learn": [
                          1.576188046
                        ],
                        "iteration": 170,
                        "passed_time": 4.825112303,
                        "remaining_time": 0.8182938994,
                        "test": [
                          1.57687264
                        ]
                      },
                      {
                        "learn": [
                          1.576008013
                        ],
                        "iteration": 171,
                        "passed_time": 4.84190281,
                        "remaining_time": 0.7882167366,
                        "test": [
                          1.576698321
                        ]
                      },
                      {
                        "learn": [
                          1.575852556
                        ],
                        "iteration": 172,
                        "passed_time": 4.858858757,
                        "remaining_time": 0.7583189968,
                        "test": [
                          1.576548395
                        ]
                      },
                      {
                        "learn": [
                          1.575678656
                        ],
                        "iteration": 173,
                        "passed_time": 4.897382969,
                        "remaining_time": 0.7317928574,
                        "test": [
                          1.576379408
                        ]
                      },
                      {
                        "learn": [
                          1.575513416
                        ],
                        "iteration": 174,
                        "passed_time": 4.928529363,
                        "remaining_time": 0.7040756233,
                        "test": [
                          1.576222167
                        ]
                      },
                      {
                        "learn": [
                          1.575343276
                        ],
                        "iteration": 175,
                        "passed_time": 4.953211745,
                        "remaining_time": 0.6754379653,
                        "test": [
                          1.576056305
                        ]
                      },
                      {
                        "learn": [
                          1.575181334
                        ],
                        "iteration": 176,
                        "passed_time": 4.97649319,
                        "remaining_time": 0.6466629568,
                        "test": [
                          1.575897954
                        ]
                      },
                      {
                        "learn": [
                          1.575022875
                        ],
                        "iteration": 177,
                        "passed_time": 4.992369269,
                        "remaining_time": 0.6170344041,
                        "test": [
                          1.575745117
                        ]
                      },
                      {
                        "learn": [
                          1.574852664
                        ],
                        "iteration": 178,
                        "passed_time": 5.009125824,
                        "remaining_time": 0.5876628062,
                        "test": [
                          1.575579553
                        ]
                      },
                      {
                        "learn": [
                          1.574705119
                        ],
                        "iteration": 179,
                        "passed_time": 5.024641103,
                        "remaining_time": 0.5582934559,
                        "test": [
                          1.575437938
                        ]
                      },
                      {
                        "learn": [
                          1.574542122
                        ],
                        "iteration": 180,
                        "passed_time": 5.040144843,
                        "remaining_time": 0.5290759779,
                        "test": [
                          1.575281259
                        ]
                      },
                      {
                        "learn": [
                          1.574369047
                        ],
                        "iteration": 181,
                        "passed_time": 5.054648759,
                        "remaining_time": 0.4999103168,
                        "test": [
                          1.575114428
                        ]
                      },
                      {
                        "learn": [
                          1.574208209
                        ],
                        "iteration": 182,
                        "passed_time": 5.071109085,
                        "remaining_time": 0.4710866363,
                        "test": [
                          1.574956616
                        ]
                      },
                      {
                        "learn": [
                          1.574044446
                        ],
                        "iteration": 183,
                        "passed_time": 5.087556992,
                        "remaining_time": 0.4423962601,
                        "test": [
                          1.574797946
                        ]
                      },
                      {
                        "learn": [
                          1.573882274
                        ],
                        "iteration": 184,
                        "passed_time": 5.103494462,
                        "remaining_time": 0.4137968483,
                        "test": [
                          1.574635053
                        ]
                      },
                      {
                        "learn": [
                          1.573719637
                        ],
                        "iteration": 185,
                        "passed_time": 5.120549128,
                        "remaining_time": 0.3854176763,
                        "test": [
                          1.574476882
                        ]
                      },
                      {
                        "learn": [
                          1.57355953
                        ],
                        "iteration": 186,
                        "passed_time": 5.137213406,
                        "remaining_time": 0.3571324827,
                        "test": [
                          1.574321484
                        ]
                      },
                      {
                        "learn": [
                          1.573396932
                        ],
                        "iteration": 187,
                        "passed_time": 5.158143565,
                        "remaining_time": 0.3292432063,
                        "test": [
                          1.574164706
                        ]
                      },
                      {
                        "learn": [
                          1.573230632
                        ],
                        "iteration": 188,
                        "passed_time": 5.174607104,
                        "remaining_time": 0.3011676092,
                        "test": [
                          1.574002393
                        ]
                      },
                      {
                        "learn": [
                          1.573084112
                        ],
                        "iteration": 189,
                        "passed_time": 5.191105211,
                        "remaining_time": 0.2732160637,
                        "test": [
                          1.573861699
                        ]
                      },
                      {
                        "learn": [
                          1.572927997
                        ],
                        "iteration": 190,
                        "passed_time": 5.206314486,
                        "remaining_time": 0.2453237192,
                        "test": [
                          1.573707554
                        ]
                      },
                      {
                        "learn": [
                          1.572761543
                        ],
                        "iteration": 191,
                        "passed_time": 5.22107633,
                        "remaining_time": 0.2175448471,
                        "test": [
                          1.573545859
                        ]
                      },
                      {
                        "learn": [
                          1.5725872
                        ],
                        "iteration": 192,
                        "passed_time": 5.235926597,
                        "remaining_time": 0.1899040735,
                        "test": [
                          1.573377636
                        ]
                      },
                      {
                        "learn": [
                          1.572420862
                        ],
                        "iteration": 193,
                        "passed_time": 5.251008651,
                        "remaining_time": 0.1624023294,
                        "test": [
                          1.573217176
                        ]
                      },
                      {
                        "learn": [
                          1.572277685
                        ],
                        "iteration": 194,
                        "passed_time": 5.275575817,
                        "remaining_time": 0.1352711748,
                        "test": [
                          1.573078801
                        ]
                      },
                      {
                        "learn": [
                          1.57212466
                        ],
                        "iteration": 195,
                        "passed_time": 5.290873922,
                        "remaining_time": 0.1079770188,
                        "test": [
                          1.572928572
                        ]
                      },
                      {
                        "learn": [
                          1.571966311
                        ],
                        "iteration": 196,
                        "passed_time": 5.306991104,
                        "remaining_time": 0.08081712342,
                        "test": [
                          1.572775758
                        ]
                      },
                      {
                        "learn": [
                          1.571802957
                        ],
                        "iteration": 197,
                        "passed_time": 5.323537546,
                        "remaining_time": 0.05377310652,
                        "test": [
                          1.572615186
                        ]
                      },
                      {
                        "learn": [
                          1.571632325
                        ],
                        "iteration": 198,
                        "passed_time": 5.339552216,
                        "remaining_time": 0.02683192068,
                        "test": [
                          1.572449013
                        ]
                      },
                      {
                        "learn": [
                          1.571468809
                        ],
                        "iteration": 199,
                        "passed_time": 5.356704586,
                        "remaining_time": 0,
                        "test": [
                          1.572287162
                        ]
                      }
                    ],
                    "meta": {
                      "test_sets": [
                        "test"
                      ],
                      "test_metrics": [
                        {
                          "best_value": "Min",
                          "name": "MultiClass"
                        }
                      ],
                      "learn_metrics": [
                        {
                          "best_value": "Min",
                          "name": "MultiClass"
                        }
                      ],
                      "launch_mode": "Train",
                      "parameters": "",
                      "iteration_count": 200,
                      "learn_sets": [
                        "learn"
                      ],
                      "name": "experiment"
                    }
                  }
                }
              }
            },
            "layout": "IPY_MODEL_440d660bd4324d0d9fbf37b50adcf610"
          }
        }
      }
    }
  },
  "cells": [
    {
      "cell_type": "markdown",
      "source": [
        "#Task 1:\n",
        "This dataset includes scores from three test scores of students at a (fictional) public school and a variety of personal and socio-economic factors that may have interaction effects upon them.\n",
        "Column description:\n",
        "1.  `Gender`: Gender of the student (male/female)\n",
        "2.  `EthnicGroup`: Ethnic group of the student (group A to E)\n",
        "3.  `ParentEduc`: Parent(s) education background (from some_highschool to master's degree)\n",
        "4.  `LunchType`: School lunch type (standard or free/reduced)\n",
        "5.  `TestPrep`: Test preparation course followed (completed or none)\n",
        "6.  `ParentMaritalStatus`: Parent(s) marital status (married/single/widowed/divorced)\n",
        "7.  `PracticeSport`: How often the student parctice sport (never/sometimes/regularly))\n",
        "8.  `IsFirstChild`: If the child is first child in the family or not (yes/no)\n",
        "9.  `NrSiblings`: Number of siblings the student has (0 to 7)\n",
        "10. `TransportMeans`: Means of transport to school (schoolbus/private)\n",
        "11. `WklyStudyHours`: Weekly self-study hours(less that 5hrs; between 5 and 10hrs; more than 10hrs)\n",
        "12. `MathScore`: math test score(0-100)\n",
        "13. `ReadingScore`: reading test score(0-100)\n",
        "13. `WritingScore`: writing test score(0-100)"
      ],
      "metadata": {
        "id": "Btq52DoyZxNM"
      }
    },
    {
      "cell_type": "markdown",
      "source": [
        "#Download the dataset\n",
        "Run the cell below"
      ],
      "metadata": {
        "id": "gfNGL5qeYFTM"
      }
    },
    {
      "cell_type": "code",
      "execution_count": null,
      "metadata": {
        "colab": {
          "base_uri": "https://localhost:8080/"
        },
        "id": "91JvvXIAXrfA",
        "outputId": "ad48d9c9-f113-4544-cfb7-e75c2c4f4ff5"
      },
      "outputs": [
        {
          "output_type": "stream",
          "name": "stdout",
          "text": [
            "Downloading...\n",
            "From: https://drive.google.com/uc?id=1La5PlbYWPH1VyiE8Zq2BDAYWqtpd56Z2\n",
            "To: /content/Expanded_data_with_more_features.csv\n",
            "\r  0% 0.00/2.91M [00:00<?, ?B/s]\r100% 2.91M/2.91M [00:00<00:00, 158MB/s]\n"
          ]
        }
      ],
      "source": [
        "!gdown 1La5PlbYWPH1VyiE8Zq2BDAYWqtpd56Z2"
      ]
    },
    {
      "cell_type": "markdown",
      "source": [
        "#Read the dataset"
      ],
      "metadata": {
        "id": "isHh5kJ2YI88"
      }
    },
    {
      "cell_type": "code",
      "source": [
        "import pandas as pd\n",
        "data = pd.read_csv('/content/Expanded_data_with_more_features.csv')"
      ],
      "metadata": {
        "id": "3EircpQLD_cI"
      },
      "execution_count": null,
      "outputs": []
    },
    {
      "cell_type": "markdown",
      "source": [
        "#Visualization"
      ],
      "metadata": {
        "id": "koGMIBlZY50j"
      }
    },
    {
      "cell_type": "code",
      "source": [
        "data['MathScore'].plot.hist()"
      ],
      "metadata": {
        "id": "EL85rNQiD_0J",
        "colab": {
          "base_uri": "https://localhost:8080/",
          "height": 447
        },
        "outputId": "ab5c78ed-4c31-4f26-fece-c92e8719b72f"
      },
      "execution_count": null,
      "outputs": [
        {
          "output_type": "execute_result",
          "data": {
            "text/plain": [
              "<Axes: ylabel='Frequency'>"
            ]
          },
          "metadata": {},
          "execution_count": 111
        },
        {
          "output_type": "display_data",
          "data": {
            "text/plain": [
              "<Figure size 640x480 with 1 Axes>"
            ],
            "image/png": "[encoded data removed]"
          },
          "metadata": {}
        }
      ]
    },
    {
      "cell_type": "markdown",
      "source": [
        "#Missing Values & Textual data"
      ],
      "metadata": {
        "id": "wYAkbrIwY3Ii"
      }
    },
    {
      "cell_type": "code",
      "source": [
        "from sklearn.preprocessing import LabelEncoder\n",
        "import numpy as np"
      ],
      "metadata": {
        "id": "i61e8sJW3qL7"
      },
      "execution_count": null,
      "outputs": []
    },
    {
      "cell_type": "code",
      "source": [
        "data.isnull().sum()"
      ],
      "metadata": {
        "id": "EUyfHC2dYhTe",
        "colab": {
          "base_uri": "https://localhost:8080/"
        },
        "outputId": "7d1a2337-bf36-4ee7-fb28-6dc64eb73f00"
      },
      "execution_count": null,
      "outputs": [
        {
          "output_type": "execute_result",
          "data": {
            "text/plain": [
              "Unnamed: 0                0\n",
              "Gender                    0\n",
              "EthnicGroup            1840\n",
              "ParentEduc             1845\n",
              "LunchType                 0\n",
              "TestPrep               1830\n",
              "ParentMaritalStatus    1190\n",
              "PracticeSport           631\n",
              "IsFirstChild            904\n",
              "NrSiblings             1572\n",
              "TransportMeans         3134\n",
              "WklyStudyHours          955\n",
              "MathScore                 0\n",
              "ReadingScore              0\n",
              "WritingScore              0\n",
              "dtype: int64"
            ]
          },
          "metadata": {},
          "execution_count": 113
        }
      ]
    },
    {
      "cell_type": "markdown",
      "source": [
        "9 columns have missing values"
      ],
      "metadata": {
        "id": "0Ts_nBz_2c0v"
      }
    },
    {
      "cell_type": "code",
      "source": [
        "def encode_education(x):\n",
        "  if type(x) == float:\n",
        "    return x\n",
        "  if \"college\" in x:\n",
        "    return 1\n",
        "  if \"high school\" in x:\n",
        "    return 0\n",
        "  if \"associate\" in x:\n",
        "    return 2\n",
        "  if \"bachelor\" in x:\n",
        "    return 3\n",
        "  if \"master\" in x:\n",
        "    return 4"
      ],
      "metadata": {
        "id": "PV1Et3fQ35DE"
      },
      "execution_count": null,
      "outputs": []
    },
    {
      "cell_type": "code",
      "source": [
        "data.head()"
      ],
      "metadata": {
        "colab": {
          "base_uri": "https://localhost:8080/",
          "height": 330
        },
        "id": "LLR_8fKt2fc7",
        "outputId": "437bf67e-399d-44ac-ab8d-8f11e80832b7"
      },
      "execution_count": null,
      "outputs": [
        {
          "output_type": "execute_result",
          "data": {
            "text/plain": [
              "   Unnamed: 0  Gender EthnicGroup          ParentEduc     LunchType TestPrep  \\\n",
              "0           0  female         NaN   bachelor's degree      standard     none   \n",
              "1           1  female     group C        some college      standard      NaN   \n",
              "2           2  female     group B     master's degree      standard     none   \n",
              "3           3    male     group A  associate's degree  free/reduced     none   \n",
              "4           4    male     group C        some college      standard     none   \n",
              "\n",
              "  ParentMaritalStatus PracticeSport IsFirstChild  NrSiblings TransportMeans  \\\n",
              "0             married     regularly          yes         3.0     school_bus   \n",
              "1             married     sometimes          yes         0.0            NaN   \n",
              "2              single     sometimes          yes         4.0     school_bus   \n",
              "3             married         never           no         1.0            NaN   \n",
              "4             married     sometimes          yes         0.0     school_bus   \n",
              "\n",
              "  WklyStudyHours  MathScore  ReadingScore  WritingScore  \n",
              "0            < 5         71            71            74  \n",
              "1         5 - 10         69            90            88  \n",
              "2            < 5         87            93            91  \n",
              "3         5 - 10         45            56            42  \n",
              "4         5 - 10         76            78            75  "
            ],
            "text/html": [
              "\n",
              "  <div id=\"df-68e013a9-8a3f-43fb-a0b5-a317ddadcfc6\" class=\"colab-df-container\">\n",
              "    <div>\n",
              "<style scoped>\n",
              "    .dataframe tbody tr th:only-of-type {\n",
              "        vertical-align: middle;\n",
              "    }\n",
              "\n",
              "    .dataframe tbody tr th {\n",
              "        vertical-align: top;\n",
              "    }\n",
              "\n",
              "    .dataframe thead th {\n",
              "        text-align: right;\n",
              "    }\n",
              "</style>\n",
              "<table border=\"1\" class=\"dataframe\">\n",
              "  <thead>\n",
              "    <tr style=\"text-align: right;\">\n",
              "      <th></th>\n",
              "      <th>Unnamed: 0</th>\n",
              "      <th>Gender</th>\n",
              "      <th>EthnicGroup</th>\n",
              "      <th>ParentEduc</th>\n",
              "      <th>LunchType</th>\n",
              "      <th>TestPrep</th>\n",
              "      <th>ParentMaritalStatus</th>\n",
              "      <th>PracticeSport</th>\n",
              "      <th>IsFirstChild</th>\n",
              "      <th>NrSiblings</th>\n",
              "      <th>TransportMeans</th>\n",
              "      <th>WklyStudyHours</th>\n",
              "      <th>MathScore</th>\n",
              "      <th>ReadingScore</th>\n",
              "      <th>WritingScore</th>\n",
              "    </tr>\n",
              "  </thead>\n",
              "  <tbody>\n",
              "    <tr>\n",
              "      <th>0</th>\n",
              "      <td>0</td>\n",
              "      <td>female</td>\n",
              "      <td>NaN</td>\n",
              "      <td>bachelor's degree</td>\n",
              "      <td>standard</td>\n",
              "      <td>none</td>\n",
              "      <td>married</td>\n",
              "      <td>regularly</td>\n",
              "      <td>yes</td>\n",
              "      <td>3.0</td>\n",
              "      <td>school_bus</td>\n",
              "      <td>&lt; 5</td>\n",
              "      <td>71</td>\n",
              "      <td>71</td>\n",
              "      <td>74</td>\n",
              "    </tr>\n",
              "    <tr>\n",
              "      <th>1</th>\n",
              "      <td>1</td>\n",
              "      <td>female</td>\n",
              "      <td>group C</td>\n",
              "      <td>some college</td>\n",
              "      <td>standard</td>\n",
              "      <td>NaN</td>\n",
              "      <td>married</td>\n",
              "      <td>sometimes</td>\n",
              "      <td>yes</td>\n",
              "      <td>0.0</td>\n",
              "      <td>NaN</td>\n",
              "      <td>5 - 10</td>\n",
              "      <td>69</td>\n",
              "      <td>90</td>\n",
              "      <td>88</td>\n",
              "    </tr>\n",
              "    <tr>\n",
              "      <th>2</th>\n",
              "      <td>2</td>\n",
              "      <td>female</td>\n",
              "      <td>group B</td>\n",
              "      <td>master's degree</td>\n",
              "      <td>standard</td>\n",
              "      <td>none</td>\n",
              "      <td>single</td>\n",
              "      <td>sometimes</td>\n",
              "      <td>yes</td>\n",
              "      <td>4.0</td>\n",
              "      <td>school_bus</td>\n",
              "      <td>&lt; 5</td>\n",
              "      <td>87</td>\n",
              "      <td>93</td>\n",
              "      <td>91</td>\n",
              "    </tr>\n",
              "    <tr>\n",
              "      <th>3</th>\n",
              "      <td>3</td>\n",
              "      <td>male</td>\n",
              "      <td>group A</td>\n",
              "      <td>associate's degree</td>\n",
              "      <td>free/reduced</td>\n",
              "      <td>none</td>\n",
              "      <td>married</td>\n",
              "      <td>never</td>\n",
              "      <td>no</td>\n",
              "      <td>1.0</td>\n",
              "      <td>NaN</td>\n",
              "      <td>5 - 10</td>\n",
              "      <td>45</td>\n",
              "      <td>56</td>\n",
              "      <td>42</td>\n",
              "    </tr>\n",
              "    <tr>\n",
              "      <th>4</th>\n",
              "      <td>4</td>\n",
              "      <td>male</td>\n",
              "      <td>group C</td>\n",
              "      <td>some college</td>\n",
              "      <td>standard</td>\n",
              "      <td>none</td>\n",
              "      <td>married</td>\n",
              "      <td>sometimes</td>\n",
              "      <td>yes</td>\n",
              "      <td>0.0</td>\n",
              "      <td>school_bus</td>\n",
              "      <td>5 - 10</td>\n",
              "      <td>76</td>\n",
              "      <td>78</td>\n",
              "      <td>75</td>\n",
              "    </tr>\n",
              "  </tbody>\n",
              "</table>\n",
              "</div>\n",
              "    <div class=\"colab-df-buttons\">\n",
              "\n",
              "  <div class=\"colab-df-container\">\n",
              "    <button class=\"colab-df-convert\" onclick=\"convertToInteractive('df-68e013a9-8a3f-43fb-a0b5-a317ddadcfc6')\"\n",
              "            title=\"Convert this dataframe to an interactive table.\"\n",
              "            style=\"display:none;\">\n",
              "\n",
              "  <svg xmlns=\"http://www.w3.org/2000/svg\" height=\"24px\" viewBox=\"0 -960 960 960\">\n",
              "    <path d=\"M120-120v-720h720v720H120Zm60-500h600v-160H180v160Zm220 220h160v-160H400v160Zm0 220h160v-160H400v160ZM180-400h160v-160H180v160Zm440 0h160v-160H620v160ZM180-180h160v-160H180v160Zm440 0h160v-160H620v160Z\"/>\n",
              "  </svg>\n",
              "    </button>\n",
              "\n",
              "  <style>\n",
              "    .colab-df-container {\n",
              "      display:flex;\n",
              "      gap: 12px;\n",
              "    }\n",
              "\n",
              "    .colab-df-convert {\n",
              "      background-color: #E8F0FE;\n",
              "      border: none;\n",
              "      border-radius: 50%;\n",
              "      cursor: pointer;\n",
              "      display: none;\n",
              "      fill: #1967D2;\n",
              "      height: 32px;\n",
              "      padding: 0 0 0 0;\n",
              "      width: 32px;\n",
              "    }\n",
              "\n",
              "    .colab-df-convert:hover {\n",
              "      background-color: #E2EBFA;\n",
              "      box-shadow: 0px 1px 2px rgba(60, 64, 67, 0.3), 0px 1px 3px 1px rgba(60, 64, 67, 0.15);\n",
              "      fill: #174EA6;\n",
              "    }\n",
              "\n",
              "    .colab-df-buttons div {\n",
              "      margin-bottom: 4px;\n",
              "    }\n",
              "\n",
              "    [theme=dark] .colab-df-convert {\n",
              "      background-color: #3B4455;\n",
              "      fill: #D2E3FC;\n",
              "    }\n",
              "\n",
              "    [theme=dark] .colab-df-convert:hover {\n",
              "      background-color: #434B5C;\n",
              "      box-shadow: 0px 1px 3px 1px rgba(0, 0, 0, 0.15);\n",
              "      filter: drop-shadow(0px 1px 2px rgba(0, 0, 0, 0.3));\n",
              "      fill: #FFFFFF;\n",
              "    }\n",
              "  </style>\n",
              "\n",
              "    <script>\n",
              "      const buttonEl =\n",
              "        document.querySelector('#df-68e013a9-8a3f-43fb-a0b5-a317ddadcfc6 button.colab-df-convert');\n",
              "      buttonEl.style.display =\n",
              "        google.colab.kernel.accessAllowed ? 'block' : 'none';\n",
              "\n",
              "      async function convertToInteractive(key) {\n",
              "        const element = document.querySelector('#df-68e013a9-8a3f-43fb-a0b5-a317ddadcfc6');\n",
              "        const dataTable =\n",
              "          await google.colab.kernel.invokeFunction('convertToInteractive',\n",
              "                                                    [key], {});\n",
              "        if (!dataTable) return;\n",
              "\n",
              "        const docLinkHtml = 'Like what you see? Visit the ' +\n",
              "          '<a target=\"_blank\" href=https://colab.research.google.com/notebooks/data_table.ipynb>data table notebook</a>'\n",
              "          + ' to learn more about interactive tables.';\n",
              "        element.innerHTML = '';\n",
              "        dataTable['output_type'] = 'display_data';\n",
              "        await google.colab.output.renderOutput(dataTable, element);\n",
              "        const docLink = document.createElement('div');\n",
              "        docLink.innerHTML = docLinkHtml;\n",
              "        element.appendChild(docLink);\n",
              "      }\n",
              "    </script>\n",
              "  </div>\n",
              "\n",
              "\n",
              "<div id=\"df-874d5bcf-a758-4821-8979-3b2c631cff3a\">\n",
              "  <button class=\"colab-df-quickchart\" onclick=\"quickchart('df-874d5bcf-a758-4821-8979-3b2c631cff3a')\"\n",
              "            title=\"Suggest charts\"\n",
              "            style=\"display:none;\">\n",
              "\n",
              "<svg xmlns=\"http://www.w3.org/2000/svg\" height=\"24px\"viewBox=\"0 0 24 24\"\n",
              "     width=\"24px\">\n",
              "    <g>\n",
              "        <path d=\"M19 3H5c-1.1 0-2 .9-2 2v14c0 1.1.9 2 2 2h14c1.1 0 2-.9 2-2V5c0-1.1-.9-2-2-2zM9 17H7v-7h2v7zm4 0h-2V7h2v10zm4 0h-2v-4h2v4z\"/>\n",
              "    </g>\n",
              "</svg>\n",
              "  </button>\n",
              "\n",
              "<style>\n",
              "  .colab-df-quickchart {\n",
              "      --bg-color: #E8F0FE;\n",
              "      --fill-color: #1967D2;\n",
              "      --hover-bg-color: #E2EBFA;\n",
              "      --hover-fill-color: #174EA6;\n",
              "      --disabled-fill-color: #AAA;\n",
              "      --disabled-bg-color: #DDD;\n",
              "  }\n",
              "\n",
              "  [theme=dark] .colab-df-quickchart {\n",
              "      --bg-color: #3B4455;\n",
              "      --fill-color: #D2E3FC;\n",
              "      --hover-bg-color: #434B5C;\n",
              "      --hover-fill-color: #FFFFFF;\n",
              "      --disabled-bg-color: #3B4455;\n",
              "      --disabled-fill-color: #666;\n",
              "  }\n",
              "\n",
              "  .colab-df-quickchart {\n",
              "    background-color: var(--bg-color);\n",
              "    border: none;\n",
              "    border-radius: 50%;\n",
              "    cursor: pointer;\n",
              "    display: none;\n",
              "    fill: var(--fill-color);\n",
              "    height: 32px;\n",
              "    padding: 0;\n",
              "    width: 32px;\n",
              "  }\n",
              "\n",
              "  .colab-df-quickchart:hover {\n",
              "    background-color: var(--hover-bg-color);\n",
              "    box-shadow: 0 1px 2px rgba(60, 64, 67, 0.3), 0 1px 3px 1px rgba(60, 64, 67, 0.15);\n",
              "    fill: var(--button-hover-fill-color);\n",
              "  }\n",
              "\n",
              "  .colab-df-quickchart-complete:disabled,\n",
              "  .colab-df-quickchart-complete:disabled:hover {\n",
              "    background-color: var(--disabled-bg-color);\n",
              "    fill: var(--disabled-fill-color);\n",
              "    box-shadow: none;\n",
              "  }\n",
              "\n",
              "  .colab-df-spinner {\n",
              "    border: 2px solid var(--fill-color);\n",
              "    border-color: transparent;\n",
              "    border-bottom-color: var(--fill-color);\n",
              "    animation:\n",
              "      spin 1s steps(1) infinite;\n",
              "  }\n",
              "\n",
              "  @keyframes spin {\n",
              "    0% {\n",
              "      border-color: transparent;\n",
              "      border-bottom-color: var(--fill-color);\n",
              "      border-left-color: var(--fill-color);\n",
              "    }\n",
              "    20% {\n",
              "      border-color: transparent;\n",
              "      border-left-color: var(--fill-color);\n",
              "      border-top-color: var(--fill-color);\n",
              "    }\n",
              "    30% {\n",
              "      border-color: transparent;\n",
              "      border-left-color: var(--fill-color);\n",
              "      border-top-color: var(--fill-color);\n",
              "      border-right-color: var(--fill-color);\n",
              "    }\n",
              "    40% {\n",
              "      border-color: transparent;\n",
              "      border-right-color: var(--fill-color);\n",
              "      border-top-color: var(--fill-color);\n",
              "    }\n",
              "    60% {\n",
              "      border-color: transparent;\n",
              "      border-right-color: var(--fill-color);\n",
              "    }\n",
              "    80% {\n",
              "      border-color: transparent;\n",
              "      border-right-color: var(--fill-color);\n",
              "      border-bottom-color: var(--fill-color);\n",
              "    }\n",
              "    90% {\n",
              "      border-color: transparent;\n",
              "      border-bottom-color: var(--fill-color);\n",
              "    }\n",
              "  }\n",
              "</style>\n",
              "\n",
              "  <script>\n",
              "    async function quickchart(key) {\n",
              "      const quickchartButtonEl =\n",
              "        document.querySelector('#' + key + ' button');\n",
              "      quickchartButtonEl.disabled = true;  // To prevent multiple clicks.\n",
              "      quickchartButtonEl.classList.add('colab-df-spinner');\n",
              "      try {\n",
              "        const charts = await google.colab.kernel.invokeFunction(\n",
              "            'suggestCharts', [key], {});\n",
              "      } catch (error) {\n",
              "        console.error('Error during call to suggestCharts:', error);\n",
              "      }\n",
              "      quickchartButtonEl.classList.remove('colab-df-spinner');\n",
              "      quickchartButtonEl.classList.add('colab-df-quickchart-complete');\n",
              "    }\n",
              "    (() => {\n",
              "      let quickchartButtonEl =\n",
              "        document.querySelector('#df-874d5bcf-a758-4821-8979-3b2c631cff3a button');\n",
              "      quickchartButtonEl.style.display =\n",
              "        google.colab.kernel.accessAllowed ? 'block' : 'none';\n",
              "    })();\n",
              "  </script>\n",
              "</div>\n",
              "    </div>\n",
              "  </div>\n"
            ]
          },
          "metadata": {},
          "execution_count": 115
        }
      ]
    },
    {
      "cell_type": "code",
      "source": [
        "data = data.drop(columns=['Unnamed: 0'], axis=1)"
      ],
      "metadata": {
        "id": "1ooI5BK92jop"
      },
      "execution_count": null,
      "outputs": []
    },
    {
      "cell_type": "code",
      "source": [
        "data['ParentEduc'].value_counts()"
      ],
      "metadata": {
        "colab": {
          "base_uri": "https://localhost:8080/"
        },
        "id": "fz-FZyB838Qk",
        "outputId": "1ffccbef-22a3-479a-8602-dc044e717ab0"
      },
      "execution_count": null,
      "outputs": [
        {
          "output_type": "execute_result",
          "data": {
            "text/plain": [
              "some college          6633\n",
              "high school           5687\n",
              "associate's degree    5550\n",
              "some high school      5517\n",
              "bachelor's degree     3386\n",
              "master's degree       2023\n",
              "Name: ParentEduc, dtype: int64"
            ]
          },
          "metadata": {},
          "execution_count": 117
        }
      ]
    },
    {
      "cell_type": "code",
      "source": [
        "data.head()"
      ],
      "metadata": {
        "colab": {
          "base_uri": "https://localhost:8080/",
          "height": 313
        },
        "id": "ACe5CRdH2sP7",
        "outputId": "c5a45330-a05d-44a9-c89f-f4f140dc683f"
      },
      "execution_count": null,
      "outputs": [
        {
          "output_type": "execute_result",
          "data": {
            "text/plain": [
              "   Gender EthnicGroup          ParentEduc     LunchType TestPrep  \\\n",
              "0  female         NaN   bachelor's degree      standard     none   \n",
              "1  female     group C        some college      standard      NaN   \n",
              "2  female     group B     master's degree      standard     none   \n",
              "3    male     group A  associate's degree  free/reduced     none   \n",
              "4    male     group C        some college      standard     none   \n",
              "\n",
              "  ParentMaritalStatus PracticeSport IsFirstChild  NrSiblings TransportMeans  \\\n",
              "0             married     regularly          yes         3.0     school_bus   \n",
              "1             married     sometimes          yes         0.0            NaN   \n",
              "2              single     sometimes          yes         4.0     school_bus   \n",
              "3             married         never           no         1.0            NaN   \n",
              "4             married     sometimes          yes         0.0     school_bus   \n",
              "\n",
              "  WklyStudyHours  MathScore  ReadingScore  WritingScore  \n",
              "0            < 5         71            71            74  \n",
              "1         5 - 10         69            90            88  \n",
              "2            < 5         87            93            91  \n",
              "3         5 - 10         45            56            42  \n",
              "4         5 - 10         76            78            75  "
            ],
            "text/html": [
              "\n",
              "  <div id=\"df-d192b128-c163-4623-9fd8-4f53b569ebe9\" class=\"colab-df-container\">\n",
              "    <div>\n",
              "<style scoped>\n",
              "    .dataframe tbody tr th:only-of-type {\n",
              "        vertical-align: middle;\n",
              "    }\n",
              "\n",
              "    .dataframe tbody tr th {\n",
              "        vertical-align: top;\n",
              "    }\n",
              "\n",
              "    .dataframe thead th {\n",
              "        text-align: right;\n",
              "    }\n",
              "</style>\n",
              "<table border=\"1\" class=\"dataframe\">\n",
              "  <thead>\n",
              "    <tr style=\"text-align: right;\">\n",
              "      <th></th>\n",
              "      <th>Gender</th>\n",
              "      <th>EthnicGroup</th>\n",
              "      <th>ParentEduc</th>\n",
              "      <th>LunchType</th>\n",
              "      <th>TestPrep</th>\n",
              "      <th>ParentMaritalStatus</th>\n",
              "      <th>PracticeSport</th>\n",
              "      <th>IsFirstChild</th>\n",
              "      <th>NrSiblings</th>\n",
              "      <th>TransportMeans</th>\n",
              "      <th>WklyStudyHours</th>\n",
              "      <th>MathScore</th>\n",
              "      <th>ReadingScore</th>\n",
              "      <th>WritingScore</th>\n",
              "    </tr>\n",
              "  </thead>\n",
              "  <tbody>\n",
              "    <tr>\n",
              "      <th>0</th>\n",
              "      <td>female</td>\n",
              "      <td>NaN</td>\n",
              "      <td>bachelor's degree</td>\n",
              "      <td>standard</td>\n",
              "      <td>none</td>\n",
              "      <td>married</td>\n",
              "      <td>regularly</td>\n",
              "      <td>yes</td>\n",
              "      <td>3.0</td>\n",
              "      <td>school_bus</td>\n",
              "      <td>&lt; 5</td>\n",
              "      <td>71</td>\n",
              "      <td>71</td>\n",
              "      <td>74</td>\n",
              "    </tr>\n",
              "    <tr>\n",
              "      <th>1</th>\n",
              "      <td>female</td>\n",
              "      <td>group C</td>\n",
              "      <td>some college</td>\n",
              "      <td>standard</td>\n",
              "      <td>NaN</td>\n",
              "      <td>married</td>\n",
              "      <td>sometimes</td>\n",
              "      <td>yes</td>\n",
              "      <td>0.0</td>\n",
              "      <td>NaN</td>\n",
              "      <td>5 - 10</td>\n",
              "      <td>69</td>\n",
              "      <td>90</td>\n",
              "      <td>88</td>\n",
              "    </tr>\n",
              "    <tr>\n",
              "      <th>2</th>\n",
              "      <td>female</td>\n",
              "      <td>group B</td>\n",
              "      <td>master's degree</td>\n",
              "      <td>standard</td>\n",
              "      <td>none</td>\n",
              "      <td>single</td>\n",
              "      <td>sometimes</td>\n",
              "      <td>yes</td>\n",
              "      <td>4.0</td>\n",
              "      <td>school_bus</td>\n",
              "      <td>&lt; 5</td>\n",
              "      <td>87</td>\n",
              "      <td>93</td>\n",
              "      <td>91</td>\n",
              "    </tr>\n",
              "    <tr>\n",
              "      <th>3</th>\n",
              "      <td>male</td>\n",
              "      <td>group A</td>\n",
              "      <td>associate's degree</td>\n",
              "      <td>free/reduced</td>\n",
              "      <td>none</td>\n",
              "      <td>married</td>\n",
              "      <td>never</td>\n",
              "      <td>no</td>\n",
              "      <td>1.0</td>\n",
              "      <td>NaN</td>\n",
              "      <td>5 - 10</td>\n",
              "      <td>45</td>\n",
              "      <td>56</td>\n",
              "      <td>42</td>\n",
              "    </tr>\n",
              "    <tr>\n",
              "      <th>4</th>\n",
              "      <td>male</td>\n",
              "      <td>group C</td>\n",
              "      <td>some college</td>\n",
              "      <td>standard</td>\n",
              "      <td>none</td>\n",
              "      <td>married</td>\n",
              "      <td>sometimes</td>\n",
              "      <td>yes</td>\n",
              "      <td>0.0</td>\n",
              "      <td>school_bus</td>\n",
              "      <td>5 - 10</td>\n",
              "      <td>76</td>\n",
              "      <td>78</td>\n",
              "      <td>75</td>\n",
              "    </tr>\n",
              "  </tbody>\n",
              "</table>\n",
              "</div>\n",
              "    <div class=\"colab-df-buttons\">\n",
              "\n",
              "  <div class=\"colab-df-container\">\n",
              "    <button class=\"colab-df-convert\" onclick=\"convertToInteractive('df-d192b128-c163-4623-9fd8-4f53b569ebe9')\"\n",
              "            title=\"Convert this dataframe to an interactive table.\"\n",
              "            style=\"display:none;\">\n",
              "\n",
              "  <svg xmlns=\"http://www.w3.org/2000/svg\" height=\"24px\" viewBox=\"0 -960 960 960\">\n",
              "    <path d=\"M120-120v-720h720v720H120Zm60-500h600v-160H180v160Zm220 220h160v-160H400v160Zm0 220h160v-160H400v160ZM180-400h160v-160H180v160Zm440 0h160v-160H620v160ZM180-180h160v-160H180v160Zm440 0h160v-160H620v160Z\"/>\n",
              "  </svg>\n",
              "    </button>\n",
              "\n",
              "  <style>\n",
              "    .colab-df-container {\n",
              "      display:flex;\n",
              "      gap: 12px;\n",
              "    }\n",
              "\n",
              "    .colab-df-convert {\n",
              "      background-color: #E8F0FE;\n",
              "      border: none;\n",
              "      border-radius: 50%;\n",
              "      cursor: pointer;\n",
              "      display: none;\n",
              "      fill: #1967D2;\n",
              "      height: 32px;\n",
              "      padding: 0 0 0 0;\n",
              "      width: 32px;\n",
              "    }\n",
              "\n",
              "    .colab-df-convert:hover {\n",
              "      background-color: #E2EBFA;\n",
              "      box-shadow: 0px 1px 2px rgba(60, 64, 67, 0.3), 0px 1px 3px 1px rgba(60, 64, 67, 0.15);\n",
              "      fill: #174EA6;\n",
              "    }\n",
              "\n",
              "    .colab-df-buttons div {\n",
              "      margin-bottom: 4px;\n",
              "    }\n",
              "\n",
              "    [theme=dark] .colab-df-convert {\n",
              "      background-color: #3B4455;\n",
              "      fill: #D2E3FC;\n",
              "    }\n",
              "\n",
              "    [theme=dark] .colab-df-convert:hover {\n",
              "      background-color: #434B5C;\n",
              "      box-shadow: 0px 1px 3px 1px rgba(0, 0, 0, 0.15);\n",
              "      filter: drop-shadow(0px 1px 2px rgba(0, 0, 0, 0.3));\n",
              "      fill: #FFFFFF;\n",
              "    }\n",
              "  </style>\n",
              "\n",
              "    <script>\n",
              "      const buttonEl =\n",
              "        document.querySelector('#df-d192b128-c163-4623-9fd8-4f53b569ebe9 button.colab-df-convert');\n",
              "      buttonEl.style.display =\n",
              "        google.colab.kernel.accessAllowed ? 'block' : 'none';\n",
              "\n",
              "      async function convertToInteractive(key) {\n",
              "        const element = document.querySelector('#df-d192b128-c163-4623-9fd8-4f53b569ebe9');\n",
              "        const dataTable =\n",
              "          await google.colab.kernel.invokeFunction('convertToInteractive',\n",
              "                                                    [key], {});\n",
              "        if (!dataTable) return;\n",
              "\n",
              "        const docLinkHtml = 'Like what you see? Visit the ' +\n",
              "          '<a target=\"_blank\" href=https://colab.research.google.com/notebooks/data_table.ipynb>data table notebook</a>'\n",
              "          + ' to learn more about interactive tables.';\n",
              "        element.innerHTML = '';\n",
              "        dataTable['output_type'] = 'display_data';\n",
              "        await google.colab.output.renderOutput(dataTable, element);\n",
              "        const docLink = document.createElement('div');\n",
              "        docLink.innerHTML = docLinkHtml;\n",
              "        element.appendChild(docLink);\n",
              "      }\n",
              "    </script>\n",
              "  </div>\n",
              "\n",
              "\n",
              "<div id=\"df-043f3bca-1af8-40f3-b2b0-56f761ce532b\">\n",
              "  <button class=\"colab-df-quickchart\" onclick=\"quickchart('df-043f3bca-1af8-40f3-b2b0-56f761ce532b')\"\n",
              "            title=\"Suggest charts\"\n",
              "            style=\"display:none;\">\n",
              "\n",
              "<svg xmlns=\"http://www.w3.org/2000/svg\" height=\"24px\"viewBox=\"0 0 24 24\"\n",
              "     width=\"24px\">\n",
              "    <g>\n",
              "        <path d=\"M19 3H5c-1.1 0-2 .9-2 2v14c0 1.1.9 2 2 2h14c1.1 0 2-.9 2-2V5c0-1.1-.9-2-2-2zM9 17H7v-7h2v7zm4 0h-2V7h2v10zm4 0h-2v-4h2v4z\"/>\n",
              "    </g>\n",
              "</svg>\n",
              "  </button>\n",
              "\n",
              "<style>\n",
              "  .colab-df-quickchart {\n",
              "      --bg-color: #E8F0FE;\n",
              "      --fill-color: #1967D2;\n",
              "      --hover-bg-color: #E2EBFA;\n",
              "      --hover-fill-color: #174EA6;\n",
              "      --disabled-fill-color: #AAA;\n",
              "      --disabled-bg-color: #DDD;\n",
              "  }\n",
              "\n",
              "  [theme=dark] .colab-df-quickchart {\n",
              "      --bg-color: #3B4455;\n",
              "      --fill-color: #D2E3FC;\n",
              "      --hover-bg-color: #434B5C;\n",
              "      --hover-fill-color: #FFFFFF;\n",
              "      --disabled-bg-color: #3B4455;\n",
              "      --disabled-fill-color: #666;\n",
              "  }\n",
              "\n",
              "  .colab-df-quickchart {\n",
              "    background-color: var(--bg-color);\n",
              "    border: none;\n",
              "    border-radius: 50%;\n",
              "    cursor: pointer;\n",
              "    display: none;\n",
              "    fill: var(--fill-color);\n",
              "    height: 32px;\n",
              "    padding: 0;\n",
              "    width: 32px;\n",
              "  }\n",
              "\n",
              "  .colab-df-quickchart:hover {\n",
              "    background-color: var(--hover-bg-color);\n",
              "    box-shadow: 0 1px 2px rgba(60, 64, 67, 0.3), 0 1px 3px 1px rgba(60, 64, 67, 0.15);\n",
              "    fill: var(--button-hover-fill-color);\n",
              "  }\n",
              "\n",
              "  .colab-df-quickchart-complete:disabled,\n",
              "  .colab-df-quickchart-complete:disabled:hover {\n",
              "    background-color: var(--disabled-bg-color);\n",
              "    fill: var(--disabled-fill-color);\n",
              "    box-shadow: none;\n",
              "  }\n",
              "\n",
              "  .colab-df-spinner {\n",
              "    border: 2px solid var(--fill-color);\n",
              "    border-color: transparent;\n",
              "    border-bottom-color: var(--fill-color);\n",
              "    animation:\n",
              "      spin 1s steps(1) infinite;\n",
              "  }\n",
              "\n",
              "  @keyframes spin {\n",
              "    0% {\n",
              "      border-color: transparent;\n",
              "      border-bottom-color: var(--fill-color);\n",
              "      border-left-color: var(--fill-color);\n",
              "    }\n",
              "    20% {\n",
              "      border-color: transparent;\n",
              "      border-left-color: var(--fill-color);\n",
              "      border-top-color: var(--fill-color);\n",
              "    }\n",
              "    30% {\n",
              "      border-color: transparent;\n",
              "      border-left-color: var(--fill-color);\n",
              "      border-top-color: var(--fill-color);\n",
              "      border-right-color: var(--fill-color);\n",
              "    }\n",
              "    40% {\n",
              "      border-color: transparent;\n",
              "      border-right-color: var(--fill-color);\n",
              "      border-top-color: var(--fill-color);\n",
              "    }\n",
              "    60% {\n",
              "      border-color: transparent;\n",
              "      border-right-color: var(--fill-color);\n",
              "    }\n",
              "    80% {\n",
              "      border-color: transparent;\n",
              "      border-right-color: var(--fill-color);\n",
              "      border-bottom-color: var(--fill-color);\n",
              "    }\n",
              "    90% {\n",
              "      border-color: transparent;\n",
              "      border-bottom-color: var(--fill-color);\n",
              "    }\n",
              "  }\n",
              "</style>\n",
              "\n",
              "  <script>\n",
              "    async function quickchart(key) {\n",
              "      const quickchartButtonEl =\n",
              "        document.querySelector('#' + key + ' button');\n",
              "      quickchartButtonEl.disabled = true;  // To prevent multiple clicks.\n",
              "      quickchartButtonEl.classList.add('colab-df-spinner');\n",
              "      try {\n",
              "        const charts = await google.colab.kernel.invokeFunction(\n",
              "            'suggestCharts', [key], {});\n",
              "      } catch (error) {\n",
              "        console.error('Error during call to suggestCharts:', error);\n",
              "      }\n",
              "      quickchartButtonEl.classList.remove('colab-df-spinner');\n",
              "      quickchartButtonEl.classList.add('colab-df-quickchart-complete');\n",
              "    }\n",
              "    (() => {\n",
              "      let quickchartButtonEl =\n",
              "        document.querySelector('#df-043f3bca-1af8-40f3-b2b0-56f761ce532b button');\n",
              "      quickchartButtonEl.style.display =\n",
              "        google.colab.kernel.accessAllowed ? 'block' : 'none';\n",
              "    })();\n",
              "  </script>\n",
              "</div>\n",
              "    </div>\n",
              "  </div>\n"
            ]
          },
          "metadata": {},
          "execution_count": 118
        }
      ]
    },
    {
      "cell_type": "code",
      "source": [
        "data['ParentEduc'] = data['ParentEduc'].apply(encode_education)"
      ],
      "metadata": {
        "id": "7tgVd60D4ZjZ"
      },
      "execution_count": null,
      "outputs": []
    },
    {
      "cell_type": "code",
      "source": [
        "data[data['ParentEduc'] == 0]['MathScore'].plot.hist()"
      ],
      "metadata": {
        "colab": {
          "base_uri": "https://localhost:8080/",
          "height": 447
        },
        "id": "2cxzno64AM0Y",
        "outputId": "aa674feb-99fc-44d3-8874-f56b21066e10"
      },
      "execution_count": null,
      "outputs": [
        {
          "output_type": "execute_result",
          "data": {
            "text/plain": [
              "<Axes: ylabel='Frequency'>"
            ]
          },
          "metadata": {},
          "execution_count": 120
        },
        {
          "output_type": "display_data",
          "data": {
            "text/plain": [
              "<Figure size 640x480 with 1 Axes>"
            ],
            "image/png": "[encoded data removed]"
          },
          "metadata": {}
        }
      ]
    },
    {
      "cell_type": "code",
      "source": [
        "data[data['ParentEduc'] == 4]['MathScore'].plot.hist()"
      ],
      "metadata": {
        "colab": {
          "base_uri": "https://localhost:8080/",
          "height": 447
        },
        "id": "5LyXoPRnAUhw",
        "outputId": "a53c4b3f-09a7-4dcc-a008-e5a40780f71c"
      },
      "execution_count": null,
      "outputs": [
        {
          "output_type": "execute_result",
          "data": {
            "text/plain": [
              "<Axes: ylabel='Frequency'>"
            ]
          },
          "metadata": {},
          "execution_count": 121
        },
        {
          "output_type": "display_data",
          "data": {
            "text/plain": [
              "<Figure size 640x480 with 1 Axes>"
            ],
            "image/png": "[encoded data removed]"
          },
          "metadata": {}
        }
      ]
    },
    {
      "cell_type": "code",
      "source": [
        "data[data['ParentEduc'] == 4]['MathScore'].describe()"
      ],
      "metadata": {
        "colab": {
          "base_uri": "https://localhost:8080/"
        },
        "id": "blm47Q-nAZUZ",
        "outputId": "596e3903-b92b-4486-fcdd-37651957d72d"
      },
      "execution_count": null,
      "outputs": [
        {
          "output_type": "execute_result",
          "data": {
            "text/plain": [
              "count    2023.000000\n",
              "mean       72.336134\n",
              "std        14.699553\n",
              "min        22.000000\n",
              "25%        62.000000\n",
              "50%        73.000000\n",
              "75%        83.000000\n",
              "max       100.000000\n",
              "Name: MathScore, dtype: float64"
            ]
          },
          "metadata": {},
          "execution_count": 122
        }
      ]
    },
    {
      "cell_type": "code",
      "source": [
        "data[data['ParentEduc'] == 0]['MathScore'].describe()"
      ],
      "metadata": {
        "colab": {
          "base_uri": "https://localhost:8080/"
        },
        "id": "Nawhg_OBAXCI",
        "outputId": "3ed44a06-5d62-4aa6-d6a4-bd999f2e2134"
      },
      "execution_count": null,
      "outputs": [
        {
          "output_type": "execute_result",
          "data": {
            "text/plain": [
              "count    11204.000000\n",
              "mean        63.523920\n",
              "std         15.116485\n",
              "min          0.000000\n",
              "25%         53.000000\n",
              "50%         64.000000\n",
              "75%         74.000000\n",
              "max        100.000000\n",
              "Name: MathScore, dtype: float64"
            ]
          },
          "metadata": {},
          "execution_count": 123
        }
      ]
    },
    {
      "cell_type": "code",
      "source": [
        "data['TransportMeans'].value_counts()"
      ],
      "metadata": {
        "colab": {
          "base_uri": "https://localhost:8080/"
        },
        "id": "dEwv5BM-429Y",
        "outputId": "d2dd3125-e5c5-4a7f-f810-2b336aa17cb1"
      },
      "execution_count": null,
      "outputs": [
        {
          "output_type": "execute_result",
          "data": {
            "text/plain": [
              "school_bus    16145\n",
              "private       11362\n",
              "Name: TransportMeans, dtype: int64"
            ]
          },
          "metadata": {},
          "execution_count": 124
        }
      ]
    },
    {
      "cell_type": "code",
      "source": [
        "label_encode_columns = ['Gender', 'EthnicGroup']"
      ],
      "metadata": {
        "id": "spzO-kBg4uHy"
      },
      "execution_count": null,
      "outputs": []
    },
    {
      "cell_type": "code",
      "source": [
        "encoder = LabelEncoder()\n",
        "data['Gender'] = encoder.fit_transform(data['Gender'])"
      ],
      "metadata": {
        "id": "BrYYGMzf4qA0"
      },
      "execution_count": null,
      "outputs": []
    },
    {
      "cell_type": "code",
      "source": [
        "data['target'] = encoder.fit_transform(data['EthnicGroup'])"
      ],
      "metadata": {
        "id": "aspFDWSp5DJi"
      },
      "execution_count": null,
      "outputs": []
    },
    {
      "cell_type": "code",
      "source": [
        "data.loc[data['target'] == 5, 'target'] = np.nan"
      ],
      "metadata": {
        "id": "5qkwwlED5MSQ"
      },
      "execution_count": null,
      "outputs": []
    },
    {
      "cell_type": "code",
      "source": [
        "data['target']"
      ],
      "metadata": {
        "colab": {
          "base_uri": "https://localhost:8080/"
        },
        "id": "tYWx-kco5ZID",
        "outputId": "42974350-aa30-4e0b-9790-6e4cd9e32cdf"
      },
      "execution_count": null,
      "outputs": [
        {
          "output_type": "execute_result",
          "data": {
            "text/plain": [
              "0        NaN\n",
              "1        2.0\n",
              "2        1.0\n",
              "3        0.0\n",
              "4        2.0\n",
              "        ... \n",
              "30636    3.0\n",
              "30637    4.0\n",
              "30638    NaN\n",
              "30639    3.0\n",
              "30640    1.0\n",
              "Name: target, Length: 30641, dtype: float64"
            ]
          },
          "metadata": {},
          "execution_count": 129
        }
      ]
    },
    {
      "cell_type": "code",
      "source": [
        "data = data.drop(columns='EthnicGroup')"
      ],
      "metadata": {
        "id": "kwusv6ue5ezh"
      },
      "execution_count": null,
      "outputs": []
    },
    {
      "cell_type": "code",
      "source": [
        "data"
      ],
      "metadata": {
        "colab": {
          "base_uri": "https://localhost:8080/",
          "height": 443
        },
        "id": "EQTMyarE5vFp",
        "outputId": "e9b7df2c-3055-4775-ce07-912f94fd3308"
      },
      "execution_count": null,
      "outputs": [
        {
          "output_type": "execute_result",
          "data": {
            "text/plain": [
              "       Gender  ParentEduc     LunchType   TestPrep ParentMaritalStatus  \\\n",
              "0           0         3.0      standard       none             married   \n",
              "1           0         1.0      standard        NaN             married   \n",
              "2           0         4.0      standard       none              single   \n",
              "3           1         2.0  free/reduced       none             married   \n",
              "4           1         1.0      standard       none             married   \n",
              "...       ...         ...           ...        ...                 ...   \n",
              "30636       0         0.0      standard       none              single   \n",
              "30637       1         0.0      standard       none              single   \n",
              "30638       0         0.0  free/reduced  completed             married   \n",
              "30639       0         2.0      standard  completed             married   \n",
              "30640       1         1.0      standard       none             married   \n",
              "\n",
              "      PracticeSport IsFirstChild  NrSiblings TransportMeans WklyStudyHours  \\\n",
              "0         regularly          yes         3.0     school_bus            < 5   \n",
              "1         sometimes          yes         0.0            NaN         5 - 10   \n",
              "2         sometimes          yes         4.0     school_bus            < 5   \n",
              "3             never           no         1.0            NaN         5 - 10   \n",
              "4         sometimes          yes         0.0     school_bus         5 - 10   \n",
              "...             ...          ...         ...            ...            ...   \n",
              "30636     sometimes           no         2.0     school_bus         5 - 10   \n",
              "30637     regularly           no         1.0        private         5 - 10   \n",
              "30638     sometimes           no         1.0        private         5 - 10   \n",
              "30639     regularly           no         3.0     school_bus         5 - 10   \n",
              "30640         never           no         1.0     school_bus         5 - 10   \n",
              "\n",
              "       MathScore  ReadingScore  WritingScore  target  \n",
              "0             71            71            74     NaN  \n",
              "1             69            90            88     2.0  \n",
              "2             87            93            91     1.0  \n",
              "3             45            56            42     0.0  \n",
              "4             76            78            75     2.0  \n",
              "...          ...           ...           ...     ...  \n",
              "30636         59            61            65     3.0  \n",
              "30637         58            53            51     4.0  \n",
              "30638         61            70            67     NaN  \n",
              "30639         82            90            93     3.0  \n",
              "30640         64            60            58     1.0  \n",
              "\n",
              "[30641 rows x 14 columns]"
            ],
            "text/html": [
              "\n",
              "  <div id=\"df-d00e7023-44b9-4601-b2e2-17cc7f16e178\" class=\"colab-df-container\">\n",
              "    <div>\n",
              "<style scoped>\n",
              "    .dataframe tbody tr th:only-of-type {\n",
              "        vertical-align: middle;\n",
              "    }\n",
              "\n",
              "    .dataframe tbody tr th {\n",
              "        vertical-align: top;\n",
              "    }\n",
              "\n",
              "    .dataframe thead th {\n",
              "        text-align: right;\n",
              "    }\n",
              "</style>\n",
              "<table border=\"1\" class=\"dataframe\">\n",
              "  <thead>\n",
              "    <tr style=\"text-align: right;\">\n",
              "      <th></th>\n",
              "      <th>Gender</th>\n",
              "      <th>ParentEduc</th>\n",
              "      <th>LunchType</th>\n",
              "      <th>TestPrep</th>\n",
              "      <th>ParentMaritalStatus</th>\n",
              "      <th>PracticeSport</th>\n",
              "      <th>IsFirstChild</th>\n",
              "      <th>NrSiblings</th>\n",
              "      <th>TransportMeans</th>\n",
              "      <th>WklyStudyHours</th>\n",
              "      <th>MathScore</th>\n",
              "      <th>ReadingScore</th>\n",
              "      <th>WritingScore</th>\n",
              "      <th>target</th>\n",
              "    </tr>\n",
              "  </thead>\n",
              "  <tbody>\n",
              "    <tr>\n",
              "      <th>0</th>\n",
              "      <td>0</td>\n",
              "      <td>3.0</td>\n",
              "      <td>standard</td>\n",
              "      <td>none</td>\n",
              "      <td>married</td>\n",
              "      <td>regularly</td>\n",
              "      <td>yes</td>\n",
              "      <td>3.0</td>\n",
              "      <td>school_bus</td>\n",
              "      <td>&lt; 5</td>\n",
              "      <td>71</td>\n",
              "      <td>71</td>\n",
              "      <td>74</td>\n",
              "      <td>NaN</td>\n",
              "    </tr>\n",
              "    <tr>\n",
              "      <th>1</th>\n",
              "      <td>0</td>\n",
              "      <td>1.0</td>\n",
              "      <td>standard</td>\n",
              "      <td>NaN</td>\n",
              "      <td>married</td>\n",
              "      <td>sometimes</td>\n",
              "      <td>yes</td>\n",
              "      <td>0.0</td>\n",
              "      <td>NaN</td>\n",
              "      <td>5 - 10</td>\n",
              "      <td>69</td>\n",
              "      <td>90</td>\n",
              "      <td>88</td>\n",
              "      <td>2.0</td>\n",
              "    </tr>\n",
              "    <tr>\n",
              "      <th>2</th>\n",
              "      <td>0</td>\n",
              "      <td>4.0</td>\n",
              "      <td>standard</td>\n",
              "      <td>none</td>\n",
              "      <td>single</td>\n",
              "      <td>sometimes</td>\n",
              "      <td>yes</td>\n",
              "      <td>4.0</td>\n",
              "      <td>school_bus</td>\n",
              "      <td>&lt; 5</td>\n",
              "      <td>87</td>\n",
              "      <td>93</td>\n",
              "      <td>91</td>\n",
              "      <td>1.0</td>\n",
              "    </tr>\n",
              "    <tr>\n",
              "      <th>3</th>\n",
              "      <td>1</td>\n",
              "      <td>2.0</td>\n",
              "      <td>free/reduced</td>\n",
              "      <td>none</td>\n",
              "      <td>married</td>\n",
              "      <td>never</td>\n",
              "      <td>no</td>\n",
              "      <td>1.0</td>\n",
              "      <td>NaN</td>\n",
              "      <td>5 - 10</td>\n",
              "      <td>45</td>\n",
              "      <td>56</td>\n",
              "      <td>42</td>\n",
              "      <td>0.0</td>\n",
              "    </tr>\n",
              "    <tr>\n",
              "      <th>4</th>\n",
              "      <td>1</td>\n",
              "      <td>1.0</td>\n",
              "      <td>standard</td>\n",
              "      <td>none</td>\n",
              "      <td>married</td>\n",
              "      <td>sometimes</td>\n",
              "      <td>yes</td>\n",
              "      <td>0.0</td>\n",
              "      <td>school_bus</td>\n",
              "      <td>5 - 10</td>\n",
              "      <td>76</td>\n",
              "      <td>78</td>\n",
              "      <td>75</td>\n",
              "      <td>2.0</td>\n",
              "    </tr>\n",
              "    <tr>\n",
              "      <th>...</th>\n",
              "      <td>...</td>\n",
              "      <td>...</td>\n",
              "      <td>...</td>\n",
              "      <td>...</td>\n",
              "      <td>...</td>\n",
              "      <td>...</td>\n",
              "      <td>...</td>\n",
              "      <td>...</td>\n",
              "      <td>...</td>\n",
              "      <td>...</td>\n",
              "      <td>...</td>\n",
              "      <td>...</td>\n",
              "      <td>...</td>\n",
              "      <td>...</td>\n",
              "    </tr>\n",
              "    <tr>\n",
              "      <th>30636</th>\n",
              "      <td>0</td>\n",
              "      <td>0.0</td>\n",
              "      <td>standard</td>\n",
              "      <td>none</td>\n",
              "      <td>single</td>\n",
              "      <td>sometimes</td>\n",
              "      <td>no</td>\n",
              "      <td>2.0</td>\n",
              "      <td>school_bus</td>\n",
              "      <td>5 - 10</td>\n",
              "      <td>59</td>\n",
              "      <td>61</td>\n",
              "      <td>65</td>\n",
              "      <td>3.0</td>\n",
              "    </tr>\n",
              "    <tr>\n",
              "      <th>30637</th>\n",
              "      <td>1</td>\n",
              "      <td>0.0</td>\n",
              "      <td>standard</td>\n",
              "      <td>none</td>\n",
              "      <td>single</td>\n",
              "      <td>regularly</td>\n",
              "      <td>no</td>\n",
              "      <td>1.0</td>\n",
              "      <td>private</td>\n",
              "      <td>5 - 10</td>\n",
              "      <td>58</td>\n",
              "      <td>53</td>\n",
              "      <td>51</td>\n",
              "      <td>4.0</td>\n",
              "    </tr>\n",
              "    <tr>\n",
              "      <th>30638</th>\n",
              "      <td>0</td>\n",
              "      <td>0.0</td>\n",
              "      <td>free/reduced</td>\n",
              "      <td>completed</td>\n",
              "      <td>married</td>\n",
              "      <td>sometimes</td>\n",
              "      <td>no</td>\n",
              "      <td>1.0</td>\n",
              "      <td>private</td>\n",
              "      <td>5 - 10</td>\n",
              "      <td>61</td>\n",
              "      <td>70</td>\n",
              "      <td>67</td>\n",
              "      <td>NaN</td>\n",
              "    </tr>\n",
              "    <tr>\n",
              "      <th>30639</th>\n",
              "      <td>0</td>\n",
              "      <td>2.0</td>\n",
              "      <td>standard</td>\n",
              "      <td>completed</td>\n",
              "      <td>married</td>\n",
              "      <td>regularly</td>\n",
              "      <td>no</td>\n",
              "      <td>3.0</td>\n",
              "      <td>school_bus</td>\n",
              "      <td>5 - 10</td>\n",
              "      <td>82</td>\n",
              "      <td>90</td>\n",
              "      <td>93</td>\n",
              "      <td>3.0</td>\n",
              "    </tr>\n",
              "    <tr>\n",
              "      <th>30640</th>\n",
              "      <td>1</td>\n",
              "      <td>1.0</td>\n",
              "      <td>standard</td>\n",
              "      <td>none</td>\n",
              "      <td>married</td>\n",
              "      <td>never</td>\n",
              "      <td>no</td>\n",
              "      <td>1.0</td>\n",
              "      <td>school_bus</td>\n",
              "      <td>5 - 10</td>\n",
              "      <td>64</td>\n",
              "      <td>60</td>\n",
              "      <td>58</td>\n",
              "      <td>1.0</td>\n",
              "    </tr>\n",
              "  </tbody>\n",
              "</table>\n",
              "<p>30641 rows × 14 columns</p>\n",
              "</div>\n",
              "    <div class=\"colab-df-buttons\">\n",
              "\n",
              "  <div class=\"colab-df-container\">\n",
              "    <button class=\"colab-df-convert\" onclick=\"convertToInteractive('df-d00e7023-44b9-4601-b2e2-17cc7f16e178')\"\n",
              "            title=\"Convert this dataframe to an interactive table.\"\n",
              "            style=\"display:none;\">\n",
              "\n",
              "  <svg xmlns=\"http://www.w3.org/2000/svg\" height=\"24px\" viewBox=\"0 -960 960 960\">\n",
              "    <path d=\"M120-120v-720h720v720H120Zm60-500h600v-160H180v160Zm220 220h160v-160H400v160Zm0 220h160v-160H400v160ZM180-400h160v-160H180v160Zm440 0h160v-160H620v160ZM180-180h160v-160H180v160Zm440 0h160v-160H620v160Z\"/>\n",
              "  </svg>\n",
              "    </button>\n",
              "\n",
              "  <style>\n",
              "    .colab-df-container {\n",
              "      display:flex;\n",
              "      gap: 12px;\n",
              "    }\n",
              "\n",
              "    .colab-df-convert {\n",
              "      background-color: #E8F0FE;\n",
              "      border: none;\n",
              "      border-radius: 50%;\n",
              "      cursor: pointer;\n",
              "      display: none;\n",
              "      fill: #1967D2;\n",
              "      height: 32px;\n",
              "      padding: 0 0 0 0;\n",
              "      width: 32px;\n",
              "    }\n",
              "\n",
              "    .colab-df-convert:hover {\n",
              "      background-color: #E2EBFA;\n",
              "      box-shadow: 0px 1px 2px rgba(60, 64, 67, 0.3), 0px 1px 3px 1px rgba(60, 64, 67, 0.15);\n",
              "      fill: #174EA6;\n",
              "    }\n",
              "\n",
              "    .colab-df-buttons div {\n",
              "      margin-bottom: 4px;\n",
              "    }\n",
              "\n",
              "    [theme=dark] .colab-df-convert {\n",
              "      background-color: #3B4455;\n",
              "      fill: #D2E3FC;\n",
              "    }\n",
              "\n",
              "    [theme=dark] .colab-df-convert:hover {\n",
              "      background-color: #434B5C;\n",
              "      box-shadow: 0px 1px 3px 1px rgba(0, 0, 0, 0.15);\n",
              "      filter: drop-shadow(0px 1px 2px rgba(0, 0, 0, 0.3));\n",
              "      fill: #FFFFFF;\n",
              "    }\n",
              "  </style>\n",
              "\n",
              "    <script>\n",
              "      const buttonEl =\n",
              "        document.querySelector('#df-d00e7023-44b9-4601-b2e2-17cc7f16e178 button.colab-df-convert');\n",
              "      buttonEl.style.display =\n",
              "        google.colab.kernel.accessAllowed ? 'block' : 'none';\n",
              "\n",
              "      async function convertToInteractive(key) {\n",
              "        const element = document.querySelector('#df-d00e7023-44b9-4601-b2e2-17cc7f16e178');\n",
              "        const dataTable =\n",
              "          await google.colab.kernel.invokeFunction('convertToInteractive',\n",
              "                                                    [key], {});\n",
              "        if (!dataTable) return;\n",
              "\n",
              "        const docLinkHtml = 'Like what you see? Visit the ' +\n",
              "          '<a target=\"_blank\" href=https://colab.research.google.com/notebooks/data_table.ipynb>data table notebook</a>'\n",
              "          + ' to learn more about interactive tables.';\n",
              "        element.innerHTML = '';\n",
              "        dataTable['output_type'] = 'display_data';\n",
              "        await google.colab.output.renderOutput(dataTable, element);\n",
              "        const docLink = document.createElement('div');\n",
              "        docLink.innerHTML = docLinkHtml;\n",
              "        element.appendChild(docLink);\n",
              "      }\n",
              "    </script>\n",
              "  </div>\n",
              "\n",
              "\n",
              "<div id=\"df-8b61954d-cb7f-4efe-a4a4-0cab801b74c6\">\n",
              "  <button class=\"colab-df-quickchart\" onclick=\"quickchart('df-8b61954d-cb7f-4efe-a4a4-0cab801b74c6')\"\n",
              "            title=\"Suggest charts\"\n",
              "            style=\"display:none;\">\n",
              "\n",
              "<svg xmlns=\"http://www.w3.org/2000/svg\" height=\"24px\"viewBox=\"0 0 24 24\"\n",
              "     width=\"24px\">\n",
              "    <g>\n",
              "        <path d=\"M19 3H5c-1.1 0-2 .9-2 2v14c0 1.1.9 2 2 2h14c1.1 0 2-.9 2-2V5c0-1.1-.9-2-2-2zM9 17H7v-7h2v7zm4 0h-2V7h2v10zm4 0h-2v-4h2v4z\"/>\n",
              "    </g>\n",
              "</svg>\n",
              "  </button>\n",
              "\n",
              "<style>\n",
              "  .colab-df-quickchart {\n",
              "      --bg-color: #E8F0FE;\n",
              "      --fill-color: #1967D2;\n",
              "      --hover-bg-color: #E2EBFA;\n",
              "      --hover-fill-color: #174EA6;\n",
              "      --disabled-fill-color: #AAA;\n",
              "      --disabled-bg-color: #DDD;\n",
              "  }\n",
              "\n",
              "  [theme=dark] .colab-df-quickchart {\n",
              "      --bg-color: #3B4455;\n",
              "      --fill-color: #D2E3FC;\n",
              "      --hover-bg-color: #434B5C;\n",
              "      --hover-fill-color: #FFFFFF;\n",
              "      --disabled-bg-color: #3B4455;\n",
              "      --disabled-fill-color: #666;\n",
              "  }\n",
              "\n",
              "  .colab-df-quickchart {\n",
              "    background-color: var(--bg-color);\n",
              "    border: none;\n",
              "    border-radius: 50%;\n",
              "    cursor: pointer;\n",
              "    display: none;\n",
              "    fill: var(--fill-color);\n",
              "    height: 32px;\n",
              "    padding: 0;\n",
              "    width: 32px;\n",
              "  }\n",
              "\n",
              "  .colab-df-quickchart:hover {\n",
              "    background-color: var(--hover-bg-color);\n",
              "    box-shadow: 0 1px 2px rgba(60, 64, 67, 0.3), 0 1px 3px 1px rgba(60, 64, 67, 0.15);\n",
              "    fill: var(--button-hover-fill-color);\n",
              "  }\n",
              "\n",
              "  .colab-df-quickchart-complete:disabled,\n",
              "  .colab-df-quickchart-complete:disabled:hover {\n",
              "    background-color: var(--disabled-bg-color);\n",
              "    fill: var(--disabled-fill-color);\n",
              "    box-shadow: none;\n",
              "  }\n",
              "\n",
              "  .colab-df-spinner {\n",
              "    border: 2px solid var(--fill-color);\n",
              "    border-color: transparent;\n",
              "    border-bottom-color: var(--fill-color);\n",
              "    animation:\n",
              "      spin 1s steps(1) infinite;\n",
              "  }\n",
              "\n",
              "  @keyframes spin {\n",
              "    0% {\n",
              "      border-color: transparent;\n",
              "      border-bottom-color: var(--fill-color);\n",
              "      border-left-color: var(--fill-color);\n",
              "    }\n",
              "    20% {\n",
              "      border-color: transparent;\n",
              "      border-left-color: var(--fill-color);\n",
              "      border-top-color: var(--fill-color);\n",
              "    }\n",
              "    30% {\n",
              "      border-color: transparent;\n",
              "      border-left-color: var(--fill-color);\n",
              "      border-top-color: var(--fill-color);\n",
              "      border-right-color: var(--fill-color);\n",
              "    }\n",
              "    40% {\n",
              "      border-color: transparent;\n",
              "      border-right-color: var(--fill-color);\n",
              "      border-top-color: var(--fill-color);\n",
              "    }\n",
              "    60% {\n",
              "      border-color: transparent;\n",
              "      border-right-color: var(--fill-color);\n",
              "    }\n",
              "    80% {\n",
              "      border-color: transparent;\n",
              "      border-right-color: var(--fill-color);\n",
              "      border-bottom-color: var(--fill-color);\n",
              "    }\n",
              "    90% {\n",
              "      border-color: transparent;\n",
              "      border-bottom-color: var(--fill-color);\n",
              "    }\n",
              "  }\n",
              "</style>\n",
              "\n",
              "  <script>\n",
              "    async function quickchart(key) {\n",
              "      const quickchartButtonEl =\n",
              "        document.querySelector('#' + key + ' button');\n",
              "      quickchartButtonEl.disabled = true;  // To prevent multiple clicks.\n",
              "      quickchartButtonEl.classList.add('colab-df-spinner');\n",
              "      try {\n",
              "        const charts = await google.colab.kernel.invokeFunction(\n",
              "            'suggestCharts', [key], {});\n",
              "      } catch (error) {\n",
              "        console.error('Error during call to suggestCharts:', error);\n",
              "      }\n",
              "      quickchartButtonEl.classList.remove('colab-df-spinner');\n",
              "      quickchartButtonEl.classList.add('colab-df-quickchart-complete');\n",
              "    }\n",
              "    (() => {\n",
              "      let quickchartButtonEl =\n",
              "        document.querySelector('#df-8b61954d-cb7f-4efe-a4a4-0cab801b74c6 button');\n",
              "      quickchartButtonEl.style.display =\n",
              "        google.colab.kernel.accessAllowed ? 'block' : 'none';\n",
              "    })();\n",
              "  </script>\n",
              "</div>\n",
              "    </div>\n",
              "  </div>\n"
            ]
          },
          "metadata": {},
          "execution_count": 131
        }
      ]
    },
    {
      "cell_type": "code",
      "source": [
        "def encode_lunch(x):\n",
        "  if type(x) == float:\n",
        "    return x\n",
        "  if x == \"standard\":\n",
        "    return 1\n",
        "  else:\n",
        "    return 0"
      ],
      "metadata": {
        "id": "FtGKk-Jz53Zk"
      },
      "execution_count": null,
      "outputs": []
    },
    {
      "cell_type": "code",
      "source": [
        "data['LunchType'].value_counts()"
      ],
      "metadata": {
        "colab": {
          "base_uri": "https://localhost:8080/"
        },
        "id": "Ib2D9wF15zWZ",
        "outputId": "9923af2c-95db-4697-e278-0e7267bc1460"
      },
      "execution_count": null,
      "outputs": [
        {
          "output_type": "execute_result",
          "data": {
            "text/plain": [
              "standard        19905\n",
              "free/reduced    10736\n",
              "Name: LunchType, dtype: int64"
            ]
          },
          "metadata": {},
          "execution_count": 133
        }
      ]
    },
    {
      "cell_type": "code",
      "source": [
        "data['LunchType'] = data['LunchType'].apply(encode_lunch)"
      ],
      "metadata": {
        "id": "0NYBr1ZU6AnR"
      },
      "execution_count": null,
      "outputs": []
    },
    {
      "cell_type": "code",
      "source": [
        "data['TestPrep'].value_counts()"
      ],
      "metadata": {
        "colab": {
          "base_uri": "https://localhost:8080/"
        },
        "id": "HSCUvSCu6Mir",
        "outputId": "10d15ad4-47a9-49d4-dbb5-89c5c6a347f4"
      },
      "execution_count": null,
      "outputs": [
        {
          "output_type": "execute_result",
          "data": {
            "text/plain": [
              "none         18856\n",
              "completed     9955\n",
              "Name: TestPrep, dtype: int64"
            ]
          },
          "metadata": {},
          "execution_count": 135
        }
      ]
    },
    {
      "cell_type": "code",
      "source": [
        "def encode_test_prep(x):\n",
        "  if type(x) == float:\n",
        "    return x\n",
        "  if x == \"completed\":\n",
        "    return 1\n",
        "  else:\n",
        "    return 0"
      ],
      "metadata": {
        "id": "Bepno3446Hlz"
      },
      "execution_count": null,
      "outputs": []
    },
    {
      "cell_type": "code",
      "source": [
        "data['TestPrep'] = data['TestPrep'].apply(encode_test_prep)"
      ],
      "metadata": {
        "id": "J20Xbaiu6QoE"
      },
      "execution_count": null,
      "outputs": []
    },
    {
      "cell_type": "code",
      "source": [
        "data = pd.concat([data, pd.get_dummies(data['ParentMaritalStatus'])], axis=1)"
      ],
      "metadata": {
        "id": "hoh5HGub6VmU"
      },
      "execution_count": null,
      "outputs": []
    },
    {
      "cell_type": "code",
      "source": [
        "data.head()"
      ],
      "metadata": {
        "colab": {
          "base_uri": "https://localhost:8080/",
          "height": 226
        },
        "id": "brlbls426iAB",
        "outputId": "c66cc46c-9dc5-4775-cf86-1e82778e8335"
      },
      "execution_count": null,
      "outputs": [
        {
          "output_type": "execute_result",
          "data": {
            "text/plain": [
              "   Gender  ParentEduc  LunchType  TestPrep ParentMaritalStatus PracticeSport  \\\n",
              "0       0         3.0          1       0.0             married     regularly   \n",
              "1       0         1.0          1       NaN             married     sometimes   \n",
              "2       0         4.0          1       0.0              single     sometimes   \n",
              "3       1         2.0          0       0.0             married         never   \n",
              "4       1         1.0          1       0.0             married     sometimes   \n",
              "\n",
              "  IsFirstChild  NrSiblings TransportMeans WklyStudyHours  MathScore  \\\n",
              "0          yes         3.0     school_bus            < 5         71   \n",
              "1          yes         0.0            NaN         5 - 10         69   \n",
              "2          yes         4.0     school_bus            < 5         87   \n",
              "3           no         1.0            NaN         5 - 10         45   \n",
              "4          yes         0.0     school_bus         5 - 10         76   \n",
              "\n",
              "   ReadingScore  WritingScore  target  divorced  married  single  widowed  \n",
              "0            71            74     NaN         0        1       0        0  \n",
              "1            90            88     2.0         0        1       0        0  \n",
              "2            93            91     1.0         0        0       1        0  \n",
              "3            56            42     0.0         0        1       0        0  \n",
              "4            78            75     2.0         0        1       0        0  "
            ],
            "text/html": [
              "\n",
              "  <div id=\"df-8159634b-2874-4fc3-ae4c-06aa19c79955\" class=\"colab-df-container\">\n",
              "    <div>\n",
              "<style scoped>\n",
              "    .dataframe tbody tr th:only-of-type {\n",
              "        vertical-align: middle;\n",
              "    }\n",
              "\n",
              "    .dataframe tbody tr th {\n",
              "        vertical-align: top;\n",
              "    }\n",
              "\n",
              "    .dataframe thead th {\n",
              "        text-align: right;\n",
              "    }\n",
              "</style>\n",
              "<table border=\"1\" class=\"dataframe\">\n",
              "  <thead>\n",
              "    <tr style=\"text-align: right;\">\n",
              "      <th></th>\n",
              "      <th>Gender</th>\n",
              "      <th>ParentEduc</th>\n",
              "      <th>LunchType</th>\n",
              "      <th>TestPrep</th>\n",
              "      <th>ParentMaritalStatus</th>\n",
              "      <th>PracticeSport</th>\n",
              "      <th>IsFirstChild</th>\n",
              "      <th>NrSiblings</th>\n",
              "      <th>TransportMeans</th>\n",
              "      <th>WklyStudyHours</th>\n",
              "      <th>MathScore</th>\n",
              "      <th>ReadingScore</th>\n",
              "      <th>WritingScore</th>\n",
              "      <th>target</th>\n",
              "      <th>divorced</th>\n",
              "      <th>married</th>\n",
              "      <th>single</th>\n",
              "      <th>widowed</th>\n",
              "    </tr>\n",
              "  </thead>\n",
              "  <tbody>\n",
              "    <tr>\n",
              "      <th>0</th>\n",
              "      <td>0</td>\n",
              "      <td>3.0</td>\n",
              "      <td>1</td>\n",
              "      <td>0.0</td>\n",
              "      <td>married</td>\n",
              "      <td>regularly</td>\n",
              "      <td>yes</td>\n",
              "      <td>3.0</td>\n",
              "      <td>school_bus</td>\n",
              "      <td>&lt; 5</td>\n",
              "      <td>71</td>\n",
              "      <td>71</td>\n",
              "      <td>74</td>\n",
              "      <td>NaN</td>\n",
              "      <td>0</td>\n",
              "      <td>1</td>\n",
              "      <td>0</td>\n",
              "      <td>0</td>\n",
              "    </tr>\n",
              "    <tr>\n",
              "      <th>1</th>\n",
              "      <td>0</td>\n",
              "      <td>1.0</td>\n",
              "      <td>1</td>\n",
              "      <td>NaN</td>\n",
              "      <td>married</td>\n",
              "      <td>sometimes</td>\n",
              "      <td>yes</td>\n",
              "      <td>0.0</td>\n",
              "      <td>NaN</td>\n",
              "      <td>5 - 10</td>\n",
              "      <td>69</td>\n",
              "      <td>90</td>\n",
              "      <td>88</td>\n",
              "      <td>2.0</td>\n",
              "      <td>0</td>\n",
              "      <td>1</td>\n",
              "      <td>0</td>\n",
              "      <td>0</td>\n",
              "    </tr>\n",
              "    <tr>\n",
              "      <th>2</th>\n",
              "      <td>0</td>\n",
              "      <td>4.0</td>\n",
              "      <td>1</td>\n",
              "      <td>0.0</td>\n",
              "      <td>single</td>\n",
              "      <td>sometimes</td>\n",
              "      <td>yes</td>\n",
              "      <td>4.0</td>\n",
              "      <td>school_bus</td>\n",
              "      <td>&lt; 5</td>\n",
              "      <td>87</td>\n",
              "      <td>93</td>\n",
              "      <td>91</td>\n",
              "      <td>1.0</td>\n",
              "      <td>0</td>\n",
              "      <td>0</td>\n",
              "      <td>1</td>\n",
              "      <td>0</td>\n",
              "    </tr>\n",
              "    <tr>\n",
              "      <th>3</th>\n",
              "      <td>1</td>\n",
              "      <td>2.0</td>\n",
              "      <td>0</td>\n",
              "      <td>0.0</td>\n",
              "      <td>married</td>\n",
              "      <td>never</td>\n",
              "      <td>no</td>\n",
              "      <td>1.0</td>\n",
              "      <td>NaN</td>\n",
              "      <td>5 - 10</td>\n",
              "      <td>45</td>\n",
              "      <td>56</td>\n",
              "      <td>42</td>\n",
              "      <td>0.0</td>\n",
              "      <td>0</td>\n",
              "      <td>1</td>\n",
              "      <td>0</td>\n",
              "      <td>0</td>\n",
              "    </tr>\n",
              "    <tr>\n",
              "      <th>4</th>\n",
              "      <td>1</td>\n",
              "      <td>1.0</td>\n",
              "      <td>1</td>\n",
              "      <td>0.0</td>\n",
              "      <td>married</td>\n",
              "      <td>sometimes</td>\n",
              "      <td>yes</td>\n",
              "      <td>0.0</td>\n",
              "      <td>school_bus</td>\n",
              "      <td>5 - 10</td>\n",
              "      <td>76</td>\n",
              "      <td>78</td>\n",
              "      <td>75</td>\n",
              "      <td>2.0</td>\n",
              "      <td>0</td>\n",
              "      <td>1</td>\n",
              "      <td>0</td>\n",
              "      <td>0</td>\n",
              "    </tr>\n",
              "  </tbody>\n",
              "</table>\n",
              "</div>\n",
              "    <div class=\"colab-df-buttons\">\n",
              "\n",
              "  <div class=\"colab-df-container\">\n",
              "    <button class=\"colab-df-convert\" onclick=\"convertToInteractive('df-8159634b-2874-4fc3-ae4c-06aa19c79955')\"\n",
              "            title=\"Convert this dataframe to an interactive table.\"\n",
              "            style=\"display:none;\">\n",
              "\n",
              "  <svg xmlns=\"http://www.w3.org/2000/svg\" height=\"24px\" viewBox=\"0 -960 960 960\">\n",
              "    <path d=\"M120-120v-720h720v720H120Zm60-500h600v-160H180v160Zm220 220h160v-160H400v160Zm0 220h160v-160H400v160ZM180-400h160v-160H180v160Zm440 0h160v-160H620v160ZM180-180h160v-160H180v160Zm440 0h160v-160H620v160Z\"/>\n",
              "  </svg>\n",
              "    </button>\n",
              "\n",
              "  <style>\n",
              "    .colab-df-container {\n",
              "      display:flex;\n",
              "      gap: 12px;\n",
              "    }\n",
              "\n",
              "    .colab-df-convert {\n",
              "      background-color: #E8F0FE;\n",
              "      border: none;\n",
              "      border-radius: 50%;\n",
              "      cursor: pointer;\n",
              "      display: none;\n",
              "      fill: #1967D2;\n",
              "      height: 32px;\n",
              "      padding: 0 0 0 0;\n",
              "      width: 32px;\n",
              "    }\n",
              "\n",
              "    .colab-df-convert:hover {\n",
              "      background-color: #E2EBFA;\n",
              "      box-shadow: 0px 1px 2px rgba(60, 64, 67, 0.3), 0px 1px 3px 1px rgba(60, 64, 67, 0.15);\n",
              "      fill: #174EA6;\n",
              "    }\n",
              "\n",
              "    .colab-df-buttons div {\n",
              "      margin-bottom: 4px;\n",
              "    }\n",
              "\n",
              "    [theme=dark] .colab-df-convert {\n",
              "      background-color: #3B4455;\n",
              "      fill: #D2E3FC;\n",
              "    }\n",
              "\n",
              "    [theme=dark] .colab-df-convert:hover {\n",
              "      background-color: #434B5C;\n",
              "      box-shadow: 0px 1px 3px 1px rgba(0, 0, 0, 0.15);\n",
              "      filter: drop-shadow(0px 1px 2px rgba(0, 0, 0, 0.3));\n",
              "      fill: #FFFFFF;\n",
              "    }\n",
              "  </style>\n",
              "\n",
              "    <script>\n",
              "      const buttonEl =\n",
              "        document.querySelector('#df-8159634b-2874-4fc3-ae4c-06aa19c79955 button.colab-df-convert');\n",
              "      buttonEl.style.display =\n",
              "        google.colab.kernel.accessAllowed ? 'block' : 'none';\n",
              "\n",
              "      async function convertToInteractive(key) {\n",
              "        const element = document.querySelector('#df-8159634b-2874-4fc3-ae4c-06aa19c79955');\n",
              "        const dataTable =\n",
              "          await google.colab.kernel.invokeFunction('convertToInteractive',\n",
              "                                                    [key], {});\n",
              "        if (!dataTable) return;\n",
              "\n",
              "        const docLinkHtml = 'Like what you see? Visit the ' +\n",
              "          '<a target=\"_blank\" href=https://colab.research.google.com/notebooks/data_table.ipynb>data table notebook</a>'\n",
              "          + ' to learn more about interactive tables.';\n",
              "        element.innerHTML = '';\n",
              "        dataTable['output_type'] = 'display_data';\n",
              "        await google.colab.output.renderOutput(dataTable, element);\n",
              "        const docLink = document.createElement('div');\n",
              "        docLink.innerHTML = docLinkHtml;\n",
              "        element.appendChild(docLink);\n",
              "      }\n",
              "    </script>\n",
              "  </div>\n",
              "\n",
              "\n",
              "<div id=\"df-66e7886a-9cbd-42f2-9d26-0afb1ad485d3\">\n",
              "  <button class=\"colab-df-quickchart\" onclick=\"quickchart('df-66e7886a-9cbd-42f2-9d26-0afb1ad485d3')\"\n",
              "            title=\"Suggest charts\"\n",
              "            style=\"display:none;\">\n",
              "\n",
              "<svg xmlns=\"http://www.w3.org/2000/svg\" height=\"24px\"viewBox=\"0 0 24 24\"\n",
              "     width=\"24px\">\n",
              "    <g>\n",
              "        <path d=\"M19 3H5c-1.1 0-2 .9-2 2v14c0 1.1.9 2 2 2h14c1.1 0 2-.9 2-2V5c0-1.1-.9-2-2-2zM9 17H7v-7h2v7zm4 0h-2V7h2v10zm4 0h-2v-4h2v4z\"/>\n",
              "    </g>\n",
              "</svg>\n",
              "  </button>\n",
              "\n",
              "<style>\n",
              "  .colab-df-quickchart {\n",
              "      --bg-color: #E8F0FE;\n",
              "      --fill-color: #1967D2;\n",
              "      --hover-bg-color: #E2EBFA;\n",
              "      --hover-fill-color: #174EA6;\n",
              "      --disabled-fill-color: #AAA;\n",
              "      --disabled-bg-color: #DDD;\n",
              "  }\n",
              "\n",
              "  [theme=dark] .colab-df-quickchart {\n",
              "      --bg-color: #3B4455;\n",
              "      --fill-color: #D2E3FC;\n",
              "      --hover-bg-color: #434B5C;\n",
              "      --hover-fill-color: #FFFFFF;\n",
              "      --disabled-bg-color: #3B4455;\n",
              "      --disabled-fill-color: #666;\n",
              "  }\n",
              "\n",
              "  .colab-df-quickchart {\n",
              "    background-color: var(--bg-color);\n",
              "    border: none;\n",
              "    border-radius: 50%;\n",
              "    cursor: pointer;\n",
              "    display: none;\n",
              "    fill: var(--fill-color);\n",
              "    height: 32px;\n",
              "    padding: 0;\n",
              "    width: 32px;\n",
              "  }\n",
              "\n",
              "  .colab-df-quickchart:hover {\n",
              "    background-color: var(--hover-bg-color);\n",
              "    box-shadow: 0 1px 2px rgba(60, 64, 67, 0.3), 0 1px 3px 1px rgba(60, 64, 67, 0.15);\n",
              "    fill: var(--button-hover-fill-color);\n",
              "  }\n",
              "\n",
              "  .colab-df-quickchart-complete:disabled,\n",
              "  .colab-df-quickchart-complete:disabled:hover {\n",
              "    background-color: var(--disabled-bg-color);\n",
              "    fill: var(--disabled-fill-color);\n",
              "    box-shadow: none;\n",
              "  }\n",
              "\n",
              "  .colab-df-spinner {\n",
              "    border: 2px solid var(--fill-color);\n",
              "    border-color: transparent;\n",
              "    border-bottom-color: var(--fill-color);\n",
              "    animation:\n",
              "      spin 1s steps(1) infinite;\n",
              "  }\n",
              "\n",
              "  @keyframes spin {\n",
              "    0% {\n",
              "      border-color: transparent;\n",
              "      border-bottom-color: var(--fill-color);\n",
              "      border-left-color: var(--fill-color);\n",
              "    }\n",
              "    20% {\n",
              "      border-color: transparent;\n",
              "      border-left-color: var(--fill-color);\n",
              "      border-top-color: var(--fill-color);\n",
              "    }\n",
              "    30% {\n",
              "      border-color: transparent;\n",
              "      border-left-color: var(--fill-color);\n",
              "      border-top-color: var(--fill-color);\n",
              "      border-right-color: var(--fill-color);\n",
              "    }\n",
              "    40% {\n",
              "      border-color: transparent;\n",
              "      border-right-color: var(--fill-color);\n",
              "      border-top-color: var(--fill-color);\n",
              "    }\n",
              "    60% {\n",
              "      border-color: transparent;\n",
              "      border-right-color: var(--fill-color);\n",
              "    }\n",
              "    80% {\n",
              "      border-color: transparent;\n",
              "      border-right-color: var(--fill-color);\n",
              "      border-bottom-color: var(--fill-color);\n",
              "    }\n",
              "    90% {\n",
              "      border-color: transparent;\n",
              "      border-bottom-color: var(--fill-color);\n",
              "    }\n",
              "  }\n",
              "</style>\n",
              "\n",
              "  <script>\n",
              "    async function quickchart(key) {\n",
              "      const quickchartButtonEl =\n",
              "        document.querySelector('#' + key + ' button');\n",
              "      quickchartButtonEl.disabled = true;  // To prevent multiple clicks.\n",
              "      quickchartButtonEl.classList.add('colab-df-spinner');\n",
              "      try {\n",
              "        const charts = await google.colab.kernel.invokeFunction(\n",
              "            'suggestCharts', [key], {});\n",
              "      } catch (error) {\n",
              "        console.error('Error during call to suggestCharts:', error);\n",
              "      }\n",
              "      quickchartButtonEl.classList.remove('colab-df-spinner');\n",
              "      quickchartButtonEl.classList.add('colab-df-quickchart-complete');\n",
              "    }\n",
              "    (() => {\n",
              "      let quickchartButtonEl =\n",
              "        document.querySelector('#df-66e7886a-9cbd-42f2-9d26-0afb1ad485d3 button');\n",
              "      quickchartButtonEl.style.display =\n",
              "        google.colab.kernel.accessAllowed ? 'block' : 'none';\n",
              "    })();\n",
              "  </script>\n",
              "</div>\n",
              "    </div>\n",
              "  </div>\n"
            ]
          },
          "metadata": {},
          "execution_count": 139
        }
      ]
    },
    {
      "cell_type": "code",
      "source": [
        "data = data.drop(columns=['ParentMaritalStatus'])"
      ],
      "metadata": {
        "id": "txzWiMzJ6jQY"
      },
      "execution_count": null,
      "outputs": []
    },
    {
      "cell_type": "code",
      "source": [
        "def encode_practice_sport(x):\n",
        "  if type(x) == float:\n",
        "    return x\n",
        "  if x == \"never\":\n",
        "    return 0\n",
        "  if x == \"sometimes\":\n",
        "    return 1\n",
        "  if x == \"regularly\":\n",
        "    return 2"
      ],
      "metadata": {
        "id": "VHXXCS7S6sb4"
      },
      "execution_count": null,
      "outputs": []
    },
    {
      "cell_type": "code",
      "source": [
        "data['PracticeSport'].value_counts()"
      ],
      "metadata": {
        "colab": {
          "base_uri": "https://localhost:8080/"
        },
        "id": "UWJTwxq96nw4",
        "outputId": "2650612b-c921-4db4-d7dc-322f6eb469c6"
      },
      "execution_count": null,
      "outputs": [
        {
          "output_type": "execute_result",
          "data": {
            "text/plain": [
              "sometimes    15213\n",
              "regularly    10793\n",
              "never         4004\n",
              "Name: PracticeSport, dtype: int64"
            ]
          },
          "metadata": {},
          "execution_count": 142
        }
      ]
    },
    {
      "cell_type": "code",
      "source": [
        "data['PracticeSport'] = data['PracticeSport'].apply(encode_practice_sport)"
      ],
      "metadata": {
        "id": "aY1JRYce65bU"
      },
      "execution_count": null,
      "outputs": []
    },
    {
      "cell_type": "code",
      "source": [
        "data.head()"
      ],
      "metadata": {
        "colab": {
          "base_uri": "https://localhost:8080/",
          "height": 226
        },
        "id": "s2EQZZR769TP",
        "outputId": "eb8bf454-ed8d-4fe6-9586-1bd3ff996507"
      },
      "execution_count": null,
      "outputs": [
        {
          "output_type": "execute_result",
          "data": {
            "text/plain": [
              "   Gender  ParentEduc  LunchType  TestPrep  PracticeSport IsFirstChild  \\\n",
              "0       0         3.0          1       0.0            2.0          yes   \n",
              "1       0         1.0          1       NaN            1.0          yes   \n",
              "2       0         4.0          1       0.0            1.0          yes   \n",
              "3       1         2.0          0       0.0            0.0           no   \n",
              "4       1         1.0          1       0.0            1.0          yes   \n",
              "\n",
              "   NrSiblings TransportMeans WklyStudyHours  MathScore  ReadingScore  \\\n",
              "0         3.0     school_bus            < 5         71            71   \n",
              "1         0.0            NaN         5 - 10         69            90   \n",
              "2         4.0     school_bus            < 5         87            93   \n",
              "3         1.0            NaN         5 - 10         45            56   \n",
              "4         0.0     school_bus         5 - 10         76            78   \n",
              "\n",
              "   WritingScore  target  divorced  married  single  widowed  \n",
              "0            74     NaN         0        1       0        0  \n",
              "1            88     2.0         0        1       0        0  \n",
              "2            91     1.0         0        0       1        0  \n",
              "3            42     0.0         0        1       0        0  \n",
              "4            75     2.0         0        1       0        0  "
            ],
            "text/html": [
              "\n",
              "  <div id=\"df-c587af12-9c15-48ec-b784-575f33ee0277\" class=\"colab-df-container\">\n",
              "    <div>\n",
              "<style scoped>\n",
              "    .dataframe tbody tr th:only-of-type {\n",
              "        vertical-align: middle;\n",
              "    }\n",
              "\n",
              "    .dataframe tbody tr th {\n",
              "        vertical-align: top;\n",
              "    }\n",
              "\n",
              "    .dataframe thead th {\n",
              "        text-align: right;\n",
              "    }\n",
              "</style>\n",
              "<table border=\"1\" class=\"dataframe\">\n",
              "  <thead>\n",
              "    <tr style=\"text-align: right;\">\n",
              "      <th></th>\n",
              "      <th>Gender</th>\n",
              "      <th>ParentEduc</th>\n",
              "      <th>LunchType</th>\n",
              "      <th>TestPrep</th>\n",
              "      <th>PracticeSport</th>\n",
              "      <th>IsFirstChild</th>\n",
              "      <th>NrSiblings</th>\n",
              "      <th>TransportMeans</th>\n",
              "      <th>WklyStudyHours</th>\n",
              "      <th>MathScore</th>\n",
              "      <th>ReadingScore</th>\n",
              "      <th>WritingScore</th>\n",
              "      <th>target</th>\n",
              "      <th>divorced</th>\n",
              "      <th>married</th>\n",
              "      <th>single</th>\n",
              "      <th>widowed</th>\n",
              "    </tr>\n",
              "  </thead>\n",
              "  <tbody>\n",
              "    <tr>\n",
              "      <th>0</th>\n",
              "      <td>0</td>\n",
              "      <td>3.0</td>\n",
              "      <td>1</td>\n",
              "      <td>0.0</td>\n",
              "      <td>2.0</td>\n",
              "      <td>yes</td>\n",
              "      <td>3.0</td>\n",
              "      <td>school_bus</td>\n",
              "      <td>&lt; 5</td>\n",
              "      <td>71</td>\n",
              "      <td>71</td>\n",
              "      <td>74</td>\n",
              "      <td>NaN</td>\n",
              "      <td>0</td>\n",
              "      <td>1</td>\n",
              "      <td>0</td>\n",
              "      <td>0</td>\n",
              "    </tr>\n",
              "    <tr>\n",
              "      <th>1</th>\n",
              "      <td>0</td>\n",
              "      <td>1.0</td>\n",
              "      <td>1</td>\n",
              "      <td>NaN</td>\n",
              "      <td>1.0</td>\n",
              "      <td>yes</td>\n",
              "      <td>0.0</td>\n",
              "      <td>NaN</td>\n",
              "      <td>5 - 10</td>\n",
              "      <td>69</td>\n",
              "      <td>90</td>\n",
              "      <td>88</td>\n",
              "      <td>2.0</td>\n",
              "      <td>0</td>\n",
              "      <td>1</td>\n",
              "      <td>0</td>\n",
              "      <td>0</td>\n",
              "    </tr>\n",
              "    <tr>\n",
              "      <th>2</th>\n",
              "      <td>0</td>\n",
              "      <td>4.0</td>\n",
              "      <td>1</td>\n",
              "      <td>0.0</td>\n",
              "      <td>1.0</td>\n",
              "      <td>yes</td>\n",
              "      <td>4.0</td>\n",
              "      <td>school_bus</td>\n",
              "      <td>&lt; 5</td>\n",
              "      <td>87</td>\n",
              "      <td>93</td>\n",
              "      <td>91</td>\n",
              "      <td>1.0</td>\n",
              "      <td>0</td>\n",
              "      <td>0</td>\n",
              "      <td>1</td>\n",
              "      <td>0</td>\n",
              "    </tr>\n",
              "    <tr>\n",
              "      <th>3</th>\n",
              "      <td>1</td>\n",
              "      <td>2.0</td>\n",
              "      <td>0</td>\n",
              "      <td>0.0</td>\n",
              "      <td>0.0</td>\n",
              "      <td>no</td>\n",
              "      <td>1.0</td>\n",
              "      <td>NaN</td>\n",
              "      <td>5 - 10</td>\n",
              "      <td>45</td>\n",
              "      <td>56</td>\n",
              "      <td>42</td>\n",
              "      <td>0.0</td>\n",
              "      <td>0</td>\n",
              "      <td>1</td>\n",
              "      <td>0</td>\n",
              "      <td>0</td>\n",
              "    </tr>\n",
              "    <tr>\n",
              "      <th>4</th>\n",
              "      <td>1</td>\n",
              "      <td>1.0</td>\n",
              "      <td>1</td>\n",
              "      <td>0.0</td>\n",
              "      <td>1.0</td>\n",
              "      <td>yes</td>\n",
              "      <td>0.0</td>\n",
              "      <td>school_bus</td>\n",
              "      <td>5 - 10</td>\n",
              "      <td>76</td>\n",
              "      <td>78</td>\n",
              "      <td>75</td>\n",
              "      <td>2.0</td>\n",
              "      <td>0</td>\n",
              "      <td>1</td>\n",
              "      <td>0</td>\n",
              "      <td>0</td>\n",
              "    </tr>\n",
              "  </tbody>\n",
              "</table>\n",
              "</div>\n",
              "    <div class=\"colab-df-buttons\">\n",
              "\n",
              "  <div class=\"colab-df-container\">\n",
              "    <button class=\"colab-df-convert\" onclick=\"convertToInteractive('df-c587af12-9c15-48ec-b784-575f33ee0277')\"\n",
              "            title=\"Convert this dataframe to an interactive table.\"\n",
              "            style=\"display:none;\">\n",
              "\n",
              "  <svg xmlns=\"http://www.w3.org/2000/svg\" height=\"24px\" viewBox=\"0 -960 960 960\">\n",
              "    <path d=\"M120-120v-720h720v720H120Zm60-500h600v-160H180v160Zm220 220h160v-160H400v160Zm0 220h160v-160H400v160ZM180-400h160v-160H180v160Zm440 0h160v-160H620v160ZM180-180h160v-160H180v160Zm440 0h160v-160H620v160Z\"/>\n",
              "  </svg>\n",
              "    </button>\n",
              "\n",
              "  <style>\n",
              "    .colab-df-container {\n",
              "      display:flex;\n",
              "      gap: 12px;\n",
              "    }\n",
              "\n",
              "    .colab-df-convert {\n",
              "      background-color: #E8F0FE;\n",
              "      border: none;\n",
              "      border-radius: 50%;\n",
              "      cursor: pointer;\n",
              "      display: none;\n",
              "      fill: #1967D2;\n",
              "      height: 32px;\n",
              "      padding: 0 0 0 0;\n",
              "      width: 32px;\n",
              "    }\n",
              "\n",
              "    .colab-df-convert:hover {\n",
              "      background-color: #E2EBFA;\n",
              "      box-shadow: 0px 1px 2px rgba(60, 64, 67, 0.3), 0px 1px 3px 1px rgba(60, 64, 67, 0.15);\n",
              "      fill: #174EA6;\n",
              "    }\n",
              "\n",
              "    .colab-df-buttons div {\n",
              "      margin-bottom: 4px;\n",
              "    }\n",
              "\n",
              "    [theme=dark] .colab-df-convert {\n",
              "      background-color: #3B4455;\n",
              "      fill: #D2E3FC;\n",
              "    }\n",
              "\n",
              "    [theme=dark] .colab-df-convert:hover {\n",
              "      background-color: #434B5C;\n",
              "      box-shadow: 0px 1px 3px 1px rgba(0, 0, 0, 0.15);\n",
              "      filter: drop-shadow(0px 1px 2px rgba(0, 0, 0, 0.3));\n",
              "      fill: #FFFFFF;\n",
              "    }\n",
              "  </style>\n",
              "\n",
              "    <script>\n",
              "      const buttonEl =\n",
              "        document.querySelector('#df-c587af12-9c15-48ec-b784-575f33ee0277 button.colab-df-convert');\n",
              "      buttonEl.style.display =\n",
              "        google.colab.kernel.accessAllowed ? 'block' : 'none';\n",
              "\n",
              "      async function convertToInteractive(key) {\n",
              "        const element = document.querySelector('#df-c587af12-9c15-48ec-b784-575f33ee0277');\n",
              "        const dataTable =\n",
              "          await google.colab.kernel.invokeFunction('convertToInteractive',\n",
              "                                                    [key], {});\n",
              "        if (!dataTable) return;\n",
              "\n",
              "        const docLinkHtml = 'Like what you see? Visit the ' +\n",
              "          '<a target=\"_blank\" href=https://colab.research.google.com/notebooks/data_table.ipynb>data table notebook</a>'\n",
              "          + ' to learn more about interactive tables.';\n",
              "        element.innerHTML = '';\n",
              "        dataTable['output_type'] = 'display_data';\n",
              "        await google.colab.output.renderOutput(dataTable, element);\n",
              "        const docLink = document.createElement('div');\n",
              "        docLink.innerHTML = docLinkHtml;\n",
              "        element.appendChild(docLink);\n",
              "      }\n",
              "    </script>\n",
              "  </div>\n",
              "\n",
              "\n",
              "<div id=\"df-9914aa5f-88b5-4c10-9e43-a4ea7654e1c6\">\n",
              "  <button class=\"colab-df-quickchart\" onclick=\"quickchart('df-9914aa5f-88b5-4c10-9e43-a4ea7654e1c6')\"\n",
              "            title=\"Suggest charts\"\n",
              "            style=\"display:none;\">\n",
              "\n",
              "<svg xmlns=\"http://www.w3.org/2000/svg\" height=\"24px\"viewBox=\"0 0 24 24\"\n",
              "     width=\"24px\">\n",
              "    <g>\n",
              "        <path d=\"M19 3H5c-1.1 0-2 .9-2 2v14c0 1.1.9 2 2 2h14c1.1 0 2-.9 2-2V5c0-1.1-.9-2-2-2zM9 17H7v-7h2v7zm4 0h-2V7h2v10zm4 0h-2v-4h2v4z\"/>\n",
              "    </g>\n",
              "</svg>\n",
              "  </button>\n",
              "\n",
              "<style>\n",
              "  .colab-df-quickchart {\n",
              "      --bg-color: #E8F0FE;\n",
              "      --fill-color: #1967D2;\n",
              "      --hover-bg-color: #E2EBFA;\n",
              "      --hover-fill-color: #174EA6;\n",
              "      --disabled-fill-color: #AAA;\n",
              "      --disabled-bg-color: #DDD;\n",
              "  }\n",
              "\n",
              "  [theme=dark] .colab-df-quickchart {\n",
              "      --bg-color: #3B4455;\n",
              "      --fill-color: #D2E3FC;\n",
              "      --hover-bg-color: #434B5C;\n",
              "      --hover-fill-color: #FFFFFF;\n",
              "      --disabled-bg-color: #3B4455;\n",
              "      --disabled-fill-color: #666;\n",
              "  }\n",
              "\n",
              "  .colab-df-quickchart {\n",
              "    background-color: var(--bg-color);\n",
              "    border: none;\n",
              "    border-radius: 50%;\n",
              "    cursor: pointer;\n",
              "    display: none;\n",
              "    fill: var(--fill-color);\n",
              "    height: 32px;\n",
              "    padding: 0;\n",
              "    width: 32px;\n",
              "  }\n",
              "\n",
              "  .colab-df-quickchart:hover {\n",
              "    background-color: var(--hover-bg-color);\n",
              "    box-shadow: 0 1px 2px rgba(60, 64, 67, 0.3), 0 1px 3px 1px rgba(60, 64, 67, 0.15);\n",
              "    fill: var(--button-hover-fill-color);\n",
              "  }\n",
              "\n",
              "  .colab-df-quickchart-complete:disabled,\n",
              "  .colab-df-quickchart-complete:disabled:hover {\n",
              "    background-color: var(--disabled-bg-color);\n",
              "    fill: var(--disabled-fill-color);\n",
              "    box-shadow: none;\n",
              "  }\n",
              "\n",
              "  .colab-df-spinner {\n",
              "    border: 2px solid var(--fill-color);\n",
              "    border-color: transparent;\n",
              "    border-bottom-color: var(--fill-color);\n",
              "    animation:\n",
              "      spin 1s steps(1) infinite;\n",
              "  }\n",
              "\n",
              "  @keyframes spin {\n",
              "    0% {\n",
              "      border-color: transparent;\n",
              "      border-bottom-color: var(--fill-color);\n",
              "      border-left-color: var(--fill-color);\n",
              "    }\n",
              "    20% {\n",
              "      border-color: transparent;\n",
              "      border-left-color: var(--fill-color);\n",
              "      border-top-color: var(--fill-color);\n",
              "    }\n",
              "    30% {\n",
              "      border-color: transparent;\n",
              "      border-left-color: var(--fill-color);\n",
              "      border-top-color: var(--fill-color);\n",
              "      border-right-color: var(--fill-color);\n",
              "    }\n",
              "    40% {\n",
              "      border-color: transparent;\n",
              "      border-right-color: var(--fill-color);\n",
              "      border-top-color: var(--fill-color);\n",
              "    }\n",
              "    60% {\n",
              "      border-color: transparent;\n",
              "      border-right-color: var(--fill-color);\n",
              "    }\n",
              "    80% {\n",
              "      border-color: transparent;\n",
              "      border-right-color: var(--fill-color);\n",
              "      border-bottom-color: var(--fill-color);\n",
              "    }\n",
              "    90% {\n",
              "      border-color: transparent;\n",
              "      border-bottom-color: var(--fill-color);\n",
              "    }\n",
              "  }\n",
              "</style>\n",
              "\n",
              "  <script>\n",
              "    async function quickchart(key) {\n",
              "      const quickchartButtonEl =\n",
              "        document.querySelector('#' + key + ' button');\n",
              "      quickchartButtonEl.disabled = true;  // To prevent multiple clicks.\n",
              "      quickchartButtonEl.classList.add('colab-df-spinner');\n",
              "      try {\n",
              "        const charts = await google.colab.kernel.invokeFunction(\n",
              "            'suggestCharts', [key], {});\n",
              "      } catch (error) {\n",
              "        console.error('Error during call to suggestCharts:', error);\n",
              "      }\n",
              "      quickchartButtonEl.classList.remove('colab-df-spinner');\n",
              "      quickchartButtonEl.classList.add('colab-df-quickchart-complete');\n",
              "    }\n",
              "    (() => {\n",
              "      let quickchartButtonEl =\n",
              "        document.querySelector('#df-9914aa5f-88b5-4c10-9e43-a4ea7654e1c6 button');\n",
              "      quickchartButtonEl.style.display =\n",
              "        google.colab.kernel.accessAllowed ? 'block' : 'none';\n",
              "    })();\n",
              "  </script>\n",
              "</div>\n",
              "    </div>\n",
              "  </div>\n"
            ]
          },
          "metadata": {},
          "execution_count": 144
        }
      ]
    },
    {
      "cell_type": "code",
      "source": [
        "def encode_first_child(x):\n",
        "  if type(x) == float:\n",
        "    return x\n",
        "  if x == \"yes\":\n",
        "    return 1\n",
        "  return 0"
      ],
      "metadata": {
        "id": "igfD0TZ27C5V"
      },
      "execution_count": null,
      "outputs": []
    },
    {
      "cell_type": "code",
      "source": [
        "data['IsFirstChild'] = data['IsFirstChild'].apply(encode_first_child)"
      ],
      "metadata": {
        "id": "XANjMG5l7LrO"
      },
      "execution_count": null,
      "outputs": []
    },
    {
      "cell_type": "code",
      "source": [
        "data['TransportMeans'].value_counts()"
      ],
      "metadata": {
        "colab": {
          "base_uri": "https://localhost:8080/"
        },
        "id": "1W4z7QBM7Qou",
        "outputId": "f8c467b9-c8d0-4111-8577-0bd5263677e2"
      },
      "execution_count": null,
      "outputs": [
        {
          "output_type": "execute_result",
          "data": {
            "text/plain": [
              "school_bus    16145\n",
              "private       11362\n",
              "Name: TransportMeans, dtype: int64"
            ]
          },
          "metadata": {},
          "execution_count": 147
        }
      ]
    },
    {
      "cell_type": "code",
      "source": [
        "def encode_transport(x):\n",
        "  if type(x) == float:\n",
        "    return x\n",
        "  if x == \"school_bus\":\n",
        "    return 0\n",
        "  return 1"
      ],
      "metadata": {
        "id": "Xt1W7wyt7UMb"
      },
      "execution_count": null,
      "outputs": []
    },
    {
      "cell_type": "code",
      "source": [
        "data['TransportMeans'] = data['TransportMeans'].apply(encode_transport)"
      ],
      "metadata": {
        "id": "ftE_rAs57qJn"
      },
      "execution_count": null,
      "outputs": []
    },
    {
      "cell_type": "code",
      "source": [
        "data.head()"
      ],
      "metadata": {
        "colab": {
          "base_uri": "https://localhost:8080/",
          "height": 226
        },
        "id": "MKzDmHqY7uE8",
        "outputId": "2b6fa052-a527-4c7b-8cd8-ba326b4d6578"
      },
      "execution_count": null,
      "outputs": [
        {
          "output_type": "execute_result",
          "data": {
            "text/plain": [
              "   Gender  ParentEduc  LunchType  TestPrep  PracticeSport  IsFirstChild  \\\n",
              "0       0         3.0          1       0.0            2.0           1.0   \n",
              "1       0         1.0          1       NaN            1.0           1.0   \n",
              "2       0         4.0          1       0.0            1.0           1.0   \n",
              "3       1         2.0          0       0.0            0.0           0.0   \n",
              "4       1         1.0          1       0.0            1.0           1.0   \n",
              "\n",
              "   NrSiblings  TransportMeans WklyStudyHours  MathScore  ReadingScore  \\\n",
              "0         3.0             0.0            < 5         71            71   \n",
              "1         0.0             NaN         5 - 10         69            90   \n",
              "2         4.0             0.0            < 5         87            93   \n",
              "3         1.0             NaN         5 - 10         45            56   \n",
              "4         0.0             0.0         5 - 10         76            78   \n",
              "\n",
              "   WritingScore  target  divorced  married  single  widowed  \n",
              "0            74     NaN         0        1       0        0  \n",
              "1            88     2.0         0        1       0        0  \n",
              "2            91     1.0         0        0       1        0  \n",
              "3            42     0.0         0        1       0        0  \n",
              "4            75     2.0         0        1       0        0  "
            ],
            "text/html": [
              "\n",
              "  <div id=\"df-5dea2db5-7977-45b4-821a-8d8dee08324b\" class=\"colab-df-container\">\n",
              "    <div>\n",
              "<style scoped>\n",
              "    .dataframe tbody tr th:only-of-type {\n",
              "        vertical-align: middle;\n",
              "    }\n",
              "\n",
              "    .dataframe tbody tr th {\n",
              "        vertical-align: top;\n",
              "    }\n",
              "\n",
              "    .dataframe thead th {\n",
              "        text-align: right;\n",
              "    }\n",
              "</style>\n",
              "<table border=\"1\" class=\"dataframe\">\n",
              "  <thead>\n",
              "    <tr style=\"text-align: right;\">\n",
              "      <th></th>\n",
              "      <th>Gender</th>\n",
              "      <th>ParentEduc</th>\n",
              "      <th>LunchType</th>\n",
              "      <th>TestPrep</th>\n",
              "      <th>PracticeSport</th>\n",
              "      <th>IsFirstChild</th>\n",
              "      <th>NrSiblings</th>\n",
              "      <th>TransportMeans</th>\n",
              "      <th>WklyStudyHours</th>\n",
              "      <th>MathScore</th>\n",
              "      <th>ReadingScore</th>\n",
              "      <th>WritingScore</th>\n",
              "      <th>target</th>\n",
              "      <th>divorced</th>\n",
              "      <th>married</th>\n",
              "      <th>single</th>\n",
              "      <th>widowed</th>\n",
              "    </tr>\n",
              "  </thead>\n",
              "  <tbody>\n",
              "    <tr>\n",
              "      <th>0</th>\n",
              "      <td>0</td>\n",
              "      <td>3.0</td>\n",
              "      <td>1</td>\n",
              "      <td>0.0</td>\n",
              "      <td>2.0</td>\n",
              "      <td>1.0</td>\n",
              "      <td>3.0</td>\n",
              "      <td>0.0</td>\n",
              "      <td>&lt; 5</td>\n",
              "      <td>71</td>\n",
              "      <td>71</td>\n",
              "      <td>74</td>\n",
              "      <td>NaN</td>\n",
              "      <td>0</td>\n",
              "      <td>1</td>\n",
              "      <td>0</td>\n",
              "      <td>0</td>\n",
              "    </tr>\n",
              "    <tr>\n",
              "      <th>1</th>\n",
              "      <td>0</td>\n",
              "      <td>1.0</td>\n",
              "      <td>1</td>\n",
              "      <td>NaN</td>\n",
              "      <td>1.0</td>\n",
              "      <td>1.0</td>\n",
              "      <td>0.0</td>\n",
              "      <td>NaN</td>\n",
              "      <td>5 - 10</td>\n",
              "      <td>69</td>\n",
              "      <td>90</td>\n",
              "      <td>88</td>\n",
              "      <td>2.0</td>\n",
              "      <td>0</td>\n",
              "      <td>1</td>\n",
              "      <td>0</td>\n",
              "      <td>0</td>\n",
              "    </tr>\n",
              "    <tr>\n",
              "      <th>2</th>\n",
              "      <td>0</td>\n",
              "      <td>4.0</td>\n",
              "      <td>1</td>\n",
              "      <td>0.0</td>\n",
              "      <td>1.0</td>\n",
              "      <td>1.0</td>\n",
              "      <td>4.0</td>\n",
              "      <td>0.0</td>\n",
              "      <td>&lt; 5</td>\n",
              "      <td>87</td>\n",
              "      <td>93</td>\n",
              "      <td>91</td>\n",
              "      <td>1.0</td>\n",
              "      <td>0</td>\n",
              "      <td>0</td>\n",
              "      <td>1</td>\n",
              "      <td>0</td>\n",
              "    </tr>\n",
              "    <tr>\n",
              "      <th>3</th>\n",
              "      <td>1</td>\n",
              "      <td>2.0</td>\n",
              "      <td>0</td>\n",
              "      <td>0.0</td>\n",
              "      <td>0.0</td>\n",
              "      <td>0.0</td>\n",
              "      <td>1.0</td>\n",
              "      <td>NaN</td>\n",
              "      <td>5 - 10</td>\n",
              "      <td>45</td>\n",
              "      <td>56</td>\n",
              "      <td>42</td>\n",
              "      <td>0.0</td>\n",
              "      <td>0</td>\n",
              "      <td>1</td>\n",
              "      <td>0</td>\n",
              "      <td>0</td>\n",
              "    </tr>\n",
              "    <tr>\n",
              "      <th>4</th>\n",
              "      <td>1</td>\n",
              "      <td>1.0</td>\n",
              "      <td>1</td>\n",
              "      <td>0.0</td>\n",
              "      <td>1.0</td>\n",
              "      <td>1.0</td>\n",
              "      <td>0.0</td>\n",
              "      <td>0.0</td>\n",
              "      <td>5 - 10</td>\n",
              "      <td>76</td>\n",
              "      <td>78</td>\n",
              "      <td>75</td>\n",
              "      <td>2.0</td>\n",
              "      <td>0</td>\n",
              "      <td>1</td>\n",
              "      <td>0</td>\n",
              "      <td>0</td>\n",
              "    </tr>\n",
              "  </tbody>\n",
              "</table>\n",
              "</div>\n",
              "    <div class=\"colab-df-buttons\">\n",
              "\n",
              "  <div class=\"colab-df-container\">\n",
              "    <button class=\"colab-df-convert\" onclick=\"convertToInteractive('df-5dea2db5-7977-45b4-821a-8d8dee08324b')\"\n",
              "            title=\"Convert this dataframe to an interactive table.\"\n",
              "            style=\"display:none;\">\n",
              "\n",
              "  <svg xmlns=\"http://www.w3.org/2000/svg\" height=\"24px\" viewBox=\"0 -960 960 960\">\n",
              "    <path d=\"M120-120v-720h720v720H120Zm60-500h600v-160H180v160Zm220 220h160v-160H400v160Zm0 220h160v-160H400v160ZM180-400h160v-160H180v160Zm440 0h160v-160H620v160ZM180-180h160v-160H180v160Zm440 0h160v-160H620v160Z\"/>\n",
              "  </svg>\n",
              "    </button>\n",
              "\n",
              "  <style>\n",
              "    .colab-df-container {\n",
              "      display:flex;\n",
              "      gap: 12px;\n",
              "    }\n",
              "\n",
              "    .colab-df-convert {\n",
              "      background-color: #E8F0FE;\n",
              "      border: none;\n",
              "      border-radius: 50%;\n",
              "      cursor: pointer;\n",
              "      display: none;\n",
              "      fill: #1967D2;\n",
              "      height: 32px;\n",
              "      padding: 0 0 0 0;\n",
              "      width: 32px;\n",
              "    }\n",
              "\n",
              "    .colab-df-convert:hover {\n",
              "      background-color: #E2EBFA;\n",
              "      box-shadow: 0px 1px 2px rgba(60, 64, 67, 0.3), 0px 1px 3px 1px rgba(60, 64, 67, 0.15);\n",
              "      fill: #174EA6;\n",
              "    }\n",
              "\n",
              "    .colab-df-buttons div {\n",
              "      margin-bottom: 4px;\n",
              "    }\n",
              "\n",
              "    [theme=dark] .colab-df-convert {\n",
              "      background-color: #3B4455;\n",
              "      fill: #D2E3FC;\n",
              "    }\n",
              "\n",
              "    [theme=dark] .colab-df-convert:hover {\n",
              "      background-color: #434B5C;\n",
              "      box-shadow: 0px 1px 3px 1px rgba(0, 0, 0, 0.15);\n",
              "      filter: drop-shadow(0px 1px 2px rgba(0, 0, 0, 0.3));\n",
              "      fill: #FFFFFF;\n",
              "    }\n",
              "  </style>\n",
              "\n",
              "    <script>\n",
              "      const buttonEl =\n",
              "        document.querySelector('#df-5dea2db5-7977-45b4-821a-8d8dee08324b button.colab-df-convert');\n",
              "      buttonEl.style.display =\n",
              "        google.colab.kernel.accessAllowed ? 'block' : 'none';\n",
              "\n",
              "      async function convertToInteractive(key) {\n",
              "        const element = document.querySelector('#df-5dea2db5-7977-45b4-821a-8d8dee08324b');\n",
              "        const dataTable =\n",
              "          await google.colab.kernel.invokeFunction('convertToInteractive',\n",
              "                                                    [key], {});\n",
              "        if (!dataTable) return;\n",
              "\n",
              "        const docLinkHtml = 'Like what you see? Visit the ' +\n",
              "          '<a target=\"_blank\" href=https://colab.research.google.com/notebooks/data_table.ipynb>data table notebook</a>'\n",
              "          + ' to learn more about interactive tables.';\n",
              "        element.innerHTML = '';\n",
              "        dataTable['output_type'] = 'display_data';\n",
              "        await google.colab.output.renderOutput(dataTable, element);\n",
              "        const docLink = document.createElement('div');\n",
              "        docLink.innerHTML = docLinkHtml;\n",
              "        element.appendChild(docLink);\n",
              "      }\n",
              "    </script>\n",
              "  </div>\n",
              "\n",
              "\n",
              "<div id=\"df-4d0e695d-3ad7-4d14-b2f2-22fc5f2d7c27\">\n",
              "  <button class=\"colab-df-quickchart\" onclick=\"quickchart('df-4d0e695d-3ad7-4d14-b2f2-22fc5f2d7c27')\"\n",
              "            title=\"Suggest charts\"\n",
              "            style=\"display:none;\">\n",
              "\n",
              "<svg xmlns=\"http://www.w3.org/2000/svg\" height=\"24px\"viewBox=\"0 0 24 24\"\n",
              "     width=\"24px\">\n",
              "    <g>\n",
              "        <path d=\"M19 3H5c-1.1 0-2 .9-2 2v14c0 1.1.9 2 2 2h14c1.1 0 2-.9 2-2V5c0-1.1-.9-2-2-2zM9 17H7v-7h2v7zm4 0h-2V7h2v10zm4 0h-2v-4h2v4z\"/>\n",
              "    </g>\n",
              "</svg>\n",
              "  </button>\n",
              "\n",
              "<style>\n",
              "  .colab-df-quickchart {\n",
              "      --bg-color: #E8F0FE;\n",
              "      --fill-color: #1967D2;\n",
              "      --hover-bg-color: #E2EBFA;\n",
              "      --hover-fill-color: #174EA6;\n",
              "      --disabled-fill-color: #AAA;\n",
              "      --disabled-bg-color: #DDD;\n",
              "  }\n",
              "\n",
              "  [theme=dark] .colab-df-quickchart {\n",
              "      --bg-color: #3B4455;\n",
              "      --fill-color: #D2E3FC;\n",
              "      --hover-bg-color: #434B5C;\n",
              "      --hover-fill-color: #FFFFFF;\n",
              "      --disabled-bg-color: #3B4455;\n",
              "      --disabled-fill-color: #666;\n",
              "  }\n",
              "\n",
              "  .colab-df-quickchart {\n",
              "    background-color: var(--bg-color);\n",
              "    border: none;\n",
              "    border-radius: 50%;\n",
              "    cursor: pointer;\n",
              "    display: none;\n",
              "    fill: var(--fill-color);\n",
              "    height: 32px;\n",
              "    padding: 0;\n",
              "    width: 32px;\n",
              "  }\n",
              "\n",
              "  .colab-df-quickchart:hover {\n",
              "    background-color: var(--hover-bg-color);\n",
              "    box-shadow: 0 1px 2px rgba(60, 64, 67, 0.3), 0 1px 3px 1px rgba(60, 64, 67, 0.15);\n",
              "    fill: var(--button-hover-fill-color);\n",
              "  }\n",
              "\n",
              "  .colab-df-quickchart-complete:disabled,\n",
              "  .colab-df-quickchart-complete:disabled:hover {\n",
              "    background-color: var(--disabled-bg-color);\n",
              "    fill: var(--disabled-fill-color);\n",
              "    box-shadow: none;\n",
              "  }\n",
              "\n",
              "  .colab-df-spinner {\n",
              "    border: 2px solid var(--fill-color);\n",
              "    border-color: transparent;\n",
              "    border-bottom-color: var(--fill-color);\n",
              "    animation:\n",
              "      spin 1s steps(1) infinite;\n",
              "  }\n",
              "\n",
              "  @keyframes spin {\n",
              "    0% {\n",
              "      border-color: transparent;\n",
              "      border-bottom-color: var(--fill-color);\n",
              "      border-left-color: var(--fill-color);\n",
              "    }\n",
              "    20% {\n",
              "      border-color: transparent;\n",
              "      border-left-color: var(--fill-color);\n",
              "      border-top-color: var(--fill-color);\n",
              "    }\n",
              "    30% {\n",
              "      border-color: transparent;\n",
              "      border-left-color: var(--fill-color);\n",
              "      border-top-color: var(--fill-color);\n",
              "      border-right-color: var(--fill-color);\n",
              "    }\n",
              "    40% {\n",
              "      border-color: transparent;\n",
              "      border-right-color: var(--fill-color);\n",
              "      border-top-color: var(--fill-color);\n",
              "    }\n",
              "    60% {\n",
              "      border-color: transparent;\n",
              "      border-right-color: var(--fill-color);\n",
              "    }\n",
              "    80% {\n",
              "      border-color: transparent;\n",
              "      border-right-color: var(--fill-color);\n",
              "      border-bottom-color: var(--fill-color);\n",
              "    }\n",
              "    90% {\n",
              "      border-color: transparent;\n",
              "      border-bottom-color: var(--fill-color);\n",
              "    }\n",
              "  }\n",
              "</style>\n",
              "\n",
              "  <script>\n",
              "    async function quickchart(key) {\n",
              "      const quickchartButtonEl =\n",
              "        document.querySelector('#' + key + ' button');\n",
              "      quickchartButtonEl.disabled = true;  // To prevent multiple clicks.\n",
              "      quickchartButtonEl.classList.add('colab-df-spinner');\n",
              "      try {\n",
              "        const charts = await google.colab.kernel.invokeFunction(\n",
              "            'suggestCharts', [key], {});\n",
              "      } catch (error) {\n",
              "        console.error('Error during call to suggestCharts:', error);\n",
              "      }\n",
              "      quickchartButtonEl.classList.remove('colab-df-spinner');\n",
              "      quickchartButtonEl.classList.add('colab-df-quickchart-complete');\n",
              "    }\n",
              "    (() => {\n",
              "      let quickchartButtonEl =\n",
              "        document.querySelector('#df-4d0e695d-3ad7-4d14-b2f2-22fc5f2d7c27 button');\n",
              "      quickchartButtonEl.style.display =\n",
              "        google.colab.kernel.accessAllowed ? 'block' : 'none';\n",
              "    })();\n",
              "  </script>\n",
              "</div>\n",
              "    </div>\n",
              "  </div>\n"
            ]
          },
          "metadata": {},
          "execution_count": 150
        }
      ]
    },
    {
      "cell_type": "code",
      "source": [
        "def encode_hours(x):\n",
        "  if type(x) == float:\n",
        "    return x\n",
        "  if x == '< 5':\n",
        "    return 0\n",
        "  if x == \"5 - 10\":\n",
        "    return 1\n",
        "  return 2"
      ],
      "metadata": {
        "id": "ygQGY2AD70JZ"
      },
      "execution_count": null,
      "outputs": []
    },
    {
      "cell_type": "code",
      "source": [
        "data['WklyStudyHours'].value_counts()"
      ],
      "metadata": {
        "colab": {
          "base_uri": "https://localhost:8080/"
        },
        "id": "ZlsJshE97w8j",
        "outputId": "8ba02ab3-c1c9-46e0-b3e0-16df6f74d886"
      },
      "execution_count": null,
      "outputs": [
        {
          "output_type": "execute_result",
          "data": {
            "text/plain": [
              "5 - 10    16246\n",
              "< 5        8238\n",
              "> 10       5202\n",
              "Name: WklyStudyHours, dtype: int64"
            ]
          },
          "metadata": {},
          "execution_count": 152
        }
      ]
    },
    {
      "cell_type": "code",
      "source": [
        "data['WklyStudyHours'] = data['WklyStudyHours'].apply(encode_hours)"
      ],
      "metadata": {
        "id": "JOQWpNhS7_xP"
      },
      "execution_count": null,
      "outputs": []
    },
    {
      "cell_type": "code",
      "source": [
        "data.isnull().sum()"
      ],
      "metadata": {
        "colab": {
          "base_uri": "https://localhost:8080/"
        },
        "id": "CRUjsH728Cm4",
        "outputId": "00f3ef35-641a-4247-ed0f-33f7bdd0a1e5"
      },
      "execution_count": null,
      "outputs": [
        {
          "output_type": "execute_result",
          "data": {
            "text/plain": [
              "Gender               0\n",
              "ParentEduc        1845\n",
              "LunchType            0\n",
              "TestPrep          1830\n",
              "PracticeSport      631\n",
              "IsFirstChild       904\n",
              "NrSiblings        1572\n",
              "TransportMeans    3134\n",
              "WklyStudyHours     955\n",
              "MathScore            0\n",
              "ReadingScore         0\n",
              "WritingScore         0\n",
              "target            1840\n",
              "divorced             0\n",
              "married              0\n",
              "single               0\n",
              "widowed              0\n",
              "dtype: int64"
            ]
          },
          "metadata": {},
          "execution_count": 154
        }
      ]
    },
    {
      "cell_type": "code",
      "source": [
        "from sklearn.experimental import enable_iterative_imputer\n",
        "from sklearn.impute import IterativeImputer\n",
        "import seaborn as sns\n",
        "import matplotlib.pyplot as plt"
      ],
      "metadata": {
        "id": "Ll2UmhAA8bgJ"
      },
      "execution_count": null,
      "outputs": []
    },
    {
      "cell_type": "code",
      "source": [
        "imputer = IterativeImputer()"
      ],
      "metadata": {
        "id": "qqAHEMcV8kdL"
      },
      "execution_count": null,
      "outputs": []
    },
    {
      "cell_type": "code",
      "source": [
        "data = data.dropna(subset='target', axis=0)"
      ],
      "metadata": {
        "id": "O7RYgfUx8ntB"
      },
      "execution_count": null,
      "outputs": []
    },
    {
      "cell_type": "code",
      "source": [
        "data.isnull().sum()"
      ],
      "metadata": {
        "colab": {
          "base_uri": "https://localhost:8080/"
        },
        "id": "yxzxGbmG8vef",
        "outputId": "64e98369-d497-4fb3-d645-d85a55565112"
      },
      "execution_count": null,
      "outputs": [
        {
          "output_type": "execute_result",
          "data": {
            "text/plain": [
              "Gender               0\n",
              "ParentEduc        1731\n",
              "LunchType            0\n",
              "TestPrep          1706\n",
              "PracticeSport      583\n",
              "IsFirstChild       852\n",
              "NrSiblings        1470\n",
              "TransportMeans    2947\n",
              "WklyStudyHours     886\n",
              "MathScore            0\n",
              "ReadingScore         0\n",
              "WritingScore         0\n",
              "target               0\n",
              "divorced             0\n",
              "married              0\n",
              "single               0\n",
              "widowed              0\n",
              "dtype: int64"
            ]
          },
          "metadata": {},
          "execution_count": 158
        }
      ]
    },
    {
      "cell_type": "code",
      "source": [
        "plt.figure(figsize=(20, 20))\n",
        "sns.heatmap(data.corr(), annot=True)\n",
        "plt.show()"
      ],
      "metadata": {
        "colab": {
          "base_uri": "https://localhost:8080/",
          "height": 1000
        },
        "id": "x1uEIGux86Rh",
        "outputId": "cd420e0e-a1c6-498b-c5e9-287c1b8e9c78"
      },
      "execution_count": null,
      "outputs": [
        {
          "output_type": "display_data",
          "data": {
            "text/plain": [
              "<Figure size 2000x2000 with 2 Axes>"
            ],
            "image/png": "[encoded data removed]"
          },
          "metadata": {}
        }
      ]
    },
    {
      "cell_type": "code",
      "source": [
        "data.columns[:12]"
      ],
      "metadata": {
        "colab": {
          "base_uri": "https://localhost:8080/"
        },
        "id": "jK1dbonM9lX_",
        "outputId": "b9bd4311-2644-4efe-946c-0cc2dd9e9d1b"
      },
      "execution_count": null,
      "outputs": [
        {
          "output_type": "execute_result",
          "data": {
            "text/plain": [
              "Index(['Gender', 'ParentEduc', 'LunchType', 'TestPrep', 'PracticeSport',\n",
              "       'IsFirstChild', 'NrSiblings', 'TransportMeans', 'WklyStudyHours',\n",
              "       'MathScore', 'ReadingScore', 'WritingScore'],\n",
              "      dtype='object')"
            ]
          },
          "metadata": {},
          "execution_count": 160
        }
      ]
    },
    {
      "cell_type": "code",
      "source": [
        "colls_to_fill = data.columns[:12]"
      ],
      "metadata": {
        "id": "NRncTtwE9jg3"
      },
      "execution_count": null,
      "outputs": []
    },
    {
      "cell_type": "code",
      "source": [
        "data[colls_to_fill] = imputer.fit_transform(data[colls_to_fill])"
      ],
      "metadata": {
        "id": "H3GJla_h9sdw"
      },
      "execution_count": null,
      "outputs": []
    },
    {
      "cell_type": "code",
      "source": [
        "data.isnull().sum()"
      ],
      "metadata": {
        "colab": {
          "base_uri": "https://localhost:8080/"
        },
        "id": "oGygbZqQ9y1u",
        "outputId": "77143557-42c8-4f30-db3a-49708464517c"
      },
      "execution_count": null,
      "outputs": [
        {
          "output_type": "execute_result",
          "data": {
            "text/plain": [
              "Gender            0\n",
              "ParentEduc        0\n",
              "LunchType         0\n",
              "TestPrep          0\n",
              "PracticeSport     0\n",
              "IsFirstChild      0\n",
              "NrSiblings        0\n",
              "TransportMeans    0\n",
              "WklyStudyHours    0\n",
              "MathScore         0\n",
              "ReadingScore      0\n",
              "WritingScore      0\n",
              "target            0\n",
              "divorced          0\n",
              "married           0\n",
              "single            0\n",
              "widowed           0\n",
              "dtype: int64"
            ]
          },
          "metadata": {},
          "execution_count": 163
        }
      ]
    },
    {
      "cell_type": "markdown",
      "source": [
        "#Train - test split of the dataset (80:20 ratio)"
      ],
      "metadata": {
        "id": "I44lFlV8EAf5"
      }
    },
    {
      "cell_type": "code",
      "source": [
        "from sklearn.model_selection import train_test_split"
      ],
      "metadata": {
        "id": "r9Jl57uz98nY"
      },
      "execution_count": null,
      "outputs": []
    },
    {
      "cell_type": "code",
      "source": [
        "X, Y = data.drop(columns=['target']), data['target']"
      ],
      "metadata": {
        "id": "luNEwu6mEEpj"
      },
      "execution_count": null,
      "outputs": []
    },
    {
      "cell_type": "code",
      "source": [
        "X_train, X_test, Y_train, Y_test = train_test_split(X, Y, test_size=0.2)"
      ],
      "metadata": {
        "id": "XllLjQ7Z94j4"
      },
      "execution_count": null,
      "outputs": []
    },
    {
      "cell_type": "markdown",
      "source": [
        "#Model training (Use KNN, Logistic regression or Linear regression)"
      ],
      "metadata": {
        "id": "o5w7X0GrEFWJ"
      }
    },
    {
      "cell_type": "code",
      "source": [
        "from sklearn.preprocessing import MinMaxScaler\n",
        "from sklearn.neighbors import KNeighborsClassifier\n",
        "from sklearn.metrics import confusion_matrix, classification_report"
      ],
      "metadata": {
        "id": "FnfiB96WEGZ2"
      },
      "execution_count": null,
      "outputs": []
    },
    {
      "cell_type": "code",
      "source": [
        "scaler = MinMaxScaler()\n",
        "scaler.fit(X_train)\n",
        "X_train = scaler.transform(X_train)\n",
        "X_test = scaler.transform(X_test)"
      ],
      "metadata": {
        "id": "N4iVtmcz-SJy"
      },
      "execution_count": null,
      "outputs": []
    },
    {
      "cell_type": "code",
      "source": [
        "len(X_train)"
      ],
      "metadata": {
        "colab": {
          "base_uri": "https://localhost:8080/"
        },
        "id": "0W9_Rn7i-tDP",
        "outputId": "cd240778-67fb-409a-a275-a6357e1f038c"
      },
      "execution_count": null,
      "outputs": [
        {
          "output_type": "execute_result",
          "data": {
            "text/plain": [
              "23040"
            ]
          },
          "metadata": {},
          "execution_count": 61
        }
      ]
    },
    {
      "cell_type": "code",
      "source": [
        "model = KNeighborsClassifier(n_neighbors=23)\n",
        "model.fit(X_train, Y_train)"
      ],
      "metadata": {
        "colab": {
          "base_uri": "https://localhost:8080/",
          "height": 74
        },
        "id": "vVN9oG0p-rI5",
        "outputId": "aac2bdeb-ac0c-4220-dc58-b44f401d7bf7"
      },
      "execution_count": null,
      "outputs": [
        {
          "output_type": "execute_result",
          "data": {
            "text/plain": [
              "KNeighborsClassifier(n_neighbors=23)"
            ],
            "text/html": [
              "<style>#sk-container-id-1 {color: black;background-color: white;}#sk-container-id-1 pre{padding: 0;}#sk-container-id-1 div.sk-toggleable {background-color: white;}#sk-container-id-1 label.sk-toggleable__label {cursor: pointer;display: block;width: 100%;margin-bottom: 0;padding: 0.3em;box-sizing: border-box;text-align: center;}#sk-container-id-1 label.sk-toggleable__label-arrow:before {content: \"▸\";float: left;margin-right: 0.25em;color: #696969;}#sk-container-id-1 label.sk-toggleable__label-arrow:hover:before {color: black;}#sk-container-id-1 div.sk-estimator:hover label.sk-toggleable__label-arrow:before {color: black;}#sk-container-id-1 div.sk-toggleable__content {max-height: 0;max-width: 0;overflow: hidden;text-align: left;background-color: #f0f8ff;}#sk-container-id-1 div.sk-toggleable__content pre {margin: 0.2em;color: black;border-radius: 0.25em;background-color: #f0f8ff;}#sk-container-id-1 input.sk-toggleable__control:checked~div.sk-toggleable__content {max-height: 200px;max-width: 100%;overflow: auto;}#sk-container-id-1 input.sk-toggleable__control:checked~label.sk-toggleable__label-arrow:before {content: \"▾\";}#sk-container-id-1 div.sk-estimator input.sk-toggleable__control:checked~label.sk-toggleable__label {background-color: #d4ebff;}#sk-container-id-1 div.sk-label input.sk-toggleable__control:checked~label.sk-toggleable__label {background-color: #d4ebff;}#sk-container-id-1 input.sk-hidden--visually {border: 0;clip: rect(1px 1px 1px 1px);clip: rect(1px, 1px, 1px, 1px);height: 1px;margin: -1px;overflow: hidden;padding: 0;position: absolute;width: 1px;}#sk-container-id-1 div.sk-estimator {font-family: monospace;background-color: #f0f8ff;border: 1px dotted black;border-radius: 0.25em;box-sizing: border-box;margin-bottom: 0.5em;}#sk-container-id-1 div.sk-estimator:hover {background-color: #d4ebff;}#sk-container-id-1 div.sk-parallel-item::after {content: \"\";width: 100%;border-bottom: 1px solid gray;flex-grow: 1;}#sk-container-id-1 div.sk-label:hover label.sk-toggleable__label {background-color: #d4ebff;}#sk-container-id-1 div.sk-serial::before {content: \"\";position: absolute;border-left: 1px solid gray;box-sizing: border-box;top: 0;bottom: 0;left: 50%;z-index: 0;}#sk-container-id-1 div.sk-serial {display: flex;flex-direction: column;align-items: center;background-color: white;padding-right: 0.2em;padding-left: 0.2em;position: relative;}#sk-container-id-1 div.sk-item {position: relative;z-index: 1;}#sk-container-id-1 div.sk-parallel {display: flex;align-items: stretch;justify-content: center;background-color: white;position: relative;}#sk-container-id-1 div.sk-item::before, #sk-container-id-1 div.sk-parallel-item::before {content: \"\";position: absolute;border-left: 1px solid gray;box-sizing: border-box;top: 0;bottom: 0;left: 50%;z-index: -1;}#sk-container-id-1 div.sk-parallel-item {display: flex;flex-direction: column;z-index: 1;position: relative;background-color: white;}#sk-container-id-1 div.sk-parallel-item:first-child::after {align-self: flex-end;width: 50%;}#sk-container-id-1 div.sk-parallel-item:last-child::after {align-self: flex-start;width: 50%;}#sk-container-id-1 div.sk-parallel-item:only-child::after {width: 0;}#sk-container-id-1 div.sk-dashed-wrapped {border: 1px dashed gray;margin: 0 0.4em 0.5em 0.4em;box-sizing: border-box;padding-bottom: 0.4em;background-color: white;}#sk-container-id-1 div.sk-label label {font-family: monospace;font-weight: bold;display: inline-block;line-height: 1.2em;}#sk-container-id-1 div.sk-label-container {text-align: center;}#sk-container-id-1 div.sk-container {/* jupyter's `normalize.less` sets `[hidden] { display: none; }` but bootstrap.min.css set `[hidden] { display: none !important; }` so we also need the `!important` here to be able to override the default hidden behavior on the sphinx rendered scikit-learn.org. See: https://github.com/scikit-learn/scikit-learn/issues/21755 */display: inline-block !important;position: relative;}#sk-container-id-1 div.sk-text-repr-fallback {display: none;}</style><div id=\"sk-container-id-1\" class=\"sk-top-container\"><div class=\"sk-text-repr-fallback\"><pre>KNeighborsClassifier(n_neighbors=23)</pre><b>In a Jupyter environment, please rerun this cell to show the HTML representation or trust the notebook. <br />On GitHub, the HTML representation is unable to render, please try loading this page with nbviewer.org.</b></div><div class=\"sk-container\" hidden><div class=\"sk-item\"><div class=\"sk-estimator sk-toggleable\"><input class=\"sk-toggleable__control sk-hidden--visually\" id=\"sk-estimator-id-1\" type=\"checkbox\" checked><label for=\"sk-estimator-id-1\" class=\"sk-toggleable__label sk-toggleable__label-arrow\">KNeighborsClassifier</label><div class=\"sk-toggleable__content\"><pre>KNeighborsClassifier(n_neighbors=23)</pre></div></div></div></div></div>"
            ]
          },
          "metadata": {},
          "execution_count": 62
        }
      ]
    },
    {
      "cell_type": "code",
      "source": [
        "preds = model.predict(X_test)"
      ],
      "metadata": {
        "id": "yIhxtK_D-y7q"
      },
      "execution_count": null,
      "outputs": []
    },
    {
      "cell_type": "code",
      "source": [
        "print(classification_report(Y_test, preds))"
      ],
      "metadata": {
        "colab": {
          "base_uri": "https://localhost:8080/"
        },
        "id": "AiqPeINzrUzG",
        "outputId": "d09ef19e-0ef4-492d-da0f-e30416bc5bf2"
      },
      "execution_count": null,
      "outputs": [
        {
          "output_type": "stream",
          "name": "stdout",
          "text": [
            "              precision    recall  f1-score   support\n",
            "\n",
            "         0.0       0.08      0.00      0.01       455\n",
            "         1.0       0.19      0.14      0.16      1165\n",
            "         2.0       0.31      0.59      0.41      1807\n",
            "         3.0       0.27      0.25      0.26      1490\n",
            "         4.0       0.29      0.05      0.09       844\n",
            "\n",
            "    accuracy                           0.28      5761\n",
            "   macro avg       0.23      0.21      0.18      5761\n",
            "weighted avg       0.26      0.28      0.24      5761\n",
            "\n"
          ]
        }
      ]
    },
    {
      "cell_type": "markdown",
      "source": [
        "## Model Training XGBoost"
      ],
      "metadata": {
        "id": "xgTP1Jo2AyYh"
      }
    },
    {
      "cell_type": "code",
      "source": [
        "from xgboost import XGBClassifier"
      ],
      "metadata": {
        "id": "y9AzcFfLA3ZI"
      },
      "execution_count": null,
      "outputs": []
    },
    {
      "cell_type": "code",
      "source": [
        "clf = XGBClassifier(n_estimators=50, max_depth=4, learning_rate = 0.0001, objective=\"multi:softmax\", num_class=5)"
      ],
      "metadata": {
        "id": "zZ7Col5VA4ag"
      },
      "execution_count": null,
      "outputs": []
    },
    {
      "cell_type": "code",
      "source": [
        "clf.fit(X_train, Y_train)"
      ],
      "metadata": {
        "colab": {
          "base_uri": "https://localhost:8080/",
          "height": 248
        },
        "id": "8cFmPrN3DSv6",
        "outputId": "c41d66c5-741d-462f-f9d0-3170dd95ca41"
      },
      "execution_count": null,
      "outputs": [
        {
          "output_type": "execute_result",
          "data": {
            "text/plain": [
              "XGBClassifier(base_score=None, booster=None, callbacks=None,\n",
              "              colsample_bylevel=None, colsample_bynode=None,\n",
              "              colsample_bytree=None, device=None, early_stopping_rounds=None,\n",
              "              enable_categorical=False, eval_metric=None, feature_types=None,\n",
              "              gamma=None, grow_policy=None, importance_type=None,\n",
              "              interaction_constraints=None, learning_rate=0.0001, max_bin=None,\n",
              "              max_cat_threshold=None, max_cat_to_onehot=None,\n",
              "              max_delta_step=None, max_depth=4, max_leaves=None,\n",
              "              min_child_weight=None, missing=nan, monotone_constraints=None,\n",
              "              multi_strategy=None, n_estimators=50, n_jobs=None, num_class=5,\n",
              "              num_parallel_tree=None, ...)"
            ],
            "text/html": [
              "<style>#sk-container-id-2 {color: black;background-color: white;}#sk-container-id-2 pre{padding: 0;}#sk-container-id-2 div.sk-toggleable {background-color: white;}#sk-container-id-2 label.sk-toggleable__label {cursor: pointer;display: block;width: 100%;margin-bottom: 0;padding: 0.3em;box-sizing: border-box;text-align: center;}#sk-container-id-2 label.sk-toggleable__label-arrow:before {content: \"▸\";float: left;margin-right: 0.25em;color: #696969;}#sk-container-id-2 label.sk-toggleable__label-arrow:hover:before {color: black;}#sk-container-id-2 div.sk-estimator:hover label.sk-toggleable__label-arrow:before {color: black;}#sk-container-id-2 div.sk-toggleable__content {max-height: 0;max-width: 0;overflow: hidden;text-align: left;background-color: #f0f8ff;}#sk-container-id-2 div.sk-toggleable__content pre {margin: 0.2em;color: black;border-radius: 0.25em;background-color: #f0f8ff;}#sk-container-id-2 input.sk-toggleable__control:checked~div.sk-toggleable__content {max-height: 200px;max-width: 100%;overflow: auto;}#sk-container-id-2 input.sk-toggleable__control:checked~label.sk-toggleable__label-arrow:before {content: \"▾\";}#sk-container-id-2 div.sk-estimator input.sk-toggleable__control:checked~label.sk-toggleable__label {background-color: #d4ebff;}#sk-container-id-2 div.sk-label input.sk-toggleable__control:checked~label.sk-toggleable__label {background-color: #d4ebff;}#sk-container-id-2 input.sk-hidden--visually {border: 0;clip: rect(1px 1px 1px 1px);clip: rect(1px, 1px, 1px, 1px);height: 1px;margin: -1px;overflow: hidden;padding: 0;position: absolute;width: 1px;}#sk-container-id-2 div.sk-estimator {font-family: monospace;background-color: #f0f8ff;border: 1px dotted black;border-radius: 0.25em;box-sizing: border-box;margin-bottom: 0.5em;}#sk-container-id-2 div.sk-estimator:hover {background-color: #d4ebff;}#sk-container-id-2 div.sk-parallel-item::after {content: \"\";width: 100%;border-bottom: 1px solid gray;flex-grow: 1;}#sk-container-id-2 div.sk-label:hover label.sk-toggleable__label {background-color: #d4ebff;}#sk-container-id-2 div.sk-serial::before {content: \"\";position: absolute;border-left: 1px solid gray;box-sizing: border-box;top: 0;bottom: 0;left: 50%;z-index: 0;}#sk-container-id-2 div.sk-serial {display: flex;flex-direction: column;align-items: center;background-color: white;padding-right: 0.2em;padding-left: 0.2em;position: relative;}#sk-container-id-2 div.sk-item {position: relative;z-index: 1;}#sk-container-id-2 div.sk-parallel {display: flex;align-items: stretch;justify-content: center;background-color: white;position: relative;}#sk-container-id-2 div.sk-item::before, #sk-container-id-2 div.sk-parallel-item::before {content: \"\";position: absolute;border-left: 1px solid gray;box-sizing: border-box;top: 0;bottom: 0;left: 50%;z-index: -1;}#sk-container-id-2 div.sk-parallel-item {display: flex;flex-direction: column;z-index: 1;position: relative;background-color: white;}#sk-container-id-2 div.sk-parallel-item:first-child::after {align-self: flex-end;width: 50%;}#sk-container-id-2 div.sk-parallel-item:last-child::after {align-self: flex-start;width: 50%;}#sk-container-id-2 div.sk-parallel-item:only-child::after {width: 0;}#sk-container-id-2 div.sk-dashed-wrapped {border: 1px dashed gray;margin: 0 0.4em 0.5em 0.4em;box-sizing: border-box;padding-bottom: 0.4em;background-color: white;}#sk-container-id-2 div.sk-label label {font-family: monospace;font-weight: bold;display: inline-block;line-height: 1.2em;}#sk-container-id-2 div.sk-label-container {text-align: center;}#sk-container-id-2 div.sk-container {/* jupyter's `normalize.less` sets `[hidden] { display: none; }` but bootstrap.min.css set `[hidden] { display: none !important; }` so we also need the `!important` here to be able to override the default hidden behavior on the sphinx rendered scikit-learn.org. See: https://github.com/scikit-learn/scikit-learn/issues/21755 */display: inline-block !important;position: relative;}#sk-container-id-2 div.sk-text-repr-fallback {display: none;}</style><div id=\"sk-container-id-2\" class=\"sk-top-container\"><div class=\"sk-text-repr-fallback\"><pre>XGBClassifier(base_score=None, booster=None, callbacks=None,\n",
              "              colsample_bylevel=None, colsample_bynode=None,\n",
              "              colsample_bytree=None, device=None, early_stopping_rounds=None,\n",
              "              enable_categorical=False, eval_metric=None, feature_types=None,\n",
              "              gamma=None, grow_policy=None, importance_type=None,\n",
              "              interaction_constraints=None, learning_rate=0.0001, max_bin=None,\n",
              "              max_cat_threshold=None, max_cat_to_onehot=None,\n",
              "              max_delta_step=None, max_depth=4, max_leaves=None,\n",
              "              min_child_weight=None, missing=nan, monotone_constraints=None,\n",
              "              multi_strategy=None, n_estimators=50, n_jobs=None, num_class=5,\n",
              "              num_parallel_tree=None, ...)</pre><b>In a Jupyter environment, please rerun this cell to show the HTML representation or trust the notebook. <br />On GitHub, the HTML representation is unable to render, please try loading this page with nbviewer.org.</b></div><div class=\"sk-container\" hidden><div class=\"sk-item\"><div class=\"sk-estimator sk-toggleable\"><input class=\"sk-toggleable__control sk-hidden--visually\" id=\"sk-estimator-id-2\" type=\"checkbox\" checked><label for=\"sk-estimator-id-2\" class=\"sk-toggleable__label sk-toggleable__label-arrow\">XGBClassifier</label><div class=\"sk-toggleable__content\"><pre>XGBClassifier(base_score=None, booster=None, callbacks=None,\n",
              "              colsample_bylevel=None, colsample_bynode=None,\n",
              "              colsample_bytree=None, device=None, early_stopping_rounds=None,\n",
              "              enable_categorical=False, eval_metric=None, feature_types=None,\n",
              "              gamma=None, grow_policy=None, importance_type=None,\n",
              "              interaction_constraints=None, learning_rate=0.0001, max_bin=None,\n",
              "              max_cat_threshold=None, max_cat_to_onehot=None,\n",
              "              max_delta_step=None, max_depth=4, max_leaves=None,\n",
              "              min_child_weight=None, missing=nan, monotone_constraints=None,\n",
              "              multi_strategy=None, n_estimators=50, n_jobs=None, num_class=5,\n",
              "              num_parallel_tree=None, ...)</pre></div></div></div></div></div>"
            ]
          },
          "metadata": {},
          "execution_count": 67
        }
      ]
    },
    {
      "cell_type": "code",
      "source": [
        "preds = clf.predict(X_test)"
      ],
      "metadata": {
        "id": "BRFJYSFeDU3p"
      },
      "execution_count": null,
      "outputs": []
    },
    {
      "cell_type": "code",
      "source": [
        "print(classification_report(Y_test, preds))"
      ],
      "metadata": {
        "colab": {
          "base_uri": "https://localhost:8080/"
        },
        "id": "tk7iq5s0rZ-P",
        "outputId": "c39b5787-2e6b-45c4-c87a-757fe663c256"
      },
      "execution_count": null,
      "outputs": [
        {
          "output_type": "stream",
          "name": "stdout",
          "text": [
            "              precision    recall  f1-score   support\n",
            "\n",
            "         0.0       0.50      0.00      0.00       455\n",
            "         1.0       0.15      0.00      0.00      1165\n",
            "         2.0       0.34      0.77      0.47      1807\n",
            "         3.0       0.33      0.30      0.31      1490\n",
            "         4.0       0.45      0.15      0.23       844\n",
            "\n",
            "    accuracy                           0.34      5761\n",
            "   macro avg       0.35      0.25      0.20      5761\n",
            "weighted avg       0.33      0.34      0.26      5761\n",
            "\n"
          ]
        }
      ]
    },
    {
      "cell_type": "markdown",
      "source": [
        "## Model training CatBoost"
      ],
      "metadata": {
        "id": "nVb93_tbq0tG"
      }
    },
    {
      "cell_type": "code",
      "source": [
        "!pip install catboost"
      ],
      "metadata": {
        "colab": {
          "base_uri": "https://localhost:8080/"
        },
        "id": "uNiYoHxArj-9",
        "outputId": "7dd2e7ab-a2af-4306-b3cc-a0d906d4b58a"
      },
      "execution_count": null,
      "outputs": [
        {
          "output_type": "stream",
          "name": "stdout",
          "text": [
            "Collecting catboost\n",
            "  Downloading catboost-1.2.2-cp310-cp310-manylinux2014_x86_64.whl (98.7 MB)\n",
            "\u001b[2K     \u001b[90m━━━━━━━━━━━━━━━━━━━━━━━━━━━━━━━━━━━━━━━━\u001b[0m \u001b[32m98.7/98.7 MB\u001b[0m \u001b[31m9.2 MB/s\u001b[0m eta \u001b[36m0:00:00\u001b[0m\n",
            "\u001b[?25hRequirement already satisfied: graphviz in /usr/local/lib/python3.10/dist-packages (from catboost) (0.20.1)\n",
            "Requirement already satisfied: matplotlib in /usr/local/lib/python3.10/dist-packages (from catboost) (3.7.1)\n",
            "Requirement already satisfied: numpy>=1.16.0 in /usr/local/lib/python3.10/dist-packages (from catboost) (1.23.5)\n",
            "Requirement already satisfied: pandas>=0.24 in /usr/local/lib/python3.10/dist-packages (from catboost) (1.5.3)\n",
            "Requirement already satisfied: scipy in /usr/local/lib/python3.10/dist-packages (from catboost) (1.11.3)\n",
            "Requirement already satisfied: plotly in /usr/local/lib/python3.10/dist-packages (from catboost) (5.15.0)\n",
            "Requirement already satisfied: six in /usr/local/lib/python3.10/dist-packages (from catboost) (1.16.0)\n",
            "Requirement already satisfied: python-dateutil>=2.8.1 in /usr/local/lib/python3.10/dist-packages (from pandas>=0.24->catboost) (2.8.2)\n",
            "Requirement already satisfied: pytz>=2020.1 in /usr/local/lib/python3.10/dist-packages (from pandas>=0.24->catboost) (2023.3.post1)\n",
            "Requirement already satisfied: contourpy>=1.0.1 in /usr/local/lib/python3.10/dist-packages (from matplotlib->catboost) (1.2.0)\n",
            "Requirement already satisfied: cycler>=0.10 in /usr/local/lib/python3.10/dist-packages (from matplotlib->catboost) (0.12.1)\n",
            "Requirement already satisfied: fonttools>=4.22.0 in /usr/local/lib/python3.10/dist-packages (from matplotlib->catboost) (4.44.3)\n",
            "Requirement already satisfied: kiwisolver>=1.0.1 in /usr/local/lib/python3.10/dist-packages (from matplotlib->catboost) (1.4.5)\n",
            "Requirement already satisfied: packaging>=20.0 in /usr/local/lib/python3.10/dist-packages (from matplotlib->catboost) (23.2)\n",
            "Requirement already satisfied: pillow>=6.2.0 in /usr/local/lib/python3.10/dist-packages (from matplotlib->catboost) (9.4.0)\n",
            "Requirement already satisfied: pyparsing>=2.3.1 in /usr/local/lib/python3.10/dist-packages (from matplotlib->catboost) (3.1.1)\n",
            "Requirement already satisfied: tenacity>=6.2.0 in /usr/local/lib/python3.10/dist-packages (from plotly->catboost) (8.2.3)\n",
            "Installing collected packages: catboost\n",
            "Successfully installed catboost-1.2.2\n"
          ]
        }
      ]
    },
    {
      "cell_type": "code",
      "source": [
        "from catboost import CatBoostClassifier, metrics, cv, Pool"
      ],
      "metadata": {
        "id": "zCaEp4t_rgil"
      },
      "execution_count": null,
      "outputs": []
    },
    {
      "cell_type": "code",
      "source": [
        "clf = CatBoostClassifier(\n",
        "    iterations = 200,\n",
        "    learning_rate = 0.001,\n",
        "    depth = 5,\n",
        "    loss_function = \"MultiClass\"\n",
        ")"
      ],
      "metadata": {
        "id": "10H5h5ATrrSo"
      },
      "execution_count": null,
      "outputs": []
    },
    {
      "cell_type": "code",
      "source": [
        "cv_params = clf.get_params()\n",
        "\n",
        "cv_data = cv(\n",
        "    Pool(X, Y),\n",
        "    cv_params,\n",
        "    plot=True,\n",
        ")"
      ],
      "metadata": {
        "colab": {
          "base_uri": "https://localhost:8080/",
          "height": 1000,
          "referenced_widgets": [
            "e4e74c837d9f4ce78c18245a6ffabf61"
          ]
        },
        "id": "KdPZgRFtt4Ac",
        "outputId": "d6d7e23e-f3b1-45db-ecc6-38f0d5b87831"
      },
      "execution_count": null,
      "outputs": [
        {
          "output_type": "display_data",
          "data": {
            "text/plain": [
              "MetricVisualizer(layout=Layout(align_self='stretch', height='500px'))"
            ],
            "application/vnd.jupyter.widget-view+json": {
              "version_major": 2,
              "version_minor": 0,
              "model_id": "e4e74c837d9f4ce78c18245a6ffabf61"
            }
          },
          "metadata": {}
        },
        {
          "output_type": "stream",
          "name": "stdout",
          "text": [
            "Training on fold [0/3]\n",
            "0:\tlearn: 1.6092007\ttest: 1.6092046\tbest: 1.6092046 (0)\ttotal: 19.1ms\tremaining: 3.81s\n",
            "1:\tlearn: 1.6089794\ttest: 1.6089854\tbest: 1.6089854 (1)\ttotal: 36.8ms\tremaining: 3.64s\n",
            "2:\tlearn: 1.6087583\ttest: 1.6087679\tbest: 1.6087679 (2)\ttotal: 55.5ms\tremaining: 3.64s\n",
            "3:\tlearn: 1.6085267\ttest: 1.6085419\tbest: 1.6085419 (3)\ttotal: 72ms\tremaining: 3.53s\n",
            "4:\tlearn: 1.6083036\ttest: 1.6083238\tbest: 1.6083238 (4)\ttotal: 87.9ms\tremaining: 3.43s\n",
            "5:\tlearn: 1.6080853\ttest: 1.6081084\tbest: 1.6081084 (5)\ttotal: 105ms\tremaining: 3.38s\n",
            "6:\tlearn: 1.6078456\ttest: 1.6078772\tbest: 1.6078772 (6)\ttotal: 120ms\tremaining: 3.3s\n",
            "7:\tlearn: 1.6076228\ttest: 1.6076609\tbest: 1.6076609 (7)\ttotal: 136ms\tremaining: 3.25s\n",
            "8:\tlearn: 1.6073957\ttest: 1.6074369\tbest: 1.6074369 (8)\ttotal: 152ms\tremaining: 3.23s\n",
            "9:\tlearn: 1.6071755\ttest: 1.6072237\tbest: 1.6072237 (9)\ttotal: 174ms\tremaining: 3.3s\n",
            "10:\tlearn: 1.6069590\ttest: 1.6070153\tbest: 1.6070153 (10)\ttotal: 190ms\tremaining: 3.26s\n",
            "11:\tlearn: 1.6067356\ttest: 1.6067918\tbest: 1.6067918 (11)\ttotal: 206ms\tremaining: 3.23s\n",
            "12:\tlearn: 1.6065062\ttest: 1.6065674\tbest: 1.6065674 (12)\ttotal: 225ms\tremaining: 3.23s\n",
            "13:\tlearn: 1.6062906\ttest: 1.6063583\tbest: 1.6063583 (13)\ttotal: 240ms\tremaining: 3.19s\n",
            "14:\tlearn: 1.6060722\ttest: 1.6061466\tbest: 1.6061466 (14)\ttotal: 256ms\tremaining: 3.16s\n",
            "15:\tlearn: 1.6058513\ttest: 1.6059313\tbest: 1.6059313 (15)\ttotal: 272ms\tremaining: 3.12s\n",
            "16:\tlearn: 1.6056291\ttest: 1.6057128\tbest: 1.6057128 (16)\ttotal: 287ms\tremaining: 3.09s\n",
            "17:\tlearn: 1.6054080\ttest: 1.6054981\tbest: 1.6054981 (17)\ttotal: 302ms\tremaining: 3.05s\n",
            "18:\tlearn: 1.6051887\ttest: 1.6052829\tbest: 1.6052829 (18)\ttotal: 317ms\tremaining: 3.02s\n",
            "19:\tlearn: 1.6049766\ttest: 1.6050750\tbest: 1.6050750 (19)\ttotal: 333ms\tremaining: 2.99s\n",
            "20:\tlearn: 1.6047471\ttest: 1.6048485\tbest: 1.6048485 (20)\ttotal: 358ms\tremaining: 3.05s\n",
            "21:\tlearn: 1.6045271\ttest: 1.6046316\tbest: 1.6046316 (21)\ttotal: 379ms\tremaining: 3.07s\n",
            "22:\tlearn: 1.6043072\ttest: 1.6044176\tbest: 1.6044176 (22)\ttotal: 396ms\tremaining: 3.05s\n",
            "23:\tlearn: 1.6040769\ttest: 1.6041933\tbest: 1.6041933 (23)\ttotal: 412ms\tremaining: 3.02s\n",
            "24:\tlearn: 1.6038688\ttest: 1.6039930\tbest: 1.6039930 (24)\ttotal: 428ms\tremaining: 3s\n",
            "25:\tlearn: 1.6036479\ttest: 1.6037786\tbest: 1.6037786 (25)\ttotal: 444ms\tremaining: 2.97s\n",
            "26:\tlearn: 1.6034264\ttest: 1.6035613\tbest: 1.6035613 (26)\ttotal: 461ms\tremaining: 2.95s\n",
            "27:\tlearn: 1.6032156\ttest: 1.6033528\tbest: 1.6033528 (27)\ttotal: 477ms\tremaining: 2.93s\n",
            "28:\tlearn: 1.6029950\ttest: 1.6031384\tbest: 1.6031384 (28)\ttotal: 492ms\tremaining: 2.9s\n",
            "29:\tlearn: 1.6027859\ttest: 1.6029363\tbest: 1.6029363 (29)\ttotal: 508ms\tremaining: 2.88s\n",
            "30:\tlearn: 1.6025772\ttest: 1.6027319\tbest: 1.6027319 (30)\ttotal: 523ms\tremaining: 2.85s\n",
            "31:\tlearn: 1.6023690\ttest: 1.6025302\tbest: 1.6025302 (31)\ttotal: 539ms\tremaining: 2.83s\n",
            "32:\tlearn: 1.6021535\ttest: 1.6023209\tbest: 1.6023209 (32)\ttotal: 564ms\tremaining: 2.85s\n",
            "33:\tlearn: 1.6019332\ttest: 1.6021064\tbest: 1.6021064 (33)\ttotal: 584ms\tremaining: 2.85s\n",
            "34:\tlearn: 1.6017211\ttest: 1.6018978\tbest: 1.6018978 (34)\ttotal: 600ms\tremaining: 2.83s\n",
            "35:\tlearn: 1.6015169\ttest: 1.6017007\tbest: 1.6017007 (35)\ttotal: 617ms\tremaining: 2.81s\n",
            "36:\tlearn: 1.6012950\ttest: 1.6014837\tbest: 1.6014837 (36)\ttotal: 632ms\tremaining: 2.79s\n",
            "37:\tlearn: 1.6010827\ttest: 1.6012758\tbest: 1.6012758 (37)\ttotal: 648ms\tremaining: 2.76s\n",
            "38:\tlearn: 1.6008778\ttest: 1.6010752\tbest: 1.6010752 (38)\ttotal: 735ms\tremaining: 3.03s\n",
            "39:\tlearn: 1.6006588\ttest: 1.6008624\tbest: 1.6008624 (39)\ttotal: 809ms\tremaining: 3.23s\n",
            "40:\tlearn: 1.6004530\ttest: 1.6006632\tbest: 1.6006632 (40)\ttotal: 859ms\tremaining: 3.33s\n",
            "41:\tlearn: 1.6002511\ttest: 1.6004684\tbest: 1.6004684 (41)\ttotal: 903ms\tremaining: 3.4s\n",
            "42:\tlearn: 1.6000373\ttest: 1.6002615\tbest: 1.6002615 (42)\ttotal: 965ms\tremaining: 3.52s\n",
            "43:\tlearn: 1.5998342\ttest: 1.6000635\tbest: 1.6000635 (43)\ttotal: 1.04s\tremaining: 3.69s\n",
            "44:\tlearn: 1.5996113\ttest: 1.5998465\tbest: 1.5998465 (44)\ttotal: 1.1s\tremaining: 3.77s\n",
            "45:\tlearn: 1.5993987\ttest: 1.5996375\tbest: 1.5996375 (45)\ttotal: 1.15s\tremaining: 3.86s\n",
            "46:\tlearn: 1.5991824\ttest: 1.5994244\tbest: 1.5994244 (46)\ttotal: 1.22s\tremaining: 3.96s\n",
            "47:\tlearn: 1.5989710\ttest: 1.5992155\tbest: 1.5992155 (47)\ttotal: 1.28s\tremaining: 4.05s\n",
            "48:\tlearn: 1.5987676\ttest: 1.5990179\tbest: 1.5990179 (48)\ttotal: 1.34s\tremaining: 4.14s\n",
            "49:\tlearn: 1.5985594\ttest: 1.5988155\tbest: 1.5988155 (49)\ttotal: 1.4s\tremaining: 4.21s\n",
            "50:\tlearn: 1.5983480\ttest: 1.5986102\tbest: 1.5986102 (50)\ttotal: 1.47s\tremaining: 4.3s\n",
            "51:\tlearn: 1.5981303\ttest: 1.5983969\tbest: 1.5983969 (51)\ttotal: 1.52s\tremaining: 4.33s\n",
            "52:\tlearn: 1.5979283\ttest: 1.5982010\tbest: 1.5982010 (52)\ttotal: 1.58s\tremaining: 4.38s\n",
            "53:\tlearn: 1.5977256\ttest: 1.5980019\tbest: 1.5980019 (53)\ttotal: 1.61s\tremaining: 4.35s\n",
            "54:\tlearn: 1.5975194\ttest: 1.5977995\tbest: 1.5977995 (54)\ttotal: 1.67s\tremaining: 4.39s\n",
            "55:\tlearn: 1.5973058\ttest: 1.5975946\tbest: 1.5975946 (55)\ttotal: 1.71s\tremaining: 4.4s\n",
            "56:\tlearn: 1.5971018\ttest: 1.5973950\tbest: 1.5973950 (56)\ttotal: 1.77s\tremaining: 4.44s\n",
            "57:\tlearn: 1.5968991\ttest: 1.5971946\tbest: 1.5971946 (57)\ttotal: 1.82s\tremaining: 4.45s\n",
            "58:\tlearn: 1.5966936\ttest: 1.5969953\tbest: 1.5969953 (58)\ttotal: 1.85s\tremaining: 4.42s\n",
            "59:\tlearn: 1.5964978\ttest: 1.5968048\tbest: 1.5968048 (59)\ttotal: 1.86s\tremaining: 4.35s\n",
            "60:\tlearn: 1.5962928\ttest: 1.5966044\tbest: 1.5966044 (60)\ttotal: 1.88s\tremaining: 4.29s\n",
            "61:\tlearn: 1.5960936\ttest: 1.5964114\tbest: 1.5964114 (61)\ttotal: 1.9s\tremaining: 4.22s\n",
            "62:\tlearn: 1.5958918\ttest: 1.5962171\tbest: 1.5962171 (62)\ttotal: 1.91s\tremaining: 4.16s\n",
            "63:\tlearn: 1.5956962\ttest: 1.5960271\tbest: 1.5960271 (63)\ttotal: 1.94s\tremaining: 4.13s\n",
            "64:\tlearn: 1.5954967\ttest: 1.5958311\tbest: 1.5958311 (64)\ttotal: 1.96s\tremaining: 4.07s\n",
            "65:\tlearn: 1.5952991\ttest: 1.5956381\tbest: 1.5956381 (65)\ttotal: 1.98s\tremaining: 4.02s\n",
            "66:\tlearn: 1.5950966\ttest: 1.5954402\tbest: 1.5954402 (66)\ttotal: 1.99s\tremaining: 3.96s\n",
            "67:\tlearn: 1.5949004\ttest: 1.5952491\tbest: 1.5952491 (67)\ttotal: 2.01s\tremaining: 3.9s\n",
            "68:\tlearn: 1.5947068\ttest: 1.5950606\tbest: 1.5950606 (68)\ttotal: 2.03s\tremaining: 3.85s\n",
            "69:\tlearn: 1.5945252\ttest: 1.5948860\tbest: 1.5948860 (69)\ttotal: 2.05s\tremaining: 3.81s\n",
            "70:\tlearn: 1.5943286\ttest: 1.5946941\tbest: 1.5946941 (70)\ttotal: 2.07s\tremaining: 3.75s\n",
            "71:\tlearn: 1.5941534\ttest: 1.5945233\tbest: 1.5945233 (71)\ttotal: 2.08s\tremaining: 3.7s\n",
            "72:\tlearn: 1.5939540\ttest: 1.5943269\tbest: 1.5943269 (72)\ttotal: 2.1s\tremaining: 3.65s\n",
            "73:\tlearn: 1.5937568\ttest: 1.5941368\tbest: 1.5941368 (73)\ttotal: 2.11s\tremaining: 3.6s\n",
            "74:\tlearn: 1.5935577\ttest: 1.5939417\tbest: 1.5939417 (74)\ttotal: 2.13s\tremaining: 3.55s\n",
            "75:\tlearn: 1.5933463\ttest: 1.5937341\tbest: 1.5937341 (75)\ttotal: 2.15s\tremaining: 3.5s\n",
            "76:\tlearn: 1.5931515\ttest: 1.5935433\tbest: 1.5935433 (76)\ttotal: 2.16s\tremaining: 3.45s\n",
            "77:\tlearn: 1.5929560\ttest: 1.5933530\tbest: 1.5933530 (77)\ttotal: 2.18s\tremaining: 3.41s\n",
            "78:\tlearn: 1.5927648\ttest: 1.5931651\tbest: 1.5931651 (78)\ttotal: 2.2s\tremaining: 3.37s\n",
            "79:\tlearn: 1.5925563\ttest: 1.5929621\tbest: 1.5929621 (79)\ttotal: 2.22s\tremaining: 3.33s\n",
            "80:\tlearn: 1.5923539\ttest: 1.5927624\tbest: 1.5927624 (80)\ttotal: 2.23s\tremaining: 3.28s\n",
            "81:\tlearn: 1.5921452\ttest: 1.5925595\tbest: 1.5925595 (81)\ttotal: 2.25s\tremaining: 3.24s\n",
            "82:\tlearn: 1.5919570\ttest: 1.5923757\tbest: 1.5923757 (82)\ttotal: 2.26s\tremaining: 3.19s\n",
            "83:\tlearn: 1.5917609\ttest: 1.5921887\tbest: 1.5921887 (83)\ttotal: 2.28s\tremaining: 3.15s\n",
            "84:\tlearn: 1.5915744\ttest: 1.5920086\tbest: 1.5920086 (84)\ttotal: 2.3s\tremaining: 3.11s\n",
            "85:\tlearn: 1.5913867\ttest: 1.5918246\tbest: 1.5918246 (85)\ttotal: 2.32s\tremaining: 3.07s\n",
            "86:\tlearn: 1.5911962\ttest: 1.5916381\tbest: 1.5916381 (86)\ttotal: 2.34s\tremaining: 3.04s\n",
            "87:\tlearn: 1.5910053\ttest: 1.5914547\tbest: 1.5914547 (87)\ttotal: 2.36s\tremaining: 3s\n",
            "88:\tlearn: 1.5908073\ttest: 1.5912614\tbest: 1.5912614 (88)\ttotal: 2.37s\tremaining: 2.96s\n",
            "89:\tlearn: 1.5906234\ttest: 1.5910802\tbest: 1.5910802 (89)\ttotal: 2.39s\tremaining: 2.92s\n",
            "90:\tlearn: 1.5904272\ttest: 1.5908882\tbest: 1.5908882 (90)\ttotal: 2.41s\tremaining: 2.89s\n",
            "91:\tlearn: 1.5902352\ttest: 1.5907047\tbest: 1.5907047 (91)\ttotal: 2.43s\tremaining: 2.85s\n",
            "92:\tlearn: 1.5900335\ttest: 1.5905081\tbest: 1.5905081 (92)\ttotal: 2.44s\tremaining: 2.81s\n",
            "93:\tlearn: 1.5898457\ttest: 1.5903260\tbest: 1.5903260 (93)\ttotal: 2.46s\tremaining: 2.77s\n",
            "94:\tlearn: 1.5896478\ttest: 1.5901309\tbest: 1.5901309 (94)\ttotal: 2.48s\tremaining: 2.74s\n",
            "95:\tlearn: 1.5894512\ttest: 1.5899362\tbest: 1.5899362 (95)\ttotal: 2.5s\tremaining: 2.7s\n",
            "96:\tlearn: 1.5892546\ttest: 1.5897440\tbest: 1.5897440 (96)\ttotal: 2.51s\tremaining: 2.67s\n",
            "97:\tlearn: 1.5890694\ttest: 1.5895613\tbest: 1.5895613 (97)\ttotal: 2.53s\tremaining: 2.63s\n",
            "98:\tlearn: 1.5888727\ttest: 1.5893691\tbest: 1.5893691 (98)\ttotal: 2.54s\tremaining: 2.6s\n",
            "99:\tlearn: 1.5886861\ttest: 1.5891875\tbest: 1.5891875 (99)\ttotal: 2.56s\tremaining: 2.56s\n",
            "100:\tlearn: 1.5885170\ttest: 1.5890232\tbest: 1.5890232 (100)\ttotal: 2.58s\tremaining: 2.53s\n",
            "101:\tlearn: 1.5883199\ttest: 1.5888304\tbest: 1.5888304 (101)\ttotal: 2.6s\tremaining: 2.5s\n",
            "102:\tlearn: 1.5881263\ttest: 1.5886430\tbest: 1.5886430 (102)\ttotal: 2.61s\tremaining: 2.46s\n",
            "103:\tlearn: 1.5879409\ttest: 1.5884656\tbest: 1.5884656 (103)\ttotal: 2.63s\tremaining: 2.43s\n",
            "104:\tlearn: 1.5877589\ttest: 1.5882863\tbest: 1.5882863 (104)\ttotal: 2.65s\tremaining: 2.39s\n",
            "105:\tlearn: 1.5875637\ttest: 1.5880941\tbest: 1.5880941 (105)\ttotal: 2.66s\tremaining: 2.36s\n",
            "106:\tlearn: 1.5873726\ttest: 1.5879089\tbest: 1.5879089 (106)\ttotal: 2.68s\tremaining: 2.33s\n",
            "107:\tlearn: 1.5871871\ttest: 1.5877269\tbest: 1.5877269 (107)\ttotal: 2.69s\tremaining: 2.29s\n",
            "108:\tlearn: 1.5869884\ttest: 1.5875346\tbest: 1.5875346 (108)\ttotal: 2.71s\tremaining: 2.26s\n",
            "109:\tlearn: 1.5868089\ttest: 1.5873604\tbest: 1.5873604 (109)\ttotal: 2.73s\tremaining: 2.23s\n",
            "110:\tlearn: 1.5866267\ttest: 1.5871814\tbest: 1.5871814 (110)\ttotal: 2.75s\tremaining: 2.2s\n",
            "111:\tlearn: 1.5864390\ttest: 1.5869984\tbest: 1.5869984 (111)\ttotal: 2.77s\tremaining: 2.18s\n",
            "112:\tlearn: 1.5862577\ttest: 1.5868231\tbest: 1.5868231 (112)\ttotal: 2.79s\tremaining: 2.15s\n",
            "113:\tlearn: 1.5860734\ttest: 1.5866441\tbest: 1.5866441 (113)\ttotal: 2.81s\tremaining: 2.12s\n",
            "114:\tlearn: 1.5858829\ttest: 1.5864588\tbest: 1.5864588 (114)\ttotal: 2.82s\tremaining: 2.09s\n",
            "115:\tlearn: 1.5856918\ttest: 1.5862718\tbest: 1.5862718 (115)\ttotal: 2.84s\tremaining: 2.06s\n",
            "116:\tlearn: 1.5854943\ttest: 1.5860811\tbest: 1.5860811 (116)\ttotal: 2.85s\tremaining: 2.02s\n",
            "117:\tlearn: 1.5853024\ttest: 1.5858910\tbest: 1.5858910 (117)\ttotal: 2.87s\tremaining: 2s\n",
            "118:\tlearn: 1.5851237\ttest: 1.5857159\tbest: 1.5857159 (118)\ttotal: 2.89s\tremaining: 1.97s\n",
            "119:\tlearn: 1.5849446\ttest: 1.5855422\tbest: 1.5855422 (119)\ttotal: 2.92s\tremaining: 1.95s\n",
            "120:\tlearn: 1.5847475\ttest: 1.5853480\tbest: 1.5853480 (120)\ttotal: 2.93s\tremaining: 1.92s\n",
            "121:\tlearn: 1.5845674\ttest: 1.5851713\tbest: 1.5851713 (121)\ttotal: 2.95s\tremaining: 1.89s\n",
            "122:\tlearn: 1.5843851\ttest: 1.5849922\tbest: 1.5849922 (122)\ttotal: 2.97s\tremaining: 1.86s\n",
            "123:\tlearn: 1.5841896\ttest: 1.5848045\tbest: 1.5848045 (123)\ttotal: 2.98s\tremaining: 1.83s\n",
            "124:\tlearn: 1.5840049\ttest: 1.5846229\tbest: 1.5846229 (124)\ttotal: 3s\tremaining: 1.8s\n",
            "125:\tlearn: 1.5838205\ttest: 1.5844440\tbest: 1.5844440 (125)\ttotal: 3.02s\tremaining: 1.77s\n",
            "126:\tlearn: 1.5836457\ttest: 1.5842749\tbest: 1.5842749 (126)\ttotal: 3.04s\tremaining: 1.75s\n",
            "127:\tlearn: 1.5834646\ttest: 1.5840982\tbest: 1.5840982 (127)\ttotal: 3.05s\tremaining: 1.72s\n",
            "128:\tlearn: 1.5832768\ttest: 1.5839116\tbest: 1.5839116 (128)\ttotal: 3.07s\tremaining: 1.69s\n",
            "129:\tlearn: 1.5831038\ttest: 1.5837481\tbest: 1.5837481 (129)\ttotal: 3.08s\tremaining: 1.66s\n",
            "130:\tlearn: 1.5829132\ttest: 1.5835594\tbest: 1.5835594 (130)\ttotal: 3.1s\tremaining: 1.63s\n",
            "131:\tlearn: 1.5827341\ttest: 1.5833846\tbest: 1.5833846 (131)\ttotal: 3.12s\tremaining: 1.6s\n",
            "132:\tlearn: 1.5825430\ttest: 1.5831952\tbest: 1.5831952 (132)\ttotal: 3.13s\tremaining: 1.58s\n",
            "133:\tlearn: 1.5823655\ttest: 1.5830210\tbest: 1.5830210 (133)\ttotal: 3.15s\tremaining: 1.55s\n",
            "134:\tlearn: 1.5822035\ttest: 1.5828621\tbest: 1.5828621 (134)\ttotal: 3.16s\tremaining: 1.52s\n",
            "135:\tlearn: 1.5820213\ttest: 1.5826852\tbest: 1.5826852 (135)\ttotal: 3.17s\tremaining: 1.49s\n",
            "136:\tlearn: 1.5818389\ttest: 1.5825081\tbest: 1.5825081 (136)\ttotal: 3.19s\tremaining: 1.47s\n",
            "137:\tlearn: 1.5816660\ttest: 1.5823417\tbest: 1.5823417 (137)\ttotal: 3.21s\tremaining: 1.44s\n",
            "138:\tlearn: 1.5814892\ttest: 1.5821732\tbest: 1.5821732 (138)\ttotal: 3.23s\tremaining: 1.42s\n",
            "139:\tlearn: 1.5813184\ttest: 1.5820066\tbest: 1.5820066 (139)\ttotal: 3.24s\tremaining: 1.39s\n",
            "140:\tlearn: 1.5811390\ttest: 1.5818342\tbest: 1.5818342 (140)\ttotal: 3.26s\tremaining: 1.36s\n",
            "141:\tlearn: 1.5809607\ttest: 1.5816608\tbest: 1.5816608 (141)\ttotal: 3.27s\tremaining: 1.34s\n",
            "142:\tlearn: 1.5807841\ttest: 1.5814888\tbest: 1.5814888 (142)\ttotal: 3.29s\tremaining: 1.31s\n",
            "143:\tlearn: 1.5806078\ttest: 1.5813167\tbest: 1.5813167 (143)\ttotal: 3.31s\tremaining: 1.28s\n",
            "144:\tlearn: 1.5804337\ttest: 1.5811476\tbest: 1.5811476 (144)\ttotal: 3.32s\tremaining: 1.26s\n",
            "145:\tlearn: 1.5802546\ttest: 1.5809715\tbest: 1.5809715 (145)\ttotal: 3.34s\tremaining: 1.24s\n",
            "146:\tlearn: 1.5800835\ttest: 1.5808076\tbest: 1.5808076 (146)\ttotal: 3.36s\tremaining: 1.21s\n",
            "147:\tlearn: 1.5799028\ttest: 1.5806302\tbest: 1.5806302 (147)\ttotal: 3.37s\tremaining: 1.18s\n",
            "148:\tlearn: 1.5797244\ttest: 1.5804545\tbest: 1.5804545 (148)\ttotal: 3.39s\tremaining: 1.16s\n",
            "149:\tlearn: 1.5795552\ttest: 1.5802905\tbest: 1.5802905 (149)\ttotal: 3.4s\tremaining: 1.13s\n",
            "150:\tlearn: 1.5793802\ttest: 1.5801209\tbest: 1.5801209 (150)\ttotal: 3.42s\tremaining: 1.11s\n",
            "151:\tlearn: 1.5792125\ttest: 1.5799569\tbest: 1.5799569 (151)\ttotal: 3.44s\tremaining: 1.09s\n",
            "152:\tlearn: 1.5790466\ttest: 1.5797949\tbest: 1.5797949 (152)\ttotal: 3.46s\tremaining: 1.06s\n",
            "153:\tlearn: 1.5788794\ttest: 1.5796351\tbest: 1.5796351 (153)\ttotal: 3.48s\tremaining: 1.04s\n",
            "154:\tlearn: 1.5787014\ttest: 1.5794630\tbest: 1.5794630 (154)\ttotal: 3.49s\tremaining: 1.01s\n",
            "155:\tlearn: 1.5785485\ttest: 1.5793131\tbest: 1.5793131 (155)\ttotal: 3.51s\tremaining: 990ms\n",
            "156:\tlearn: 1.5783754\ttest: 1.5791438\tbest: 1.5791438 (156)\ttotal: 3.52s\tremaining: 966ms\n",
            "157:\tlearn: 1.5782078\ttest: 1.5789796\tbest: 1.5789796 (157)\ttotal: 3.54s\tremaining: 941ms\n",
            "158:\tlearn: 1.5780327\ttest: 1.5788093\tbest: 1.5788093 (158)\ttotal: 3.56s\tremaining: 917ms\n",
            "159:\tlearn: 1.5778567\ttest: 1.5786392\tbest: 1.5786392 (159)\ttotal: 3.57s\tremaining: 893ms\n",
            "160:\tlearn: 1.5776731\ttest: 1.5784581\tbest: 1.5784581 (160)\ttotal: 3.59s\tremaining: 869ms\n",
            "161:\tlearn: 1.5774881\ttest: 1.5782769\tbest: 1.5782769 (161)\ttotal: 3.6s\tremaining: 845ms\n",
            "162:\tlearn: 1.5773214\ttest: 1.5781131\tbest: 1.5781131 (162)\ttotal: 3.62s\tremaining: 823ms\n",
            "163:\tlearn: 1.5771400\ttest: 1.5779358\tbest: 1.5779358 (163)\ttotal: 3.64s\tremaining: 799ms\n",
            "164:\tlearn: 1.5769776\ttest: 1.5777789\tbest: 1.5777789 (164)\ttotal: 3.66s\tremaining: 776ms\n",
            "165:\tlearn: 1.5768159\ttest: 1.5776212\tbest: 1.5776212 (165)\ttotal: 3.67s\tremaining: 752ms\n",
            "166:\tlearn: 1.5766566\ttest: 1.5774681\tbest: 1.5774681 (166)\ttotal: 3.69s\tremaining: 729ms\n",
            "167:\tlearn: 1.5764905\ttest: 1.5773111\tbest: 1.5773111 (167)\ttotal: 3.7s\tremaining: 706ms\n",
            "168:\tlearn: 1.5763158\ttest: 1.5771412\tbest: 1.5771412 (168)\ttotal: 3.72s\tremaining: 682ms\n",
            "169:\tlearn: 1.5761434\ttest: 1.5769728\tbest: 1.5769728 (169)\ttotal: 3.73s\tremaining: 659ms\n",
            "170:\tlearn: 1.5759709\ttest: 1.5768050\tbest: 1.5768050 (170)\ttotal: 3.75s\tremaining: 637ms\n",
            "171:\tlearn: 1.5757959\ttest: 1.5766327\tbest: 1.5766327 (171)\ttotal: 3.77s\tremaining: 615ms\n",
            "172:\tlearn: 1.5756268\ttest: 1.5764713\tbest: 1.5764713 (172)\ttotal: 3.79s\tremaining: 592ms\n",
            "173:\tlearn: 1.5754581\ttest: 1.5763053\tbest: 1.5763053 (173)\ttotal: 3.81s\tremaining: 569ms\n",
            "174:\tlearn: 1.5752873\ttest: 1.5761403\tbest: 1.5761403 (174)\ttotal: 3.82s\tremaining: 546ms\n",
            "175:\tlearn: 1.5751252\ttest: 1.5759832\tbest: 1.5759832 (175)\ttotal: 3.84s\tremaining: 523ms\n",
            "176:\tlearn: 1.5749589\ttest: 1.5758223\tbest: 1.5758223 (176)\ttotal: 3.86s\tremaining: 501ms\n",
            "177:\tlearn: 1.5747862\ttest: 1.5756565\tbest: 1.5756565 (177)\ttotal: 3.87s\tremaining: 479ms\n",
            "178:\tlearn: 1.5746355\ttest: 1.5755096\tbest: 1.5755096 (178)\ttotal: 3.9s\tremaining: 458ms\n",
            "179:\tlearn: 1.5744752\ttest: 1.5753544\tbest: 1.5753544 (179)\ttotal: 3.92s\tremaining: 435ms\n",
            "180:\tlearn: 1.5742933\ttest: 1.5751773\tbest: 1.5751773 (180)\ttotal: 3.94s\tremaining: 414ms\n",
            "181:\tlearn: 1.5741295\ttest: 1.5750200\tbest: 1.5750200 (181)\ttotal: 3.96s\tremaining: 391ms\n",
            "182:\tlearn: 1.5739674\ttest: 1.5748649\tbest: 1.5748649 (182)\ttotal: 3.97s\tremaining: 369ms\n",
            "183:\tlearn: 1.5738053\ttest: 1.5747068\tbest: 1.5747068 (183)\ttotal: 3.99s\tremaining: 347ms\n",
            "184:\tlearn: 1.5736435\ttest: 1.5745501\tbest: 1.5745501 (184)\ttotal: 4s\tremaining: 325ms\n",
            "185:\tlearn: 1.5734820\ttest: 1.5743968\tbest: 1.5743968 (185)\ttotal: 4.02s\tremaining: 302ms\n",
            "186:\tlearn: 1.5733221\ttest: 1.5742420\tbest: 1.5742420 (186)\ttotal: 4.03s\tremaining: 280ms\n",
            "187:\tlearn: 1.5731655\ttest: 1.5740925\tbest: 1.5740925 (187)\ttotal: 4.05s\tremaining: 259ms\n",
            "188:\tlearn: 1.5730191\ttest: 1.5739508\tbest: 1.5739508 (188)\ttotal: 4.07s\tremaining: 237ms\n",
            "189:\tlearn: 1.5728635\ttest: 1.5737976\tbest: 1.5737976 (189)\ttotal: 4.09s\tremaining: 215ms\n",
            "190:\tlearn: 1.5726999\ttest: 1.5736378\tbest: 1.5736378 (190)\ttotal: 4.11s\tremaining: 194ms\n",
            "191:\tlearn: 1.5725310\ttest: 1.5734699\tbest: 1.5734699 (191)\ttotal: 4.12s\tremaining: 172ms\n",
            "192:\tlearn: 1.5723644\ttest: 1.5733075\tbest: 1.5733075 (192)\ttotal: 4.14s\tremaining: 150ms\n",
            "193:\tlearn: 1.5722186\ttest: 1.5731649\tbest: 1.5731649 (193)\ttotal: 4.16s\tremaining: 129ms\n",
            "194:\tlearn: 1.5720645\ttest: 1.5730148\tbest: 1.5730148 (194)\ttotal: 4.17s\tremaining: 107ms\n",
            "195:\tlearn: 1.5719059\ttest: 1.5728607\tbest: 1.5728607 (195)\ttotal: 4.19s\tremaining: 85.5ms\n",
            "196:\tlearn: 1.5717405\ttest: 1.5727001\tbest: 1.5727001 (196)\ttotal: 4.2s\tremaining: 64ms\n",
            "197:\tlearn: 1.5715748\ttest: 1.5725404\tbest: 1.5725404 (197)\ttotal: 4.22s\tremaining: 42.6ms\n",
            "198:\tlearn: 1.5714107\ttest: 1.5723783\tbest: 1.5723783 (198)\ttotal: 4.24s\tremaining: 21.3ms\n",
            "199:\tlearn: 1.5712522\ttest: 1.5722249\tbest: 1.5722249 (199)\ttotal: 4.25s\tremaining: 0us\n",
            "\n",
            "bestTest = 1.572224854\n",
            "bestIteration = 199\n",
            "\n",
            "Training on fold [1/3]\n",
            "0:\tlearn: 1.6092016\ttest: 1.6092017\tbest: 1.6092017 (0)\ttotal: 16.3ms\tremaining: 3.24s\n",
            "1:\tlearn: 1.6089793\ttest: 1.6089813\tbest: 1.6089813 (1)\ttotal: 32.2ms\tremaining: 3.19s\n",
            "2:\tlearn: 1.6087553\ttest: 1.6087627\tbest: 1.6087627 (2)\ttotal: 52.2ms\tremaining: 3.43s\n",
            "3:\tlearn: 1.6085378\ttest: 1.6085470\tbest: 1.6085470 (3)\ttotal: 68.5ms\tremaining: 3.36s\n",
            "4:\tlearn: 1.6083079\ttest: 1.6083195\tbest: 1.6083195 (4)\ttotal: 85.2ms\tremaining: 3.32s\n",
            "5:\tlearn: 1.6080869\ttest: 1.6081041\tbest: 1.6081041 (5)\ttotal: 101ms\tremaining: 3.28s\n",
            "6:\tlearn: 1.6078576\ttest: 1.6078748\tbest: 1.6078748 (6)\ttotal: 116ms\tremaining: 3.21s\n",
            "7:\tlearn: 1.6076368\ttest: 1.6076592\tbest: 1.6076592 (7)\ttotal: 133ms\tremaining: 3.18s\n",
            "8:\tlearn: 1.6074081\ttest: 1.6074344\tbest: 1.6074344 (8)\ttotal: 149ms\tremaining: 3.16s\n",
            "9:\tlearn: 1.6071930\ttest: 1.6072231\tbest: 1.6072231 (9)\ttotal: 165ms\tremaining: 3.13s\n",
            "10:\tlearn: 1.6069769\ttest: 1.6070135\tbest: 1.6070135 (10)\ttotal: 185ms\tremaining: 3.17s\n",
            "11:\tlearn: 1.6067455\ttest: 1.6067832\tbest: 1.6067832 (11)\ttotal: 200ms\tremaining: 3.13s\n",
            "12:\tlearn: 1.6065198\ttest: 1.6065583\tbest: 1.6065583 (12)\ttotal: 218ms\tremaining: 3.14s\n",
            "13:\tlearn: 1.6063083\ttest: 1.6063511\tbest: 1.6063511 (13)\ttotal: 234ms\tremaining: 3.1s\n",
            "14:\tlearn: 1.6060760\ttest: 1.6061214\tbest: 1.6061214 (14)\ttotal: 250ms\tremaining: 3.08s\n",
            "15:\tlearn: 1.6058573\ttest: 1.6059048\tbest: 1.6059048 (15)\ttotal: 265ms\tremaining: 3.05s\n",
            "16:\tlearn: 1.6056359\ttest: 1.6056856\tbest: 1.6056856 (16)\ttotal: 281ms\tremaining: 3.02s\n",
            "17:\tlearn: 1.6054170\ttest: 1.6054711\tbest: 1.6054711 (17)\ttotal: 295ms\tremaining: 2.98s\n",
            "18:\tlearn: 1.6051998\ttest: 1.6052536\tbest: 1.6052536 (18)\ttotal: 313ms\tremaining: 2.98s\n",
            "19:\tlearn: 1.6049853\ttest: 1.6050417\tbest: 1.6050417 (19)\ttotal: 331ms\tremaining: 2.98s\n",
            "20:\tlearn: 1.6047580\ttest: 1.6048169\tbest: 1.6048169 (20)\ttotal: 346ms\tremaining: 2.95s\n",
            "21:\tlearn: 1.6045373\ttest: 1.6045998\tbest: 1.6045998 (21)\ttotal: 364ms\tremaining: 2.95s\n",
            "22:\tlearn: 1.6043365\ttest: 1.6044013\tbest: 1.6044013 (22)\ttotal: 383ms\tremaining: 2.95s\n",
            "23:\tlearn: 1.6041133\ttest: 1.6041789\tbest: 1.6041789 (23)\ttotal: 399ms\tremaining: 2.92s\n",
            "24:\tlearn: 1.6039071\ttest: 1.6039765\tbest: 1.6039765 (24)\ttotal: 415ms\tremaining: 2.9s\n",
            "25:\tlearn: 1.6036959\ttest: 1.6037678\tbest: 1.6037678 (25)\ttotal: 437ms\tremaining: 2.92s\n",
            "26:\tlearn: 1.6034797\ttest: 1.6035536\tbest: 1.6035536 (26)\ttotal: 464ms\tremaining: 2.97s\n",
            "27:\tlearn: 1.6032655\ttest: 1.6033427\tbest: 1.6033427 (27)\ttotal: 479ms\tremaining: 2.94s\n",
            "28:\tlearn: 1.6030429\ttest: 1.6031223\tbest: 1.6031223 (28)\ttotal: 494ms\tremaining: 2.92s\n",
            "29:\tlearn: 1.6028351\ttest: 1.6029178\tbest: 1.6029178 (29)\ttotal: 511ms\tremaining: 2.9s\n",
            "30:\tlearn: 1.6026289\ttest: 1.6027150\tbest: 1.6027150 (30)\ttotal: 525ms\tremaining: 2.86s\n",
            "31:\tlearn: 1.6024217\ttest: 1.6025122\tbest: 1.6025122 (31)\ttotal: 541ms\tremaining: 2.84s\n",
            "32:\tlearn: 1.6022109\ttest: 1.6023018\tbest: 1.6023018 (32)\ttotal: 561ms\tremaining: 2.84s\n",
            "33:\tlearn: 1.6020112\ttest: 1.6021040\tbest: 1.6021040 (33)\ttotal: 599ms\tremaining: 2.92s\n",
            "34:\tlearn: 1.6018011\ttest: 1.6018952\tbest: 1.6018952 (34)\ttotal: 615ms\tremaining: 2.9s\n",
            "35:\tlearn: 1.6015983\ttest: 1.6016958\tbest: 1.6016958 (35)\ttotal: 630ms\tremaining: 2.87s\n",
            "36:\tlearn: 1.6013845\ttest: 1.6014800\tbest: 1.6014800 (36)\ttotal: 647ms\tremaining: 2.85s\n",
            "37:\tlearn: 1.6011744\ttest: 1.6012712\tbest: 1.6012712 (37)\ttotal: 663ms\tremaining: 2.83s\n",
            "38:\tlearn: 1.6009707\ttest: 1.6010704\tbest: 1.6010704 (38)\ttotal: 679ms\tremaining: 2.8s\n",
            "39:\tlearn: 1.6007685\ttest: 1.6008687\tbest: 1.6008687 (39)\ttotal: 695ms\tremaining: 2.78s\n",
            "40:\tlearn: 1.6005664\ttest: 1.6006722\tbest: 1.6006722 (40)\ttotal: 712ms\tremaining: 2.76s\n",
            "41:\tlearn: 1.6003679\ttest: 1.6004752\tbest: 1.6004752 (41)\ttotal: 727ms\tremaining: 2.74s\n",
            "42:\tlearn: 1.6001553\ttest: 1.6002662\tbest: 1.6002662 (42)\ttotal: 744ms\tremaining: 2.72s\n",
            "43:\tlearn: 1.5999547\ttest: 1.6000666\tbest: 1.6000666 (43)\ttotal: 760ms\tremaining: 2.69s\n",
            "44:\tlearn: 1.5997346\ttest: 1.5998488\tbest: 1.5998488 (44)\ttotal: 777ms\tremaining: 2.67s\n",
            "45:\tlearn: 1.5995228\ttest: 1.5996378\tbest: 1.5996378 (45)\ttotal: 792ms\tremaining: 2.65s\n",
            "46:\tlearn: 1.5993127\ttest: 1.5994269\tbest: 1.5994269 (46)\ttotal: 812ms\tremaining: 2.64s\n",
            "47:\tlearn: 1.5990937\ttest: 1.5992102\tbest: 1.5992102 (47)\ttotal: 827ms\tremaining: 2.62s\n",
            "48:\tlearn: 1.5988913\ttest: 1.5990123\tbest: 1.5990123 (48)\ttotal: 843ms\tremaining: 2.6s\n",
            "49:\tlearn: 1.5986842\ttest: 1.5988089\tbest: 1.5988089 (49)\ttotal: 859ms\tremaining: 2.58s\n",
            "50:\tlearn: 1.5984770\ttest: 1.5986023\tbest: 1.5986023 (50)\ttotal: 874ms\tremaining: 2.55s\n",
            "51:\tlearn: 1.5982718\ttest: 1.5983976\tbest: 1.5983976 (51)\ttotal: 889ms\tremaining: 2.53s\n",
            "52:\tlearn: 1.5980753\ttest: 1.5982030\tbest: 1.5982030 (52)\ttotal: 905ms\tremaining: 2.51s\n",
            "53:\tlearn: 1.5978752\ttest: 1.5980024\tbest: 1.5980024 (53)\ttotal: 920ms\tremaining: 2.49s\n",
            "54:\tlearn: 1.5976663\ttest: 1.5977969\tbest: 1.5977969 (54)\ttotal: 950ms\tremaining: 2.5s\n",
            "55:\tlearn: 1.5974572\ttest: 1.5975939\tbest: 1.5975939 (55)\ttotal: 967ms\tremaining: 2.49s\n",
            "56:\tlearn: 1.5972542\ttest: 1.5973924\tbest: 1.5973924 (56)\ttotal: 982ms\tremaining: 2.46s\n",
            "57:\tlearn: 1.5970552\ttest: 1.5971932\tbest: 1.5971932 (57)\ttotal: 998ms\tremaining: 2.44s\n",
            "58:\tlearn: 1.5968515\ttest: 1.5969924\tbest: 1.5969924 (58)\ttotal: 1.02s\tremaining: 2.44s\n",
            "59:\tlearn: 1.5966584\ttest: 1.5968026\tbest: 1.5968026 (59)\ttotal: 1.04s\tremaining: 2.42s\n",
            "60:\tlearn: 1.5964588\ttest: 1.5966066\tbest: 1.5966066 (60)\ttotal: 1.05s\tremaining: 2.4s\n",
            "61:\tlearn: 1.5962604\ttest: 1.5964130\tbest: 1.5964130 (61)\ttotal: 1.07s\tremaining: 2.38s\n",
            "62:\tlearn: 1.5960601\ttest: 1.5962165\tbest: 1.5962165 (62)\ttotal: 1.08s\tremaining: 2.36s\n",
            "63:\tlearn: 1.5958636\ttest: 1.5960259\tbest: 1.5960259 (63)\ttotal: 1.1s\tremaining: 2.34s\n",
            "64:\tlearn: 1.5956682\ttest: 1.5958313\tbest: 1.5958313 (64)\ttotal: 1.12s\tremaining: 2.32s\n",
            "65:\tlearn: 1.5954713\ttest: 1.5956372\tbest: 1.5956372 (65)\ttotal: 1.14s\tremaining: 2.3s\n",
            "66:\tlearn: 1.5952677\ttest: 1.5954333\tbest: 1.5954333 (66)\ttotal: 1.15s\tremaining: 2.28s\n",
            "67:\tlearn: 1.5950898\ttest: 1.5952625\tbest: 1.5952625 (67)\ttotal: 1.17s\tremaining: 2.27s\n",
            "68:\tlearn: 1.5948887\ttest: 1.5950655\tbest: 1.5950655 (68)\ttotal: 1.18s\tremaining: 2.25s\n",
            "69:\tlearn: 1.5946874\ttest: 1.5948676\tbest: 1.5948676 (69)\ttotal: 1.2s\tremaining: 2.23s\n",
            "70:\tlearn: 1.5944918\ttest: 1.5946724\tbest: 1.5946724 (70)\ttotal: 1.22s\tremaining: 2.21s\n",
            "71:\tlearn: 1.5943168\ttest: 1.5945006\tbest: 1.5945006 (71)\ttotal: 1.24s\tremaining: 2.2s\n",
            "72:\tlearn: 1.5941187\ttest: 1.5943039\tbest: 1.5943039 (72)\ttotal: 1.26s\tremaining: 2.19s\n",
            "73:\tlearn: 1.5939166\ttest: 1.5941063\tbest: 1.5941063 (73)\ttotal: 1.27s\tremaining: 2.17s\n",
            "74:\tlearn: 1.5937166\ttest: 1.5939112\tbest: 1.5939112 (74)\ttotal: 1.29s\tremaining: 2.15s\n",
            "75:\tlearn: 1.5935071\ttest: 1.5937045\tbest: 1.5937045 (75)\ttotal: 1.31s\tremaining: 2.14s\n",
            "76:\tlearn: 1.5933121\ttest: 1.5935141\tbest: 1.5935141 (76)\ttotal: 1.32s\tremaining: 2.12s\n",
            "77:\tlearn: 1.5931168\ttest: 1.5933229\tbest: 1.5933229 (77)\ttotal: 1.34s\tremaining: 2.1s\n",
            "78:\tlearn: 1.5929275\ttest: 1.5931364\tbest: 1.5931364 (78)\ttotal: 1.36s\tremaining: 2.08s\n",
            "79:\tlearn: 1.5927218\ttest: 1.5929306\tbest: 1.5929306 (79)\ttotal: 1.37s\tremaining: 2.06s\n",
            "80:\tlearn: 1.5925234\ttest: 1.5927354\tbest: 1.5927354 (80)\ttotal: 1.39s\tremaining: 2.04s\n",
            "81:\tlearn: 1.5923175\ttest: 1.5925304\tbest: 1.5925304 (81)\ttotal: 1.4s\tremaining: 2.02s\n",
            "82:\tlearn: 1.5921294\ttest: 1.5923462\tbest: 1.5923462 (82)\ttotal: 1.42s\tremaining: 2s\n",
            "83:\tlearn: 1.5919359\ttest: 1.5921578\tbest: 1.5921578 (83)\ttotal: 1.45s\tremaining: 2s\n",
            "84:\tlearn: 1.5917266\ttest: 1.5919525\tbest: 1.5919525 (84)\ttotal: 1.47s\tremaining: 1.99s\n",
            "85:\tlearn: 1.5915395\ttest: 1.5917693\tbest: 1.5917693 (85)\ttotal: 1.48s\tremaining: 1.97s\n",
            "86:\tlearn: 1.5913491\ttest: 1.5915814\tbest: 1.5915814 (86)\ttotal: 1.5s\tremaining: 1.95s\n",
            "87:\tlearn: 1.5911517\ttest: 1.5913871\tbest: 1.5913871 (87)\ttotal: 1.52s\tremaining: 1.93s\n",
            "88:\tlearn: 1.5909562\ttest: 1.5911913\tbest: 1.5911913 (88)\ttotal: 1.53s\tremaining: 1.91s\n",
            "89:\tlearn: 1.5907690\ttest: 1.5910115\tbest: 1.5910115 (89)\ttotal: 1.56s\tremaining: 1.9s\n",
            "90:\tlearn: 1.5905642\ttest: 1.5908105\tbest: 1.5908105 (90)\ttotal: 1.6s\tremaining: 1.92s\n",
            "91:\tlearn: 1.5903765\ttest: 1.5906262\tbest: 1.5906262 (91)\ttotal: 1.62s\tremaining: 1.9s\n",
            "92:\tlearn: 1.5901749\ttest: 1.5904273\tbest: 1.5904273 (92)\ttotal: 1.64s\tremaining: 1.88s\n",
            "93:\tlearn: 1.5899917\ttest: 1.5902499\tbest: 1.5902499 (93)\ttotal: 1.66s\tremaining: 1.87s\n",
            "94:\tlearn: 1.5898085\ttest: 1.5900699\tbest: 1.5900699 (94)\ttotal: 1.67s\tremaining: 1.85s\n",
            "95:\tlearn: 1.5896081\ttest: 1.5898735\tbest: 1.5898735 (95)\ttotal: 1.69s\tremaining: 1.83s\n",
            "96:\tlearn: 1.5894212\ttest: 1.5896881\tbest: 1.5896881 (96)\ttotal: 1.7s\tremaining: 1.81s\n",
            "97:\tlearn: 1.5892361\ttest: 1.5895028\tbest: 1.5895028 (97)\ttotal: 1.72s\tremaining: 1.79s\n",
            "98:\tlearn: 1.5890409\ttest: 1.5893074\tbest: 1.5893074 (98)\ttotal: 1.74s\tremaining: 1.77s\n",
            "99:\tlearn: 1.5888545\ttest: 1.5891299\tbest: 1.5891299 (99)\ttotal: 1.75s\tremaining: 1.75s\n",
            "100:\tlearn: 1.5886709\ttest: 1.5889499\tbest: 1.5889499 (100)\ttotal: 1.77s\tremaining: 1.73s\n",
            "101:\tlearn: 1.5884824\ttest: 1.5887665\tbest: 1.5887665 (101)\ttotal: 1.78s\tremaining: 1.71s\n",
            "102:\tlearn: 1.5882905\ttest: 1.5885761\tbest: 1.5885761 (102)\ttotal: 1.8s\tremaining: 1.7s\n",
            "103:\tlearn: 1.5881056\ttest: 1.5883934\tbest: 1.5883934 (103)\ttotal: 1.82s\tremaining: 1.68s\n",
            "104:\tlearn: 1.5879234\ttest: 1.5882145\tbest: 1.5882145 (104)\ttotal: 1.84s\tremaining: 1.66s\n",
            "105:\tlearn: 1.5877297\ttest: 1.5880226\tbest: 1.5880226 (105)\ttotal: 1.85s\tremaining: 1.64s\n",
            "106:\tlearn: 1.5875397\ttest: 1.5878356\tbest: 1.5878356 (106)\ttotal: 1.87s\tremaining: 1.63s\n",
            "107:\tlearn: 1.5873630\ttest: 1.5876612\tbest: 1.5876612 (107)\ttotal: 1.89s\tremaining: 1.61s\n",
            "108:\tlearn: 1.5871686\ttest: 1.5874726\tbest: 1.5874726 (108)\ttotal: 1.9s\tremaining: 1.59s\n",
            "109:\tlearn: 1.5869874\ttest: 1.5872993\tbest: 1.5872993 (109)\ttotal: 1.92s\tremaining: 1.57s\n",
            "110:\tlearn: 1.5868095\ttest: 1.5871209\tbest: 1.5871209 (110)\ttotal: 1.94s\tremaining: 1.55s\n",
            "111:\tlearn: 1.5866205\ttest: 1.5869330\tbest: 1.5869330 (111)\ttotal: 1.95s\tremaining: 1.53s\n",
            "112:\tlearn: 1.5864419\ttest: 1.5867571\tbest: 1.5867571 (112)\ttotal: 1.97s\tremaining: 1.51s\n",
            "113:\tlearn: 1.5862625\ttest: 1.5865789\tbest: 1.5865789 (113)\ttotal: 1.98s\tremaining: 1.5s\n",
            "114:\tlearn: 1.5860824\ttest: 1.5864021\tbest: 1.5864021 (114)\ttotal: 2s\tremaining: 1.48s\n",
            "115:\tlearn: 1.5858899\ttest: 1.5862104\tbest: 1.5862104 (115)\ttotal: 2.01s\tremaining: 1.46s\n",
            "116:\tlearn: 1.5857161\ttest: 1.5860378\tbest: 1.5860378 (116)\ttotal: 2.03s\tremaining: 1.44s\n",
            "117:\tlearn: 1.5855339\ttest: 1.5858558\tbest: 1.5858558 (117)\ttotal: 2.04s\tremaining: 1.42s\n",
            "118:\tlearn: 1.5853533\ttest: 1.5856800\tbest: 1.5856800 (118)\ttotal: 2.06s\tremaining: 1.41s\n",
            "119:\tlearn: 1.5851761\ttest: 1.5855054\tbest: 1.5855054 (119)\ttotal: 2.08s\tremaining: 1.39s\n",
            "120:\tlearn: 1.5849831\ttest: 1.5853118\tbest: 1.5853118 (120)\ttotal: 2.1s\tremaining: 1.37s\n",
            "121:\tlearn: 1.5848050\ttest: 1.5851381\tbest: 1.5851381 (121)\ttotal: 2.12s\tremaining: 1.36s\n",
            "122:\tlearn: 1.5846233\ttest: 1.5849594\tbest: 1.5849594 (122)\ttotal: 2.14s\tremaining: 1.34s\n",
            "123:\tlearn: 1.5844380\ttest: 1.5847738\tbest: 1.5847738 (123)\ttotal: 2.16s\tremaining: 1.32s\n",
            "124:\tlearn: 1.5842547\ttest: 1.5845941\tbest: 1.5845941 (124)\ttotal: 2.17s\tremaining: 1.3s\n",
            "125:\tlearn: 1.5840678\ttest: 1.5844086\tbest: 1.5844086 (125)\ttotal: 2.19s\tremaining: 1.28s\n",
            "126:\tlearn: 1.5838950\ttest: 1.5842391\tbest: 1.5842391 (126)\ttotal: 2.2s\tremaining: 1.26s\n",
            "127:\tlearn: 1.5837176\ttest: 1.5840664\tbest: 1.5840664 (127)\ttotal: 2.22s\tremaining: 1.25s\n",
            "128:\tlearn: 1.5835299\ttest: 1.5838804\tbest: 1.5838804 (128)\ttotal: 2.23s\tremaining: 1.23s\n",
            "129:\tlearn: 1.5833601\ttest: 1.5837154\tbest: 1.5837154 (129)\ttotal: 2.25s\tremaining: 1.21s\n",
            "130:\tlearn: 1.5831785\ttest: 1.5835370\tbest: 1.5835370 (130)\ttotal: 2.26s\tremaining: 1.19s\n",
            "131:\tlearn: 1.5829998\ttest: 1.5833606\tbest: 1.5833606 (131)\ttotal: 2.28s\tremaining: 1.18s\n",
            "132:\tlearn: 1.5828082\ttest: 1.5831705\tbest: 1.5831705 (132)\ttotal: 2.3s\tremaining: 1.16s\n",
            "133:\tlearn: 1.5826396\ttest: 1.5830021\tbest: 1.5830021 (133)\ttotal: 2.31s\tremaining: 1.14s\n",
            "134:\tlearn: 1.5824756\ttest: 1.5828438\tbest: 1.5828438 (134)\ttotal: 2.33s\tremaining: 1.12s\n",
            "135:\tlearn: 1.5822870\ttest: 1.5826573\tbest: 1.5826573 (135)\ttotal: 2.34s\tremaining: 1.1s\n",
            "136:\tlearn: 1.5821056\ttest: 1.5824782\tbest: 1.5824782 (136)\ttotal: 2.35s\tremaining: 1.08s\n",
            "137:\tlearn: 1.5819346\ttest: 1.5823089\tbest: 1.5823089 (137)\ttotal: 2.37s\tremaining: 1.06s\n",
            "138:\tlearn: 1.5817609\ttest: 1.5821362\tbest: 1.5821362 (138)\ttotal: 2.39s\tremaining: 1.05s\n",
            "139:\tlearn: 1.5815896\ttest: 1.5819689\tbest: 1.5819689 (139)\ttotal: 2.4s\tremaining: 1.03s\n",
            "140:\tlearn: 1.5814121\ttest: 1.5817943\tbest: 1.5817943 (140)\ttotal: 2.42s\tremaining: 1.01s\n",
            "141:\tlearn: 1.5812324\ttest: 1.5816191\tbest: 1.5816191 (141)\ttotal: 2.43s\tremaining: 993ms\n",
            "142:\tlearn: 1.5810564\ttest: 1.5814456\tbest: 1.5814456 (142)\ttotal: 2.47s\tremaining: 985ms\n",
            "143:\tlearn: 1.5808859\ttest: 1.5812796\tbest: 1.5812796 (143)\ttotal: 2.49s\tremaining: 967ms\n",
            "144:\tlearn: 1.5807111\ttest: 1.5811079\tbest: 1.5811079 (144)\ttotal: 2.5s\tremaining: 949ms\n",
            "145:\tlearn: 1.5805346\ttest: 1.5809320\tbest: 1.5809320 (145)\ttotal: 2.52s\tremaining: 932ms\n",
            "146:\tlearn: 1.5803652\ttest: 1.5807661\tbest: 1.5807661 (146)\ttotal: 2.54s\tremaining: 915ms\n",
            "147:\tlearn: 1.5801836\ttest: 1.5805823\tbest: 1.5805823 (147)\ttotal: 2.58s\tremaining: 905ms\n",
            "148:\tlearn: 1.5800019\ttest: 1.5804033\tbest: 1.5804033 (148)\ttotal: 2.6s\tremaining: 888ms\n",
            "149:\tlearn: 1.5798345\ttest: 1.5802373\tbest: 1.5802373 (149)\ttotal: 2.61s\tremaining: 870ms\n",
            "150:\tlearn: 1.5796677\ttest: 1.5800721\tbest: 1.5800721 (150)\ttotal: 2.63s\tremaining: 852ms\n",
            "151:\tlearn: 1.5794974\ttest: 1.5799024\tbest: 1.5799024 (151)\ttotal: 2.64s\tremaining: 834ms\n",
            "152:\tlearn: 1.5793303\ttest: 1.5797389\tbest: 1.5797389 (152)\ttotal: 2.66s\tremaining: 816ms\n",
            "153:\tlearn: 1.5791555\ttest: 1.5795643\tbest: 1.5795643 (153)\ttotal: 2.68s\tremaining: 799ms\n",
            "154:\tlearn: 1.5789784\ttest: 1.5793918\tbest: 1.5793918 (154)\ttotal: 2.69s\tremaining: 782ms\n",
            "155:\tlearn: 1.5788094\ttest: 1.5792245\tbest: 1.5792245 (155)\ttotal: 2.71s\tremaining: 764ms\n",
            "156:\tlearn: 1.5786368\ttest: 1.5790552\tbest: 1.5790552 (156)\ttotal: 2.72s\tremaining: 746ms\n",
            "157:\tlearn: 1.5784708\ttest: 1.5788895\tbest: 1.5788895 (157)\ttotal: 2.74s\tremaining: 728ms\n",
            "158:\tlearn: 1.5782901\ttest: 1.5787077\tbest: 1.5787077 (158)\ttotal: 2.75s\tremaining: 710ms\n",
            "159:\tlearn: 1.5781169\ttest: 1.5785359\tbest: 1.5785359 (159)\ttotal: 2.77s\tremaining: 692ms\n",
            "160:\tlearn: 1.5779428\ttest: 1.5783635\tbest: 1.5783635 (160)\ttotal: 2.78s\tremaining: 675ms\n",
            "161:\tlearn: 1.5777671\ttest: 1.5781878\tbest: 1.5781878 (161)\ttotal: 2.81s\tremaining: 659ms\n",
            "162:\tlearn: 1.5775972\ttest: 1.5780218\tbest: 1.5780218 (162)\ttotal: 2.83s\tremaining: 641ms\n",
            "163:\tlearn: 1.5774173\ttest: 1.5778443\tbest: 1.5778443 (163)\ttotal: 2.84s\tremaining: 624ms\n",
            "164:\tlearn: 1.5772564\ttest: 1.5776869\tbest: 1.5776869 (164)\ttotal: 2.86s\tremaining: 606ms\n",
            "165:\tlearn: 1.5770956\ttest: 1.5775290\tbest: 1.5775290 (165)\ttotal: 2.87s\tremaining: 588ms\n",
            "166:\tlearn: 1.5769378\ttest: 1.5773762\tbest: 1.5773762 (166)\ttotal: 2.89s\tremaining: 572ms\n",
            "167:\tlearn: 1.5767738\ttest: 1.5772174\tbest: 1.5772174 (167)\ttotal: 2.91s\tremaining: 554ms\n",
            "168:\tlearn: 1.5766074\ttest: 1.5770536\tbest: 1.5770536 (168)\ttotal: 2.93s\tremaining: 537ms\n",
            "169:\tlearn: 1.5764329\ttest: 1.5768816\tbest: 1.5768816 (169)\ttotal: 2.94s\tremaining: 519ms\n",
            "170:\tlearn: 1.5762607\ttest: 1.5767094\tbest: 1.5767094 (170)\ttotal: 2.96s\tremaining: 502ms\n",
            "171:\tlearn: 1.5760861\ttest: 1.5765354\tbest: 1.5765354 (171)\ttotal: 2.98s\tremaining: 484ms\n",
            "172:\tlearn: 1.5759156\ttest: 1.5763657\tbest: 1.5763657 (172)\ttotal: 2.99s\tremaining: 467ms\n",
            "173:\tlearn: 1.5757503\ttest: 1.5762030\tbest: 1.5762030 (173)\ttotal: 3.01s\tremaining: 449ms\n",
            "174:\tlearn: 1.5755794\ttest: 1.5760342\tbest: 1.5760342 (174)\ttotal: 3.02s\tremaining: 432ms\n",
            "175:\tlearn: 1.5754181\ttest: 1.5758768\tbest: 1.5758768 (175)\ttotal: 3.04s\tremaining: 415ms\n",
            "176:\tlearn: 1.5752589\ttest: 1.5757216\tbest: 1.5757216 (176)\ttotal: 3.06s\tremaining: 397ms\n",
            "177:\tlearn: 1.5750888\ttest: 1.5755552\tbest: 1.5755552 (177)\ttotal: 3.07s\tremaining: 380ms\n",
            "178:\tlearn: 1.5749411\ttest: 1.5754104\tbest: 1.5754104 (178)\ttotal: 3.09s\tremaining: 362ms\n",
            "179:\tlearn: 1.5747822\ttest: 1.5752546\tbest: 1.5752546 (179)\ttotal: 3.11s\tremaining: 346ms\n",
            "180:\tlearn: 1.5746021\ttest: 1.5750751\tbest: 1.5750751 (180)\ttotal: 3.13s\tremaining: 328ms\n",
            "181:\tlearn: 1.5744406\ttest: 1.5749160\tbest: 1.5749160 (181)\ttotal: 3.14s\tremaining: 311ms\n",
            "182:\tlearn: 1.5742803\ttest: 1.5747588\tbest: 1.5747588 (182)\ttotal: 3.16s\tremaining: 294ms\n",
            "183:\tlearn: 1.5741167\ttest: 1.5745992\tbest: 1.5745992 (183)\ttotal: 3.18s\tremaining: 276ms\n",
            "184:\tlearn: 1.5739567\ttest: 1.5744415\tbest: 1.5744415 (184)\ttotal: 3.2s\tremaining: 259ms\n",
            "185:\tlearn: 1.5737961\ttest: 1.5742830\tbest: 1.5742830 (185)\ttotal: 3.23s\tremaining: 243ms\n",
            "186:\tlearn: 1.5736386\ttest: 1.5741263\tbest: 1.5741263 (186)\ttotal: 3.27s\tremaining: 227ms\n",
            "187:\tlearn: 1.5734773\ttest: 1.5739688\tbest: 1.5739688 (187)\ttotal: 3.3s\tremaining: 210ms\n",
            "188:\tlearn: 1.5733142\ttest: 1.5738101\tbest: 1.5738101 (188)\ttotal: 3.34s\tremaining: 194ms\n",
            "189:\tlearn: 1.5731570\ttest: 1.5736570\tbest: 1.5736570 (189)\ttotal: 3.37s\tremaining: 177ms\n",
            "190:\tlearn: 1.5729896\ttest: 1.5734916\tbest: 1.5734916 (190)\ttotal: 3.4s\tremaining: 160ms\n",
            "191:\tlearn: 1.5728192\ttest: 1.5733234\tbest: 1.5733234 (191)\ttotal: 3.43s\tremaining: 143ms\n",
            "192:\tlearn: 1.5726554\ttest: 1.5731604\tbest: 1.5731604 (192)\ttotal: 3.46s\tremaining: 126ms\n",
            "193:\tlearn: 1.5725096\ttest: 1.5730170\tbest: 1.5730170 (193)\ttotal: 3.49s\tremaining: 108ms\n",
            "194:\tlearn: 1.5723579\ttest: 1.5728676\tbest: 1.5728676 (194)\ttotal: 3.52s\tremaining: 90.3ms\n",
            "195:\tlearn: 1.5722016\ttest: 1.5727120\tbest: 1.5727120 (195)\ttotal: 3.58s\tremaining: 73ms\n",
            "196:\tlearn: 1.5720360\ttest: 1.5725504\tbest: 1.5725504 (196)\ttotal: 3.63s\tremaining: 55.3ms\n",
            "197:\tlearn: 1.5718659\ttest: 1.5723801\tbest: 1.5723801 (197)\ttotal: 3.67s\tremaining: 37ms\n",
            "198:\tlearn: 1.5717074\ttest: 1.5722246\tbest: 1.5722246 (198)\ttotal: 3.7s\tremaining: 18.6ms\n",
            "199:\tlearn: 1.5715497\ttest: 1.5720703\tbest: 1.5720703 (199)\ttotal: 3.73s\tremaining: 0us\n",
            "\n",
            "bestTest = 1.572070262\n",
            "bestIteration = 199\n",
            "\n",
            "Training on fold [2/3]\n",
            "0:\tlearn: 1.6091996\ttest: 1.6092027\tbest: 1.6092027 (0)\ttotal: 30.6ms\tremaining: 6.09s\n",
            "1:\tlearn: 1.6089789\ttest: 1.6089840\tbest: 1.6089840 (1)\ttotal: 68.2ms\tremaining: 6.75s\n",
            "2:\tlearn: 1.6087652\ttest: 1.6087768\tbest: 1.6087768 (2)\ttotal: 96.9ms\tremaining: 6.37s\n",
            "3:\tlearn: 1.6085458\ttest: 1.6085630\tbest: 1.6085630 (3)\ttotal: 124ms\tremaining: 6.07s\n",
            "4:\tlearn: 1.6083247\ttest: 1.6083463\tbest: 1.6083463 (4)\ttotal: 155ms\tremaining: 6.03s\n",
            "5:\tlearn: 1.6081005\ttest: 1.6081308\tbest: 1.6081308 (5)\ttotal: 184ms\tremaining: 5.96s\n",
            "6:\tlearn: 1.6078690\ttest: 1.6079035\tbest: 1.6079035 (6)\ttotal: 212ms\tremaining: 5.84s\n",
            "7:\tlearn: 1.6076464\ttest: 1.6076870\tbest: 1.6076870 (7)\ttotal: 247ms\tremaining: 5.93s\n",
            "8:\tlearn: 1.6074190\ttest: 1.6074634\tbest: 1.6074634 (8)\ttotal: 277ms\tremaining: 5.88s\n",
            "9:\tlearn: 1.6071998\ttest: 1.6072468\tbest: 1.6072468 (9)\ttotal: 297ms\tremaining: 5.64s\n",
            "10:\tlearn: 1.6069873\ttest: 1.6070403\tbest: 1.6070403 (10)\ttotal: 326ms\tremaining: 5.6s\n",
            "11:\tlearn: 1.6067626\ttest: 1.6068169\tbest: 1.6068169 (11)\ttotal: 355ms\tremaining: 5.57s\n",
            "12:\tlearn: 1.6065455\ttest: 1.6066047\tbest: 1.6066047 (12)\ttotal: 394ms\tremaining: 5.66s\n",
            "13:\tlearn: 1.6063350\ttest: 1.6063981\tbest: 1.6063981 (13)\ttotal: 423ms\tremaining: 5.61s\n",
            "14:\tlearn: 1.6061041\ttest: 1.6061710\tbest: 1.6061710 (14)\ttotal: 459ms\tremaining: 5.66s\n",
            "15:\tlearn: 1.6059080\ttest: 1.6059789\tbest: 1.6059789 (15)\ttotal: 490ms\tremaining: 5.63s\n",
            "16:\tlearn: 1.6056927\ttest: 1.6057688\tbest: 1.6057688 (16)\ttotal: 517ms\tremaining: 5.56s\n",
            "17:\tlearn: 1.6054756\ttest: 1.6055534\tbest: 1.6055534 (17)\ttotal: 543ms\tremaining: 5.49s\n",
            "18:\tlearn: 1.6052472\ttest: 1.6053293\tbest: 1.6053293 (18)\ttotal: 573ms\tremaining: 5.46s\n",
            "19:\tlearn: 1.6050300\ttest: 1.6051149\tbest: 1.6051149 (19)\ttotal: 603ms\tremaining: 5.43s\n",
            "20:\tlearn: 1.6048209\ttest: 1.6049131\tbest: 1.6049131 (20)\ttotal: 633ms\tremaining: 5.4s\n",
            "21:\tlearn: 1.6046049\ttest: 1.6046990\tbest: 1.6046990 (21)\ttotal: 667ms\tremaining: 5.39s\n",
            "22:\tlearn: 1.6043819\ttest: 1.6044861\tbest: 1.6044861 (22)\ttotal: 702ms\tremaining: 5.4s\n",
            "23:\tlearn: 1.6041608\ttest: 1.6042679\tbest: 1.6042679 (23)\ttotal: 733ms\tremaining: 5.38s\n",
            "24:\tlearn: 1.6039427\ttest: 1.6040549\tbest: 1.6040549 (24)\ttotal: 761ms\tremaining: 5.33s\n",
            "25:\tlearn: 1.6037147\ttest: 1.6038334\tbest: 1.6038334 (25)\ttotal: 811ms\tremaining: 5.43s\n",
            "26:\tlearn: 1.6035046\ttest: 1.6036268\tbest: 1.6036268 (26)\ttotal: 852ms\tremaining: 5.46s\n",
            "27:\tlearn: 1.6032875\ttest: 1.6034178\tbest: 1.6034178 (27)\ttotal: 888ms\tremaining: 5.46s\n",
            "28:\tlearn: 1.6030821\ttest: 1.6032182\tbest: 1.6032182 (28)\ttotal: 917ms\tremaining: 5.41s\n",
            "29:\tlearn: 1.6028689\ttest: 1.6030099\tbest: 1.6030099 (29)\ttotal: 955ms\tremaining: 5.41s\n",
            "30:\tlearn: 1.6026485\ttest: 1.6027936\tbest: 1.6027936 (30)\ttotal: 992ms\tremaining: 5.41s\n",
            "31:\tlearn: 1.6024427\ttest: 1.6025908\tbest: 1.6025908 (31)\ttotal: 1.03s\tremaining: 5.42s\n",
            "32:\tlearn: 1.6022368\ttest: 1.6023906\tbest: 1.6023906 (32)\ttotal: 1.07s\tremaining: 5.42s\n",
            "33:\tlearn: 1.6020184\ttest: 1.6021762\tbest: 1.6021762 (33)\ttotal: 1.1s\tremaining: 5.38s\n",
            "34:\tlearn: 1.6018141\ttest: 1.6019769\tbest: 1.6019769 (34)\ttotal: 1.14s\tremaining: 5.37s\n",
            "35:\tlearn: 1.6016027\ttest: 1.6017665\tbest: 1.6017665 (35)\ttotal: 1.18s\tremaining: 5.36s\n",
            "36:\tlearn: 1.6013995\ttest: 1.6015670\tbest: 1.6015670 (36)\ttotal: 1.2s\tremaining: 5.3s\n",
            "37:\tlearn: 1.6011943\ttest: 1.6013668\tbest: 1.6013668 (37)\ttotal: 1.23s\tremaining: 5.25s\n",
            "38:\tlearn: 1.6009880\ttest: 1.6011635\tbest: 1.6011635 (38)\ttotal: 1.26s\tremaining: 5.21s\n",
            "39:\tlearn: 1.6007645\ttest: 1.6009415\tbest: 1.6009415 (39)\ttotal: 1.29s\tremaining: 5.17s\n",
            "40:\tlearn: 1.6005509\ttest: 1.6007336\tbest: 1.6007336 (40)\ttotal: 1.33s\tremaining: 5.15s\n",
            "41:\tlearn: 1.6003552\ttest: 1.6005410\tbest: 1.6005410 (41)\ttotal: 1.36s\tremaining: 5.12s\n",
            "42:\tlearn: 1.6001580\ttest: 1.6003444\tbest: 1.6003444 (42)\ttotal: 1.39s\tremaining: 5.07s\n",
            "43:\tlearn: 1.5999578\ttest: 1.6001489\tbest: 1.6001489 (43)\ttotal: 1.42s\tremaining: 5.02s\n",
            "44:\tlearn: 1.5997505\ttest: 1.5999476\tbest: 1.5999476 (44)\ttotal: 1.45s\tremaining: 4.98s\n",
            "45:\tlearn: 1.5995436\ttest: 1.5997445\tbest: 1.5997445 (45)\ttotal: 1.47s\tremaining: 4.93s\n",
            "46:\tlearn: 1.5993283\ttest: 1.5995310\tbest: 1.5995310 (46)\ttotal: 1.5s\tremaining: 4.89s\n",
            "47:\tlearn: 1.5991092\ttest: 1.5993181\tbest: 1.5993181 (47)\ttotal: 1.53s\tremaining: 4.85s\n",
            "48:\tlearn: 1.5989037\ttest: 1.5991192\tbest: 1.5991192 (48)\ttotal: 1.56s\tremaining: 4.81s\n",
            "49:\tlearn: 1.5986984\ttest: 1.5989147\tbest: 1.5989147 (49)\ttotal: 1.59s\tremaining: 4.77s\n",
            "50:\tlearn: 1.5984971\ttest: 1.5987152\tbest: 1.5987152 (50)\ttotal: 1.62s\tremaining: 4.73s\n",
            "51:\tlearn: 1.5982982\ttest: 1.5985188\tbest: 1.5985188 (51)\ttotal: 1.65s\tremaining: 4.69s\n",
            "52:\tlearn: 1.5980950\ttest: 1.5983219\tbest: 1.5983219 (52)\ttotal: 1.68s\tremaining: 4.66s\n",
            "53:\tlearn: 1.5978920\ttest: 1.5981245\tbest: 1.5981245 (53)\ttotal: 1.71s\tremaining: 4.62s\n",
            "54:\tlearn: 1.5976802\ttest: 1.5979148\tbest: 1.5979148 (54)\ttotal: 1.75s\tremaining: 4.62s\n",
            "55:\tlearn: 1.5974793\ttest: 1.5977164\tbest: 1.5977164 (55)\ttotal: 1.78s\tremaining: 4.58s\n",
            "56:\tlearn: 1.5972812\ttest: 1.5975228\tbest: 1.5975228 (56)\ttotal: 1.82s\tremaining: 4.58s\n",
            "57:\tlearn: 1.5970696\ttest: 1.5973165\tbest: 1.5973165 (57)\ttotal: 1.89s\tremaining: 4.62s\n",
            "58:\tlearn: 1.5968647\ttest: 1.5971164\tbest: 1.5971164 (58)\ttotal: 1.92s\tremaining: 4.58s\n",
            "59:\tlearn: 1.5966648\ttest: 1.5969193\tbest: 1.5969193 (59)\ttotal: 1.94s\tremaining: 4.54s\n",
            "60:\tlearn: 1.5964641\ttest: 1.5967220\tbest: 1.5967220 (60)\ttotal: 1.98s\tremaining: 4.52s\n",
            "61:\tlearn: 1.5962662\ttest: 1.5965285\tbest: 1.5965285 (61)\ttotal: 2.01s\tremaining: 4.48s\n",
            "62:\tlearn: 1.5960670\ttest: 1.5963370\tbest: 1.5963370 (62)\ttotal: 2.04s\tremaining: 4.44s\n",
            "63:\tlearn: 1.5958598\ttest: 1.5961340\tbest: 1.5961340 (63)\ttotal: 2.07s\tremaining: 4.4s\n",
            "64:\tlearn: 1.5956655\ttest: 1.5959421\tbest: 1.5959421 (64)\ttotal: 2.1s\tremaining: 4.36s\n",
            "65:\tlearn: 1.5954599\ttest: 1.5957381\tbest: 1.5957381 (65)\ttotal: 2.13s\tremaining: 4.32s\n",
            "66:\tlearn: 1.5952580\ttest: 1.5955418\tbest: 1.5955418 (66)\ttotal: 2.16s\tremaining: 4.29s\n",
            "67:\tlearn: 1.5950762\ttest: 1.5953634\tbest: 1.5953634 (67)\ttotal: 2.19s\tremaining: 4.25s\n",
            "68:\tlearn: 1.5948809\ttest: 1.5951693\tbest: 1.5951693 (68)\ttotal: 2.22s\tremaining: 4.22s\n",
            "69:\tlearn: 1.5946783\ttest: 1.5949694\tbest: 1.5949694 (69)\ttotal: 2.25s\tremaining: 4.18s\n",
            "70:\tlearn: 1.5944781\ttest: 1.5947728\tbest: 1.5947728 (70)\ttotal: 2.27s\tremaining: 4.13s\n",
            "71:\tlearn: 1.5942740\ttest: 1.5945751\tbest: 1.5945751 (71)\ttotal: 2.31s\tremaining: 4.1s\n",
            "72:\tlearn: 1.5940731\ttest: 1.5943779\tbest: 1.5943779 (72)\ttotal: 2.34s\tremaining: 4.06s\n",
            "73:\tlearn: 1.5938788\ttest: 1.5941891\tbest: 1.5941891 (73)\ttotal: 2.37s\tremaining: 4.03s\n",
            "74:\tlearn: 1.5936720\ttest: 1.5939870\tbest: 1.5939870 (74)\ttotal: 2.4s\tremaining: 4s\n",
            "75:\tlearn: 1.5934804\ttest: 1.5937974\tbest: 1.5937974 (75)\ttotal: 2.43s\tremaining: 3.96s\n",
            "76:\tlearn: 1.5932822\ttest: 1.5936029\tbest: 1.5936029 (76)\ttotal: 2.46s\tremaining: 3.92s\n",
            "77:\tlearn: 1.5930891\ttest: 1.5934128\tbest: 1.5934128 (77)\ttotal: 2.48s\tremaining: 3.89s\n",
            "78:\tlearn: 1.5928793\ttest: 1.5932076\tbest: 1.5932076 (78)\ttotal: 2.51s\tremaining: 3.85s\n",
            "79:\tlearn: 1.5926740\ttest: 1.5930037\tbest: 1.5930037 (79)\ttotal: 2.54s\tremaining: 3.81s\n",
            "80:\tlearn: 1.5924698\ttest: 1.5928022\tbest: 1.5928022 (80)\ttotal: 2.57s\tremaining: 3.78s\n",
            "81:\tlearn: 1.5922819\ttest: 1.5926178\tbest: 1.5926178 (81)\ttotal: 2.6s\tremaining: 3.74s\n",
            "82:\tlearn: 1.5920802\ttest: 1.5924201\tbest: 1.5924201 (82)\ttotal: 2.65s\tremaining: 3.73s\n",
            "83:\tlearn: 1.5918828\ttest: 1.5922236\tbest: 1.5922236 (83)\ttotal: 2.69s\tremaining: 3.71s\n",
            "84:\tlearn: 1.5916906\ttest: 1.5920330\tbest: 1.5920330 (84)\ttotal: 2.72s\tremaining: 3.68s\n",
            "85:\tlearn: 1.5914983\ttest: 1.5918443\tbest: 1.5918443 (85)\ttotal: 2.75s\tremaining: 3.64s\n",
            "86:\tlearn: 1.5913101\ttest: 1.5916581\tbest: 1.5916581 (86)\ttotal: 2.78s\tremaining: 3.61s\n",
            "87:\tlearn: 1.5911130\ttest: 1.5914666\tbest: 1.5914666 (87)\ttotal: 2.82s\tremaining: 3.59s\n",
            "88:\tlearn: 1.5909261\ttest: 1.5912819\tbest: 1.5912819 (88)\ttotal: 2.89s\tremaining: 3.6s\n",
            "89:\tlearn: 1.5907305\ttest: 1.5910893\tbest: 1.5910893 (89)\ttotal: 2.92s\tremaining: 3.57s\n",
            "90:\tlearn: 1.5905330\ttest: 1.5908999\tbest: 1.5908999 (90)\ttotal: 2.95s\tremaining: 3.53s\n",
            "91:\tlearn: 1.5903396\ttest: 1.5907094\tbest: 1.5907094 (91)\ttotal: 2.98s\tremaining: 3.49s\n",
            "92:\tlearn: 1.5901298\ttest: 1.5905030\tbest: 1.5905030 (92)\ttotal: 3s\tremaining: 3.46s\n",
            "93:\tlearn: 1.5899466\ttest: 1.5903212\tbest: 1.5903212 (93)\ttotal: 3.04s\tremaining: 3.43s\n",
            "94:\tlearn: 1.5897642\ttest: 1.5901378\tbest: 1.5901378 (94)\ttotal: 3.06s\tremaining: 3.38s\n",
            "95:\tlearn: 1.5895759\ttest: 1.5899505\tbest: 1.5899505 (95)\ttotal: 3.09s\tremaining: 3.35s\n",
            "96:\tlearn: 1.5893717\ttest: 1.5897487\tbest: 1.5897487 (96)\ttotal: 3.12s\tremaining: 3.31s\n",
            "97:\tlearn: 1.5891891\ttest: 1.5895705\tbest: 1.5895705 (97)\ttotal: 3.15s\tremaining: 3.28s\n",
            "98:\tlearn: 1.5889999\ttest: 1.5893816\tbest: 1.5893816 (98)\ttotal: 3.18s\tremaining: 3.24s\n",
            "99:\tlearn: 1.5888090\ttest: 1.5891929\tbest: 1.5891929 (99)\ttotal: 3.2s\tremaining: 3.2s\n",
            "100:\tlearn: 1.5886118\ttest: 1.5889988\tbest: 1.5889988 (100)\ttotal: 3.23s\tremaining: 3.17s\n",
            "101:\tlearn: 1.5884282\ttest: 1.5888167\tbest: 1.5888167 (101)\ttotal: 3.27s\tremaining: 3.15s\n",
            "102:\tlearn: 1.5882452\ttest: 1.5886385\tbest: 1.5886385 (102)\ttotal: 3.31s\tremaining: 3.11s\n",
            "103:\tlearn: 1.5880551\ttest: 1.5884519\tbest: 1.5884519 (103)\ttotal: 3.33s\tremaining: 3.08s\n",
            "104:\tlearn: 1.5878717\ttest: 1.5882717\tbest: 1.5882717 (104)\ttotal: 3.36s\tremaining: 3.04s\n",
            "105:\tlearn: 1.5876829\ttest: 1.5880897\tbest: 1.5880897 (105)\ttotal: 3.39s\tremaining: 3.01s\n",
            "106:\tlearn: 1.5875028\ttest: 1.5879125\tbest: 1.5879125 (106)\ttotal: 3.42s\tremaining: 2.97s\n",
            "107:\tlearn: 1.5873181\ttest: 1.5877291\tbest: 1.5877291 (107)\ttotal: 3.46s\tremaining: 2.95s\n",
            "108:\tlearn: 1.5871327\ttest: 1.5875488\tbest: 1.5875488 (108)\ttotal: 3.5s\tremaining: 2.92s\n",
            "109:\tlearn: 1.5869479\ttest: 1.5873656\tbest: 1.5873656 (109)\ttotal: 3.53s\tremaining: 2.89s\n",
            "110:\tlearn: 1.5867751\ttest: 1.5871989\tbest: 1.5871989 (110)\ttotal: 3.56s\tremaining: 2.85s\n",
            "111:\tlearn: 1.5866093\ttest: 1.5870403\tbest: 1.5870403 (111)\ttotal: 3.58s\tremaining: 2.82s\n",
            "112:\tlearn: 1.5864294\ttest: 1.5868635\tbest: 1.5868635 (112)\ttotal: 3.61s\tremaining: 2.78s\n",
            "113:\tlearn: 1.5862320\ttest: 1.5866699\tbest: 1.5866699 (113)\ttotal: 3.66s\tremaining: 2.76s\n",
            "114:\tlearn: 1.5860558\ttest: 1.5864966\tbest: 1.5864966 (114)\ttotal: 3.69s\tremaining: 2.73s\n",
            "115:\tlearn: 1.5858689\ttest: 1.5863152\tbest: 1.5863152 (115)\ttotal: 3.73s\tremaining: 2.7s\n",
            "116:\tlearn: 1.5856824\ttest: 1.5861322\tbest: 1.5861322 (116)\ttotal: 3.76s\tremaining: 2.67s\n",
            "117:\tlearn: 1.5855057\ttest: 1.5859617\tbest: 1.5859617 (117)\ttotal: 3.79s\tremaining: 2.63s\n",
            "118:\tlearn: 1.5853266\ttest: 1.5857882\tbest: 1.5857882 (118)\ttotal: 3.82s\tremaining: 2.6s\n",
            "119:\tlearn: 1.5851472\ttest: 1.5856110\tbest: 1.5856110 (119)\ttotal: 3.86s\tremaining: 2.58s\n",
            "120:\tlearn: 1.5849708\ttest: 1.5854384\tbest: 1.5854384 (120)\ttotal: 3.92s\tremaining: 2.56s\n",
            "121:\tlearn: 1.5847930\ttest: 1.5852608\tbest: 1.5852608 (121)\ttotal: 3.95s\tremaining: 2.52s\n",
            "122:\tlearn: 1.5846129\ttest: 1.5850877\tbest: 1.5850877 (122)\ttotal: 3.98s\tremaining: 2.49s\n",
            "123:\tlearn: 1.5844380\ttest: 1.5849171\tbest: 1.5849171 (123)\ttotal: 4.01s\tremaining: 2.46s\n",
            "124:\tlearn: 1.5842575\ttest: 1.5847422\tbest: 1.5847422 (124)\ttotal: 4.04s\tremaining: 2.42s\n",
            "125:\tlearn: 1.5840768\ttest: 1.5845661\tbest: 1.5845661 (125)\ttotal: 4.06s\tremaining: 2.38s\n",
            "126:\tlearn: 1.5838881\ttest: 1.5843830\tbest: 1.5843830 (126)\ttotal: 4.07s\tremaining: 2.34s\n",
            "127:\tlearn: 1.5837155\ttest: 1.5842135\tbest: 1.5842135 (127)\ttotal: 4.1s\tremaining: 2.31s\n",
            "128:\tlearn: 1.5835362\ttest: 1.5840377\tbest: 1.5840377 (128)\ttotal: 4.12s\tremaining: 2.27s\n",
            "129:\tlearn: 1.5833475\ttest: 1.5838530\tbest: 1.5838530 (129)\ttotal: 4.14s\tremaining: 2.23s\n",
            "130:\tlearn: 1.5831738\ttest: 1.5836845\tbest: 1.5836845 (130)\ttotal: 4.15s\tremaining: 2.19s\n",
            "131:\tlearn: 1.5829805\ttest: 1.5834954\tbest: 1.5834954 (131)\ttotal: 4.17s\tremaining: 2.15s\n",
            "132:\tlearn: 1.5828061\ttest: 1.5833248\tbest: 1.5833248 (132)\ttotal: 4.19s\tremaining: 2.11s\n",
            "133:\tlearn: 1.5826072\ttest: 1.5831322\tbest: 1.5831322 (133)\ttotal: 4.2s\tremaining: 2.07s\n",
            "134:\tlearn: 1.5824343\ttest: 1.5829650\tbest: 1.5829650 (134)\ttotal: 4.21s\tremaining: 2.03s\n",
            "135:\tlearn: 1.5822711\ttest: 1.5828066\tbest: 1.5828066 (135)\ttotal: 4.23s\tremaining: 1.99s\n",
            "136:\tlearn: 1.5820815\ttest: 1.5826224\tbest: 1.5826224 (136)\ttotal: 4.25s\tremaining: 1.95s\n",
            "137:\tlearn: 1.5819017\ttest: 1.5824519\tbest: 1.5824519 (137)\ttotal: 4.26s\tremaining: 1.92s\n",
            "138:\tlearn: 1.5817254\ttest: 1.5822843\tbest: 1.5822843 (138)\ttotal: 4.28s\tremaining: 1.88s\n",
            "139:\tlearn: 1.5815478\ttest: 1.5821127\tbest: 1.5821127 (139)\ttotal: 4.29s\tremaining: 1.84s\n",
            "140:\tlearn: 1.5813695\ttest: 1.5819380\tbest: 1.5819380 (140)\ttotal: 4.31s\tremaining: 1.8s\n",
            "141:\tlearn: 1.5811864\ttest: 1.5817560\tbest: 1.5817560 (141)\ttotal: 4.34s\tremaining: 1.77s\n",
            "142:\tlearn: 1.5810085\ttest: 1.5815823\tbest: 1.5815823 (142)\ttotal: 4.35s\tremaining: 1.74s\n",
            "143:\tlearn: 1.5808289\ttest: 1.5814112\tbest: 1.5814112 (143)\ttotal: 4.37s\tremaining: 1.7s\n",
            "144:\tlearn: 1.5806652\ttest: 1.5812478\tbest: 1.5812478 (144)\ttotal: 4.38s\tremaining: 1.66s\n",
            "145:\tlearn: 1.5804920\ttest: 1.5810784\tbest: 1.5810784 (145)\ttotal: 4.4s\tremaining: 1.63s\n",
            "146:\tlearn: 1.5803153\ttest: 1.5809043\tbest: 1.5809043 (146)\ttotal: 4.41s\tremaining: 1.59s\n",
            "147:\tlearn: 1.5801466\ttest: 1.5807377\tbest: 1.5807377 (147)\ttotal: 4.43s\tremaining: 1.56s\n",
            "148:\tlearn: 1.5799610\ttest: 1.5805576\tbest: 1.5805576 (148)\ttotal: 4.45s\tremaining: 1.52s\n",
            "149:\tlearn: 1.5797838\ttest: 1.5803836\tbest: 1.5803836 (149)\ttotal: 4.46s\tremaining: 1.49s\n",
            "150:\tlearn: 1.5796175\ttest: 1.5802185\tbest: 1.5802185 (150)\ttotal: 4.48s\tremaining: 1.45s\n",
            "151:\tlearn: 1.5794430\ttest: 1.5800443\tbest: 1.5800443 (151)\ttotal: 4.5s\tremaining: 1.42s\n",
            "152:\tlearn: 1.5792603\ttest: 1.5798693\tbest: 1.5798693 (152)\ttotal: 4.51s\tremaining: 1.39s\n",
            "153:\tlearn: 1.5790922\ttest: 1.5797039\tbest: 1.5797039 (153)\ttotal: 4.53s\tremaining: 1.35s\n",
            "154:\tlearn: 1.5789164\ttest: 1.5795311\tbest: 1.5795311 (154)\ttotal: 4.54s\tremaining: 1.32s\n",
            "155:\tlearn: 1.5787503\ttest: 1.5793678\tbest: 1.5793678 (155)\ttotal: 4.56s\tremaining: 1.29s\n",
            "156:\tlearn: 1.5785952\ttest: 1.5792191\tbest: 1.5792191 (156)\ttotal: 4.58s\tremaining: 1.25s\n",
            "157:\tlearn: 1.5784226\ttest: 1.5790528\tbest: 1.5790528 (157)\ttotal: 4.59s\tremaining: 1.22s\n",
            "158:\tlearn: 1.5782548\ttest: 1.5788906\tbest: 1.5788906 (158)\ttotal: 4.61s\tremaining: 1.19s\n",
            "159:\tlearn: 1.5780699\ttest: 1.5787112\tbest: 1.5787112 (159)\ttotal: 4.63s\tremaining: 1.16s\n",
            "160:\tlearn: 1.5778959\ttest: 1.5785412\tbest: 1.5785412 (160)\ttotal: 4.64s\tremaining: 1.12s\n",
            "161:\tlearn: 1.5777147\ttest: 1.5783634\tbest: 1.5783634 (161)\ttotal: 4.66s\tremaining: 1.09s\n",
            "162:\tlearn: 1.5775365\ttest: 1.5781874\tbest: 1.5781874 (162)\ttotal: 4.67s\tremaining: 1.06s\n",
            "163:\tlearn: 1.5773708\ttest: 1.5780246\tbest: 1.5780246 (163)\ttotal: 4.69s\tremaining: 1.03s\n",
            "164:\tlearn: 1.5771941\ttest: 1.5778524\tbest: 1.5778524 (164)\ttotal: 4.71s\tremaining: 999ms\n",
            "165:\tlearn: 1.5770329\ttest: 1.5776964\tbest: 1.5776964 (165)\ttotal: 4.72s\tremaining: 967ms\n",
            "166:\tlearn: 1.5768684\ttest: 1.5775376\tbest: 1.5775376 (166)\ttotal: 4.75s\tremaining: 939ms\n",
            "167:\tlearn: 1.5767000\ttest: 1.5773732\tbest: 1.5773732 (167)\ttotal: 4.78s\tremaining: 910ms\n",
            "168:\tlearn: 1.5765301\ttest: 1.5772076\tbest: 1.5772076 (168)\ttotal: 4.79s\tremaining: 879ms\n",
            "169:\tlearn: 1.5763629\ttest: 1.5770421\tbest: 1.5770421 (169)\ttotal: 4.81s\tremaining: 849ms\n",
            "170:\tlearn: 1.5761880\ttest: 1.5768726\tbest: 1.5768726 (170)\ttotal: 4.83s\tremaining: 818ms\n",
            "171:\tlearn: 1.5760080\ttest: 1.5766983\tbest: 1.5766983 (171)\ttotal: 4.84s\tremaining: 788ms\n",
            "172:\tlearn: 1.5758526\ttest: 1.5765484\tbest: 1.5765484 (172)\ttotal: 4.86s\tremaining: 758ms\n",
            "173:\tlearn: 1.5756787\ttest: 1.5763794\tbest: 1.5763794 (173)\ttotal: 4.9s\tremaining: 732ms\n",
            "174:\tlearn: 1.5755134\ttest: 1.5762222\tbest: 1.5762222 (174)\ttotal: 4.93s\tremaining: 704ms\n",
            "175:\tlearn: 1.5753433\ttest: 1.5760563\tbest: 1.5760563 (175)\ttotal: 4.95s\tremaining: 675ms\n",
            "176:\tlearn: 1.5751813\ttest: 1.5758980\tbest: 1.5758980 (176)\ttotal: 4.98s\tremaining: 647ms\n",
            "177:\tlearn: 1.5750229\ttest: 1.5757451\tbest: 1.5757451 (177)\ttotal: 4.99s\tremaining: 617ms\n",
            "178:\tlearn: 1.5748527\ttest: 1.5755796\tbest: 1.5755796 (178)\ttotal: 5.01s\tremaining: 588ms\n",
            "179:\tlearn: 1.5747051\ttest: 1.5754379\tbest: 1.5754379 (179)\ttotal: 5.02s\tremaining: 558ms\n",
            "180:\tlearn: 1.5745421\ttest: 1.5752813\tbest: 1.5752813 (180)\ttotal: 5.04s\tremaining: 529ms\n",
            "181:\tlearn: 1.5743690\ttest: 1.5751144\tbest: 1.5751144 (181)\ttotal: 5.05s\tremaining: 500ms\n",
            "182:\tlearn: 1.5742082\ttest: 1.5749566\tbest: 1.5749566 (182)\ttotal: 5.07s\tremaining: 471ms\n",
            "183:\tlearn: 1.5740444\ttest: 1.5747979\tbest: 1.5747979 (183)\ttotal: 5.09s\tremaining: 442ms\n",
            "184:\tlearn: 1.5738823\ttest: 1.5746351\tbest: 1.5746351 (184)\ttotal: 5.1s\tremaining: 414ms\n",
            "185:\tlearn: 1.5737196\ttest: 1.5744769\tbest: 1.5744769 (185)\ttotal: 5.12s\tremaining: 385ms\n",
            "186:\tlearn: 1.5735595\ttest: 1.5743215\tbest: 1.5743215 (186)\ttotal: 5.14s\tremaining: 357ms\n",
            "187:\tlearn: 1.5733969\ttest: 1.5741647\tbest: 1.5741647 (187)\ttotal: 5.16s\tremaining: 329ms\n",
            "188:\tlearn: 1.5732306\ttest: 1.5740024\tbest: 1.5740024 (188)\ttotal: 5.17s\tremaining: 301ms\n",
            "189:\tlearn: 1.5730841\ttest: 1.5738617\tbest: 1.5738617 (189)\ttotal: 5.19s\tremaining: 273ms\n",
            "190:\tlearn: 1.5729280\ttest: 1.5737076\tbest: 1.5737076 (190)\ttotal: 5.21s\tremaining: 245ms\n",
            "191:\tlearn: 1.5727615\ttest: 1.5735459\tbest: 1.5735459 (191)\ttotal: 5.22s\tremaining: 218ms\n",
            "192:\tlearn: 1.5725872\ttest: 1.5733776\tbest: 1.5733776 (192)\ttotal: 5.24s\tremaining: 190ms\n",
            "193:\tlearn: 1.5724209\ttest: 1.5732172\tbest: 1.5732172 (193)\ttotal: 5.25s\tremaining: 162ms\n",
            "194:\tlearn: 1.5722777\ttest: 1.5730788\tbest: 1.5730788 (194)\ttotal: 5.28s\tremaining: 135ms\n",
            "195:\tlearn: 1.5721247\ttest: 1.5729286\tbest: 1.5729286 (195)\ttotal: 5.29s\tremaining: 108ms\n",
            "196:\tlearn: 1.5719663\ttest: 1.5727758\tbest: 1.5727758 (196)\ttotal: 5.31s\tremaining: 80.8ms\n",
            "197:\tlearn: 1.5718030\ttest: 1.5726152\tbest: 1.5726152 (197)\ttotal: 5.32s\tremaining: 53.8ms\n",
            "198:\tlearn: 1.5716323\ttest: 1.5724490\tbest: 1.5724490 (198)\ttotal: 5.34s\tremaining: 26.8ms\n",
            "199:\tlearn: 1.5714688\ttest: 1.5722872\tbest: 1.5722872 (199)\ttotal: 5.36s\tremaining: 0us\n",
            "\n",
            "bestTest = 1.572287162\n",
            "bestIteration = 199\n",
            "\n"
          ]
        }
      ]
    },
    {
      "cell_type": "code",
      "source": [
        "cv_data"
      ],
      "metadata": {
        "colab": {
          "base_uri": "https://localhost:8080/",
          "height": 423
        },
        "id": "swbjFFyLu7QW",
        "outputId": "0f5395e3-98a9-438f-d3d9-d0dcb2453f31"
      },
      "execution_count": null,
      "outputs": [
        {
          "output_type": "execute_result",
          "data": {
            "text/plain": [
              "     iterations  test-MultiClass-mean  test-MultiClass-std  \\\n",
              "0             0              1.609203             0.000001   \n",
              "1             1              1.608984             0.000002   \n",
              "2             2              1.608769             0.000007   \n",
              "3             3              1.608551             0.000011   \n",
              "4             4              1.608330             0.000014   \n",
              "..          ...                   ...                  ...   \n",
              "195         195              1.572834             0.000111   \n",
              "196         196              1.572675             0.000115   \n",
              "197         197              1.572512             0.000120   \n",
              "198         198              1.572351             0.000115   \n",
              "199         199              1.572194             0.000112   \n",
              "\n",
              "     train-MultiClass-mean  train-MultiClass-std  \n",
              "0                 1.609201          1.040691e-06  \n",
              "1                 1.608979          2.328758e-07  \n",
              "2                 1.608760          5.044564e-06  \n",
              "3                 1.608537          9.569575e-06  \n",
              "4                 1.608312          1.116137e-05  \n",
              "..                     ...                   ...  \n",
              "195               1.572077          1.534360e-04  \n",
              "196               1.571914          1.544573e-04  \n",
              "197               1.571748          1.531925e-04  \n",
              "198               1.571583          1.542516e-04  \n",
              "199               1.571424          1.538162e-04  \n",
              "\n",
              "[200 rows x 5 columns]"
            ],
            "text/html": [
              "\n",
              "  <div id=\"df-1b0a9c0d-17c3-4e33-a864-d14b520b1624\" class=\"colab-df-container\">\n",
              "    <div>\n",
              "<style scoped>\n",
              "    .dataframe tbody tr th:only-of-type {\n",
              "        vertical-align: middle;\n",
              "    }\n",
              "\n",
              "    .dataframe tbody tr th {\n",
              "        vertical-align: top;\n",
              "    }\n",
              "\n",
              "    .dataframe thead th {\n",
              "        text-align: right;\n",
              "    }\n",
              "</style>\n",
              "<table border=\"1\" class=\"dataframe\">\n",
              "  <thead>\n",
              "    <tr style=\"text-align: right;\">\n",
              "      <th></th>\n",
              "      <th>iterations</th>\n",
              "      <th>test-MultiClass-mean</th>\n",
              "      <th>test-MultiClass-std</th>\n",
              "      <th>train-MultiClass-mean</th>\n",
              "      <th>train-MultiClass-std</th>\n",
              "    </tr>\n",
              "  </thead>\n",
              "  <tbody>\n",
              "    <tr>\n",
              "      <th>0</th>\n",
              "      <td>0</td>\n",
              "      <td>1.609203</td>\n",
              "      <td>0.000001</td>\n",
              "      <td>1.609201</td>\n",
              "      <td>1.040691e-06</td>\n",
              "    </tr>\n",
              "    <tr>\n",
              "      <th>1</th>\n",
              "      <td>1</td>\n",
              "      <td>1.608984</td>\n",
              "      <td>0.000002</td>\n",
              "      <td>1.608979</td>\n",
              "      <td>2.328758e-07</td>\n",
              "    </tr>\n",
              "    <tr>\n",
              "      <th>2</th>\n",
              "      <td>2</td>\n",
              "      <td>1.608769</td>\n",
              "      <td>0.000007</td>\n",
              "      <td>1.608760</td>\n",
              "      <td>5.044564e-06</td>\n",
              "    </tr>\n",
              "    <tr>\n",
              "      <th>3</th>\n",
              "      <td>3</td>\n",
              "      <td>1.608551</td>\n",
              "      <td>0.000011</td>\n",
              "      <td>1.608537</td>\n",
              "      <td>9.569575e-06</td>\n",
              "    </tr>\n",
              "    <tr>\n",
              "      <th>4</th>\n",
              "      <td>4</td>\n",
              "      <td>1.608330</td>\n",
              "      <td>0.000014</td>\n",
              "      <td>1.608312</td>\n",
              "      <td>1.116137e-05</td>\n",
              "    </tr>\n",
              "    <tr>\n",
              "      <th>...</th>\n",
              "      <td>...</td>\n",
              "      <td>...</td>\n",
              "      <td>...</td>\n",
              "      <td>...</td>\n",
              "      <td>...</td>\n",
              "    </tr>\n",
              "    <tr>\n",
              "      <th>195</th>\n",
              "      <td>195</td>\n",
              "      <td>1.572834</td>\n",
              "      <td>0.000111</td>\n",
              "      <td>1.572077</td>\n",
              "      <td>1.534360e-04</td>\n",
              "    </tr>\n",
              "    <tr>\n",
              "      <th>196</th>\n",
              "      <td>196</td>\n",
              "      <td>1.572675</td>\n",
              "      <td>0.000115</td>\n",
              "      <td>1.571914</td>\n",
              "      <td>1.544573e-04</td>\n",
              "    </tr>\n",
              "    <tr>\n",
              "      <th>197</th>\n",
              "      <td>197</td>\n",
              "      <td>1.572512</td>\n",
              "      <td>0.000120</td>\n",
              "      <td>1.571748</td>\n",
              "      <td>1.531925e-04</td>\n",
              "    </tr>\n",
              "    <tr>\n",
              "      <th>198</th>\n",
              "      <td>198</td>\n",
              "      <td>1.572351</td>\n",
              "      <td>0.000115</td>\n",
              "      <td>1.571583</td>\n",
              "      <td>1.542516e-04</td>\n",
              "    </tr>\n",
              "    <tr>\n",
              "      <th>199</th>\n",
              "      <td>199</td>\n",
              "      <td>1.572194</td>\n",
              "      <td>0.000112</td>\n",
              "      <td>1.571424</td>\n",
              "      <td>1.538162e-04</td>\n",
              "    </tr>\n",
              "  </tbody>\n",
              "</table>\n",
              "<p>200 rows × 5 columns</p>\n",
              "</div>\n",
              "    <div class=\"colab-df-buttons\">\n",
              "\n",
              "  <div class=\"colab-df-container\">\n",
              "    <button class=\"colab-df-convert\" onclick=\"convertToInteractive('df-1b0a9c0d-17c3-4e33-a864-d14b520b1624')\"\n",
              "            title=\"Convert this dataframe to an interactive table.\"\n",
              "            style=\"display:none;\">\n",
              "\n",
              "  <svg xmlns=\"http://www.w3.org/2000/svg\" height=\"24px\" viewBox=\"0 -960 960 960\">\n",
              "    <path d=\"M120-120v-720h720v720H120Zm60-500h600v-160H180v160Zm220 220h160v-160H400v160Zm0 220h160v-160H400v160ZM180-400h160v-160H180v160Zm440 0h160v-160H620v160ZM180-180h160v-160H180v160Zm440 0h160v-160H620v160Z\"/>\n",
              "  </svg>\n",
              "    </button>\n",
              "\n",
              "  <style>\n",
              "    .colab-df-container {\n",
              "      display:flex;\n",
              "      gap: 12px;\n",
              "    }\n",
              "\n",
              "    .colab-df-convert {\n",
              "      background-color: #E8F0FE;\n",
              "      border: none;\n",
              "      border-radius: 50%;\n",
              "      cursor: pointer;\n",
              "      display: none;\n",
              "      fill: #1967D2;\n",
              "      height: 32px;\n",
              "      padding: 0 0 0 0;\n",
              "      width: 32px;\n",
              "    }\n",
              "\n",
              "    .colab-df-convert:hover {\n",
              "      background-color: #E2EBFA;\n",
              "      box-shadow: 0px 1px 2px rgba(60, 64, 67, 0.3), 0px 1px 3px 1px rgba(60, 64, 67, 0.15);\n",
              "      fill: #174EA6;\n",
              "    }\n",
              "\n",
              "    .colab-df-buttons div {\n",
              "      margin-bottom: 4px;\n",
              "    }\n",
              "\n",
              "    [theme=dark] .colab-df-convert {\n",
              "      background-color: #3B4455;\n",
              "      fill: #D2E3FC;\n",
              "    }\n",
              "\n",
              "    [theme=dark] .colab-df-convert:hover {\n",
              "      background-color: #434B5C;\n",
              "      box-shadow: 0px 1px 3px 1px rgba(0, 0, 0, 0.15);\n",
              "      filter: drop-shadow(0px 1px 2px rgba(0, 0, 0, 0.3));\n",
              "      fill: #FFFFFF;\n",
              "    }\n",
              "  </style>\n",
              "\n",
              "    <script>\n",
              "      const buttonEl =\n",
              "        document.querySelector('#df-1b0a9c0d-17c3-4e33-a864-d14b520b1624 button.colab-df-convert');\n",
              "      buttonEl.style.display =\n",
              "        google.colab.kernel.accessAllowed ? 'block' : 'none';\n",
              "\n",
              "      async function convertToInteractive(key) {\n",
              "        const element = document.querySelector('#df-1b0a9c0d-17c3-4e33-a864-d14b520b1624');\n",
              "        const dataTable =\n",
              "          await google.colab.kernel.invokeFunction('convertToInteractive',\n",
              "                                                    [key], {});\n",
              "        if (!dataTable) return;\n",
              "\n",
              "        const docLinkHtml = 'Like what you see? Visit the ' +\n",
              "          '<a target=\"_blank\" href=https://colab.research.google.com/notebooks/data_table.ipynb>data table notebook</a>'\n",
              "          + ' to learn more about interactive tables.';\n",
              "        element.innerHTML = '';\n",
              "        dataTable['output_type'] = 'display_data';\n",
              "        await google.colab.output.renderOutput(dataTable, element);\n",
              "        const docLink = document.createElement('div');\n",
              "        docLink.innerHTML = docLinkHtml;\n",
              "        element.appendChild(docLink);\n",
              "      }\n",
              "    </script>\n",
              "  </div>\n",
              "\n",
              "\n",
              "<div id=\"df-fdb1dcc6-fc51-4d0b-b187-9b8a8d01c69e\">\n",
              "  <button class=\"colab-df-quickchart\" onclick=\"quickchart('df-fdb1dcc6-fc51-4d0b-b187-9b8a8d01c69e')\"\n",
              "            title=\"Suggest charts\"\n",
              "            style=\"display:none;\">\n",
              "\n",
              "<svg xmlns=\"http://www.w3.org/2000/svg\" height=\"24px\"viewBox=\"0 0 24 24\"\n",
              "     width=\"24px\">\n",
              "    <g>\n",
              "        <path d=\"M19 3H5c-1.1 0-2 .9-2 2v14c0 1.1.9 2 2 2h14c1.1 0 2-.9 2-2V5c0-1.1-.9-2-2-2zM9 17H7v-7h2v7zm4 0h-2V7h2v10zm4 0h-2v-4h2v4z\"/>\n",
              "    </g>\n",
              "</svg>\n",
              "  </button>\n",
              "\n",
              "<style>\n",
              "  .colab-df-quickchart {\n",
              "      --bg-color: #E8F0FE;\n",
              "      --fill-color: #1967D2;\n",
              "      --hover-bg-color: #E2EBFA;\n",
              "      --hover-fill-color: #174EA6;\n",
              "      --disabled-fill-color: #AAA;\n",
              "      --disabled-bg-color: #DDD;\n",
              "  }\n",
              "\n",
              "  [theme=dark] .colab-df-quickchart {\n",
              "      --bg-color: #3B4455;\n",
              "      --fill-color: #D2E3FC;\n",
              "      --hover-bg-color: #434B5C;\n",
              "      --hover-fill-color: #FFFFFF;\n",
              "      --disabled-bg-color: #3B4455;\n",
              "      --disabled-fill-color: #666;\n",
              "  }\n",
              "\n",
              "  .colab-df-quickchart {\n",
              "    background-color: var(--bg-color);\n",
              "    border: none;\n",
              "    border-radius: 50%;\n",
              "    cursor: pointer;\n",
              "    display: none;\n",
              "    fill: var(--fill-color);\n",
              "    height: 32px;\n",
              "    padding: 0;\n",
              "    width: 32px;\n",
              "  }\n",
              "\n",
              "  .colab-df-quickchart:hover {\n",
              "    background-color: var(--hover-bg-color);\n",
              "    box-shadow: 0 1px 2px rgba(60, 64, 67, 0.3), 0 1px 3px 1px rgba(60, 64, 67, 0.15);\n",
              "    fill: var(--button-hover-fill-color);\n",
              "  }\n",
              "\n",
              "  .colab-df-quickchart-complete:disabled,\n",
              "  .colab-df-quickchart-complete:disabled:hover {\n",
              "    background-color: var(--disabled-bg-color);\n",
              "    fill: var(--disabled-fill-color);\n",
              "    box-shadow: none;\n",
              "  }\n",
              "\n",
              "  .colab-df-spinner {\n",
              "    border: 2px solid var(--fill-color);\n",
              "    border-color: transparent;\n",
              "    border-bottom-color: var(--fill-color);\n",
              "    animation:\n",
              "      spin 1s steps(1) infinite;\n",
              "  }\n",
              "\n",
              "  @keyframes spin {\n",
              "    0% {\n",
              "      border-color: transparent;\n",
              "      border-bottom-color: var(--fill-color);\n",
              "      border-left-color: var(--fill-color);\n",
              "    }\n",
              "    20% {\n",
              "      border-color: transparent;\n",
              "      border-left-color: var(--fill-color);\n",
              "      border-top-color: var(--fill-color);\n",
              "    }\n",
              "    30% {\n",
              "      border-color: transparent;\n",
              "      border-left-color: var(--fill-color);\n",
              "      border-top-color: var(--fill-color);\n",
              "      border-right-color: var(--fill-color);\n",
              "    }\n",
              "    40% {\n",
              "      border-color: transparent;\n",
              "      border-right-color: var(--fill-color);\n",
              "      border-top-color: var(--fill-color);\n",
              "    }\n",
              "    60% {\n",
              "      border-color: transparent;\n",
              "      border-right-color: var(--fill-color);\n",
              "    }\n",
              "    80% {\n",
              "      border-color: transparent;\n",
              "      border-right-color: var(--fill-color);\n",
              "      border-bottom-color: var(--fill-color);\n",
              "    }\n",
              "    90% {\n",
              "      border-color: transparent;\n",
              "      border-bottom-color: var(--fill-color);\n",
              "    }\n",
              "  }\n",
              "</style>\n",
              "\n",
              "  <script>\n",
              "    async function quickchart(key) {\n",
              "      const quickchartButtonEl =\n",
              "        document.querySelector('#' + key + ' button');\n",
              "      quickchartButtonEl.disabled = true;  // To prevent multiple clicks.\n",
              "      quickchartButtonEl.classList.add('colab-df-spinner');\n",
              "      try {\n",
              "        const charts = await google.colab.kernel.invokeFunction(\n",
              "            'suggestCharts', [key], {});\n",
              "      } catch (error) {\n",
              "        console.error('Error during call to suggestCharts:', error);\n",
              "      }\n",
              "      quickchartButtonEl.classList.remove('colab-df-spinner');\n",
              "      quickchartButtonEl.classList.add('colab-df-quickchart-complete');\n",
              "    }\n",
              "    (() => {\n",
              "      let quickchartButtonEl =\n",
              "        document.querySelector('#df-fdb1dcc6-fc51-4d0b-b187-9b8a8d01c69e button');\n",
              "      quickchartButtonEl.style.display =\n",
              "        google.colab.kernel.accessAllowed ? 'block' : 'none';\n",
              "    })();\n",
              "  </script>\n",
              "</div>\n",
              "    </div>\n",
              "  </div>\n"
            ]
          },
          "metadata": {},
          "execution_count": 170
        }
      ]
    },
    {
      "cell_type": "code",
      "source": [
        "clf.fit(X_train, Y_train)"
      ],
      "metadata": {
        "colab": {
          "base_uri": "https://localhost:8080/"
        },
        "id": "kuA3A7o6sOMI",
        "outputId": "1f607cf6-b81c-4c50-d658-63bc72a99f4e"
      },
      "execution_count": null,
      "outputs": [
        {
          "output_type": "stream",
          "name": "stdout",
          "text": [
            "0:\tlearn: 1.6092080\ttotal: 43.4ms\tremaining: 8.64s\n",
            "1:\tlearn: 1.6089721\ttotal: 85.8ms\tremaining: 8.49s\n",
            "2:\tlearn: 1.6087520\ttotal: 127ms\tremaining: 8.34s\n",
            "3:\tlearn: 1.6085353\ttotal: 170ms\tremaining: 8.32s\n",
            "4:\tlearn: 1.6083066\ttotal: 207ms\tremaining: 8.05s\n",
            "5:\tlearn: 1.6080886\ttotal: 254ms\tremaining: 8.21s\n",
            "6:\tlearn: 1.6078596\ttotal: 296ms\tremaining: 8.17s\n",
            "7:\tlearn: 1.6076393\ttotal: 334ms\tremaining: 8.02s\n",
            "8:\tlearn: 1.6074138\ttotal: 380ms\tremaining: 8.07s\n",
            "9:\tlearn: 1.6071957\ttotal: 423ms\tremaining: 8.04s\n",
            "10:\tlearn: 1.6069812\ttotal: 460ms\tremaining: 7.91s\n",
            "11:\tlearn: 1.6067542\ttotal: 483ms\tremaining: 7.57s\n",
            "12:\tlearn: 1.6065269\ttotal: 514ms\tremaining: 7.39s\n",
            "13:\tlearn: 1.6063135\ttotal: 540ms\tremaining: 7.17s\n",
            "14:\tlearn: 1.6060979\ttotal: 563ms\tremaining: 6.94s\n",
            "15:\tlearn: 1.6058774\ttotal: 587ms\tremaining: 6.75s\n",
            "16:\tlearn: 1.6056570\ttotal: 623ms\tremaining: 6.7s\n",
            "17:\tlearn: 1.6054392\ttotal: 645ms\tremaining: 6.52s\n",
            "18:\tlearn: 1.6052236\ttotal: 669ms\tremaining: 6.38s\n",
            "19:\tlearn: 1.6050124\ttotal: 691ms\tremaining: 6.22s\n",
            "20:\tlearn: 1.6047839\ttotal: 714ms\tremaining: 6.08s\n",
            "21:\tlearn: 1.6045675\ttotal: 737ms\tremaining: 5.96s\n",
            "22:\tlearn: 1.6043557\ttotal: 783ms\tremaining: 6.02s\n",
            "23:\tlearn: 1.6041300\ttotal: 822ms\tremaining: 6.03s\n",
            "24:\tlearn: 1.6039228\ttotal: 874ms\tremaining: 6.12s\n",
            "25:\tlearn: 1.6037040\ttotal: 912ms\tremaining: 6.11s\n",
            "26:\tlearn: 1.6034890\ttotal: 957ms\tremaining: 6.13s\n",
            "27:\tlearn: 1.6032793\ttotal: 1s\tremaining: 6.15s\n",
            "28:\tlearn: 1.6030614\ttotal: 1.05s\tremaining: 6.17s\n",
            "29:\tlearn: 1.6028553\ttotal: 1.09s\tremaining: 6.17s\n",
            "30:\tlearn: 1.6026357\ttotal: 1.13s\tremaining: 6.15s\n",
            "31:\tlearn: 1.6024296\ttotal: 1.17s\tremaining: 6.12s\n",
            "32:\tlearn: 1.6022231\ttotal: 1.2s\tremaining: 6.07s\n",
            "33:\tlearn: 1.6020293\ttotal: 1.22s\tremaining: 5.98s\n",
            "34:\tlearn: 1.6018112\ttotal: 1.26s\tremaining: 5.93s\n",
            "35:\tlearn: 1.6016114\ttotal: 1.28s\tremaining: 5.86s\n",
            "36:\tlearn: 1.6013928\ttotal: 1.31s\tremaining: 5.79s\n",
            "37:\tlearn: 1.6011843\ttotal: 1.34s\tremaining: 5.71s\n",
            "38:\tlearn: 1.6009808\ttotal: 1.36s\tremaining: 5.62s\n",
            "39:\tlearn: 1.6007704\ttotal: 1.39s\tremaining: 5.58s\n",
            "40:\tlearn: 1.6005684\ttotal: 1.43s\tremaining: 5.54s\n",
            "41:\tlearn: 1.6003682\ttotal: 1.47s\tremaining: 5.53s\n",
            "42:\tlearn: 1.6001533\ttotal: 1.51s\tremaining: 5.52s\n",
            "43:\tlearn: 1.5999512\ttotal: 1.55s\tremaining: 5.5s\n",
            "44:\tlearn: 1.5997346\ttotal: 1.6s\tremaining: 5.52s\n",
            "45:\tlearn: 1.5995152\ttotal: 1.64s\tremaining: 5.48s\n",
            "46:\tlearn: 1.5993036\ttotal: 1.67s\tremaining: 5.44s\n",
            "47:\tlearn: 1.5990876\ttotal: 1.69s\tremaining: 5.37s\n",
            "48:\tlearn: 1.5988852\ttotal: 1.73s\tremaining: 5.34s\n",
            "49:\tlearn: 1.5986853\ttotal: 1.77s\tremaining: 5.32s\n",
            "50:\tlearn: 1.5984774\ttotal: 1.8s\tremaining: 5.26s\n",
            "51:\tlearn: 1.5982621\ttotal: 1.84s\tremaining: 5.23s\n",
            "52:\tlearn: 1.5980635\ttotal: 1.88s\tremaining: 5.21s\n",
            "53:\tlearn: 1.5978643\ttotal: 1.9s\tremaining: 5.14s\n",
            "54:\tlearn: 1.5976607\ttotal: 1.93s\tremaining: 5.08s\n",
            "55:\tlearn: 1.5974515\ttotal: 1.97s\tremaining: 5.06s\n",
            "56:\tlearn: 1.5972505\ttotal: 2s\tremaining: 5.03s\n",
            "57:\tlearn: 1.5970488\ttotal: 2.03s\tremaining: 4.97s\n",
            "58:\tlearn: 1.5968452\ttotal: 2.06s\tremaining: 4.93s\n",
            "59:\tlearn: 1.5966548\ttotal: 2.09s\tremaining: 4.87s\n",
            "60:\tlearn: 1.5964600\ttotal: 2.11s\tremaining: 4.81s\n",
            "61:\tlearn: 1.5962525\ttotal: 2.13s\tremaining: 4.74s\n",
            "62:\tlearn: 1.5960551\ttotal: 2.15s\tremaining: 4.67s\n",
            "63:\tlearn: 1.5958602\ttotal: 2.17s\tremaining: 4.61s\n",
            "64:\tlearn: 1.5956641\ttotal: 2.19s\tremaining: 4.54s\n",
            "65:\tlearn: 1.5954686\ttotal: 2.21s\tremaining: 4.48s\n",
            "66:\tlearn: 1.5952677\ttotal: 2.22s\tremaining: 4.41s\n",
            "67:\tlearn: 1.5950723\ttotal: 2.24s\tremaining: 4.35s\n",
            "68:\tlearn: 1.5948741\ttotal: 2.26s\tremaining: 4.29s\n",
            "69:\tlearn: 1.5946731\ttotal: 2.27s\tremaining: 4.22s\n",
            "70:\tlearn: 1.5944823\ttotal: 2.29s\tremaining: 4.16s\n",
            "71:\tlearn: 1.5943082\ttotal: 2.31s\tremaining: 4.1s\n",
            "72:\tlearn: 1.5941104\ttotal: 2.33s\tremaining: 4.05s\n",
            "73:\tlearn: 1.5939124\ttotal: 2.34s\tremaining: 3.99s\n",
            "74:\tlearn: 1.5937128\ttotal: 2.36s\tremaining: 3.93s\n",
            "75:\tlearn: 1.5935033\ttotal: 2.38s\tremaining: 3.89s\n",
            "76:\tlearn: 1.5932982\ttotal: 2.41s\tremaining: 3.84s\n",
            "77:\tlearn: 1.5931046\ttotal: 2.42s\tremaining: 3.79s\n",
            "78:\tlearn: 1.5929164\ttotal: 2.44s\tremaining: 3.74s\n",
            "79:\tlearn: 1.5927127\ttotal: 2.46s\tremaining: 3.69s\n",
            "80:\tlearn: 1.5925181\ttotal: 2.47s\tremaining: 3.63s\n",
            "81:\tlearn: 1.5923137\ttotal: 2.5s\tremaining: 3.59s\n",
            "82:\tlearn: 1.5921268\ttotal: 2.51s\tremaining: 3.54s\n",
            "83:\tlearn: 1.5919335\ttotal: 2.53s\tremaining: 3.49s\n",
            "84:\tlearn: 1.5917443\ttotal: 2.55s\tremaining: 3.45s\n",
            "85:\tlearn: 1.5915531\ttotal: 2.57s\tremaining: 3.4s\n",
            "86:\tlearn: 1.5913641\ttotal: 2.59s\tremaining: 3.36s\n",
            "87:\tlearn: 1.5911726\ttotal: 2.6s\tremaining: 3.31s\n",
            "88:\tlearn: 1.5909754\ttotal: 2.62s\tremaining: 3.27s\n",
            "89:\tlearn: 1.5907917\ttotal: 2.65s\tremaining: 3.24s\n",
            "90:\tlearn: 1.5905829\ttotal: 2.67s\tremaining: 3.2s\n",
            "91:\tlearn: 1.5903945\ttotal: 2.69s\tremaining: 3.15s\n",
            "92:\tlearn: 1.5901968\ttotal: 2.7s\tremaining: 3.11s\n",
            "93:\tlearn: 1.5900144\ttotal: 2.72s\tremaining: 3.07s\n",
            "94:\tlearn: 1.5898185\ttotal: 2.74s\tremaining: 3.03s\n",
            "95:\tlearn: 1.5896250\ttotal: 2.76s\tremaining: 2.99s\n",
            "96:\tlearn: 1.5894362\ttotal: 2.77s\tremaining: 2.94s\n",
            "97:\tlearn: 1.5892516\ttotal: 2.8s\tremaining: 2.91s\n",
            "98:\tlearn: 1.5890637\ttotal: 2.81s\tremaining: 2.87s\n",
            "99:\tlearn: 1.5888810\ttotal: 2.85s\tremaining: 2.85s\n",
            "100:\tlearn: 1.5886967\ttotal: 2.87s\tremaining: 2.81s\n",
            "101:\tlearn: 1.5885028\ttotal: 2.88s\tremaining: 2.77s\n",
            "102:\tlearn: 1.5883222\ttotal: 2.9s\tremaining: 2.73s\n",
            "103:\tlearn: 1.5881399\ttotal: 2.92s\tremaining: 2.69s\n",
            "104:\tlearn: 1.5879516\ttotal: 2.94s\tremaining: 2.65s\n",
            "105:\tlearn: 1.5877616\ttotal: 2.95s\tremaining: 2.62s\n",
            "106:\tlearn: 1.5875697\ttotal: 2.97s\tremaining: 2.58s\n",
            "107:\tlearn: 1.5873842\ttotal: 2.98s\tremaining: 2.54s\n",
            "108:\tlearn: 1.5871887\ttotal: 3s\tremaining: 2.51s\n",
            "109:\tlearn: 1.5870046\ttotal: 3.02s\tremaining: 2.47s\n",
            "110:\tlearn: 1.5868243\ttotal: 3.04s\tremaining: 2.44s\n",
            "111:\tlearn: 1.5866392\ttotal: 3.05s\tremaining: 2.4s\n",
            "112:\tlearn: 1.5864608\ttotal: 3.07s\tremaining: 2.36s\n",
            "113:\tlearn: 1.5862938\ttotal: 3.09s\tremaining: 2.33s\n",
            "114:\tlearn: 1.5861161\ttotal: 3.11s\tremaining: 2.3s\n",
            "115:\tlearn: 1.5859208\ttotal: 3.13s\tremaining: 2.26s\n",
            "116:\tlearn: 1.5857398\ttotal: 3.14s\tremaining: 2.23s\n",
            "117:\tlearn: 1.5855528\ttotal: 3.16s\tremaining: 2.19s\n",
            "118:\tlearn: 1.5853770\ttotal: 3.18s\tremaining: 2.16s\n",
            "119:\tlearn: 1.5852006\ttotal: 3.19s\tremaining: 2.13s\n",
            "120:\tlearn: 1.5850051\ttotal: 3.21s\tremaining: 2.1s\n",
            "121:\tlearn: 1.5848275\ttotal: 3.23s\tremaining: 2.07s\n",
            "122:\tlearn: 1.5846545\ttotal: 3.25s\tremaining: 2.03s\n",
            "123:\tlearn: 1.5844621\ttotal: 3.27s\tremaining: 2s\n",
            "124:\tlearn: 1.5842784\ttotal: 3.28s\tremaining: 1.97s\n",
            "125:\tlearn: 1.5840920\ttotal: 3.3s\tremaining: 1.94s\n",
            "126:\tlearn: 1.5839204\ttotal: 3.31s\tremaining: 1.9s\n",
            "127:\tlearn: 1.5837431\ttotal: 3.33s\tremaining: 1.87s\n",
            "128:\tlearn: 1.5835579\ttotal: 3.35s\tremaining: 1.84s\n",
            "129:\tlearn: 1.5833859\ttotal: 3.37s\tremaining: 1.81s\n",
            "130:\tlearn: 1.5831974\ttotal: 3.38s\tremaining: 1.78s\n",
            "131:\tlearn: 1.5830215\ttotal: 3.4s\tremaining: 1.75s\n",
            "132:\tlearn: 1.5828262\ttotal: 3.42s\tremaining: 1.72s\n",
            "133:\tlearn: 1.5826566\ttotal: 3.43s\tremaining: 1.69s\n",
            "134:\tlearn: 1.5824944\ttotal: 3.45s\tremaining: 1.66s\n",
            "135:\tlearn: 1.5823132\ttotal: 3.46s\tremaining: 1.63s\n",
            "136:\tlearn: 1.5821344\ttotal: 3.48s\tremaining: 1.6s\n",
            "137:\tlearn: 1.5819623\ttotal: 3.5s\tremaining: 1.57s\n",
            "138:\tlearn: 1.5817882\ttotal: 3.52s\tremaining: 1.54s\n",
            "139:\tlearn: 1.5816184\ttotal: 3.53s\tremaining: 1.51s\n",
            "140:\tlearn: 1.5814374\ttotal: 3.55s\tremaining: 1.49s\n",
            "141:\tlearn: 1.5812605\ttotal: 3.56s\tremaining: 1.46s\n",
            "142:\tlearn: 1.5810845\ttotal: 3.58s\tremaining: 1.43s\n",
            "143:\tlearn: 1.5809106\ttotal: 3.6s\tremaining: 1.4s\n",
            "144:\tlearn: 1.5807385\ttotal: 3.62s\tremaining: 1.37s\n",
            "145:\tlearn: 1.5805621\ttotal: 3.65s\tremaining: 1.35s\n",
            "146:\tlearn: 1.5803932\ttotal: 3.67s\tremaining: 1.32s\n",
            "147:\tlearn: 1.5802288\ttotal: 3.68s\tremaining: 1.29s\n",
            "148:\tlearn: 1.5800579\ttotal: 3.69s\tremaining: 1.26s\n",
            "149:\tlearn: 1.5798819\ttotal: 3.71s\tremaining: 1.24s\n",
            "150:\tlearn: 1.5797108\ttotal: 3.73s\tremaining: 1.21s\n",
            "151:\tlearn: 1.5795344\ttotal: 3.74s\tremaining: 1.18s\n",
            "152:\tlearn: 1.5793626\ttotal: 3.76s\tremaining: 1.15s\n",
            "153:\tlearn: 1.5791819\ttotal: 3.77s\tremaining: 1.13s\n",
            "154:\tlearn: 1.5790122\ttotal: 3.79s\tremaining: 1.1s\n",
            "155:\tlearn: 1.5788452\ttotal: 3.8s\tremaining: 1.07s\n",
            "156:\tlearn: 1.5786748\ttotal: 3.82s\tremaining: 1.05s\n",
            "157:\tlearn: 1.5784989\ttotal: 3.84s\tremaining: 1.02s\n",
            "158:\tlearn: 1.5783301\ttotal: 3.85s\tremaining: 994ms\n",
            "159:\tlearn: 1.5781541\ttotal: 3.87s\tremaining: 968ms\n",
            "160:\tlearn: 1.5779892\ttotal: 3.89s\tremaining: 942ms\n",
            "161:\tlearn: 1.5778161\ttotal: 3.91s\tremaining: 917ms\n",
            "162:\tlearn: 1.5776595\ttotal: 3.93s\tremaining: 892ms\n",
            "163:\tlearn: 1.5774846\ttotal: 3.94s\tremaining: 866ms\n",
            "164:\tlearn: 1.5773204\ttotal: 3.96s\tremaining: 840ms\n",
            "165:\tlearn: 1.5771539\ttotal: 3.98s\tremaining: 815ms\n",
            "166:\tlearn: 1.5769912\ttotal: 3.99s\tremaining: 788ms\n",
            "167:\tlearn: 1.5768177\ttotal: 4s\tremaining: 763ms\n",
            "168:\tlearn: 1.5766549\ttotal: 4.02s\tremaining: 737ms\n",
            "169:\tlearn: 1.5764803\ttotal: 4.04s\tremaining: 713ms\n",
            "170:\tlearn: 1.5763117\ttotal: 4.05s\tremaining: 688ms\n",
            "171:\tlearn: 1.5761462\ttotal: 4.07s\tremaining: 663ms\n",
            "172:\tlearn: 1.5759813\ttotal: 4.09s\tremaining: 638ms\n",
            "173:\tlearn: 1.5758118\ttotal: 4.1s\tremaining: 613ms\n",
            "174:\tlearn: 1.5756532\ttotal: 4.12s\tremaining: 589ms\n",
            "175:\tlearn: 1.5754923\ttotal: 4.14s\tremaining: 564ms\n",
            "176:\tlearn: 1.5753480\ttotal: 4.15s\tremaining: 540ms\n",
            "177:\tlearn: 1.5751886\ttotal: 4.17s\tremaining: 515ms\n",
            "178:\tlearn: 1.5750243\ttotal: 4.19s\tremaining: 491ms\n",
            "179:\tlearn: 1.5748673\ttotal: 4.21s\tremaining: 467ms\n",
            "180:\tlearn: 1.5746981\ttotal: 4.22s\tremaining: 443ms\n",
            "181:\tlearn: 1.5745385\ttotal: 4.24s\tremaining: 420ms\n",
            "182:\tlearn: 1.5743750\ttotal: 4.26s\tremaining: 396ms\n",
            "183:\tlearn: 1.5742108\ttotal: 4.28s\tremaining: 372ms\n",
            "184:\tlearn: 1.5740560\ttotal: 4.29s\tremaining: 348ms\n",
            "185:\tlearn: 1.5738887\ttotal: 4.31s\tremaining: 324ms\n",
            "186:\tlearn: 1.5737224\ttotal: 4.33s\tremaining: 301ms\n",
            "187:\tlearn: 1.5735607\ttotal: 4.34s\tremaining: 277ms\n",
            "188:\tlearn: 1.5734060\ttotal: 4.36s\tremaining: 254ms\n",
            "189:\tlearn: 1.5732487\ttotal: 4.37s\tremaining: 230ms\n",
            "190:\tlearn: 1.5730877\ttotal: 4.39s\tremaining: 207ms\n",
            "191:\tlearn: 1.5729350\ttotal: 4.41s\tremaining: 184ms\n",
            "192:\tlearn: 1.5727736\ttotal: 4.42s\tremaining: 160ms\n",
            "193:\tlearn: 1.5726158\ttotal: 4.44s\tremaining: 137ms\n",
            "194:\tlearn: 1.5724623\ttotal: 4.46s\tremaining: 114ms\n",
            "195:\tlearn: 1.5723080\ttotal: 4.48s\tremaining: 91.5ms\n",
            "196:\tlearn: 1.5721534\ttotal: 4.5s\tremaining: 68.5ms\n",
            "197:\tlearn: 1.5719959\ttotal: 4.51s\tremaining: 45.6ms\n",
            "198:\tlearn: 1.5718340\ttotal: 4.53s\tremaining: 22.8ms\n",
            "199:\tlearn: 1.5716841\ttotal: 4.55s\tremaining: 0us\n"
          ]
        },
        {
          "output_type": "execute_result",
          "data": {
            "text/plain": [
              "<catboost.core.CatBoostClassifier at 0x7ee570243070>"
            ]
          },
          "metadata": {},
          "execution_count": 171
        }
      ]
    },
    {
      "cell_type": "code",
      "source": [
        "preds = clf.predict(X_test)"
      ],
      "metadata": {
        "id": "L86StCArsQf_"
      },
      "execution_count": null,
      "outputs": []
    },
    {
      "cell_type": "code",
      "source": [
        "print(classification_report(Y_test, preds))"
      ],
      "metadata": {
        "colab": {
          "base_uri": "https://localhost:8080/"
        },
        "id": "1zr0IKBQsZW6",
        "outputId": "8fde1ab2-2e08-4b68-b70f-be6b89a0b858"
      },
      "execution_count": null,
      "outputs": [
        {
          "output_type": "stream",
          "name": "stdout",
          "text": [
            "              precision    recall  f1-score   support\n",
            "\n",
            "         0.0       0.00      0.00      0.00       446\n",
            "         1.0       0.00      0.00      0.00      1176\n",
            "         2.0       0.33      0.89      0.49      1848\n",
            "         3.0       0.29      0.14      0.19      1517\n",
            "         4.0       0.59      0.08      0.15       774\n",
            "\n",
            "    accuracy                           0.33      5761\n",
            "   macro avg       0.24      0.22      0.16      5761\n",
            "weighted avg       0.26      0.33      0.23      5761\n",
            "\n"
          ]
        },
        {
          "output_type": "stream",
          "name": "stderr",
          "text": [
            "/usr/local/lib/python3.10/dist-packages/sklearn/metrics/_classification.py:1344: UndefinedMetricWarning: Precision and F-score are ill-defined and being set to 0.0 in labels with no predicted samples. Use `zero_division` parameter to control this behavior.\n",
            "  _warn_prf(average, modifier, msg_start, len(result))\n",
            "/usr/local/lib/python3.10/dist-packages/sklearn/metrics/_classification.py:1344: UndefinedMetricWarning: Precision and F-score are ill-defined and being set to 0.0 in labels with no predicted samples. Use `zero_division` parameter to control this behavior.\n",
            "  _warn_prf(average, modifier, msg_start, len(result))\n",
            "/usr/local/lib/python3.10/dist-packages/sklearn/metrics/_classification.py:1344: UndefinedMetricWarning: Precision and F-score are ill-defined and being set to 0.0 in labels with no predicted samples. Use `zero_division` parameter to control this behavior.\n",
            "  _warn_prf(average, modifier, msg_start, len(result))\n"
          ]
        }
      ]
    },
    {
      "cell_type": "code",
      "source": [
        "data = pd.read_csv('/content/Expanded_data_with_more_features.csv')"
      ],
      "metadata": {
        "id": "lgaP6jIhtDGW"
      },
      "execution_count": null,
      "outputs": []
    },
    {
      "cell_type": "code",
      "source": [
        "data = data.drop(columns=\"Unnamed: 0\")"
      ],
      "metadata": {
        "id": "ma-8-HXMtFaY"
      },
      "execution_count": null,
      "outputs": []
    },
    {
      "cell_type": "code",
      "source": [
        "data.columns"
      ],
      "metadata": {
        "colab": {
          "base_uri": "https://localhost:8080/"
        },
        "id": "GRveE67ltGwX",
        "outputId": "5de2db57-14e7-491f-d2a6-28d159205666"
      },
      "execution_count": null,
      "outputs": [
        {
          "output_type": "execute_result",
          "data": {
            "text/plain": [
              "Index(['Gender', 'EthnicGroup', 'ParentEduc', 'LunchType', 'TestPrep',\n",
              "       'ParentMaritalStatus', 'PracticeSport', 'IsFirstChild', 'NrSiblings',\n",
              "       'TransportMeans', 'WklyStudyHours', 'MathScore', 'ReadingScore',\n",
              "       'WritingScore'],\n",
              "      dtype='object')"
            ]
          },
          "metadata": {},
          "execution_count": 101
        }
      ]
    },
    {
      "cell_type": "code",
      "source": [
        "data = data.dropna(subset='EthnicGroup')"
      ],
      "metadata": {
        "id": "rq3lP2w1tNkl"
      },
      "execution_count": null,
      "outputs": []
    },
    {
      "cell_type": "code",
      "source": [
        "X, Y = data.drop(columns='EthnicGroup'), data['EthnicGroup']"
      ],
      "metadata": {
        "id": "gfTFfYeltSyk"
      },
      "execution_count": null,
      "outputs": []
    },
    {
      "cell_type": "code",
      "source": [
        "X_train, X_test, Y_train, Y_test = train_test_split(X, Y, test_size=0.2)"
      ],
      "metadata": {
        "id": "-JZfcvk9tdWa"
      },
      "execution_count": null,
      "outputs": []
    },
    {
      "cell_type": "code",
      "source": [
        "clf = CatBoostClassifier(\n",
        "    iterations = 200,\n",
        "    learning_rate = 0.001,\n",
        "    depth = 5,\n",
        "    loss_function = \"MultiClass\",\n",
        "    cat_features = ['Gender', 'ParentEduc', 'LunchType', 'TestPrep',\n",
        "       'ParentMaritalStatus', 'PracticeSport', 'IsFirstChild',\n",
        "       'TransportMeans', 'WklyStudyHours']\n",
        ")"
      ],
      "metadata": {
        "id": "keVuXMx9tiA8"
      },
      "execution_count": null,
      "outputs": []
    },
    {
      "cell_type": "code",
      "source": [
        "from lightgbm import LGBMClassifier\n",
        "\n",
        "clf = LGBMClassifier(n_estimators=100, max_depth=5, num_leaves=25)\n",
        "\n",
        "clf.fit(X_train, Y_train)\n",
        "\n",
        "y_pred = clf.predict(X_test)"
      ],
      "metadata": {
        "colab": {
          "base_uri": "https://localhost:8080/"
        },
        "id": "xuRaK_rvxv5V",
        "outputId": "faf64c4f-8b28-4192-8aea-bdc86bff4adc"
      },
      "execution_count": null,
      "outputs": [
        {
          "output_type": "stream",
          "name": "stdout",
          "text": [
            "[LightGBM] [Info] Auto-choosing row-wise multi-threading, the overhead of testing was 0.001591 seconds.\n",
            "You can set `force_row_wise=true` to remove the overhead.\n",
            "And if memory is not enough, you can set `force_col_wise=true`.\n",
            "[LightGBM] [Info] Total Bins 2061\n",
            "[LightGBM] [Info] Number of data points in the train set: 23040, number of used features: 16\n",
            "[LightGBM] [Info] Start training from score -2.564559\n",
            "[LightGBM] [Info] Start training from score -1.600365\n",
            "[LightGBM] [Info] Start training from score -1.140629\n",
            "[LightGBM] [Info] Start training from score -1.347808\n",
            "[LightGBM] [Info] Start training from score -1.953360\n",
            "[LightGBM] [Warning] No further splits with positive gain, best gain: -inf\n",
            "[LightGBM] [Warning] No further splits with positive gain, best gain: -inf\n",
            "[LightGBM] [Warning] No further splits with positive gain, best gain: -inf\n",
            "[LightGBM] [Warning] No further splits with positive gain, best gain: -inf\n",
            "[LightGBM] [Warning] No further splits with positive gain, best gain: -inf\n",
            "[LightGBM] [Warning] No further splits with positive gain, best gain: -inf\n",
            "[LightGBM] [Warning] No further splits with positive gain, best gain: -inf\n",
            "[LightGBM] [Warning] No further splits with positive gain, best gain: -inf\n",
            "[LightGBM] [Warning] No further splits with positive gain, best gain: -inf\n",
            "[LightGBM] [Warning] No further splits with positive gain, best gain: -inf\n",
            "[LightGBM] [Warning] No further splits with positive gain, best gain: -inf\n",
            "[LightGBM] [Warning] No further splits with positive gain, best gain: -inf\n",
            "[LightGBM] [Warning] No further splits with positive gain, best gain: -inf\n",
            "[LightGBM] [Warning] No further splits with positive gain, best gain: -inf\n",
            "[LightGBM] [Warning] No further splits with positive gain, best gain: -inf\n",
            "[LightGBM] [Warning] No further splits with positive gain, best gain: -inf\n",
            "[LightGBM] [Warning] No further splits with positive gain, best gain: -inf\n",
            "[LightGBM] [Warning] No further splits with positive gain, best gain: -inf\n",
            "[LightGBM] [Warning] No further splits with positive gain, best gain: -inf\n",
            "[LightGBM] [Warning] No further splits with positive gain, best gain: -inf\n",
            "[LightGBM] [Warning] No further splits with positive gain, best gain: -inf\n",
            "[LightGBM] [Warning] No further splits with positive gain, best gain: -inf\n",
            "[LightGBM] [Warning] No further splits with positive gain, best gain: -inf\n",
            "[LightGBM] [Warning] No further splits with positive gain, best gain: -inf\n",
            "[LightGBM] [Warning] No further splits with positive gain, best gain: -inf\n",
            "[LightGBM] [Warning] No further splits with positive gain, best gain: -inf\n",
            "[LightGBM] [Warning] No further splits with positive gain, best gain: -inf\n",
            "[LightGBM] [Warning] No further splits with positive gain, best gain: -inf\n",
            "[LightGBM] [Warning] No further splits with positive gain, best gain: -inf\n",
            "[LightGBM] [Warning] No further splits with positive gain, best gain: -inf\n",
            "[LightGBM] [Warning] No further splits with positive gain, best gain: -inf\n",
            "[LightGBM] [Warning] No further splits with positive gain, best gain: -inf\n",
            "[LightGBM] [Warning] No further splits with positive gain, best gain: -inf\n",
            "[LightGBM] [Warning] No further splits with positive gain, best gain: -inf\n",
            "[LightGBM] [Warning] No further splits with positive gain, best gain: -inf\n",
            "[LightGBM] [Warning] No further splits with positive gain, best gain: -inf\n",
            "[LightGBM] [Warning] No further splits with positive gain, best gain: -inf\n",
            "[LightGBM] [Warning] No further splits with positive gain, best gain: -inf\n",
            "[LightGBM] [Warning] No further splits with positive gain, best gain: -inf\n",
            "[LightGBM] [Warning] No further splits with positive gain, best gain: -inf\n",
            "[LightGBM] [Warning] No further splits with positive gain, best gain: -inf\n",
            "[LightGBM] [Warning] No further splits with positive gain, best gain: -inf\n",
            "[LightGBM] [Warning] No further splits with positive gain, best gain: -inf\n",
            "[LightGBM] [Warning] No further splits with positive gain, best gain: -inf\n",
            "[LightGBM] [Warning] No further splits with positive gain, best gain: -inf\n",
            "[LightGBM] [Warning] No further splits with positive gain, best gain: -inf\n",
            "[LightGBM] [Warning] No further splits with positive gain, best gain: -inf\n",
            "[LightGBM] [Warning] No further splits with positive gain, best gain: -inf\n",
            "[LightGBM] [Warning] No further splits with positive gain, best gain: -inf\n",
            "[LightGBM] [Warning] No further splits with positive gain, best gain: -inf\n",
            "[LightGBM] [Warning] No further splits with positive gain, best gain: -inf\n",
            "[LightGBM] [Warning] No further splits with positive gain, best gain: -inf\n",
            "[LightGBM] [Warning] No further splits with positive gain, best gain: -inf\n",
            "[LightGBM] [Warning] No further splits with positive gain, best gain: -inf\n",
            "[LightGBM] [Warning] No further splits with positive gain, best gain: -inf\n",
            "[LightGBM] [Warning] No further splits with positive gain, best gain: -inf\n",
            "[LightGBM] [Warning] No further splits with positive gain, best gain: -inf\n",
            "[LightGBM] [Warning] No further splits with positive gain, best gain: -inf\n",
            "[LightGBM] [Warning] No further splits with positive gain, best gain: -inf\n",
            "[LightGBM] [Warning] No further splits with positive gain, best gain: -inf\n",
            "[LightGBM] [Warning] No further splits with positive gain, best gain: -inf\n",
            "[LightGBM] [Warning] No further splits with positive gain, best gain: -inf\n",
            "[LightGBM] [Warning] No further splits with positive gain, best gain: -inf\n",
            "[LightGBM] [Warning] No further splits with positive gain, best gain: -inf\n",
            "[LightGBM] [Warning] No further splits with positive gain, best gain: -inf\n",
            "[LightGBM] [Warning] No further splits with positive gain, best gain: -inf\n",
            "[LightGBM] [Warning] No further splits with positive gain, best gain: -inf\n",
            "[LightGBM] [Warning] No further splits with positive gain, best gain: -inf\n",
            "[LightGBM] [Warning] No further splits with positive gain, best gain: -inf\n",
            "[LightGBM] [Warning] No further splits with positive gain, best gain: -inf\n",
            "[LightGBM] [Warning] No further splits with positive gain, best gain: -inf\n",
            "[LightGBM] [Warning] No further splits with positive gain, best gain: -inf\n",
            "[LightGBM] [Warning] No further splits with positive gain, best gain: -inf\n",
            "[LightGBM] [Warning] No further splits with positive gain, best gain: -inf\n",
            "[LightGBM] [Warning] No further splits with positive gain, best gain: -inf\n",
            "[LightGBM] [Warning] No further splits with positive gain, best gain: -inf\n",
            "[LightGBM] [Warning] No further splits with positive gain, best gain: -inf\n",
            "[LightGBM] [Warning] No further splits with positive gain, best gain: -inf\n",
            "[LightGBM] [Warning] No further splits with positive gain, best gain: -inf\n",
            "[LightGBM] [Warning] No further splits with positive gain, best gain: -inf\n",
            "[LightGBM] [Warning] No further splits with positive gain, best gain: -inf\n",
            "[LightGBM] [Warning] No further splits with positive gain, best gain: -inf\n",
            "[LightGBM] [Warning] No further splits with positive gain, best gain: -inf\n",
            "[LightGBM] [Warning] No further splits with positive gain, best gain: -inf\n",
            "[LightGBM] [Warning] No further splits with positive gain, best gain: -inf\n",
            "[LightGBM] [Warning] No further splits with positive gain, best gain: -inf\n",
            "[LightGBM] [Warning] No further splits with positive gain, best gain: -inf\n",
            "[LightGBM] [Warning] No further splits with positive gain, best gain: -inf\n",
            "[LightGBM] [Warning] No further splits with positive gain, best gain: -inf\n",
            "[LightGBM] [Warning] No further splits with positive gain, best gain: -inf\n",
            "[LightGBM] [Warning] No further splits with positive gain, best gain: -inf\n",
            "[LightGBM] [Warning] No further splits with positive gain, best gain: -inf\n",
            "[LightGBM] [Warning] No further splits with positive gain, best gain: -inf\n",
            "[LightGBM] [Warning] No further splits with positive gain, best gain: -inf\n",
            "[LightGBM] [Warning] No further splits with positive gain, best gain: -inf\n",
            "[LightGBM] [Warning] No further splits with positive gain, best gain: -inf\n",
            "[LightGBM] [Warning] No further splits with positive gain, best gain: -inf\n",
            "[LightGBM] [Warning] No further splits with positive gain, best gain: -inf\n",
            "[LightGBM] [Warning] No further splits with positive gain, best gain: -inf\n",
            "[LightGBM] [Warning] No further splits with positive gain, best gain: -inf\n",
            "[LightGBM] [Warning] No further splits with positive gain, best gain: -inf\n",
            "[LightGBM] [Warning] No further splits with positive gain, best gain: -inf\n",
            "[LightGBM] [Warning] No further splits with positive gain, best gain: -inf\n",
            "[LightGBM] [Warning] No further splits with positive gain, best gain: -inf\n",
            "[LightGBM] [Warning] No further splits with positive gain, best gain: -inf\n",
            "[LightGBM] [Warning] No further splits with positive gain, best gain: -inf\n",
            "[LightGBM] [Warning] No further splits with positive gain, best gain: -inf\n",
            "[LightGBM] [Warning] No further splits with positive gain, best gain: -inf\n",
            "[LightGBM] [Warning] No further splits with positive gain, best gain: -inf\n",
            "[LightGBM] [Warning] No further splits with positive gain, best gain: -inf\n",
            "[LightGBM] [Warning] No further splits with positive gain, best gain: -inf\n",
            "[LightGBM] [Warning] No further splits with positive gain, best gain: -inf\n",
            "[LightGBM] [Warning] No further splits with positive gain, best gain: -inf\n",
            "[LightGBM] [Warning] No further splits with positive gain, best gain: -inf\n",
            "[LightGBM] [Warning] No further splits with positive gain, best gain: -inf\n",
            "[LightGBM] [Warning] No further splits with positive gain, best gain: -inf\n",
            "[LightGBM] [Warning] No further splits with positive gain, best gain: -inf\n",
            "[LightGBM] [Warning] No further splits with positive gain, best gain: -inf\n",
            "[LightGBM] [Warning] No further splits with positive gain, best gain: -inf\n",
            "[LightGBM] [Warning] No further splits with positive gain, best gain: -inf\n",
            "[LightGBM] [Warning] No further splits with positive gain, best gain: -inf\n",
            "[LightGBM] [Warning] No further splits with positive gain, best gain: -inf\n",
            "[LightGBM] [Warning] No further splits with positive gain, best gain: -inf\n",
            "[LightGBM] [Warning] No further splits with positive gain, best gain: -inf\n",
            "[LightGBM] [Warning] No further splits with positive gain, best gain: -inf\n",
            "[LightGBM] [Warning] No further splits with positive gain, best gain: -inf\n",
            "[LightGBM] [Warning] No further splits with positive gain, best gain: -inf\n",
            "[LightGBM] [Warning] No further splits with positive gain, best gain: -inf\n",
            "[LightGBM] [Warning] No further splits with positive gain, best gain: -inf\n",
            "[LightGBM] [Warning] No further splits with positive gain, best gain: -inf\n",
            "[LightGBM] [Warning] No further splits with positive gain, best gain: -inf\n",
            "[LightGBM] [Warning] No further splits with positive gain, best gain: -inf\n",
            "[LightGBM] [Warning] No further splits with positive gain, best gain: -inf\n",
            "[LightGBM] [Warning] No further splits with positive gain, best gain: -inf\n",
            "[LightGBM] [Warning] No further splits with positive gain, best gain: -inf\n",
            "[LightGBM] [Warning] No further splits with positive gain, best gain: -inf\n",
            "[LightGBM] [Warning] No further splits with positive gain, best gain: -inf\n",
            "[LightGBM] [Warning] No further splits with positive gain, best gain: -inf\n",
            "[LightGBM] [Warning] No further splits with positive gain, best gain: -inf\n",
            "[LightGBM] [Warning] No further splits with positive gain, best gain: -inf\n",
            "[LightGBM] [Warning] No further splits with positive gain, best gain: -inf\n",
            "[LightGBM] [Warning] No further splits with positive gain, best gain: -inf\n",
            "[LightGBM] [Warning] No further splits with positive gain, best gain: -inf\n",
            "[LightGBM] [Warning] No further splits with positive gain, best gain: -inf\n",
            "[LightGBM] [Warning] No further splits with positive gain, best gain: -inf\n",
            "[LightGBM] [Warning] No further splits with positive gain, best gain: -inf\n",
            "[LightGBM] [Warning] No further splits with positive gain, best gain: -inf\n",
            "[LightGBM] [Warning] No further splits with positive gain, best gain: -inf\n",
            "[LightGBM] [Warning] No further splits with positive gain, best gain: -inf\n",
            "[LightGBM] [Warning] No further splits with positive gain, best gain: -inf\n",
            "[LightGBM] [Warning] No further splits with positive gain, best gain: -inf\n",
            "[LightGBM] [Warning] No further splits with positive gain, best gain: -inf\n",
            "[LightGBM] [Warning] No further splits with positive gain, best gain: -inf\n",
            "[LightGBM] [Warning] No further splits with positive gain, best gain: -inf\n",
            "[LightGBM] [Warning] No further splits with positive gain, best gain: -inf\n",
            "[LightGBM] [Warning] No further splits with positive gain, best gain: -inf\n",
            "[LightGBM] [Warning] No further splits with positive gain, best gain: -inf\n",
            "[LightGBM] [Warning] No further splits with positive gain, best gain: -inf\n",
            "[LightGBM] [Warning] No further splits with positive gain, best gain: -inf\n",
            "[LightGBM] [Warning] No further splits with positive gain, best gain: -inf\n"
          ]
        }
      ]
    },
    {
      "cell_type": "code",
      "source": [
        "print(classification_report(Y_test, y_pred))"
      ],
      "metadata": {
        "colab": {
          "base_uri": "https://localhost:8080/"
        },
        "id": "YPUxDIeNxwQo",
        "outputId": "fd4beb67-7b38-4064-e742-ea2db045e040"
      },
      "execution_count": null,
      "outputs": [
        {
          "output_type": "stream",
          "name": "stdout",
          "text": [
            "              precision    recall  f1-score   support\n",
            "\n",
            "         0.0       0.00      0.00      0.00       446\n",
            "         1.0       0.28      0.04      0.07      1176\n",
            "         2.0       0.35      0.67      0.46      1848\n",
            "         3.0       0.41      0.38      0.39      1517\n",
            "         4.0       0.44      0.37      0.40       774\n",
            "\n",
            "    accuracy                           0.37      5761\n",
            "   macro avg       0.30      0.29      0.27      5761\n",
            "weighted avg       0.34      0.37      0.32      5761\n",
            "\n"
          ]
        },
        {
          "output_type": "stream",
          "name": "stderr",
          "text": [
            "/usr/local/lib/python3.10/dist-packages/sklearn/metrics/_classification.py:1344: UndefinedMetricWarning: Precision and F-score are ill-defined and being set to 0.0 in labels with no predicted samples. Use `zero_division` parameter to control this behavior.\n",
            "  _warn_prf(average, modifier, msg_start, len(result))\n",
            "/usr/local/lib/python3.10/dist-packages/sklearn/metrics/_classification.py:1344: UndefinedMetricWarning: Precision and F-score are ill-defined and being set to 0.0 in labels with no predicted samples. Use `zero_division` parameter to control this behavior.\n",
            "  _warn_prf(average, modifier, msg_start, len(result))\n",
            "/usr/local/lib/python3.10/dist-packages/sklearn/metrics/_classification.py:1344: UndefinedMetricWarning: Precision and F-score are ill-defined and being set to 0.0 in labels with no predicted samples. Use `zero_division` parameter to control this behavior.\n",
            "  _warn_prf(average, modifier, msg_start, len(result))\n"
          ]
        }
      ]
    }
  ]
}