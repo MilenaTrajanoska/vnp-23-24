{
  "nbformat": 4,
  "nbformat_minor": 0,
  "metadata": {
    "colab": {
      "provenance": []
    },
    "kernelspec": {
      "name": "python3",
      "display_name": "Python 3"
    },
    "language_info": {
      "name": "python"
    }
  },
  "cells": [
    {
      "cell_type": "markdown",
      "source": [
        "# CatBoost for Categorical Features"
      ],
      "metadata": {
        "id": "1wm2SmUTrC8w"
      }
    },
    {
      "cell_type": "code",
      "execution_count": 1,
      "metadata": {
        "colab": {
          "base_uri": "https://localhost:8080/"
        },
        "id": "wG4n_K4SppvT",
        "outputId": "bac67031-18b2-42f2-903a-0f914a1b7057"
      },
      "outputs": [
        {
          "output_type": "stream",
          "name": "stdout",
          "text": [
            "Collecting catboost\n",
            "  Downloading catboost-1.2.2-cp310-cp310-manylinux2014_x86_64.whl (98.7 MB)\n",
            "\u001b[2K     \u001b[90m━━━━━━━━━━━━━━━━━━━━━━━━━━━━━━━━━━━━━━━━\u001b[0m \u001b[32m98.7/98.7 MB\u001b[0m \u001b[31m10.0 MB/s\u001b[0m eta \u001b[36m0:00:00\u001b[0m\n",
            "\u001b[?25hRequirement already satisfied: graphviz in /usr/local/lib/python3.10/dist-packages (from catboost) (0.20.1)\n",
            "Requirement already satisfied: matplotlib in /usr/local/lib/python3.10/dist-packages (from catboost) (3.7.1)\n",
            "Requirement already satisfied: numpy>=1.16.0 in /usr/local/lib/python3.10/dist-packages (from catboost) (1.23.5)\n",
            "Requirement already satisfied: pandas>=0.24 in /usr/local/lib/python3.10/dist-packages (from catboost) (1.5.3)\n",
            "Requirement already satisfied: scipy in /usr/local/lib/python3.10/dist-packages (from catboost) (1.11.4)\n",
            "Requirement already satisfied: plotly in /usr/local/lib/python3.10/dist-packages (from catboost) (5.15.0)\n",
            "Requirement already satisfied: six in /usr/local/lib/python3.10/dist-packages (from catboost) (1.16.0)\n",
            "Requirement already satisfied: python-dateutil>=2.8.1 in /usr/local/lib/python3.10/dist-packages (from pandas>=0.24->catboost) (2.8.2)\n",
            "Requirement already satisfied: pytz>=2020.1 in /usr/local/lib/python3.10/dist-packages (from pandas>=0.24->catboost) (2023.3.post1)\n",
            "Requirement already satisfied: contourpy>=1.0.1 in /usr/local/lib/python3.10/dist-packages (from matplotlib->catboost) (1.2.0)\n",
            "Requirement already satisfied: cycler>=0.10 in /usr/local/lib/python3.10/dist-packages (from matplotlib->catboost) (0.12.1)\n",
            "Requirement already satisfied: fonttools>=4.22.0 in /usr/local/lib/python3.10/dist-packages (from matplotlib->catboost) (4.46.0)\n",
            "Requirement already satisfied: kiwisolver>=1.0.1 in /usr/local/lib/python3.10/dist-packages (from matplotlib->catboost) (1.4.5)\n",
            "Requirement already satisfied: packaging>=20.0 in /usr/local/lib/python3.10/dist-packages (from matplotlib->catboost) (23.2)\n",
            "Requirement already satisfied: pillow>=6.2.0 in /usr/local/lib/python3.10/dist-packages (from matplotlib->catboost) (9.4.0)\n",
            "Requirement already satisfied: pyparsing>=2.3.1 in /usr/local/lib/python3.10/dist-packages (from matplotlib->catboost) (3.1.1)\n",
            "Requirement already satisfied: tenacity>=6.2.0 in /usr/local/lib/python3.10/dist-packages (from plotly->catboost) (8.2.3)\n",
            "Installing collected packages: catboost\n",
            "Successfully installed catboost-1.2.2\n"
          ]
        }
      ],
      "source": [
        "!pip install catboost"
      ]
    },
    {
      "cell_type": "code",
      "source": [
        "from catboost import Pool, CatBoostClassifier\n",
        "from sklearn.metrics import classification_report, confusion_matrix"
      ],
      "metadata": {
        "id": "yZy-wbqTpuEU"
      },
      "execution_count": 7,
      "outputs": []
    },
    {
      "cell_type": "markdown",
      "source": [
        "We don't have to encode the features, just specify at what index they are at."
      ],
      "metadata": {
        "id": "r5eZ2XbWrF4t"
      }
    },
    {
      "cell_type": "code",
      "source": [
        "train_data = [[\"summer\", 1924, 44, \"yes\"],\n",
        "              [\"summer\", 1932, 37, \"yes\"],\n",
        "              [\"winter\", 1980, 37, \"no\"],\n",
        "              [\"summer\", 2012, 204, \"yes\"]]\n",
        "\n",
        "eval_data = [[\"winter\", 1996, 197, \"no\"],\n",
        "             [\"winter\", 1968, 37, \"no\"],\n",
        "             [\"summer\", 2002, 77, \"yes\"],\n",
        "             [\"summer\", 1948, 59, \"yes\"]]\n",
        "\n",
        "cat_features = [0, 3]  # indices of categorical features\n",
        "\n",
        "train_label = [\"France\", \"USA\", \"USA\", \"France\"]\n",
        "eval_label = [\"USA\", \"France\", \"France\", \"USA\"]"
      ],
      "metadata": {
        "id": "ekiv8Hvypv5-"
      },
      "execution_count": 26,
      "outputs": []
    },
    {
      "cell_type": "markdown",
      "source": [
        "We need to create pools for the training and evaluation datasets. In the pools we need to pass the full data, the labels, and the indices of categorical features."
      ],
      "metadata": {
        "id": "j7iaMeaIqKyM"
      }
    },
    {
      "cell_type": "code",
      "source": [
        "train_dataset = Pool(data=train_data,\n",
        "                     label=train_label,\n",
        "                     cat_features=cat_features)  # give the indices of the categorical features\n",
        "\n",
        "eval_dataset = Pool(data=eval_data,\n",
        "                    label=eval_label,\n",
        "                    cat_features=cat_features)"
      ],
      "metadata": {
        "id": "jlCALr0uqCod"
      },
      "execution_count": 27,
      "outputs": []
    },
    {
      "cell_type": "code",
      "source": [
        "# Initialize CatBoostClassifier with a MultiClass loss function\n",
        "model = CatBoostClassifier(iterations=10,\n",
        "                           learning_rate=1,\n",
        "                           depth=3,\n",
        "                           loss_function='MultiClass')"
      ],
      "metadata": {
        "id": "o-rtkO3YqPmM"
      },
      "execution_count": 28,
      "outputs": []
    },
    {
      "cell_type": "code",
      "source": [
        "# Fit model\n",
        "model.fit(train_dataset)\n",
        "# Get predicted classes\n",
        "preds_class = model.predict(eval_dataset)"
      ],
      "metadata": {
        "colab": {
          "base_uri": "https://localhost:8080/"
        },
        "id": "qprGfJhLqKC5",
        "outputId": "badf7706-4c9a-4759-d2ca-623b2b643bd0"
      },
      "execution_count": 29,
      "outputs": [
        {
          "output_type": "stream",
          "name": "stdout",
          "text": [
            "0:\tlearn: 0.5604596\ttotal: 2.41ms\tremaining: 21.7ms\n",
            "1:\tlearn: 0.4622656\ttotal: 5.78ms\tremaining: 23.1ms\n",
            "2:\tlearn: 0.3884250\ttotal: 6.62ms\tremaining: 15.5ms\n",
            "3:\tlearn: 0.3124253\ttotal: 7.31ms\tremaining: 11ms\n",
            "4:\tlearn: 0.2567740\ttotal: 8.03ms\tremaining: 8.03ms\n",
            "5:\tlearn: 0.2170463\ttotal: 8.79ms\tremaining: 5.86ms\n",
            "6:\tlearn: 0.2060403\ttotal: 9.43ms\tremaining: 4.04ms\n",
            "7:\tlearn: 0.1788116\ttotal: 10.5ms\tremaining: 2.62ms\n",
            "8:\tlearn: 0.1507468\ttotal: 11ms\tremaining: 1.22ms\n",
            "9:\tlearn: 0.1296974\ttotal: 11.6ms\tremaining: 0us\n"
          ]
        }
      ]
    },
    {
      "cell_type": "code",
      "source": [
        "preds_class"
      ],
      "metadata": {
        "colab": {
          "base_uri": "https://localhost:8080/"
        },
        "id": "kel1JG1EqU2t",
        "outputId": "f79700f4-ddd2-46ac-ddad-c6c7900bfdf4"
      },
      "execution_count": 30,
      "outputs": [
        {
          "output_type": "execute_result",
          "data": {
            "text/plain": [
              "array([['France'],\n",
              "       ['USA'],\n",
              "       ['France'],\n",
              "       ['France']], dtype=object)"
            ]
          },
          "metadata": {},
          "execution_count": 30
        }
      ]
    },
    {
      "cell_type": "code",
      "source": [
        "print(eval_label)"
      ],
      "metadata": {
        "colab": {
          "base_uri": "https://localhost:8080/"
        },
        "id": "Np8CvXxxqkSU",
        "outputId": "ae9d7270-1a18-4d3e-9493-e6cc3c5e2d86"
      },
      "execution_count": 31,
      "outputs": [
        {
          "output_type": "stream",
          "name": "stdout",
          "text": [
            "['USA', 'France', 'France', 'USA']\n"
          ]
        }
      ]
    },
    {
      "cell_type": "code",
      "source": [
        "print(classification_report(eval_label, preds_class))"
      ],
      "metadata": {
        "colab": {
          "base_uri": "https://localhost:8080/"
        },
        "id": "qJTuraL8qaX_",
        "outputId": "be7806e5-e82d-47d6-a32c-5a1e7cbc27a8"
      },
      "execution_count": 32,
      "outputs": [
        {
          "output_type": "stream",
          "name": "stdout",
          "text": [
            "              precision    recall  f1-score   support\n",
            "\n",
            "      France       0.33      0.50      0.40         2\n",
            "         USA       0.00      0.00      0.00         2\n",
            "\n",
            "    accuracy                           0.25         4\n",
            "   macro avg       0.17      0.25      0.20         4\n",
            "weighted avg       0.17      0.25      0.20         4\n",
            "\n"
          ]
        }
      ]
    }
  ]
}